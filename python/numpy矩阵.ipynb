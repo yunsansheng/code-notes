{
 "cells": [
  {
   "cell_type": "markdown",
   "id": "605d9249-b545-4d76-a9d1-384ac35c98c7",
   "metadata": {},
   "source": [
    "# 矩阵库 numpy.matlib"
   ]
  },
  {
   "cell_type": "code",
   "execution_count": 1,
   "id": "395de605-b485-47af-8cd9-5fe5089b0a0e",
   "metadata": {},
   "outputs": [],
   "source": [
    "import numpy.matlib \n",
    "import numpy as np "
   ]
  },
  {
   "cell_type": "code",
   "execution_count": 2,
   "id": "86a098d1-37c2-4fd9-9f48-4986023c2d7b",
   "metadata": {},
   "outputs": [
    {
     "data": {
      "text/plain": [
       "matrix([[4.68705690e-310, 0.00000000e+000],\n",
       "        [1.58101007e-322, 7.10236533e+194]])"
      ]
     },
     "execution_count": 2,
     "metadata": {},
     "output_type": "execute_result"
    }
   ],
   "source": [
    "np.matlib.empty((2,2))"
   ]
  },
  {
   "cell_type": "code",
   "execution_count": 3,
   "id": "51e26bdf-70e4-4edb-8214-0c2578a3a1a3",
   "metadata": {},
   "outputs": [
    {
     "data": {
      "text/plain": [
       "matrix([[0., 0.],\n",
       "        [0., 0.]])"
      ]
     },
     "execution_count": 3,
     "metadata": {},
     "output_type": "execute_result"
    }
   ],
   "source": [
    "np.matlib.zeros((2,2))"
   ]
  },
  {
   "cell_type": "code",
   "execution_count": 4,
   "id": "85b897ba-c411-4aa1-83dc-732506f5e463",
   "metadata": {},
   "outputs": [
    {
     "data": {
      "text/plain": [
       "matrix([[1., 1.],\n",
       "        [1., 1.]])"
      ]
     },
     "execution_count": 4,
     "metadata": {},
     "output_type": "execute_result"
    }
   ],
   "source": [
    "np.matlib.ones((2,2))"
   ]
  },
  {
   "cell_type": "code",
   "execution_count": 5,
   "id": "af1b3b3f-2978-45be-b5dd-76749564a355",
   "metadata": {},
   "outputs": [
    {
     "data": {
      "text/plain": [
       "matrix([[1., 0., 0., 0.],\n",
       "        [0., 1., 0., 0.],\n",
       "        [0., 0., 1., 0.]])"
      ]
     },
     "execution_count": 5,
     "metadata": {},
     "output_type": "execute_result"
    }
   ],
   "source": [
    "np.matlib.eye(n =  3, M =  4, k =  0, dtype =  float)"
   ]
  },
  {
   "cell_type": "code",
   "execution_count": 6,
   "id": "dd268551-3e68-44e3-bcbb-0e492f153573",
   "metadata": {},
   "outputs": [
    {
     "data": {
      "text/plain": [
       "matrix([[1., 0., 0., 0., 0.],\n",
       "        [0., 1., 0., 0., 0.],\n",
       "        [0., 0., 1., 0., 0.],\n",
       "        [0., 0., 0., 1., 0.],\n",
       "        [0., 0., 0., 0., 1.]])"
      ]
     },
     "execution_count": 6,
     "metadata": {},
     "output_type": "execute_result"
    }
   ],
   "source": [
    "np.matlib.identity(5, dtype =  float)"
   ]
  },
  {
   "cell_type": "code",
   "execution_count": 7,
   "id": "8c35c8e5-e9f2-4479-84ea-6d333b3f3000",
   "metadata": {},
   "outputs": [
    {
     "data": {
      "text/plain": [
       "matrix([[1, 2],\n",
       "        [3, 4]])"
      ]
     },
     "execution_count": 7,
     "metadata": {},
     "output_type": "execute_result"
    }
   ],
   "source": [
    "d = np.array([[1,2],[3,4]])\n",
    "np.asmatrix (d)  "
   ]
  },
  {
   "cell_type": "markdown",
   "id": "cbf91615-cb96-44b8-80b6-f0f4cdb3840e",
   "metadata": {},
   "source": [
    "# 线性代数 linalg"
   ]
  },
  {
   "cell_type": "raw",
   "id": "0dcdb2a6-f414-4f60-a1a7-9f13edaa3381",
   "metadata": {},
   "source": [
    "dot\t两个数组的点积，即元素对应相乘。\n",
    "vdot\t两个向量的点积\n",
    "inner\t两个数组的内积\n",
    "matmul\t两个数组的矩阵积\n",
    "determinant\t数组的行列式\n",
    "solve\t求解线性矩阵方程\n",
    "inv\t计算矩阵的乘法逆矩阵"
   ]
  },
  {
   "cell_type": "markdown",
   "id": "dc1d38c0-1088-4e11-a8e6-2ebd9990e7c1",
   "metadata": {},
   "source": [
    "## 点积 np.dot"
   ]
  },
  {
   "cell_type": "markdown",
   "id": "7c77de7e-ee27-4144-a084-ffc1e480da34",
   "metadata": {},
   "source": [
    "### 2x2矩阵"
   ]
  },
  {
   "cell_type": "markdown",
   "id": "087f9a01-dd27-40bb-a83c-ab49df404b2e",
   "metadata": {},
   "source": [
    "![图片](https://appen-pe.oss-cn-shanghai.aliyuncs.com/imgupload/202204171716937.png)"
   ]
  },
  {
   "cell_type": "raw",
   "id": "43562778-d050-4260-9642-0022bbca3721",
   "metadata": {},
   "source": [
    "对二维空间的线性变换,注意顺序"
   ]
  },
  {
   "cell_type": "code",
   "execution_count": 43,
   "id": "f1b46d6a-05d0-4f66-a749-980c5201fc27",
   "metadata": {
    "tags": []
   },
   "outputs": [
    {
     "data": {
      "text/plain": [
       "array([-4,  3])"
      ]
     },
     "execution_count": 43,
     "metadata": {},
     "output_type": "execute_result"
    }
   ],
   "source": [
    "# 对 3,4向量进行向左旋转90度\n",
    "np.dot([[0,-1],\n",
    "        [1,0]],\n",
    "       [3,4])"
   ]
  },
  {
   "cell_type": "code",
   "execution_count": 46,
   "id": "6192295a-195f-4f91-a82c-dc967ea889d9",
   "metadata": {},
   "outputs": [
    {
     "data": {
      "text/plain": [
       "array([2, 1])"
      ]
     },
     "execution_count": 46,
     "metadata": {},
     "output_type": "execute_result"
    }
   ],
   "source": [
    "# 对1，1向量 shear变换\n",
    "np.dot([[1,1],\n",
    "        [0,1]],\n",
    "      [1,1])"
   ]
  },
  {
   "cell_type": "code",
   "execution_count": 48,
   "id": "f1798a60-706f-48e0-8101-7dcc285ab7e8",
   "metadata": {
    "tags": []
   },
   "outputs": [
    {
     "data": {
      "text/plain": [
       "array([2, 8])"
      ]
     },
     "execution_count": 48,
     "metadata": {},
     "output_type": "execute_result"
    }
   ],
   "source": [
    "# 什么也不做的变换\n",
    "np.dot([[1, 0],\n",
    "        [0, 1]],[2,8])"
   ]
  },
  {
   "cell_type": "code",
   "execution_count": 53,
   "id": "e3dcb712-bd4c-420b-b6bd-a6e76f6a0f1e",
   "metadata": {
    "tags": []
   },
   "outputs": [
    {
     "data": {
      "text/plain": [
       "array([[ 2,  0],\n",
       "       [ 1, -2]])"
      ]
     },
     "execution_count": 53,
     "metadata": {},
     "output_type": "execute_result"
    }
   ],
   "source": [
    "# 两个矩阵的乘，比如上面例子中的M1 M2. 注意还是按顺序些，但是计算其实是从右往左\n",
    "np.dot(\n",
    "       [[0, 2],\n",
    "        [1, 0]]       \n",
    "       ,\n",
    "       [[1, -2],\n",
    "        [1, 0]]\n",
    "      )"
   ]
  },
  {
   "cell_type": "markdown",
   "id": "1b4204f3-e02b-4b4a-aa43-2f2148c8f3f7",
   "metadata": {
    "tags": []
   },
   "source": [
    "### 3x3矩阵"
   ]
  },
  {
   "cell_type": "markdown",
   "id": "bf662463-2eae-481c-97ad-ca0790230dc9",
   "metadata": {},
   "source": [
    "![33](https://appen-pe.oss-cn-shanghai.aliyuncs.com/imgupload/202204171735620.png)"
   ]
  },
  {
   "cell_type": "code",
   "execution_count": 55,
   "id": "fde37326-9314-41af-956b-db63f8964504",
   "metadata": {},
   "outputs": [
    {
     "data": {
      "text/plain": [
       "array([ 8, 26, 42])"
      ]
     },
     "execution_count": 55,
     "metadata": {},
     "output_type": "execute_result"
    }
   ],
   "source": [
    "np.dot([\n",
    "    [0, 1, 2],\n",
    "    [3, 4, 5],\n",
    "    [4, 7, 8]\n",
    "],[1,2,3])"
   ]
  },
  {
   "cell_type": "markdown",
   "id": "25e00ef3-9f6c-4b07-bde9-9b51a19f47fc",
   "metadata": {},
   "source": [
    "### 向量对齐程度"
   ]
  },
  {
   "cell_type": "raw",
   "id": "fd36aee3-9b93-455d-a641-7fc24f4a1def",
   "metadata": {},
   "source": [
    "点积和内积还是不同的，我们常用的一般是点积，详细可参考https://www.zhihu.com/question/296585022\n",
    "因为内积(Inner product)一般是用在内积空间中的。\n",
    "\n",
    "而点积(Dot product)一般是用在欧几里得空间(Euclidean space)中的。"
   ]
  },
  {
   "cell_type": "markdown",
   "id": "9110669f-b997-4697-a9d2-2cc5deeb41d2",
   "metadata": {},
   "source": [
    "![图](https://appen-pe.oss-cn-shanghai.aliyuncs.com/imgupload/202204171757238.png)"
   ]
  },
  {
   "cell_type": "code",
   "execution_count": 67,
   "id": "981f132b-5aa3-4f8c-8242-f66d3c69ae47",
   "metadata": {},
   "outputs": [
    {
     "data": {
      "text/plain": [
       "38"
      ]
     },
     "execution_count": 67,
     "metadata": {},
     "output_type": "execute_result"
    }
   ],
   "source": [
    "np.dot([2,7,1],[8,2,8])"
   ]
  },
  {
   "cell_type": "code",
   "execution_count": 68,
   "id": "8f1fef8a-ef8c-42c6-984f-1dbebc28ba94",
   "metadata": {},
   "outputs": [
    {
     "data": {
      "text/plain": [
       "11"
      ]
     },
     "execution_count": 68,
     "metadata": {},
     "output_type": "execute_result"
    }
   ],
   "source": [
    "np.dot([1,2],[3,4])"
   ]
  },
  {
   "cell_type": "code",
   "execution_count": 72,
   "id": "13f246a6-60d9-4cf3-946a-66597ecde1f0",
   "metadata": {},
   "outputs": [
    {
     "data": {
      "text/plain": [
       "2"
      ]
     },
     "execution_count": 72,
     "metadata": {},
     "output_type": "execute_result"
    }
   ],
   "source": [
    "# 同向最大\n",
    "np.dot([0,1],[0,2])"
   ]
  },
  {
   "cell_type": "code",
   "execution_count": 71,
   "id": "e35e8aaf-7870-4173-a7de-8ab5fc094974",
   "metadata": {},
   "outputs": [
    {
     "data": {
      "text/plain": [
       "-2"
      ]
     },
     "execution_count": 71,
     "metadata": {},
     "output_type": "execute_result"
    }
   ],
   "source": [
    "# 反向最大\n",
    "np.dot([0,1],[0,-2])"
   ]
  },
  {
   "cell_type": "code",
   "execution_count": 73,
   "id": "389a42a1-b817-4ec4-9c09-e726fa3274c1",
   "metadata": {},
   "outputs": [
    {
     "data": {
      "text/plain": [
       "0"
      ]
     },
     "execution_count": 73,
     "metadata": {},
     "output_type": "execute_result"
    }
   ],
   "source": [
    "# 垂直\n",
    "np.dot([1,0],[0,1])"
   ]
  },
  {
   "cell_type": "code",
   "execution_count": 93,
   "id": "6b2b1b01-a289-4d03-a8ad-cb21709a88cf",
   "metadata": {},
   "outputs": [
    {
     "data": {
      "text/plain": [
       "2"
      ]
     },
     "execution_count": 93,
     "metadata": {},
     "output_type": "execute_result"
    }
   ],
   "source": [
    "# 这种情况下 调换顺序结果是一样的，但是用于矩阵的线性变化需要正确的顺序\n",
    "np.dot([0,2],[0,1])\n",
    "# 两个向量点积顺序无关.这是对偶性\n",
    "# u · v = |u| · |v| · cos(θ)"
   ]
  },
  {
   "cell_type": "markdown",
   "id": "29902ab7-91d1-4959-8376-975a5723030c",
   "metadata": {
    "tags": []
   },
   "source": [
    "## 行列式 det"
   ]
  },
  {
   "cell_type": "raw",
   "id": "31207e20-ab79-4275-a7b4-3c899ffc7ab7",
   "metadata": {},
   "source": [
    "行列式在几何学上的意义是，如果2x2就是 变换后的基的面积，可能是正数或者负数，或者是0， 3x3就是变换后的体积。"
   ]
  },
  {
   "cell_type": "markdown",
   "id": "df8bb60a-b4e5-4cc6-8f14-9492ebaab61c",
   "metadata": {},
   "source": [
    "![图](https://appen-pe.oss-cn-shanghai.aliyuncs.com/imgupload/202204171744117.png)"
   ]
  },
  {
   "cell_type": "markdown",
   "id": "1ea0bfd6-c4b9-4f4b-b84f-af896c5124d8",
   "metadata": {},
   "source": [
    "### 2x2矩阵"
   ]
  },
  {
   "cell_type": "code",
   "execution_count": 56,
   "id": "625af3de-1db0-4623-ac43-3866fef8a54b",
   "metadata": {},
   "outputs": [
    {
     "data": {
      "text/plain": [
       "6.0"
      ]
     },
     "execution_count": 56,
     "metadata": {},
     "output_type": "execute_result"
    }
   ],
   "source": [
    "np.linalg.det([[3,0],\n",
    "               [0,2]])\n",
    "# i 基3,0 . j基 0,2"
   ]
  },
  {
   "cell_type": "code",
   "execution_count": 58,
   "id": "55587bf0-4c57-43e2-9c7e-72b659cbd937",
   "metadata": {},
   "outputs": [
    {
     "data": {
      "text/plain": [
       "-6.0"
      ]
     },
     "execution_count": 58,
     "metadata": {},
     "output_type": "execute_result"
    }
   ],
   "source": [
    "np.linalg.det([[0,2],\n",
    "               [3,0]])"
   ]
  },
  {
   "cell_type": "code",
   "execution_count": 60,
   "id": "ea74e82b-9762-40df-8919-85fce1bd0969",
   "metadata": {},
   "outputs": [
    {
     "data": {
      "text/plain": [
       "0.0"
      ]
     },
     "execution_count": 60,
     "metadata": {},
     "output_type": "execute_result"
    }
   ],
   "source": [
    "np.linalg.det([[1,2],\n",
    "               [1,2]])\n",
    "# 两个点在一条线上"
   ]
  },
  {
   "cell_type": "code",
   "execution_count": 61,
   "id": "30ccc47f-b4e4-4d38-8871-3b2a6313bd79",
   "metadata": {},
   "outputs": [
    {
     "data": {
      "text/plain": [
       "4.000000000000001"
      ]
     },
     "execution_count": 61,
     "metadata": {},
     "output_type": "execute_result"
    }
   ],
   "source": [
    "np.linalg.det([[3,2],\n",
    "               [1,2]])"
   ]
  },
  {
   "cell_type": "markdown",
   "id": "d32b635e-0b5b-4b56-92f2-c629cc463ace",
   "metadata": {},
   "source": [
    "### 3x3矩阵"
   ]
  },
  {
   "cell_type": "code",
   "execution_count": 32,
   "id": "38a96878-ccae-46eb-aaca-4058566b1e45",
   "metadata": {},
   "outputs": [
    {
     "data": {
      "text/plain": [
       "-306.0"
      ]
     },
     "execution_count": 32,
     "metadata": {},
     "output_type": "execute_result"
    }
   ],
   "source": [
    "np.linalg.det([[6,   1,   1],\n",
    "               [4,  -2,   5], \n",
    "               [2,   8,   7]])"
   ]
  },
  {
   "cell_type": "code",
   "execution_count": 62,
   "id": "2a28da0c-c116-4711-819e-2ee3836ee716",
   "metadata": {},
   "outputs": [
    {
     "data": {
      "text/plain": [
       "-306"
      ]
     },
     "execution_count": 62,
     "metadata": {},
     "output_type": "execute_result"
    }
   ],
   "source": [
    "6*(-2*7 - 5*8) - 1*(4*7 - 5*2) + 1*(4*8 - -2*2)"
   ]
  },
  {
   "cell_type": "code",
   "execution_count": 63,
   "id": "7066b4e0-743d-486d-aa66-24cc57d26233",
   "metadata": {},
   "outputs": [
    {
     "data": {
      "text/plain": [
       "1.0"
      ]
     },
     "execution_count": 63,
     "metadata": {},
     "output_type": "execute_result"
    }
   ],
   "source": [
    "np.linalg.det([[1,   0,   0],\n",
    "               [0,   1,   0], \n",
    "               [0,   0,   1]])"
   ]
  },
  {
   "cell_type": "code",
   "execution_count": 64,
   "id": "76a7a113-ae5c-4645-abc5-25d4a149317a",
   "metadata": {},
   "outputs": [
    {
     "data": {
      "text/plain": [
       "7.999999999999998"
      ]
     },
     "execution_count": 64,
     "metadata": {},
     "output_type": "execute_result"
    }
   ],
   "source": [
    "np.linalg.det([[2,   0,   0],\n",
    "               [0,   2,   0], \n",
    "               [0,   0,   2]])"
   ]
  },
  {
   "cell_type": "markdown",
   "id": "9b3705ea-239a-4b29-a0f8-d06ed6821c72",
   "metadata": {},
   "source": [
    "## 叉乘（np.cross）"
   ]
  },
  {
   "cell_type": "markdown",
   "id": "0dbbc747-2df6-4c75-85f4-6a84ddb28ebd",
   "metadata": {},
   "source": [
    "![图](https://appen-pe.oss-cn-shanghai.aliyuncs.com/imgupload/202204171812194.png)"
   ]
  },
  {
   "cell_type": "code",
   "execution_count": 84,
   "id": "197708ab-2237-4d09-8027-beb0165df82d",
   "metadata": {},
   "outputs": [
    {
     "data": {
      "text/plain": [
       "array(-5)"
      ]
     },
     "execution_count": 84,
     "metadata": {},
     "output_type": "execute_result"
    }
   ],
   "source": [
    "np.cross([3,1],[2,-1])\n",
    "### 返回的仍然是响量，大小是det. 坐标是在z轴上"
   ]
  },
  {
   "cell_type": "code",
   "execution_count": 86,
   "id": "6b19ba78-cd10-459b-8d99-ae85b909687b",
   "metadata": {},
   "outputs": [
    {
     "data": {
      "text/plain": [
       "array(5)"
      ]
     },
     "execution_count": 86,
     "metadata": {},
     "output_type": "execute_result"
    }
   ],
   "source": [
    "### 顺序是重要的\n",
    "np.cross([2,-1],[3,1])"
   ]
  },
  {
   "cell_type": "code",
   "execution_count": 87,
   "id": "fb9bce14-e3cf-4792-a564-f257475fba14",
   "metadata": {},
   "outputs": [
    {
     "data": {
      "text/plain": [
       "-5.000000000000001"
      ]
     },
     "execution_count": 87,
     "metadata": {},
     "output_type": "execute_result"
    }
   ],
   "source": [
    "np.linalg.det([[3,2],\n",
    "               [1,-1]])"
   ]
  },
  {
   "cell_type": "code",
   "execution_count": 90,
   "id": "67569f74-ef18-42d6-9756-bdb52dfa7ac1",
   "metadata": {},
   "outputs": [
    {
     "data": {
      "text/plain": [
       "array([ 0,  0, -5])"
      ]
     },
     "execution_count": 90,
     "metadata": {},
     "output_type": "execute_result"
    }
   ],
   "source": [
    "### 给三个坐标\n",
    "np.cross([3,1,0],[2,-1, 0])"
   ]
  },
  {
   "cell_type": "code",
   "execution_count": 92,
   "id": "d40c1bd2-ede3-443b-8da7-89105535c441",
   "metadata": {},
   "outputs": [
    {
     "data": {
      "text/plain": [
       "array([-3,  6, -3])"
      ]
     },
     "execution_count": 92,
     "metadata": {},
     "output_type": "execute_result"
    }
   ],
   "source": [
    "np.cross([1,2,3],[4,5,6])"
   ]
  },
  {
   "cell_type": "markdown",
   "id": "bfe0eaa5-ef03-403a-8785-b00aa595e6b5",
   "metadata": {},
   "source": [
    "## 逆矩阵 linalg.inv()\n"
   ]
  },
  {
   "cell_type": "markdown",
   "id": "774b24eb-c572-43b2-bc0b-690867f6eee5",
   "metadata": {},
   "source": [
    "![图](https://appen-pe.oss-cn-shanghai.aliyuncs.com/imgupload/202204171836434.png)"
   ]
  },
  {
   "cell_type": "markdown",
   "id": "91a4a013-247a-4450-b0a1-c1cd8809365c",
   "metadata": {},
   "source": [
    "### 旋转的逆矩阵"
   ]
  },
  {
   "cell_type": "code",
   "execution_count": 111,
   "id": "db5ed6d8-c030-4ac4-8128-e65509597e92",
   "metadata": {},
   "outputs": [],
   "source": [
    "x = [[0, -1],\n",
    "     [1, 0]\n",
    "]"
   ]
  },
  {
   "cell_type": "code",
   "execution_count": 101,
   "id": "867c4027-5c2a-4807-a237-bd433e123998",
   "metadata": {},
   "outputs": [
    {
     "data": {
      "text/plain": [
       "array([[ 0.,  1.],\n",
       "       [-1., -0.]])"
      ]
     },
     "execution_count": 101,
     "metadata": {},
     "output_type": "execute_result"
    }
   ],
   "source": [
    "y = np.linalg.inv(x)\n",
    "y"
   ]
  },
  {
   "cell_type": "code",
   "execution_count": 102,
   "id": "a8b3a2e8-d1ab-4da4-ab3c-28873e067e37",
   "metadata": {},
   "outputs": [
    {
     "data": {
      "text/plain": [
       "array([[1., 0.],\n",
       "       [0., 1.]])"
      ]
     },
     "execution_count": 102,
     "metadata": {},
     "output_type": "execute_result"
    }
   ],
   "source": [
    "np.dot(x,y)"
   ]
  },
  {
   "cell_type": "markdown",
   "id": "96ea7cca-68fa-4ace-aeb4-0d9977fd99f1",
   "metadata": {
    "tags": []
   },
   "source": [
    "### 剪切的逆"
   ]
  },
  {
   "cell_type": "code",
   "execution_count": 109,
   "id": "c461383a-754f-41bb-ad4b-bbfeeb9a3a4b",
   "metadata": {},
   "outputs": [],
   "source": [
    "x2 = [[1, 1],\n",
    "     [0, 1]\n",
    "]"
   ]
  },
  {
   "cell_type": "code",
   "execution_count": 110,
   "id": "b4701d7b-075f-435a-bdd6-215e65bad696",
   "metadata": {},
   "outputs": [
    {
     "data": {
      "text/plain": [
       "array([[ 1., -1.],\n",
       "       [ 0.,  1.]])"
      ]
     },
     "execution_count": 110,
     "metadata": {},
     "output_type": "execute_result"
    }
   ],
   "source": [
    "y2 = np.linalg.inv(x2)\n",
    "y2"
   ]
  },
  {
   "cell_type": "code",
   "execution_count": 107,
   "id": "9c6d43d8-a794-4c6c-ad5c-9b648534ebf0",
   "metadata": {},
   "outputs": [
    {
     "data": {
      "text/plain": [
       "array([[1., 0.],\n",
       "       [0., 1.]])"
      ]
     },
     "execution_count": 107,
     "metadata": {},
     "output_type": "execute_result"
    }
   ],
   "source": [
    "np.dot(x2,y2)"
   ]
  },
  {
   "cell_type": "markdown",
   "id": "28446872-f7a7-4229-a313-595bf0968650",
   "metadata": {},
   "source": [
    "## 非方阵"
   ]
  },
  {
   "cell_type": "markdown",
   "id": "4161602a-663a-475b-b3fb-69108472bde7",
   "metadata": {},
   "source": [
    "![非方阵](https://appen-pe.oss-cn-shanghai.aliyuncs.com/imgupload/202204171838187.png)"
   ]
  },
  {
   "cell_type": "code",
   "execution_count": null,
   "id": "494ee7d7-4acc-4fb2-8f0a-4dbb394423ec",
   "metadata": {},
   "outputs": [],
   "source": [
    "\n",
    "import numpy as np\n",
    "from scipy.spatial.transform import Rotation\n",
    "\n",
    "### 欧拉角转四元数\n",
    "p1 = [0,1,0] # y轴上的点1\n",
    "\n",
    "q1 = Rotation.from_euler('xyz', [0, 0, -3.14], degrees=False).as_quat() # z方向旋转180读，右手坐标系下是往右旋转\n",
    "\n",
    "m1 = Rotation.from_quat(q1).as_matrix()\n",
    "# print(m1)\n",
    "# [[-0.99999873  0.00159265  0.        ]\n",
    "#  [-0.00159265 -0.99999873 -0.        ]\n",
    "#  [-0.          0.          1.        ]]\n",
    "\n",
    "'''\n",
    "以上约等于，竖列\n",
    "\n",
    "-1 0  0\n",
    "0 -1 0 \n",
    "0  0  1\n",
    "\n",
    "1 0 0\n",
    "0 1 0\n",
    "0 0 1\n",
    "\n",
    "'''\n",
    "\n",
    "\n",
    "print(np.dot(m1,\n",
    "       [1,0,0]))\n",
    "print(np.dot(m1,\n",
    "       [0,1,0]))\n",
    "print(np.dot(m1,\n",
    "       [0,0,1]))\n"
   ]
  }
 ],
 "metadata": {
  "kernelspec": {
   "display_name": "Python 3 (ipykernel)",
   "language": "python",
   "name": "python3"
  },
  "language_info": {
   "codemirror_mode": {
    "name": "ipython",
    "version": 3
   },
   "file_extension": ".py",
   "mimetype": "text/x-python",
   "name": "python",
   "nbconvert_exporter": "python",
   "pygments_lexer": "ipython3",
   "version": "3.7.11"
  }
 },
 "nbformat": 4,
 "nbformat_minor": 5
}
