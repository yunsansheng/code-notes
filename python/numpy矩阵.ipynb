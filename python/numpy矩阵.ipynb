{
 "cells": [
  {
   "cell_type": "markdown",
   "id": "605d9249-b545-4d76-a9d1-384ac35c98c7",
   "metadata": {},
   "source": [
    "# 矩阵库 numpy.matlib"
   ]
  },
  {
   "cell_type": "code",
   "execution_count": 1,
   "id": "395de605-b485-47af-8cd9-5fe5089b0a0e",
   "metadata": {},
   "outputs": [],
   "source": [
    "import numpy.matlib \n",
    "import numpy as np "
   ]
  },
  {
   "cell_type": "code",
   "execution_count": 2,
   "id": "86a098d1-37c2-4fd9-9f48-4986023c2d7b",
   "metadata": {},
   "outputs": [
    {
     "data": {
      "text/plain": [
       "matrix([[4.68705690e-310, 0.00000000e+000],\n",
       "        [1.58101007e-322, 7.10236533e+194]])"
      ]
     },
     "execution_count": 2,
     "metadata": {},
     "output_type": "execute_result"
    }
   ],
   "source": [
    "np.matlib.empty((2,2))"
   ]
  },
  {
   "cell_type": "code",
   "execution_count": 3,
   "id": "51e26bdf-70e4-4edb-8214-0c2578a3a1a3",
   "metadata": {},
   "outputs": [
    {
     "data": {
      "text/plain": [
       "matrix([[0., 0.],\n",
       "        [0., 0.]])"
      ]
     },
     "execution_count": 3,
     "metadata": {},
     "output_type": "execute_result"
    }
   ],
   "source": [
    "np.matlib.zeros((2,2))"
   ]
  },
  {
   "cell_type": "code",
   "execution_count": 4,
   "id": "85b897ba-c411-4aa1-83dc-732506f5e463",
   "metadata": {},
   "outputs": [
    {
     "data": {
      "text/plain": [
       "matrix([[1., 1.],\n",
       "        [1., 1.]])"
      ]
     },
     "execution_count": 4,
     "metadata": {},
     "output_type": "execute_result"
    }
   ],
   "source": [
    "np.matlib.ones((2,2))"
   ]
  },
  {
   "cell_type": "code",
   "execution_count": 5,
   "id": "af1b3b3f-2978-45be-b5dd-76749564a355",
   "metadata": {},
   "outputs": [
    {
     "data": {
      "text/plain": [
       "matrix([[1., 0., 0., 0.],\n",
       "        [0., 1., 0., 0.],\n",
       "        [0., 0., 1., 0.]])"
      ]
     },
     "execution_count": 5,
     "metadata": {},
     "output_type": "execute_result"
    }
   ],
   "source": [
    "np.matlib.eye(n =  3, M =  4, k =  0, dtype =  float)"
   ]
  },
  {
   "cell_type": "code",
   "execution_count": 6,
   "id": "dd268551-3e68-44e3-bcbb-0e492f153573",
   "metadata": {},
   "outputs": [
    {
     "data": {
      "text/plain": [
       "matrix([[1., 0., 0., 0., 0.],\n",
       "        [0., 1., 0., 0., 0.],\n",
       "        [0., 0., 1., 0., 0.],\n",
       "        [0., 0., 0., 1., 0.],\n",
       "        [0., 0., 0., 0., 1.]])"
      ]
     },
     "execution_count": 6,
     "metadata": {},
     "output_type": "execute_result"
    }
   ],
   "source": [
    "np.matlib.identity(5, dtype =  float)"
   ]
  },
  {
   "cell_type": "code",
   "execution_count": 7,
   "id": "8c35c8e5-e9f2-4479-84ea-6d333b3f3000",
   "metadata": {},
   "outputs": [
    {
     "data": {
      "text/plain": [
       "matrix([[1, 2],\n",
       "        [3, 4]])"
      ]
     },
     "execution_count": 7,
     "metadata": {},
     "output_type": "execute_result"
    }
   ],
   "source": [
    "d = np.array([[1,2],[3,4]])\n",
    "np.asmatrix (d)  "
   ]
  },
  {
   "cell_type": "markdown",
   "id": "cbf91615-cb96-44b8-80b6-f0f4cdb3840e",
   "metadata": {},
   "source": [
    "# 线性代数 linalg"
   ]
  },
  {
   "cell_type": "raw",
   "id": "0dcdb2a6-f414-4f60-a1a7-9f13edaa3381",
   "metadata": {},
   "source": [
    "dot\t两个数组的点积，即元素对应相乘。\n",
    "vdot\t两个向量的点积\n",
    "inner\t两个数组的内积\n",
    "matmul\t两个数组的矩阵积\n",
    "determinant\t数组的行列式\n",
    "solve\t求解线性矩阵方程\n",
    "inv\t计算矩阵的乘法逆矩阵"
   ]
  },
  {
   "cell_type": "markdown",
   "id": "c0f915fd-3030-4382-9a43-c00f69e483c5",
   "metadata": {
    "tags": []
   },
   "source": [
    "## 点积（内积)"
   ]
  },
  {
   "cell_type": "raw",
   "id": "62e58f50-8158-4fc7-9ab0-063bba9ce852",
   "metadata": {},
   "source": [
    "向量的对其程度，直角为0\n",
    "点积顺序无关.这是对偶性\n",
    "\n",
    "u · v = |u| · |v| · cos(θ)\n"
   ]
  },
  {
   "cell_type": "code",
   "execution_count": 12,
   "id": "18aa2276-3dde-4c5d-aa39-3e170b248de8",
   "metadata": {},
   "outputs": [
    {
     "name": "stdout",
     "output_type": "stream",
     "text": [
      "11\n"
     ]
    }
   ],
   "source": [
    "a = np.array([1,2])\n",
    "b = np.array([3,4])\n",
    "print(np.dot(a,b))\n",
    "\n",
    "#1*3 +2*4"
   ]
  },
  {
   "cell_type": "code",
   "execution_count": 14,
   "id": "35262641-c4c5-4cdd-87c2-ede40bb0974e",
   "metadata": {},
   "outputs": [
    {
     "data": {
      "text/plain": [
       "0"
      ]
     },
     "execution_count": 14,
     "metadata": {},
     "output_type": "execute_result"
    }
   ],
   "source": [
    "np.dot([0,1],[1,0])"
   ]
  },
  {
   "cell_type": "code",
   "execution_count": 15,
   "id": "498fba26-35b4-47a0-a0ba-44f241146cfc",
   "metadata": {},
   "outputs": [
    {
     "data": {
      "text/plain": [
       "1"
      ]
     },
     "execution_count": 15,
     "metadata": {},
     "output_type": "execute_result"
    }
   ],
   "source": [
    "np.dot([1,1],[1,0])"
   ]
  },
  {
   "cell_type": "code",
   "execution_count": 17,
   "id": "284ab8ed-62db-4d18-b5d8-9acbf9cca015",
   "metadata": {},
   "outputs": [
    {
     "data": {
      "text/plain": [
       "-1"
      ]
     },
     "execution_count": 17,
     "metadata": {},
     "output_type": "execute_result"
    }
   ],
   "source": [
    "np.dot([1,0],[-1,1]) # 锐角负"
   ]
  },
  {
   "cell_type": "code",
   "execution_count": 18,
   "id": "f9bb53ad-4718-45a4-85cc-79e68d64928c",
   "metadata": {},
   "outputs": [
    {
     "data": {
      "text/plain": [
       "2"
      ]
     },
     "execution_count": 18,
     "metadata": {},
     "output_type": "execute_result"
    }
   ],
   "source": [
    "np.dot([1,1],[1,1])"
   ]
  },
  {
   "cell_type": "code",
   "execution_count": 21,
   "id": "90313b8f-60e1-488a-a1d6-c02bd51196f3",
   "metadata": {},
   "outputs": [
    {
     "name": "stdout",
     "output_type": "stream",
     "text": [
      "[[37 40]\n",
      " [85 92]]\n"
     ]
    },
    {
     "data": {
      "text/plain": [
       "[[37, 40], [85, 92]]"
      ]
     },
     "execution_count": 21,
     "metadata": {},
     "output_type": "execute_result"
    }
   ],
   "source": [
    "# 几何意义\n",
    "a = np.array([[1,2],\n",
    "              [3,4]])\n",
    "\n",
    "b = np.array([[11,12],\n",
    "              [13,14]])\n",
    "print(np.dot(a,b))\n",
    "\n",
    "\n",
    "[[1*11+2*13, 1*12+2*14],\n",
    " [3*11+4*13, 3*12+4*14]]"
   ]
  },
  {
   "cell_type": "code",
   "execution_count": 22,
   "id": "56c39140-1b5d-4845-97db-6017d1b872e4",
   "metadata": {},
   "outputs": [
    {
     "data": {
      "text/plain": [
       "0"
      ]
     },
     "execution_count": 22,
     "metadata": {},
     "output_type": "execute_result"
    }
   ],
   "source": [
    "np.inner([0,1],[1,0])"
   ]
  },
  {
   "cell_type": "code",
   "execution_count": 23,
   "id": "f7cf5391-d3c3-46fc-a3a6-8cee1de4175e",
   "metadata": {},
   "outputs": [
    {
     "data": {
      "text/plain": [
       "1"
      ]
     },
     "execution_count": 23,
     "metadata": {},
     "output_type": "execute_result"
    }
   ],
   "source": [
    "np.inner([1,1],[1,0])"
   ]
  },
  {
   "cell_type": "code",
   "execution_count": 24,
   "id": "72787031-0f7e-42a2-848c-76430d534d51",
   "metadata": {},
   "outputs": [
    {
     "data": {
      "text/plain": [
       "-1"
      ]
     },
     "execution_count": 24,
     "metadata": {},
     "output_type": "execute_result"
    }
   ],
   "source": [
    "np.inner([1,0],[-1,1])"
   ]
  },
  {
   "cell_type": "code",
   "execution_count": 25,
   "id": "ec6fd56d-9b7c-493e-9564-6ef56993dfaa",
   "metadata": {},
   "outputs": [
    {
     "data": {
      "text/plain": [
       "2"
      ]
     },
     "execution_count": 25,
     "metadata": {},
     "output_type": "execute_result"
    }
   ],
   "source": [
    "np.inner([1,1],[1,1])"
   ]
  },
  {
   "cell_type": "code",
   "execution_count": null,
   "id": "45d715b1-bf9e-410a-9580-c65971faecc1",
   "metadata": {},
   "outputs": [],
   "source": []
  }
 ],
 "metadata": {
  "kernelspec": {
   "display_name": "Python 3 (ipykernel)",
   "language": "python",
   "name": "python3"
  },
  "language_info": {
   "codemirror_mode": {
    "name": "ipython",
    "version": 3
   },
   "file_extension": ".py",
   "mimetype": "text/x-python",
   "name": "python",
   "nbconvert_exporter": "python",
   "pygments_lexer": "ipython3",
   "version": "3.7.11"
  }
 },
 "nbformat": 4,
 "nbformat_minor": 5
}
