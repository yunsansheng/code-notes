{
 "cells": [
  {
   "cell_type": "raw",
   "id": "5b12305a-93f6-4d85-a945-6059741311ab",
   "metadata": {},
   "source": [
    "如果我们需要一个只包含数字的列表，那么array.array比list更高效。数组支持所有跟可变序列有关的操作,包括.pop,.insert和.extend。\n",
    "https://docs.python.org/3/library/array.html"
   ]
  },
  {
   "cell_type": "code",
   "execution_count": 8,
   "id": "b010a885-8b2b-4488-bedc-a1411a829abb",
   "metadata": {},
   "outputs": [],
   "source": [
    "import array"
   ]
  },
  {
   "cell_type": "markdown",
   "id": "0f0f1f3c-396f-462e-b26c-92b7e72fba8b",
   "metadata": {},
   "source": [
    "## 基本使用"
   ]
  },
  {
   "cell_type": "code",
   "execution_count": 30,
   "id": "9b8c566a-413e-4ee5-a029-0a76d4d08d9e",
   "metadata": {},
   "outputs": [
    {
     "name": "stdout",
     "output_type": "stream",
     "text": [
      "bBuhHiIlLqQfd\n"
     ]
    }
   ],
   "source": [
    "print(array.typecodes) # 所有可用的类型"
   ]
  },
  {
   "cell_type": "markdown",
   "id": "1889257b-8c08-457c-aefe-dada6004d4d4",
   "metadata": {},
   "source": [
    "### array.itemsize"
   ]
  },
  {
   "cell_type": "code",
   "execution_count": 77,
   "id": "e692f05d-45e1-462f-a4e0-1f1c9e6616be",
   "metadata": {},
   "outputs": [
    {
     "data": {
      "text/plain": [
       "1"
      ]
     },
     "execution_count": 77,
     "metadata": {},
     "output_type": "execute_result"
    }
   ],
   "source": [
    "f1 = array.array('b') # signed char int8\n",
    "f1.itemsize # 1 代表单个item占用的字节"
   ]
  },
  {
   "cell_type": "code",
   "execution_count": 85,
   "id": "7f1c7281-7844-44fb-b699-efc931fef868",
   "metadata": {},
   "outputs": [
    {
     "data": {
      "text/plain": [
       "1"
      ]
     },
     "execution_count": 85,
     "metadata": {},
     "output_type": "execute_result"
    }
   ],
   "source": [
    "fb = array.array('B') #unsigned char uint8\n",
    "fb.itemsize # 1"
   ]
  },
  {
   "cell_type": "code",
   "execution_count": 84,
   "id": "4459640e-97e3-48b1-8b89-84b637a95600",
   "metadata": {},
   "outputs": [
    {
     "data": {
      "text/plain": [
       "4"
      ]
     },
     "execution_count": 84,
     "metadata": {},
     "output_type": "execute_result"
    }
   ],
   "source": [
    "fu= array.array('u', 'hello \\u2641') #wchar_t  \n",
    "fu.itemsize  # 4 注意u类型 It can be 16 bits or 32 bits depending on the platform."
   ]
  },
  {
   "cell_type": "code",
   "execution_count": 88,
   "id": "6dbd1060-a64b-4451-9841-70f69e4f3baf",
   "metadata": {},
   "outputs": [
    {
     "data": {
      "text/plain": [
       "8"
      ]
     },
     "execution_count": 88,
     "metadata": {},
     "output_type": "execute_result"
    }
   ],
   "source": [
    "fl = array.array('l') # int32 4字节\n",
    "fl.itemsize  # 8字节？"
   ]
  },
  {
   "cell_type": "code",
   "execution_count": 91,
   "id": "d8ad3219-ee53-43de-a7d2-c2cdaa5936bf",
   "metadata": {},
   "outputs": [
    {
     "data": {
      "text/plain": [
       "8"
      ]
     },
     "execution_count": 91,
     "metadata": {},
     "output_type": "execute_result"
    }
   ],
   "source": [
    "fq = array.array('q', [1, 2, 3, 4, 5]) # int64 8字节\n",
    "fq.itemsize # 8"
   ]
  },
  {
   "cell_type": "code",
   "execution_count": 92,
   "id": "a05c7550-2ecd-4879-842d-83b42ebb17ab",
   "metadata": {},
   "outputs": [
    {
     "data": {
      "text/plain": [
       "4"
      ]
     },
     "execution_count": 92,
     "metadata": {},
     "output_type": "execute_result"
    }
   ],
   "source": [
    "ff = array.array('f', [1, 2, 3, 4, 5]) # float32\n",
    "ff.itemsize # 4"
   ]
  },
  {
   "cell_type": "code",
   "execution_count": 93,
   "id": "849092ec-e9c2-474c-b9e1-c2a00aa85922",
   "metadata": {},
   "outputs": [
    {
     "data": {
      "text/plain": [
       "8"
      ]
     },
     "execution_count": 93,
     "metadata": {},
     "output_type": "execute_result"
    }
   ],
   "source": [
    "fd = array.array('d', [1.0, 2.0, 3.14,2.1,1,1,2,221,1,1,22,1,]) # float64\n",
    "fd.itemsize # 8"
   ]
  },
  {
   "cell_type": "markdown",
   "id": "b6d97abb-becb-4260-a982-4477f4c5583f",
   "metadata": {
    "tags": []
   },
   "source": [
    "### array.typecode"
   ]
  },
  {
   "cell_type": "raw",
   "id": "b118f4f4-0cf4-40ba-91bf-a71ffb7cd7e0",
   "metadata": {
    "tags": []
   },
   "source": [
    "The typecode character used to create the array."
   ]
  },
  {
   "cell_type": "code",
   "execution_count": 96,
   "id": "cca19359-c2f6-4593-bf93-b259d655631f",
   "metadata": {},
   "outputs": [
    {
     "data": {
      "text/plain": [
       "'f'"
      ]
     },
     "execution_count": 96,
     "metadata": {},
     "output_type": "execute_result"
    }
   ],
   "source": [
    "f4 = array.array('f', [1, 2, 3, 4, 5]) # float32\n",
    "f4.typecode"
   ]
  },
  {
   "cell_type": "markdown",
   "id": "2d33e8e2-4894-46c5-97c4-96d66dc648dc",
   "metadata": {},
   "source": [
    "## array操作"
   ]
  },
  {
   "cell_type": "markdown",
   "id": "8b9c5725-5fd1-48f4-b473-34477082c9fe",
   "metadata": {
    "tags": []
   },
   "source": [
    "### array.append(x)"
   ]
  },
  {
   "cell_type": "code",
   "execution_count": 95,
   "id": "c128f79c-a3ce-409f-934a-49b2e66f9833",
   "metadata": {},
   "outputs": [],
   "source": [
    "f4 = array.array('f', [1, 2, 3, 4, 5]) # float32\n",
    "f4.append(6)\n",
    "#f4.append(\"a\")  # TypeError: must be real number, not str"
   ]
  },
  {
   "cell_type": "markdown",
   "id": "5bac67ab-d523-48eb-ab47-be7eadb81d10",
   "metadata": {
    "tags": []
   },
   "source": [
    "### array.extend(iterable)"
   ]
  },
  {
   "cell_type": "markdown",
   "id": "1434214e-3665-439f-adbd-898978d9e8e7",
   "metadata": {
    "tags": []
   },
   "source": [
    "### array.count(x)"
   ]
  },
  {
   "cell_type": "code",
   "execution_count": 98,
   "id": "1fb66241-44b0-4dba-9521-7d06c84a0415",
   "metadata": {},
   "outputs": [
    {
     "data": {
      "text/plain": [
       "2"
      ]
     },
     "execution_count": 98,
     "metadata": {},
     "output_type": "execute_result"
    }
   ],
   "source": [
    "f2 = array.array('u', 'hello \\u2641') # array('u', 'hello ♁') #signed char\n",
    "f2.count(\"l\") # 2"
   ]
  },
  {
   "cell_type": "markdown",
   "id": "c551e7fb-4bdd-4a72-889d-1e004225efe1",
   "metadata": {
    "tags": []
   },
   "source": [
    "### array.index(x[, start[, stop]])"
   ]
  },
  {
   "cell_type": "code",
   "execution_count": 105,
   "id": "110e7494-3203-461a-8a7a-2fe176fac404",
   "metadata": {},
   "outputs": [
    {
     "data": {
      "text/plain": [
       "2"
      ]
     },
     "execution_count": 105,
     "metadata": {},
     "output_type": "execute_result"
    }
   ],
   "source": [
    "f4 = array.array('f', [1, 2, 3, 4, 5,3]) # float32\n",
    "f4.index(3)"
   ]
  },
  {
   "cell_type": "markdown",
   "id": "8c5fb5b3-a06a-4055-8d04-6beab685914f",
   "metadata": {
    "tags": []
   },
   "source": [
    "### array.insert(i, x)"
   ]
  },
  {
   "cell_type": "code",
   "execution_count": 108,
   "id": "969bba9c-7a9a-494b-a030-5fa3eab7c426",
   "metadata": {},
   "outputs": [
    {
     "data": {
      "text/plain": [
       "array('f', [1.0, 8.0, 2.0, 3.0, 4.0, 5.0, 3.0])"
      ]
     },
     "execution_count": 108,
     "metadata": {},
     "output_type": "execute_result"
    }
   ],
   "source": [
    "f4 = array.array('f', [1, 2, 3, 4, 5,3]) # float32\n",
    "f4.insert(1,8)\n",
    "f4  # array('f', [1.0, 8.0, 2.0, 3.0, 4.0, 5.0, 3.0])"
   ]
  },
  {
   "cell_type": "markdown",
   "id": "497e375e-69d4-4b67-9c15-8fb8f11e8320",
   "metadata": {},
   "source": [
    "### array.pop([i])"
   ]
  },
  {
   "cell_type": "code",
   "execution_count": 114,
   "id": "e5df3d70-e3e0-443d-90e8-9ae0b001884b",
   "metadata": {},
   "outputs": [
    {
     "data": {
      "text/plain": [
       "3.0"
      ]
     },
     "execution_count": 114,
     "metadata": {},
     "output_type": "execute_result"
    }
   ],
   "source": [
    "f4 = array.array('f', [1, 2, 3, 4, 5,3]) # float32\n",
    "f4.pop() # 3.0 最后一个\n",
    "f4.pop(2) # 指定删除的index"
   ]
  },
  {
   "cell_type": "markdown",
   "id": "75440d73-8721-40c4-8f0a-7b3a62bc8f51",
   "metadata": {},
   "source": [
    "### array.remove(x)"
   ]
  },
  {
   "cell_type": "code",
   "execution_count": 121,
   "id": "f887f7a9-f3c9-4f5f-9b22-77c481cfb649",
   "metadata": {},
   "outputs": [
    {
     "data": {
      "text/plain": [
       "array('f', [1.0, 2.0, 4.0, 5.0])"
      ]
     },
     "execution_count": 121,
     "metadata": {},
     "output_type": "execute_result"
    }
   ],
   "source": [
    "f4 = array.array('f', [1, 2, 3, 4, 5,3])\n",
    "f4.remove(3)\n",
    "f4 # array('f', [1.0, 2.0, 4.0, 5.0, 3.0]) 删除第一个找到的元素\n",
    "f4.remove(3)\n",
    "f4 # array('f', [1.0, 2.0, 4.0, 5.0])"
   ]
  },
  {
   "cell_type": "markdown",
   "id": "b27a458e-be71-4093-bb09-55745388f9c8",
   "metadata": {},
   "source": [
    "### array.reverse()"
   ]
  },
  {
   "cell_type": "markdown",
   "id": "7ad5dbcd-4acc-407a-8785-a9a281ad452c",
   "metadata": {},
   "source": [
    "## 转换array"
   ]
  },
  {
   "cell_type": "markdown",
   "id": "25030f79-26d4-4b76-813d-93469cdb5032",
   "metadata": {},
   "source": [
    "### array.tobytes()"
   ]
  },
  {
   "cell_type": "raw",
   "id": "215dc6ef-84cb-403a-9c7d-bc55cf94ba5f",
   "metadata": {},
   "source": [
    "Convert the array to an array of machine values and return the bytes representation (the same sequence of bytes that would be written to a file by the tofile() method.)"
   ]
  },
  {
   "cell_type": "code",
   "execution_count": 123,
   "id": "9e7b1577-7427-44fc-97cf-f86c73dc3cf7",
   "metadata": {},
   "outputs": [
    {
     "data": {
      "text/plain": [
       "b'\\x00\\x00\\x80?\\x00\\x00\\x00@\\x00\\x00@@\\x00\\x00\\x80@\\x00\\x00\\xa0@\\x00\\x00@@'"
      ]
     },
     "execution_count": 123,
     "metadata": {},
     "output_type": "execute_result"
    }
   ],
   "source": [
    "f4 = array.array('f', [1, 2, 3, 4, 5,3])\n",
    "f4.tobytes() # b'\\x00\\x00\\x80?\\x00\\x00\\x00@\\x00\\x00@@\\x00\\x00\\x80@\\x00\\x00\\xa0@\\x00\\x00@@'"
   ]
  },
  {
   "cell_type": "markdown",
   "id": "a45c5e23-7835-469a-b576-e53e9321d936",
   "metadata": {},
   "source": [
    "### array.tofile(f)"
   ]
  },
  {
   "cell_type": "code",
   "execution_count": 125,
   "id": "99112e24-4f30-47a2-b54f-c9963ec1f11d",
   "metadata": {},
   "outputs": [],
   "source": [
    "f4 = array.array('f', [1, 2, 3, 4, 5,3])\n",
    "with open(\"/tmp/test.bin\",'wb') as f:\n",
    "    f4.tofile(f)"
   ]
  },
  {
   "cell_type": "markdown",
   "id": "3a8ff9ba-47e5-4792-b638-bb0e4c8b7cd6",
   "metadata": {},
   "source": [
    "### array.tolist()"
   ]
  },
  {
   "cell_type": "code",
   "execution_count": 82,
   "id": "4cf82a73-8359-4ebd-b658-f9bce9937ac2",
   "metadata": {},
   "outputs": [
    {
     "data": {
      "text/plain": [
       "list"
      ]
     },
     "execution_count": 82,
     "metadata": {},
     "output_type": "execute_result"
    }
   ],
   "source": [
    "f2 = array.array('u', 'hello \\u2641') # array('u', 'hello ♁') #signed char\n",
    "f2.tolist()  # ['h', 'e', 'l', 'l', 'o', ' ', '♁']\n",
    "type(f2.tolist()) # list"
   ]
  },
  {
   "cell_type": "markdown",
   "id": "5d02432c-68d0-4ca4-a8ee-b53bf6cf0272",
   "metadata": {},
   "source": [
    "### array.tounicode()"
   ]
  },
  {
   "cell_type": "code",
   "execution_count": 137,
   "id": "dbd85cd2-9bae-4578-9f2d-22f686cc0e1d",
   "metadata": {},
   "outputs": [
    {
     "data": {
      "text/plain": [
       "str"
      ]
     },
     "execution_count": 137,
     "metadata": {},
     "output_type": "execute_result"
    }
   ],
   "source": [
    "f4 = array.array('u', \"hello \\u2641\")\n",
    "u = f4.tounicode() # 'hello ♁'\n",
    "type(u) # str"
   ]
  },
  {
   "cell_type": "markdown",
   "id": "7586f07c-c2f7-44e2-8175-e925f9d1f869",
   "metadata": {
    "tags": []
   },
   "source": [
    "## 构建array"
   ]
  },
  {
   "cell_type": "markdown",
   "id": "b60a10cc-0890-48f9-a62d-c119be78b9dd",
   "metadata": {},
   "source": [
    "### array.frombytes(s)"
   ]
  },
  {
   "cell_type": "markdown",
   "id": "e7d331dd-c236-49bf-b28a-87d5bd4cce56",
   "metadata": {},
   "source": [
    "### array.fromfile(f, n)"
   ]
  },
  {
   "cell_type": "code",
   "execution_count": 156,
   "id": "d896744b-5254-4f24-b18e-ee1de858a6fd",
   "metadata": {},
   "outputs": [],
   "source": [
    "f4 = array.array('f', [1, 2, 3, 4, 5,3])\n",
    "with open(\"/tmp/test.bin\",'wb') as f:\n",
    "    f4.tofile(f)\n",
    "    \n",
    "f = array.array('f')\n",
    "with open(\"/tmp/test.bin\",'rb') as fr:\n",
    "    f.fromfile(fr,2) # 每次取2\n",
    "    f.fromfile(fr,2) "
   ]
  },
  {
   "cell_type": "markdown",
   "id": "aae25d94-6f7c-43b8-83fc-6e472923275c",
   "metadata": {},
   "source": [
    "### array.fromlist(list)"
   ]
  },
  {
   "cell_type": "markdown",
   "id": "af702819-6ada-45c3-a525-5d9d6e5d64a0",
   "metadata": {
    "tags": []
   },
   "source": [
    "### array.fromunicode(s)"
   ]
  }
 ],
 "metadata": {
  "kernelspec": {
   "display_name": "Python 3 (ipykernel)",
   "language": "python",
   "name": "python3"
  },
  "language_info": {
   "codemirror_mode": {
    "name": "ipython",
    "version": 3
   },
   "file_extension": ".py",
   "mimetype": "text/x-python",
   "name": "python",
   "nbconvert_exporter": "python",
   "pygments_lexer": "ipython3",
   "version": "3.7.11"
  }
 },
 "nbformat": 4,
 "nbformat_minor": 5
}
