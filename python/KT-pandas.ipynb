{
 "cells": [
  {
   "cell_type": "markdown",
   "id": "773407c8-650f-441b-8436-4174d6257ced",
   "metadata": {},
   "source": [
    "Pandas"
   ]
  },
  {
   "cell_type": "markdown",
   "id": "b6c8fb0e-10b6-499c-a352-999b44ece673",
   "metadata": {
    "jp-MarkdownHeadingCollapsed": true,
    "tags": []
   },
   "source": [
    "[pandas官方文档](https://pandas.pydata.org/docs/user_guide/index.html)"
   ]
  },
  {
   "cell_type": "code",
   "execution_count": 2,
   "id": "13b405e2-a08f-4f9a-9a76-86e8babae549",
   "metadata": {},
   "outputs": [],
   "source": [
    "import numpy as np\n",
    "import pandas as pd"
   ]
  },
  {
   "cell_type": "markdown",
   "id": "ee02eaaf-4259-4888-8289-0ee46b4bc414",
   "metadata": {},
   "source": [
    "# Series和DataFrame"
   ]
  },
  {
   "cell_type": "markdown",
   "id": "7d8de6e9-844d-444e-80f8-8821a7d3689e",
   "metadata": {},
   "source": [
    "## Series"
   ]
  },
  {
   "cell_type": "code",
   "execution_count": 4,
   "id": "ab3307a0-e200-4f3e-a949-466d03e1f3f2",
   "metadata": {},
   "outputs": [
    {
     "data": {
      "text/plain": [
       "0    1\n",
       "1    2\n",
       "2    3\n",
       "dtype: int64"
      ]
     },
     "execution_count": 4,
     "metadata": {},
     "output_type": "execute_result"
    }
   ],
   "source": [
    "sr = pd.Series([1,2,3])\n",
    "sr"
   ]
  },
  {
   "cell_type": "markdown",
   "id": "df6fd1aa-2594-486c-a87a-45dcf5c7edff",
   "metadata": {
    "tags": []
   },
   "source": [
    "### Series操作"
   ]
  },
  {
   "cell_type": "code",
   "execution_count": 42,
   "id": "e7b3e7b4-47c6-4609-9395-e57b9a228db5",
   "metadata": {},
   "outputs": [
    {
     "data": {
      "text/plain": [
       "1"
      ]
     },
     "execution_count": 42,
     "metadata": {},
     "output_type": "execute_result"
    }
   ],
   "source": [
    "sr[0]"
   ]
  },
  {
   "cell_type": "code",
   "execution_count": 41,
   "id": "11a1cb39-1b0c-4e14-b42c-a35291fec497",
   "metadata": {},
   "outputs": [
    {
     "data": {
      "text/plain": [
       "0    1\n",
       "1    2\n",
       "dtype: int64"
      ]
     },
     "execution_count": 41,
     "metadata": {},
     "output_type": "execute_result"
    }
   ],
   "source": [
    "sr[[0,1]]"
   ]
  },
  {
   "cell_type": "markdown",
   "id": "a441601e-7ba0-40d1-8ae5-6fd26d52e874",
   "metadata": {},
   "source": [
    "## DataFrame"
   ]
  },
  {
   "cell_type": "code",
   "execution_count": 8,
   "id": "98c11e1a-4c95-4240-a133-ae558d809a0f",
   "metadata": {},
   "outputs": [
    {
     "data": {
      "text/html": [
       "<div>\n",
       "<style scoped>\n",
       "    .dataframe tbody tr th:only-of-type {\n",
       "        vertical-align: middle;\n",
       "    }\n",
       "\n",
       "    .dataframe tbody tr th {\n",
       "        vertical-align: top;\n",
       "    }\n",
       "\n",
       "    .dataframe thead th {\n",
       "        text-align: right;\n",
       "    }\n",
       "</style>\n",
       "<table border=\"1\" class=\"dataframe\">\n",
       "  <thead>\n",
       "    <tr style=\"text-align: right;\">\n",
       "      <th></th>\n",
       "      <th>0</th>\n",
       "      <th>1</th>\n",
       "    </tr>\n",
       "  </thead>\n",
       "  <tbody>\n",
       "    <tr>\n",
       "      <th>0</th>\n",
       "      <td>1</td>\n",
       "      <td>2</td>\n",
       "    </tr>\n",
       "    <tr>\n",
       "      <th>1</th>\n",
       "      <td>3</td>\n",
       "      <td>4</td>\n",
       "    </tr>\n",
       "    <tr>\n",
       "      <th>2</th>\n",
       "      <td>5</td>\n",
       "      <td>6</td>\n",
       "    </tr>\n",
       "  </tbody>\n",
       "</table>\n",
       "</div>"
      ],
      "text/plain": [
       "   0  1\n",
       "0  1  2\n",
       "1  3  4\n",
       "2  5  6"
      ]
     },
     "execution_count": 8,
     "metadata": {},
     "output_type": "execute_result"
    }
   ],
   "source": [
    "df1 = pd.DataFrame([\n",
    "    [1,2], # 第一行\n",
    "    [3,4], # 第二行数据\n",
    "    [5,6]\n",
    "])\n",
    "df1"
   ]
  },
  {
   "cell_type": "code",
   "execution_count": 9,
   "id": "110c0bbf-4c61-46f3-8c3b-2cb7b51b85a9",
   "metadata": {},
   "outputs": [
    {
     "data": {
      "text/plain": [
       "0    1\n",
       "1    3\n",
       "2    5\n",
       "Name: 0, dtype: int64"
      ]
     },
     "execution_count": 9,
     "metadata": {},
     "output_type": "execute_result"
    }
   ],
   "source": [
    "df1[0] # index变成以列为维度。一般来说df中都会定义column。这种不定义的情况较少"
   ]
  },
  {
   "cell_type": "code",
   "execution_count": 10,
   "id": "82d84b58-3571-4cac-a034-22f544589151",
   "metadata": {},
   "outputs": [
    {
     "data": {
      "text/html": [
       "<div>\n",
       "<style scoped>\n",
       "    .dataframe tbody tr th:only-of-type {\n",
       "        vertical-align: middle;\n",
       "    }\n",
       "\n",
       "    .dataframe tbody tr th {\n",
       "        vertical-align: top;\n",
       "    }\n",
       "\n",
       "    .dataframe thead th {\n",
       "        text-align: right;\n",
       "    }\n",
       "</style>\n",
       "<table border=\"1\" class=\"dataframe\">\n",
       "  <thead>\n",
       "    <tr style=\"text-align: right;\">\n",
       "      <th></th>\n",
       "      <th>0</th>\n",
       "      <th>1</th>\n",
       "    </tr>\n",
       "  </thead>\n",
       "  <tbody>\n",
       "    <tr>\n",
       "      <th>0</th>\n",
       "      <td>1</td>\n",
       "      <td>2</td>\n",
       "    </tr>\n",
       "    <tr>\n",
       "      <th>1</th>\n",
       "      <td>3</td>\n",
       "      <td>4</td>\n",
       "    </tr>\n",
       "    <tr>\n",
       "      <th>2</th>\n",
       "      <td>5</td>\n",
       "      <td>6</td>\n",
       "    </tr>\n",
       "  </tbody>\n",
       "</table>\n",
       "</div>"
      ],
      "text/plain": [
       "   0  1\n",
       "0  1  2\n",
       "1  3  4\n",
       "2  5  6"
      ]
     },
     "execution_count": 10,
     "metadata": {},
     "output_type": "execute_result"
    }
   ],
   "source": [
    "df1[[0,1]]#这个地方也是column"
   ]
  },
  {
   "cell_type": "code",
   "execution_count": 11,
   "id": "4772d005-e220-4984-82ad-cbcebad11b9a",
   "metadata": {},
   "outputs": [
    {
     "data": {
      "text/html": [
       "<div>\n",
       "<style scoped>\n",
       "    .dataframe tbody tr th:only-of-type {\n",
       "        vertical-align: middle;\n",
       "    }\n",
       "\n",
       "    .dataframe tbody tr th {\n",
       "        vertical-align: top;\n",
       "    }\n",
       "\n",
       "    .dataframe thead th {\n",
       "        text-align: right;\n",
       "    }\n",
       "</style>\n",
       "<table border=\"1\" class=\"dataframe\">\n",
       "  <thead>\n",
       "    <tr style=\"text-align: right;\">\n",
       "      <th></th>\n",
       "      <th>a</th>\n",
       "      <th>b</th>\n",
       "    </tr>\n",
       "  </thead>\n",
       "  <tbody>\n",
       "    <tr>\n",
       "      <th>0</th>\n",
       "      <td>1</td>\n",
       "      <td>2</td>\n",
       "    </tr>\n",
       "    <tr>\n",
       "      <th>1</th>\n",
       "      <td>3</td>\n",
       "      <td>4</td>\n",
       "    </tr>\n",
       "  </tbody>\n",
       "</table>\n",
       "</div>"
      ],
      "text/plain": [
       "   a  b\n",
       "0  1  2\n",
       "1  3  4"
      ]
     },
     "execution_count": 11,
     "metadata": {},
     "output_type": "execute_result"
    }
   ],
   "source": [
    "df2 = pd.DataFrame([\n",
    "    [1,2],\n",
    "    [3,4]\n",
    "],columns=['a','b'])\n",
    "df2"
   ]
  },
  {
   "cell_type": "code",
   "execution_count": 12,
   "id": "d00e5332-f90c-4573-8c7d-47396bff0f4b",
   "metadata": {},
   "outputs": [
    {
     "data": {
      "text/plain": [
       "RangeIndex(start=0, stop=2, step=1)"
      ]
     },
     "execution_count": 12,
     "metadata": {},
     "output_type": "execute_result"
    }
   ],
   "source": [
    "df2.index"
   ]
  },
  {
   "cell_type": "code",
   "execution_count": 13,
   "id": "041840b8-eb25-41dc-97b5-e99a0fb2448b",
   "metadata": {},
   "outputs": [
    {
     "data": {
      "text/plain": [
       "Index(['a', 'b'], dtype='object')"
      ]
     },
     "execution_count": 13,
     "metadata": {},
     "output_type": "execute_result"
    }
   ],
   "source": [
    "df2.columns"
   ]
  },
  {
   "cell_type": "code",
   "execution_count": 14,
   "id": "c3f28d53-0258-4a6e-94ff-40371646f662",
   "metadata": {},
   "outputs": [
    {
     "data": {
      "text/plain": [
       "array([[1, 2],\n",
       "       [3, 4]])"
      ]
     },
     "execution_count": 14,
     "metadata": {},
     "output_type": "execute_result"
    }
   ],
   "source": [
    "df2.values # 二维数组"
   ]
  },
  {
   "cell_type": "code",
   "execution_count": 15,
   "id": "da48b8dd-1109-41fa-ae94-c46ef1f772ca",
   "metadata": {},
   "outputs": [
    {
     "data": {
      "text/plain": [
       "a    int64\n",
       "b    int64\n",
       "dtype: object"
      ]
     },
     "execution_count": 15,
     "metadata": {},
     "output_type": "execute_result"
    }
   ],
   "source": [
    "df2.dtypes"
   ]
  },
  {
   "cell_type": "markdown",
   "id": "f348fdcb-9242-4f4e-866b-1e971e06a61a",
   "metadata": {
    "tags": []
   },
   "source": [
    "### DataFrame操作"
   ]
  },
  {
   "cell_type": "code",
   "execution_count": 16,
   "id": "ce76fdf8-665e-494b-af4d-5f5f3dac32c4",
   "metadata": {},
   "outputs": [],
   "source": [
    "#df2[0] # dataframe不能用数字索引,除非定义的columns是数字"
   ]
  },
  {
   "cell_type": "code",
   "execution_count": 86,
   "id": "f4d10f0b-7d39-4750-a710-7a794c0c76ea",
   "metadata": {},
   "outputs": [
    {
     "data": {
      "text/plain": [
       "0    2\n",
       "1    4\n",
       "Name: b, dtype: int64"
      ]
     },
     "execution_count": 86,
     "metadata": {},
     "output_type": "execute_result"
    }
   ],
   "source": [
    "df2['b'] #选择b列 返回series"
   ]
  },
  {
   "cell_type": "code",
   "execution_count": 87,
   "id": "c4252de1-f199-4b3c-a553-a8f53a5b72ef",
   "metadata": {},
   "outputs": [
    {
     "data": {
      "text/html": [
       "<div>\n",
       "<style scoped>\n",
       "    .dataframe tbody tr th:only-of-type {\n",
       "        vertical-align: middle;\n",
       "    }\n",
       "\n",
       "    .dataframe tbody tr th {\n",
       "        vertical-align: top;\n",
       "    }\n",
       "\n",
       "    .dataframe thead th {\n",
       "        text-align: right;\n",
       "    }\n",
       "</style>\n",
       "<table border=\"1\" class=\"dataframe\">\n",
       "  <thead>\n",
       "    <tr style=\"text-align: right;\">\n",
       "      <th></th>\n",
       "      <th>a</th>\n",
       "      <th>b</th>\n",
       "    </tr>\n",
       "  </thead>\n",
       "  <tbody>\n",
       "    <tr>\n",
       "      <th>0</th>\n",
       "      <td>1</td>\n",
       "      <td>2</td>\n",
       "    </tr>\n",
       "    <tr>\n",
       "      <th>1</th>\n",
       "      <td>3</td>\n",
       "      <td>4</td>\n",
       "    </tr>\n",
       "  </tbody>\n",
       "</table>\n",
       "</div>"
      ],
      "text/plain": [
       "   a  b\n",
       "0  1  2\n",
       "1  3  4"
      ]
     },
     "execution_count": 87,
     "metadata": {},
     "output_type": "execute_result"
    }
   ],
   "source": [
    "df2[['a','b']] # 选取两列"
   ]
  },
  {
   "cell_type": "code",
   "execution_count": 17,
   "id": "f636daab-6b76-4163-8a82-b8b008cdf1b6",
   "metadata": {},
   "outputs": [
    {
     "data": {
      "text/html": [
       "<div>\n",
       "<style scoped>\n",
       "    .dataframe tbody tr th:only-of-type {\n",
       "        vertical-align: middle;\n",
       "    }\n",
       "\n",
       "    .dataframe tbody tr th {\n",
       "        vertical-align: top;\n",
       "    }\n",
       "\n",
       "    .dataframe thead th {\n",
       "        text-align: right;\n",
       "    }\n",
       "</style>\n",
       "<table border=\"1\" class=\"dataframe\">\n",
       "  <thead>\n",
       "    <tr style=\"text-align: right;\">\n",
       "      <th></th>\n",
       "      <th>a</th>\n",
       "      <th>b</th>\n",
       "    </tr>\n",
       "  </thead>\n",
       "  <tbody>\n",
       "    <tr>\n",
       "      <th>0</th>\n",
       "      <td>1</td>\n",
       "      <td>2</td>\n",
       "    </tr>\n",
       "  </tbody>\n",
       "</table>\n",
       "</div>"
      ],
      "text/plain": [
       "   a  b\n",
       "0  1  2"
      ]
     },
     "execution_count": 17,
     "metadata": {},
     "output_type": "execute_result"
    }
   ],
   "source": [
    "df2[[True,False]] # 布尔索引是按行来索引的"
   ]
  },
  {
   "cell_type": "code",
   "execution_count": 56,
   "id": "21a1346f-26da-4187-a8d0-2322626477ba",
   "metadata": {},
   "outputs": [
    {
     "data": {
      "text/html": [
       "<div>\n",
       "<style scoped>\n",
       "    .dataframe tbody tr th:only-of-type {\n",
       "        vertical-align: middle;\n",
       "    }\n",
       "\n",
       "    .dataframe tbody tr th {\n",
       "        vertical-align: top;\n",
       "    }\n",
       "\n",
       "    .dataframe thead th {\n",
       "        text-align: right;\n",
       "    }\n",
       "</style>\n",
       "<table border=\"1\" class=\"dataframe\">\n",
       "  <thead>\n",
       "    <tr style=\"text-align: right;\">\n",
       "      <th></th>\n",
       "      <th>a</th>\n",
       "      <th>b</th>\n",
       "    </tr>\n",
       "  </thead>\n",
       "  <tbody>\n",
       "    <tr>\n",
       "      <th>0</th>\n",
       "      <td>1</td>\n",
       "      <td>2</td>\n",
       "    </tr>\n",
       "  </tbody>\n",
       "</table>\n",
       "</div>"
      ],
      "text/plain": [
       "   a  b\n",
       "0  1  2"
      ]
     },
     "execution_count": 56,
     "metadata": {},
     "output_type": "execute_result"
    }
   ],
   "source": [
    "df2[0:1] # 选取索引0-1 不包含1 "
   ]
  },
  {
   "cell_type": "code",
   "execution_count": 18,
   "id": "b87ce41e-5f53-4b13-851a-0afdc7276abe",
   "metadata": {},
   "outputs": [
    {
     "data": {
      "text/html": [
       "<div>\n",
       "<style scoped>\n",
       "    .dataframe tbody tr th:only-of-type {\n",
       "        vertical-align: middle;\n",
       "    }\n",
       "\n",
       "    .dataframe tbody tr th {\n",
       "        vertical-align: top;\n",
       "    }\n",
       "\n",
       "    .dataframe thead th {\n",
       "        text-align: right;\n",
       "    }\n",
       "</style>\n",
       "<table border=\"1\" class=\"dataframe\">\n",
       "  <thead>\n",
       "    <tr style=\"text-align: right;\">\n",
       "      <th></th>\n",
       "      <th>a</th>\n",
       "      <th>b</th>\n",
       "    </tr>\n",
       "  </thead>\n",
       "  <tbody>\n",
       "    <tr>\n",
       "      <th>0</th>\n",
       "      <td>1</td>\n",
       "      <td>2</td>\n",
       "    </tr>\n",
       "  </tbody>\n",
       "</table>\n",
       "</div>"
      ],
      "text/plain": [
       "   a  b\n",
       "0  1  2"
      ]
     },
     "execution_count": 18,
     "metadata": {},
     "output_type": "execute_result"
    }
   ],
   "source": [
    "###两个括号就是维持原来的dim. 如果一个括号就会降维。 但是也要注意本身括号里的是不是一个list-like\n",
    "\n",
    "df2[ df2['a']>2 ]\n",
    "\n",
    "df2[ (df2['a']>0) & (df2['b']>0) ]#如果两个条件要加括号\n",
    "\n",
    "df2[ ~(df2['a']>2)] #取反也要记得加括号"
   ]
  },
  {
   "cell_type": "code",
   "execution_count": 19,
   "id": "ea7d6a57-c54a-4977-b2ea-a4249c00d79f",
   "metadata": {},
   "outputs": [
    {
     "data": {
      "text/html": [
       "<div>\n",
       "<style scoped>\n",
       "    .dataframe tbody tr th:only-of-type {\n",
       "        vertical-align: middle;\n",
       "    }\n",
       "\n",
       "    .dataframe tbody tr th {\n",
       "        vertical-align: top;\n",
       "    }\n",
       "\n",
       "    .dataframe thead th {\n",
       "        text-align: right;\n",
       "    }\n",
       "</style>\n",
       "<table border=\"1\" class=\"dataframe\">\n",
       "  <thead>\n",
       "    <tr style=\"text-align: right;\">\n",
       "      <th></th>\n",
       "      <th>a</th>\n",
       "      <th>b</th>\n",
       "    </tr>\n",
       "  </thead>\n",
       "  <tbody>\n",
       "    <tr>\n",
       "      <th>A</th>\n",
       "      <td>1</td>\n",
       "      <td>2</td>\n",
       "    </tr>\n",
       "    <tr>\n",
       "      <th>B</th>\n",
       "      <td>3</td>\n",
       "      <td>4</td>\n",
       "    </tr>\n",
       "  </tbody>\n",
       "</table>\n",
       "</div>"
      ],
      "text/plain": [
       "   a  b\n",
       "A  1  2\n",
       "B  3  4"
      ]
     },
     "execution_count": 19,
     "metadata": {},
     "output_type": "execute_result"
    }
   ],
   "source": [
    "df3 = pd.DataFrame([\n",
    "    [1,2],\n",
    "    [3,4]\n",
    "],columns=['a','b'],index=['A','B'])\n",
    "df3"
   ]
  },
  {
   "cell_type": "code",
   "execution_count": 20,
   "id": "299c591a-4821-4c5d-b4ed-4e950e276fe5",
   "metadata": {},
   "outputs": [
    {
     "data": {
      "text/html": [
       "<div>\n",
       "<style scoped>\n",
       "    .dataframe tbody tr th:only-of-type {\n",
       "        vertical-align: middle;\n",
       "    }\n",
       "\n",
       "    .dataframe tbody tr th {\n",
       "        vertical-align: top;\n",
       "    }\n",
       "\n",
       "    .dataframe thead th {\n",
       "        text-align: right;\n",
       "    }\n",
       "</style>\n",
       "<table border=\"1\" class=\"dataframe\">\n",
       "  <thead>\n",
       "    <tr style=\"text-align: right;\">\n",
       "      <th></th>\n",
       "      <th>a</th>\n",
       "      <th>b</th>\n",
       "    </tr>\n",
       "  </thead>\n",
       "  <tbody>\n",
       "    <tr>\n",
       "      <th>A</th>\n",
       "      <td>1</td>\n",
       "      <td>2</td>\n",
       "    </tr>\n",
       "    <tr>\n",
       "      <th>B</th>\n",
       "      <td>3</td>\n",
       "      <td>4</td>\n",
       "    </tr>\n",
       "  </tbody>\n",
       "</table>\n",
       "</div>"
      ],
      "text/plain": [
       "   a  b\n",
       "A  1  2\n",
       "B  3  4"
      ]
     },
     "execution_count": 20,
     "metadata": {},
     "output_type": "execute_result"
    }
   ],
   "source": [
    "df3['A':'B'] # 如果不是数字索引，那么是两端都包含"
   ]
  },
  {
   "cell_type": "code",
   "execution_count": 89,
   "id": "1dca3dbd-92a2-4755-956e-b48e98674087",
   "metadata": {},
   "outputs": [],
   "source": [
    "## df[[col1]]和df[col1]结果都是一列 但是他们两性质不一样  前者还是返回dataframe 后者是series"
   ]
  },
  {
   "cell_type": "markdown",
   "id": "88b6bb15-a465-468d-9d95-bf462bb9c7aa",
   "metadata": {
    "tags": []
   },
   "source": [
    "# 数据存储与读取"
   ]
  },
  {
   "cell_type": "markdown",
   "id": "3c61eb04-31e9-445a-9c6e-d78310a60996",
   "metadata": {
    "tags": []
   },
   "source": [
    "## CSV"
   ]
  },
  {
   "cell_type": "markdown",
   "id": "c165b5d6-d11e-4cf1-857d-f27c291e8516",
   "metadata": {
    "tags": []
   },
   "source": [
    "### read_csv()"
   ]
  },
  {
   "cell_type": "raw",
   "id": "63c54db5-cf17-49a7-9899-ba4a6bfc227e",
   "metadata": {},
   "source": [
    "pd.read_csv(filepath_or_buffer, sep=NoDefault.no_default, delimiter=None, header='infer', names=NoDefault.no_default, index_col=None, usecols=None, squeeze=False, prefix=NoDefault.no_default, mangle_dupe_cols=True, dtype=None, engine=None, converters=None, true_values=None, false_values=None, skipinitialspace=False, skiprows=None, skipfooter=0, nrows=None, na_values=None, keep_default_na=True, na_filter=True, verbose=False, skip_blank_lines=True, parse_dates=False, infer_datetime_format=False, keep_date_col=False, date_parser=None, dayfirst=False, cache_dates=True, iterator=False, chunksize=None, compression='infer', thousands=None, decimal='.', lineterminator=None, quotechar='\"', quoting=0, doublequote=True, escapechar=None, comment=None, encoding=None, encoding_errors='strict', dialect=None, error_bad_lines=None, warn_bad_lines=None, on_bad_lines=None, delim_whitespace=False, low_memory=True, memory_map=False, float_precision=None, storage_options=None)"
   ]
  },
  {
   "cell_type": "raw",
   "id": "0e5eccb6-a3cb-438d-a3d1-0f64a03e944c",
   "metadata": {},
   "source": [
    "# 常用\n",
    "- filepath_or_buffer 可以是文件路径也可以是url\n",
    "- encoding 一般使用utf-8，如果是平台的bom格式，使用utf-8-sig\n",
    "- index_col 指定索引列\n",
    "- usecols 一般用来指定列的范围\n",
    "- dtype 用于指定列的数值类型"
   ]
  },
  {
   "cell_type": "code",
   "execution_count": 41,
   "id": "e7a856a9-427e-4c9c-bc66-75fb93a25f01",
   "metadata": {
    "tags": []
   },
   "outputs": [
    {
     "data": {
      "text/html": [
       "<div>\n",
       "<style scoped>\n",
       "    .dataframe tbody tr th:only-of-type {\n",
       "        vertical-align: middle;\n",
       "    }\n",
       "\n",
       "    .dataframe tbody tr th {\n",
       "        vertical-align: top;\n",
       "    }\n",
       "\n",
       "    .dataframe thead th {\n",
       "        text-align: right;\n",
       "    }\n",
       "</style>\n",
       "<table border=\"1\" class=\"dataframe\">\n",
       "  <thead>\n",
       "    <tr style=\"text-align: right;\">\n",
       "      <th></th>\n",
       "      <th>csv_batch_id</th>\n",
       "      <th>project_id</th>\n",
       "      <th>lang</th>\n",
       "      <th>file_id</th>\n",
       "      <th>session_id</th>\n",
       "      <th>person_info_id</th>\n",
       "      <th>audio_url</th>\n",
       "      <th>origin_duration</th>\n",
       "      <th>pre_content_text</th>\n",
       "      <th>pre_audio_type</th>\n",
       "      <th>pre_regions</th>\n",
       "    </tr>\n",
       "  </thead>\n",
       "  <tbody>\n",
       "    <tr>\n",
       "      <th>0</th>\n",
       "      <td>350</td>\n",
       "      <td>3532</td>\n",
       "      <td>Urdu</td>\n",
       "      <td>18060742</td>\n",
       "      <td>115928</td>\n",
       "      <td>3374</td>\n",
       "      <td>appen://3532_Ake__URD_IND/Staging/AMR_DATA/Ake...</td>\n",
       "      <td>5.4</td>\n",
       "      <td>تم کو عضو کا استعمال کب سے جانتے ہو</td>\n",
       "      <td>TYKY</td>\n",
       "      <td>[{\"start\": 1.405, \"end\": 4.805}]</td>\n",
       "    </tr>\n",
       "  </tbody>\n",
       "</table>\n",
       "</div>"
      ],
      "text/plain": [
       "   csv_batch_id  project_id  lang   file_id  session_id  person_info_id  \\\n",
       "0           350        3532  Urdu  18060742      115928            3374   \n",
       "\n",
       "                                           audio_url  origin_duration  \\\n",
       "0  appen://3532_Ake__URD_IND/Staging/AMR_DATA/Ake...              5.4   \n",
       "\n",
       "                      pre_content_text pre_audio_type  \\\n",
       "0  تم کو عضو کا استعمال کب سے جانتے ہو           TYKY   \n",
       "\n",
       "                        pre_regions  \n",
       "0  [{\"start\": 1.405, \"end\": 4.805}]  "
      ]
     },
     "execution_count": 41,
     "metadata": {},
     "output_type": "execute_result"
    }
   ],
   "source": [
    "df = pd.read_csv(\"http://appen-pe.oss-cn-shanghai.aliyuncs.com/example_data/pandas_kt/350_0af71498f139412cb602f67a18371098.csv\",encoding='utf-8-sig')\n",
    "#df.info()\n",
    "df.head(1)"
   ]
  },
  {
   "cell_type": "code",
   "execution_count": 36,
   "id": "5c0617cd-69a8-4c57-b8a7-80a9b46044e0",
   "metadata": {},
   "outputs": [
    {
     "data": {
      "text/plain": [
       "{'csv_batch_id': 350,\n",
       " 'project_id': 3532,\n",
       " 'lang': 'Urdu',\n",
       " 'session_id': 115928,\n",
       " 'person_info_id': 3374,\n",
       " 'audio_url': 'appen://3532_Ake__URD_IND/Staging/AMR_DATA/Ake_0Urdu_URD_IND_URD24071_20220111-060628/Ake_0Urdu_URD_IND_URD24071_20220111-060628_0056_RDTYKY000480_01.wav',\n",
       " 'origin_duration': 5.4,\n",
       " 'pre_content_text': 'تم کو عضو کا استعمال کب سے جانتے ہو',\n",
       " 'pre_audio_type': 'TYKY',\n",
       " 'pre_regions': '[{\"start\": 1.405, \"end\": 4.805}]'}"
      ]
     },
     "execution_count": 36,
     "metadata": {},
     "output_type": "execute_result"
    }
   ],
   "source": [
    "df = pd.read_csv(\"http://appen-pe.oss-cn-shanghai.aliyuncs.com/example_data/pandas_kt/350_0af71498f139412cb602f67a18371098.csv\",\n",
    "                 index_col = \"file_id\",\n",
    "                 encoding='utf-8-sig')\n",
    "df.loc[18060742]  # loc by index\n",
    "# 被设置成index 将不在输出字段内\n",
    "df.loc[18060742].to_dict()"
   ]
  },
  {
   "cell_type": "code",
   "execution_count": 40,
   "id": "17e9dd1c-ae06-43d8-88e8-fd3f48d661d4",
   "metadata": {},
   "outputs": [
    {
     "data": {
      "text/html": [
       "<div>\n",
       "<style scoped>\n",
       "    .dataframe tbody tr th:only-of-type {\n",
       "        vertical-align: middle;\n",
       "    }\n",
       "\n",
       "    .dataframe tbody tr th {\n",
       "        vertical-align: top;\n",
       "    }\n",
       "\n",
       "    .dataframe thead th {\n",
       "        text-align: right;\n",
       "    }\n",
       "</style>\n",
       "<table border=\"1\" class=\"dataframe\">\n",
       "  <thead>\n",
       "    <tr style=\"text-align: right;\">\n",
       "      <th></th>\n",
       "      <th>project_id</th>\n",
       "      <th>lang</th>\n",
       "    </tr>\n",
       "  </thead>\n",
       "  <tbody>\n",
       "    <tr>\n",
       "      <th>0</th>\n",
       "      <td>3532</td>\n",
       "      <td>Urdu</td>\n",
       "    </tr>\n",
       "  </tbody>\n",
       "</table>\n",
       "</div>"
      ],
      "text/plain": [
       "   project_id  lang\n",
       "0        3532  Urdu"
      ]
     },
     "execution_count": 40,
     "metadata": {},
     "output_type": "execute_result"
    }
   ],
   "source": [
    "df = pd.read_csv(\"http://appen-pe.oss-cn-shanghai.aliyuncs.com/example_data/pandas_kt/350_0af71498f139412cb602f67a18371098.csv\",\n",
    "                 usecols= [\"project_id\",\"lang\"],\n",
    "                 encoding='utf-8-sig')\n",
    "df.head(1)"
   ]
  },
  {
   "cell_type": "markdown",
   "id": "0fbdc87b-a922-4ae6-8f02-0d7e0cb5ef8a",
   "metadata": {},
   "source": [
    "### 扩展dtypes"
   ]
  },
  {
   "cell_type": "markdown",
   "id": "757f3ed9-8277-44c4-836c-8b5acf44a5af",
   "metadata": {},
   "source": [
    "#### 默认"
   ]
  },
  {
   "cell_type": "code",
   "execution_count": 42,
   "id": "fdc5264d-04d4-4980-84fc-e88cdfa219f3",
   "metadata": {},
   "outputs": [
    {
     "data": {
      "text/plain": [
       "csv_batch_id          int64\n",
       "project_id            int64\n",
       "lang                 object\n",
       "file_id               int64\n",
       "session_id            int64\n",
       "person_info_id        int64\n",
       "audio_url            object\n",
       "origin_duration     float64\n",
       "pre_content_text     object\n",
       "pre_audio_type       object\n",
       "pre_regions          object\n",
       "dtype: object"
      ]
     },
     "execution_count": 42,
     "metadata": {},
     "output_type": "execute_result"
    }
   ],
   "source": [
    "df = pd.read_csv(\"http://appen-pe.oss-cn-shanghai.aliyuncs.com/example_data/pandas_kt/350_0af71498f139412cb602f67a18371098.csv\",\n",
    "                 encoding='utf-8-sig')\n",
    "df.dtypes"
   ]
  },
  {
   "cell_type": "code",
   "execution_count": 60,
   "id": "d8f5f900-7daf-49e9-934a-04acd14f1261",
   "metadata": {},
   "outputs": [
    {
     "data": {
      "text/plain": [
       "text_content    object\n",
       "flag             int64\n",
       "dtype: object"
      ]
     },
     "execution_count": 60,
     "metadata": {},
     "output_type": "execute_result"
    }
   ],
   "source": [
    "df = pd.read_csv(\"http://appen-pe.oss-cn-shanghai.aliyuncs.com/example_data/pandas_kt/string_test.csv\")\n",
    "df ## pandas会自动判断类型，可以指定类型\n",
    "df.dtypes"
   ]
  },
  {
   "cell_type": "markdown",
   "id": "0f9bd0bc-3fea-4d09-ac0a-2c6fed513dcd",
   "metadata": {
    "tags": []
   },
   "source": [
    "#### 根据值做可能转换"
   ]
  },
  {
   "cell_type": "code",
   "execution_count": 85,
   "id": "3e5f3c7a-7040-4276-a866-d90534079ee7",
   "metadata": {},
   "outputs": [
    {
     "data": {
      "text/plain": [
       "text_content    string\n",
       "flag             Int64\n",
       "full_text       string\n",
       "dtype: object"
      ]
     },
     "execution_count": 85,
     "metadata": {},
     "output_type": "execute_result"
    }
   ],
   "source": [
    "df = pd.read_csv(\"http://appen-pe.oss-cn-shanghai.aliyuncs.com/example_data/pandas_kt/string_test.csv\")\n",
    "df =df.convert_dtypes()\n",
    "df.dtypes # object被转成了string"
   ]
  },
  {
   "cell_type": "markdown",
   "id": "14c7a4f7-7bc2-4e93-a373-95c70d58f18f",
   "metadata": {},
   "source": [
    "#### 几种str转换类型的比较"
   ]
  },
  {
   "cell_type": "code",
   "execution_count": 111,
   "id": "c1878a14-8ea6-4f83-85d4-8c89db488efd",
   "metadata": {},
   "outputs": [
    {
     "data": {
      "text/plain": [
       "0       a\n",
       "1       b\n",
       "2       1\n",
       "3    <NA>\n",
       "dtype: string"
      ]
     },
     "execution_count": 111,
     "metadata": {},
     "output_type": "execute_result"
    }
   ],
   "source": [
    "sr = pd.Series([\"a\",\"b\",1,None],dtype=\"string\")\n",
    "#sr[3] is None #False\n",
    "sr # 类型已被强转了"
   ]
  },
  {
   "cell_type": "code",
   "execution_count": 3,
   "id": "4533e19d-8885-4f10-8287-203ef079debc",
   "metadata": {},
   "outputs": [
    {
     "data": {
      "text/plain": [
       "0       a\n",
       "1       b\n",
       "2       1\n",
       "3    None\n",
       "dtype: string"
      ]
     },
     "execution_count": 3,
     "metadata": {},
     "output_type": "execute_result"
    }
   ],
   "source": [
    "#string类型是后来加上的，注意版本的兼容性 如果是老版本需要。否则会类型报错\n",
    "## 老版本要按这个例子来使用\n",
    "sr3 = pd.Series([\"a\",\"b\",1,None]).astype(\"str\").astype(\"string\")  # 注意也可以直接用\n",
    "sr3  # 如果原来是None转换的时候会保留\n",
    "\n",
    "#sr3.isnull() # 全False\n",
    "#sr3.notnull() # 全True\n",
    "sr3 # 所以isnull和notnull只是针对pd自己的NaN类型\n",
    "#type(sr3[3]) # str"
   ]
  },
  {
   "cell_type": "markdown",
   "id": "5b2cf3ba-e8d3-4233-a28e-fc58c72da99e",
   "metadata": {},
   "source": [
    "#### 从文件读取，没有None.在读取的时候就指定dtype,"
   ]
  },
  {
   "cell_type": "code",
   "execution_count": 4,
   "id": "85ed5182-bc0e-4f0d-9dcd-afbffe913357",
   "metadata": {},
   "outputs": [
    {
     "data": {
      "text/plain": [
       "text_content    string\n",
       "flag            object\n",
       "full_text       object\n",
       "dtype: object"
      ]
     },
     "execution_count": 4,
     "metadata": {},
     "output_type": "execute_result"
    }
   ],
   "source": [
    "df = pd.read_csv(\"http://appen-pe.oss-cn-shanghai.aliyuncs.com/example_data/pandas_kt/string_test.csv\",\n",
    "                dtype={\"flag\":str,\"text_content\":\"string\"})\n",
    "df.dtypes ## 注意text_content是str类型"
   ]
  },
  {
   "cell_type": "code",
   "execution_count": 5,
   "id": "c690a953-07d7-4873-8884-b9c19567666e",
   "metadata": {},
   "outputs": [
    {
     "data": {
      "text/plain": [
       "0                              this is a test line one\n",
       "1    this is a test line two, this is a test line t...\n",
       "2                                                 <NA>\n",
       "3                                                 <NA>\n",
       "Name: text_content, dtype: string"
      ]
     },
     "execution_count": 5,
     "metadata": {},
     "output_type": "execute_result"
    }
   ],
   "source": [
    "df[\"text_content\"] "
   ]
  },
  {
   "cell_type": "markdown",
   "id": "c9d1cbf9-8c73-430a-89a6-3e5f01790521",
   "metadata": {
    "tags": []
   },
   "source": [
    "#### 使用dtype事前和 astype时候转换的区别"
   ]
  },
  {
   "cell_type": "code",
   "execution_count": 6,
   "id": "4c277d6a-fffd-4a77-9c66-c373a3b1fd28",
   "metadata": {},
   "outputs": [
    {
     "data": {
      "text/plain": [
       "True"
      ]
     },
     "execution_count": 6,
     "metadata": {},
     "output_type": "execute_result"
    }
   ],
   "source": [
    "df = pd.read_csv(\"http://appen-pe.oss-cn-shanghai.aliyuncs.com/example_data/pandas_kt/string_test.csv\",\n",
    "                dtype={\"flag\":str,\"text_content\":\"str\"})\n",
    "df[\"text_content\"][2] is np.nan # True"
   ]
  },
  {
   "cell_type": "code",
   "execution_count": 7,
   "id": "1bc10085-dbdd-4b03-aa1a-9befefdd97ae",
   "metadata": {},
   "outputs": [
    {
     "data": {
      "text/plain": [
       "True"
      ]
     },
     "execution_count": 7,
     "metadata": {},
     "output_type": "execute_result"
    }
   ],
   "source": [
    "# 注意!! 如果事后再转换类型，会把NaN改成文本类型,注意astype的问题\n",
    "df = pd.read_csv(\"http://appen-pe.oss-cn-shanghai.aliyuncs.com/example_data/pandas_kt/string_test.csv\")\n",
    "df[\"text_content\"] = df[\"text_content\"].astype(\"str\") # 如果事后再转换类型，会强转字符串类型\n",
    "df[\"text_content\"][2] =='nan' # True"
   ]
  },
  {
   "cell_type": "code",
   "execution_count": 8,
   "id": "f74929d0-3b5b-4024-ac5f-1eed79af9f57",
   "metadata": {},
   "outputs": [
    {
     "data": {
      "text/html": [
       "<div>\n",
       "<style scoped>\n",
       "    .dataframe tbody tr th:only-of-type {\n",
       "        vertical-align: middle;\n",
       "    }\n",
       "\n",
       "    .dataframe tbody tr th {\n",
       "        vertical-align: top;\n",
       "    }\n",
       "\n",
       "    .dataframe thead th {\n",
       "        text-align: right;\n",
       "    }\n",
       "</style>\n",
       "<table border=\"1\" class=\"dataframe\">\n",
       "  <thead>\n",
       "    <tr style=\"text-align: right;\">\n",
       "      <th></th>\n",
       "      <th>text_content</th>\n",
       "      <th>flag</th>\n",
       "      <th>full_text</th>\n",
       "    </tr>\n",
       "  </thead>\n",
       "  <tbody>\n",
       "    <tr>\n",
       "      <th>0</th>\n",
       "      <td>this is a test line one</td>\n",
       "      <td>0</td>\n",
       "      <td>abc</td>\n",
       "    </tr>\n",
       "    <tr>\n",
       "      <th>1</th>\n",
       "      <td>this is a test line two, this is a test line t...</td>\n",
       "      <td>2</td>\n",
       "      <td>efg</td>\n",
       "    </tr>\n",
       "    <tr>\n",
       "      <th>2</th>\n",
       "      <td>None</td>\n",
       "      <td>3</td>\n",
       "      <td>dd</td>\n",
       "    </tr>\n",
       "    <tr>\n",
       "      <th>3</th>\n",
       "      <td>None</td>\n",
       "      <td>4</td>\n",
       "      <td>cc</td>\n",
       "    </tr>\n",
       "  </tbody>\n",
       "</table>\n",
       "</div>"
      ],
      "text/plain": [
       "                                        text_content  flag full_text\n",
       "0                            this is a test line one     0       abc\n",
       "1  this is a test line two, this is a test line t...     2       efg\n",
       "2                                               None     3        dd\n",
       "3                                               None     4        cc"
      ]
     },
     "execution_count": 8,
     "metadata": {},
     "output_type": "execute_result"
    }
   ],
   "source": [
    "df = pd.read_csv(\"http://appen-pe.oss-cn-shanghai.aliyuncs.com/example_data/pandas_kt/string_test.csv\")\n",
    "df = df.where(df.notnull(), None)\n",
    "df"
   ]
  },
  {
   "cell_type": "markdown",
   "id": "7ed5b980-a18b-434d-bb40-44ce57330141",
   "metadata": {
    "tags": []
   },
   "source": [
    "### to_csv()"
   ]
  },
  {
   "cell_type": "code",
   "execution_count": 9,
   "id": "b6b1cbb5-4af9-4510-bfe4-81b5b9318e77",
   "metadata": {},
   "outputs": [],
   "source": [
    "df.to_csv(\n",
    "    \"test_01.csv\",\n",
    "    sep=\",\",#默认\n",
    "    encoding='utf-8-sig', # 默认'utf-8'，\n",
    "    index=False # 默认是true, 一般记得要加\n",
    ")"
   ]
  },
  {
   "cell_type": "markdown",
   "id": "9baeae52-63cc-4806-b0fd-50856aaae4ff",
   "metadata": {
    "tags": []
   },
   "source": [
    "## Excel"
   ]
  },
  {
   "cell_type": "markdown",
   "id": "963575c2-fd4f-48d6-a437-610ee6daee81",
   "metadata": {},
   "source": [
    "### read_excel()"
   ]
  },
  {
   "cell_type": "code",
   "execution_count": null,
   "id": "a24d8ca4-c39d-47c1-a973-a1037fcb8a76",
   "metadata": {},
   "outputs": [],
   "source": [
    "pd.read_excel(\n",
    "    io,\"io 路径或者url\"\n",
    "    sheet_name=0,\"默认是第一个sheet  可以是int,str,list,None None是全部 list和None返回的是字典\"\n",
    "    header=0,\"默认第一行，列索引 如果没有表头，指定header=None\"\n",
    "    index_col=None,'默认没有'\n",
    "    usecols=None,\"默认拿出所有的列, 几种方式A:C, A,C [0,2] ['AAA','CCC] lambda i:i=='AAA' \"\n",
    "    skiprows=None, #跳过行 skiprows=1跳过的行数，或者 shiprows=[0,2]，\n",
    "    names = ['a','b','c'] # header是None的时候，指定names,否则会替换掉第一行的数据。\n",
    "    dtype={'a':'str'}# 注意都是字符串\n",
    "    parse_dates=False # True 尝试解析 [0,1] [[0,1,2]] ['a','b']\n",
    "    date_parser=None #function 日期解析函数 为None的时候会使用内部的解析器解析.\n",
    "    na_values = None,#'a' #'NA' ['NA','#NA','0',0],\n",
    "    converters=None #{\"a\":lambda i:i+1},\n",
    "    mangle_dupe_cols=True,\"默认允许重复并且会重命名重复的列 不能设置成False 还不支持\" \n",
    ")"
   ]
  },
  {
   "cell_type": "code",
   "execution_count": 11,
   "id": "cb2af7d0-62d2-45c6-ba2e-0bc505072a55",
   "metadata": {},
   "outputs": [],
   "source": [
    "# excel_df = pd.read_excel(\"http://appen-pe.oss-cn-shanghai.aliyuncs.com/example_data/pandas_kt/email_update.xlsx\")\n",
    "# excel_df.head()\n",
    "# 如果要读excel 需要安装 xlrd和xlwt"
   ]
  },
  {
   "cell_type": "code",
   "execution_count": 12,
   "id": "0d6e7523-5f94-47a5-baec-bb067e6fc63c",
   "metadata": {},
   "outputs": [],
   "source": [
    "#df = pd.read_excel(\"test.xlsx\", sheet_name=[\"Sheet1\", \"Sheet3\"]) 可以一次获取多个sheet"
   ]
  },
  {
   "cell_type": "markdown",
   "id": "7d0dadcb-2843-4e3a-8ee3-de1f4610d7ae",
   "metadata": {},
   "source": [
    "### to_excel()"
   ]
  },
  {
   "cell_type": "raw",
   "id": "cc9a960f-2c65-48b0-a262-547873917f3a",
   "metadata": {},
   "source": [
    "df.to_excel(\n",
    "    excel_writer,# 文件目录名\n",
    "    sheet_name='Sheet1',\n",
    "    index=False,\n",
    "    na_rep='' # 缺失值的表示方式\n",
    ")"
   ]
  },
  {
   "cell_type": "raw",
   "id": "7e99f148-4b36-43db-bffc-97c0bb02866e",
   "metadata": {},
   "source": [
    "### 如果要讲多个dataframe写入到不同的sheet\n",
    "with pd.ExcelWriter(\"test.xlsx\") as wt:\n",
    "    df1.to_excel(sheet_name=\"sheet1\")\n",
    "    df2.to_excel(sheet_name=\"sheet2\")"
   ]
  },
  {
   "cell_type": "raw",
   "id": "51654017-c6da-46cb-8dd9-e5efc00b2dc5",
   "metadata": {},
   "source": [
    "## 添加新的数据\n",
    "df3 = df1.copy()\n",
    "with pd.ExcelWriter('output.xlsx', mode=\"a\", engine=\"openpyxl\") as writer:\n",
    "    df3.to_excel(writer, sheet_name='Sheet_name_3_3_3')"
   ]
  },
  {
   "cell_type": "markdown",
   "id": "68f27345-72e1-4e55-8dc2-2f0e6ab100b8",
   "metadata": {},
   "source": [
    "## SQL"
   ]
  },
  {
   "cell_type": "code",
   "execution_count": null,
   "id": "5b727e78-a30e-42cb-aba3-56d807b522d8",
   "metadata": {},
   "outputs": [],
   "source": [
    "import psycopg2\n",
    "conn = psycopg2.connect(host=RDS_DATA_DB_HOST, user=RDS_DATA_DB_USER,\n",
    "                            password=RDS_DATA_DB_PSW, database=RDS_DATA_DB_NAME,\n",
    "                                port=RDS_DATA_DB_PORT)"
   ]
  },
  {
   "cell_type": "markdown",
   "id": "b66bb035-422a-48d0-a9a8-e0bdfad987f4",
   "metadata": {},
   "source": [
    "### read_sql()"
   ]
  },
  {
   "cell_type": "code",
   "execution_count": null,
   "id": "9a5c7c7a-05d2-4f57-bba3-68ff051d4b04",
   "metadata": {},
   "outputs": [],
   "source": [
    "pd.read_sql(sql, conn)"
   ]
  },
  {
   "cell_type": "markdown",
   "id": "fe603141-1fd6-4729-a8fa-1e8cef18c62f",
   "metadata": {
    "tags": []
   },
   "source": [
    "### to_sql()"
   ]
  },
  {
   "cell_type": "raw",
   "id": "dd663a6f-314f-4b4a-95f9-e685e252d42b",
   "metadata": {},
   "source": [
    "DataFrame.to_sql(name, con, schema=None, if_exists='fail', index=True, index_label=None, chunksize=None, dtype=None, method=None)"
   ]
  },
  {
   "cell_type": "code",
   "execution_count": null,
   "id": "8572ed13-e08e-4320-8426-405cc7f786a8",
   "metadata": {},
   "outputs": [],
   "source": [
    "engine = create_engine(\n",
    "        f'postgresql+psycopg2://{RDS_DATA_DB_USER}:{RDS_DATA_DB_PSW}@{RDS_DATA_DB_HOST}:{RDS_DATA_DB_PORT}/{RDS_DATA_DB_NAME}',\n",
    "        poolclass=NullPool,\n",
    "        connect_args={'connect_timeout': 30}\n",
    "    )\n",
    "\n",
    "df.to_sql('nums', con=engine,index=False,if_exists=\"append\") # nums是表名，con\n",
    "### 实际的工作中，尽量使用appen 不要使用replace,或者fail"
   ]
  },
  {
   "cell_type": "raw",
   "id": "02bfbf60-cc49-45fc-b8c8-b2334acceb1f",
   "metadata": {},
   "source": [
    "if_exists\n",
    " - fail\n",
    " - append # 不存在会创建新的\n",
    " - replace # 慎用，会清空原有数据\n",
    "\n",
    "method{None, ‘multi’, callable}, optional\n",
    "Controls the SQL insertion clause used:\n",
    "None : Uses standard SQL INSERT clause (one per row).\n",
    "‘multi’: Pass multiple values in a single INSERT clause.\n",
    "\n",
    "默认的None有事务的作用吗"
   ]
  },
  {
   "cell_type": "code",
   "execution_count": null,
   "id": "8d8d996a-fae5-49ef-9370-40b7ae17806b",
   "metadata": {},
   "outputs": [],
   "source": []
  },
  {
   "cell_type": "markdown",
   "id": "4c20bb13-55d6-4a6d-b781-73e38827f1af",
   "metadata": {},
   "source": [
    "## Table"
   ]
  },
  {
   "cell_type": "markdown",
   "id": "cafe164d-008a-4548-89ac-e248f8398c8f",
   "metadata": {
    "tags": []
   },
   "source": [
    "### read_table()"
   ]
  },
  {
   "cell_type": "raw",
   "id": "149d07a6-b623-4ddb-8780-952f190a2fa0",
   "metadata": {},
   "source": [
    "df = pd.read_table(\"test.txt\", names = [\"col1\", \"col2\"], sep=' ')"
   ]
  },
  {
   "cell_type": "markdown",
   "id": "833ce9de-64f9-41ee-9fe8-27c91048ea19",
   "metadata": {
    "tags": []
   },
   "source": [
    "# 常用"
   ]
  },
  {
   "cell_type": "markdown",
   "id": "ee255ec0-558d-4926-be0c-472b18e7883b",
   "metadata": {},
   "source": [
    "## loc"
   ]
  },
  {
   "cell_type": "code",
   "execution_count": 65,
   "id": "e09f7483-4fa9-490d-9d4d-c225c2f9995d",
   "metadata": {},
   "outputs": [],
   "source": [
    "# df.loc[row_idx] # 选择一行\n",
    "# df.loc[row_idx,col_idx] #选择一个元素"
   ]
  },
  {
   "cell_type": "code",
   "execution_count": null,
   "id": "1bccf370-2ca0-49bc-a947-d269981f8925",
   "metadata": {},
   "outputs": [],
   "source": []
  }
 ],
 "metadata": {
  "kernelspec": {
   "display_name": "Python 3 (ipykernel)",
   "language": "python",
   "name": "python3"
  },
  "language_info": {
   "codemirror_mode": {
    "name": "ipython",
    "version": 3
   },
   "file_extension": ".py",
   "mimetype": "text/x-python",
   "name": "python",
   "nbconvert_exporter": "python",
   "pygments_lexer": "ipython3",
   "version": "3.7.11"
  },
  "toc-autonumbering": true
 },
 "nbformat": 4,
 "nbformat_minor": 5
}
