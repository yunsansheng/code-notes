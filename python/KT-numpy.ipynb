{
 "cells": [
  {
   "cell_type": "code",
   "execution_count": 1,
   "id": "7d2ef524-1380-438a-9669-3c2c953de036",
   "metadata": {},
   "outputs": [],
   "source": [
    "import numpy as np\n",
    "#ndarray高效的多维数组，便捷的算术功能和灵活的广播功能"
   ]
  },
  {
   "cell_type": "markdown",
   "id": "2554d101-2b48-4180-945c-a7eb02a97e77",
   "metadata": {
    "tags": []
   },
   "source": [
    "# ndarray"
   ]
  },
  {
   "cell_type": "code",
   "execution_count": 2,
   "id": "ce2c42c0-60c0-458e-9b16-6a1377d9f89c",
   "metadata": {},
   "outputs": [
    {
     "data": {
      "text/plain": [
       "array([ 0,  1,  2,  3,  4,  5,  6,  7,  8,  9, 10, 11, 12, 13, 14, 15, 16,\n",
       "       17, 18, 19, 20, 21, 22, 23, 24, 25, 26, 27, 28, 29, 30, 31, 32, 33,\n",
       "       34, 35, 36, 37, 38, 39, 40, 41, 42, 43, 44, 45, 46, 47, 48, 49, 50,\n",
       "       51, 52, 53, 54, 55, 56, 57, 58, 59, 60, 61, 62, 63, 64, 65, 66, 67,\n",
       "       68, 69, 70, 71, 72, 73, 74, 75, 76, 77, 78, 79, 80, 81, 82, 83, 84,\n",
       "       85, 86, 87, 88, 89, 90, 91, 92, 93, 94, 95, 96, 97, 98, 99])"
      ]
     },
     "execution_count": 2,
     "metadata": {},
     "output_type": "execute_result"
    }
   ],
   "source": [
    "np.arange(100) #numpy版本的 range 的ndarray\n",
    "#type(np.arange(100)) #numpy.ndarray"
   ]
  },
  {
   "cell_type": "code",
   "execution_count": 3,
   "id": "173cb69d-45d4-4f34-9d79-e49996a17258",
   "metadata": {},
   "outputs": [
    {
     "data": {
      "text/plain": [
       "array([[0.89199571, 0.51772726, 0.64159027],\n",
       "       [0.75270486, 0.32134083, 0.95337597]])"
      ]
     },
     "execution_count": 3,
     "metadata": {},
     "output_type": "execute_result"
    }
   ],
   "source": [
    "np.random.rand(2,3) #rand函数根据给定维度生成[0,1)之间的数据，包含0，不包含1"
   ]
  },
  {
   "cell_type": "code",
   "execution_count": 4,
   "id": "f9140848-1a6e-44f1-b1a4-f1de06fa5b10",
   "metadata": {},
   "outputs": [
    {
     "data": {
      "text/plain": [
       "array([[-0.075917  , -0.34828164, -0.64694155],\n",
       "       [ 0.29311645, -1.29848842,  0.26311527]])"
      ]
     },
     "execution_count": 4,
     "metadata": {},
     "output_type": "execute_result"
    }
   ],
   "source": [
    "np.random.randn(2,3) #返回一个或一组样本，具有标准正态分布。"
   ]
  },
  {
   "cell_type": "markdown",
   "id": "6bbb6e80-c7b7-4b04-85ed-98b61360d342",
   "metadata": {},
   "source": [
    "## np.array"
   ]
  },
  {
   "cell_type": "code",
   "execution_count": 12,
   "id": "2ca5d58a-c0b5-440f-a3c5-a315b7f53e75",
   "metadata": {},
   "outputs": [
    {
     "data": {
      "text/plain": [
       "1"
      ]
     },
     "execution_count": 12,
     "metadata": {},
     "output_type": "execute_result"
    }
   ],
   "source": [
    "arr = np.array([1,2,3])\n",
    "type(arr)  # numpy.ndarray\n",
    "arr.shape # (3,)\n",
    "arr.ndim # 1"
   ]
  },
  {
   "cell_type": "code",
   "execution_count": 18,
   "id": "58c0b422-66b1-4ad8-bf53-4bd4ea91d096",
   "metadata": {},
   "outputs": [
    {
     "data": {
      "text/plain": [
       "2"
      ]
     },
     "execution_count": 18,
     "metadata": {},
     "output_type": "execute_result"
    }
   ],
   "source": [
    "arr2 = np.random.rand(3,5)\n",
    "arr2.shape # (3, 5)\n",
    "arr2.ndim # 2"
   ]
  },
  {
   "cell_type": "code",
   "execution_count": 21,
   "id": "2152e9c7-1635-4f82-ac54-104894878734",
   "metadata": {},
   "outputs": [
    {
     "data": {
      "text/plain": [
       "3"
      ]
     },
     "execution_count": 21,
     "metadata": {},
     "output_type": "execute_result"
    }
   ],
   "source": [
    "arr3 = np.random.rand(3,5,2)\n",
    "arr3.shape # (3, 5, 2)\n",
    "arr3.ndim # 3"
   ]
  },
  {
   "cell_type": "code",
   "execution_count": 46,
   "id": "f563e3f9-201d-454f-8f4c-37cf568a275a",
   "metadata": {},
   "outputs": [
    {
     "data": {
      "text/plain": [
       "dtype('float32')"
      ]
     },
     "execution_count": 46,
     "metadata": {},
     "output_type": "execute_result"
    }
   ],
   "source": [
    "# 创建制定类型的数组\n",
    "arr4 = np.array([1,2,3],dtype=\"float32\")\n",
    "arr4.dtype"
   ]
  },
  {
   "cell_type": "markdown",
   "id": "7f975a5a-311f-48a3-973d-49f85b749b29",
   "metadata": {},
   "source": [
    "![image.png](https://appen-pe.oss-cn-shanghai.aliyuncs.com/imgupload/202112231220825.png)"
   ]
  },
  {
   "cell_type": "markdown",
   "id": "37c2d126-2da3-41f4-8e93-a72a1cf0edeb",
   "metadata": {},
   "source": [
    "## np.empty"
   ]
  },
  {
   "cell_type": "code",
   "execution_count": 22,
   "id": "31036f1d-a83f-471c-be6a-b427d7108f0f",
   "metadata": {},
   "outputs": [
    {
     "data": {
      "text/plain": [
       "array([[[4.67679745e-310, 0.00000000e+000],\n",
       "        [1.03977794e-312, 9.54898106e-313],\n",
       "        [1.08221785e-312, 1.01855798e-312]],\n",
       "\n",
       "       [[1.23075756e-312, 1.10343781e-312],\n",
       "        [1.10343781e-312, 9.76118064e-313],\n",
       "        [1.16709769e-312, 1.90979621e-312]]])"
      ]
     },
     "execution_count": 22,
     "metadata": {},
     "output_type": "execute_result"
    }
   ],
   "source": [
    "np.empty((2,3)) #并不安全，有时候会返回为初始化的垃圾数值\n",
    "np.empty((2,3,2))"
   ]
  },
  {
   "cell_type": "markdown",
   "id": "021b240e-74f2-427b-87ba-1fa1731251d3",
   "metadata": {
    "tags": []
   },
   "source": [
    "## np.zeros"
   ]
  },
  {
   "cell_type": "code",
   "execution_count": 24,
   "id": "68a9e662-eed7-40db-b91f-d843c2e6980a",
   "metadata": {},
   "outputs": [
    {
     "data": {
      "text/plain": [
       "array([[0., 0., 0.],\n",
       "       [0., 0., 0.]])"
      ]
     },
     "execution_count": 24,
     "metadata": {},
     "output_type": "execute_result"
    }
   ],
   "source": [
    "np.zeros((2,3))"
   ]
  },
  {
   "cell_type": "markdown",
   "id": "5f6576db-6784-49e7-b75b-2048acbf05dd",
   "metadata": {},
   "source": [
    "## np.ones"
   ]
  },
  {
   "cell_type": "code",
   "execution_count": 25,
   "id": "f68c57a8-3c05-4987-a152-383d90478996",
   "metadata": {},
   "outputs": [
    {
     "data": {
      "text/plain": [
       "array([[1., 1., 1.],\n",
       "       [1., 1., 1.]])"
      ]
     },
     "execution_count": 25,
     "metadata": {},
     "output_type": "execute_result"
    }
   ],
   "source": [
    "np.ones((2,3))"
   ]
  },
  {
   "cell_type": "markdown",
   "id": "6db74507-c6d5-49c3-a4b9-35d7b3be8a09",
   "metadata": {},
   "source": [
    "## numpy.full"
   ]
  },
  {
   "cell_type": "raw",
   "id": "62c02bfd-a9ab-4e31-96c2-3777df93758b",
   "metadata": {},
   "source": [
    "numpy.full(shape, fill_value, dtype=None, order='C')"
   ]
  },
  {
   "cell_type": "code",
   "execution_count": 26,
   "id": "17d7619b-146c-4492-8937-1074f2bf56d4",
   "metadata": {},
   "outputs": [
    {
     "data": {
      "text/plain": [
       "array([[8, 8, 8],\n",
       "       [8, 8, 8]])"
      ]
     },
     "execution_count": 26,
     "metadata": {},
     "output_type": "execute_result"
    }
   ],
   "source": [
    "np.full((2,3),8,dtype='int64')"
   ]
  },
  {
   "cell_type": "markdown",
   "id": "640035e9-50f3-4a69-aecc-e0524777fd4a",
   "metadata": {
    "tags": []
   },
   "source": [
    "## 算术和广播"
   ]
  },
  {
   "cell_type": "code",
   "execution_count": 45,
   "id": "be943b73-5f1b-4f11-bbaf-7eb4aa183d78",
   "metadata": {},
   "outputs": [
    {
     "name": "stdout",
     "output_type": "stream",
     "text": [
      "[[0.78077749 0.40777749 0.88199488]\n",
      " [0.29747855 0.19742082 0.71134188]]\n",
      "float64\n"
     ]
    }
   ],
   "source": [
    "k = np.random.rand(2,3) \n",
    "print(k)\n",
    "print(k.dtype) # 没有指定，numpy默认是float64\n",
    "# 加减乘除和比较后不会改变原始数组大小"
   ]
  },
  {
   "cell_type": "code",
   "execution_count": 29,
   "id": "4cc01b61-ccf9-4125-bc41-5a0c870de542",
   "metadata": {},
   "outputs": [
    {
     "data": {
      "text/plain": [
       "array([[0.25839222, 0.57298108, 0.90303748],\n",
       "       [1.58951289, 0.12893994, 0.45413512]])"
      ]
     },
     "execution_count": 29,
     "metadata": {},
     "output_type": "execute_result"
    }
   ],
   "source": [
    "k+k"
   ]
  },
  {
   "cell_type": "code",
   "execution_count": 30,
   "id": "d87f7492-7ecb-458c-a26b-7985e423125b",
   "metadata": {},
   "outputs": [
    {
     "data": {
      "text/plain": [
       "array([[1.29196108, 2.86490542, 4.51518739],\n",
       "       [7.94756446, 0.64469971, 2.27067559]])"
      ]
     },
     "execution_count": 30,
     "metadata": {},
     "output_type": "execute_result"
    }
   ],
   "source": [
    "k*10"
   ]
  },
  {
   "cell_type": "code",
   "execution_count": 31,
   "id": "a0cfddbb-03a9-418d-b17d-40cc58f7bb15",
   "metadata": {},
   "outputs": [
    {
     "data": {
      "text/plain": [
       "array([[1.12919611, 1.28649054, 1.45151874],\n",
       "       [1.79475645, 1.06446997, 1.22706756]])"
      ]
     },
     "execution_count": 31,
     "metadata": {},
     "output_type": "execute_result"
    }
   ],
   "source": [
    "k+1"
   ]
  },
  {
   "cell_type": "code",
   "execution_count": 32,
   "id": "fa3dcd9c-f5da-4931-8a2b-91cd2f4575b3",
   "metadata": {},
   "outputs": [
    {
     "data": {
      "text/plain": [
       "array([[0.06459805, 0.14324527, 0.22575937],\n",
       "       [0.39737822, 0.03223499, 0.11353378]])"
      ]
     },
     "execution_count": 32,
     "metadata": {},
     "output_type": "execute_result"
    }
   ],
   "source": [
    "k/2"
   ]
  },
  {
   "cell_type": "code",
   "execution_count": 33,
   "id": "3fe8bcda-b54e-4ce5-941e-2d63512f6e28",
   "metadata": {},
   "outputs": [
    {
     "data": {
      "text/plain": [
       "array([[0.3594386 , 0.53524811, 0.67195144],\n",
       "       [0.89149114, 0.25390937, 0.47651606]])"
      ]
     },
     "execution_count": 33,
     "metadata": {},
     "output_type": "execute_result"
    }
   ],
   "source": [
    "k**0.5"
   ]
  },
  {
   "cell_type": "code",
   "execution_count": 34,
   "id": "54cc8d66-5b76-4748-956b-1d1d0fdd0732",
   "metadata": {},
   "outputs": [
    {
     "data": {
      "text/plain": [
       "array([[False, False, False],\n",
       "       [False, False, False]])"
      ]
     },
     "execution_count": 34,
     "metadata": {},
     "output_type": "execute_result"
    }
   ],
   "source": [
    "k>1"
   ]
  },
  {
   "cell_type": "code",
   "execution_count": 35,
   "id": "b1a9ee23-62ed-4c29-896c-63997a46a93c",
   "metadata": {},
   "outputs": [
    {
     "data": {
      "text/plain": [
       "array([[False, False, False],\n",
       "       [False, False, False]])"
      ]
     },
     "execution_count": 35,
     "metadata": {},
     "output_type": "execute_result"
    }
   ],
   "source": [
    "k==1"
   ]
  },
  {
   "cell_type": "code",
   "execution_count": 36,
   "id": "c090e4ff-97e2-4a0e-8bf2-f37f3587bb5d",
   "metadata": {},
   "outputs": [
    {
     "data": {
      "text/plain": [
       "array([[ True,  True,  True],\n",
       "       [ True,  True,  True]])"
      ]
     },
     "execution_count": 36,
     "metadata": {},
     "output_type": "execute_result"
    }
   ],
   "source": [
    "k!=1"
   ]
  },
  {
   "cell_type": "markdown",
   "id": "718feee7-12b5-4c02-ad70-d3de2762a3b9",
   "metadata": {
    "tags": []
   },
   "source": [
    "## 格式转换"
   ]
  },
  {
   "cell_type": "code",
   "execution_count": null,
   "id": "9480e9ff-ca25-4099-9b8d-423201be112a",
   "metadata": {},
   "outputs": [],
   "source": []
  }
 ],
 "metadata": {
  "kernelspec": {
   "display_name": "Python 3 (ipykernel)",
   "language": "python",
   "name": "python3"
  },
  "language_info": {
   "codemirror_mode": {
    "name": "ipython",
    "version": 3
   },
   "file_extension": ".py",
   "mimetype": "text/x-python",
   "name": "python",
   "nbconvert_exporter": "python",
   "pygments_lexer": "ipython3",
   "version": "3.7.11"
  }
 },
 "nbformat": 4,
 "nbformat_minor": 5
}
