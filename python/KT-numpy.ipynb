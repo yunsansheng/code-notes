{
 "cells": [
  {
   "cell_type": "markdown",
   "id": "1c8d377a-4205-428e-bd89-9002f743fcf0",
   "metadata": {},
   "source": [
    "# Numpy"
   ]
  },
  {
   "cell_type": "markdown",
   "id": "4eb9bf22-8802-4dd5-8096-0c376c50e274",
   "metadata": {},
   "source": [
    "[numpy官方文档](https://numpy.org/doc/stable/reference/)"
   ]
  },
  {
   "cell_type": "code",
   "execution_count": 177,
   "id": "7d2ef524-1380-438a-9669-3c2c953de036",
   "metadata": {},
   "outputs": [],
   "source": [
    "import numpy as np\n",
    "#ndarray高效的多维数组，便捷的算术功能和灵活的广播功能"
   ]
  },
  {
   "cell_type": "markdown",
   "id": "2554d101-2b48-4180-945c-a7eb02a97e77",
   "metadata": {
    "tags": []
   },
   "source": [
    "# ndarray"
   ]
  },
  {
   "cell_type": "code",
   "execution_count": 2,
   "id": "ce2c42c0-60c0-458e-9b16-6a1377d9f89c",
   "metadata": {},
   "outputs": [
    {
     "data": {
      "text/plain": [
       "array([ 0,  1,  2,  3,  4,  5,  6,  7,  8,  9, 10, 11, 12, 13, 14, 15, 16,\n",
       "       17, 18, 19, 20, 21, 22, 23, 24, 25, 26, 27, 28, 29, 30, 31, 32, 33,\n",
       "       34, 35, 36, 37, 38, 39, 40, 41, 42, 43, 44, 45, 46, 47, 48, 49, 50,\n",
       "       51, 52, 53, 54, 55, 56, 57, 58, 59, 60, 61, 62, 63, 64, 65, 66, 67,\n",
       "       68, 69, 70, 71, 72, 73, 74, 75, 76, 77, 78, 79, 80, 81, 82, 83, 84,\n",
       "       85, 86, 87, 88, 89, 90, 91, 92, 93, 94, 95, 96, 97, 98, 99])"
      ]
     },
     "execution_count": 2,
     "metadata": {},
     "output_type": "execute_result"
    }
   ],
   "source": [
    "np.arange(100) #numpy版本的 range 的ndarray\n",
    "#type(np.arange(100)) #numpy.ndarray"
   ]
  },
  {
   "cell_type": "code",
   "execution_count": 3,
   "id": "173cb69d-45d4-4f34-9d79-e49996a17258",
   "metadata": {},
   "outputs": [
    {
     "data": {
      "text/plain": [
       "array([[0.89199571, 0.51772726, 0.64159027],\n",
       "       [0.75270486, 0.32134083, 0.95337597]])"
      ]
     },
     "execution_count": 3,
     "metadata": {},
     "output_type": "execute_result"
    }
   ],
   "source": [
    "np.random.rand(2,3) #rand函数根据给定维度生成[0,1)之间的数据，包含0，不包含1"
   ]
  },
  {
   "cell_type": "code",
   "execution_count": 4,
   "id": "f9140848-1a6e-44f1-b1a4-f1de06fa5b10",
   "metadata": {},
   "outputs": [
    {
     "data": {
      "text/plain": [
       "array([[-0.075917  , -0.34828164, -0.64694155],\n",
       "       [ 0.29311645, -1.29848842,  0.26311527]])"
      ]
     },
     "execution_count": 4,
     "metadata": {},
     "output_type": "execute_result"
    }
   ],
   "source": [
    "np.random.randn(2,3) #返回一个或一组样本，具有标准正态分布。"
   ]
  },
  {
   "cell_type": "markdown",
   "id": "6bbb6e80-c7b7-4b04-85ed-98b61360d342",
   "metadata": {},
   "source": [
    "## np.array"
   ]
  },
  {
   "cell_type": "code",
   "execution_count": 12,
   "id": "2ca5d58a-c0b5-440f-a3c5-a315b7f53e75",
   "metadata": {},
   "outputs": [
    {
     "data": {
      "text/plain": [
       "1"
      ]
     },
     "execution_count": 12,
     "metadata": {},
     "output_type": "execute_result"
    }
   ],
   "source": [
    "arr = np.array([1,2,3])\n",
    "type(arr)  # numpy.ndarray\n",
    "arr.shape # (3,)\n",
    "arr.ndim # 1"
   ]
  },
  {
   "cell_type": "code",
   "execution_count": 18,
   "id": "58c0b422-66b1-4ad8-bf53-4bd4ea91d096",
   "metadata": {},
   "outputs": [
    {
     "data": {
      "text/plain": [
       "2"
      ]
     },
     "execution_count": 18,
     "metadata": {},
     "output_type": "execute_result"
    }
   ],
   "source": [
    "arr2 = np.random.rand(3,5)\n",
    "arr2.shape # (3, 5)\n",
    "arr2.ndim # 2"
   ]
  },
  {
   "cell_type": "code",
   "execution_count": 21,
   "id": "2152e9c7-1635-4f82-ac54-104894878734",
   "metadata": {},
   "outputs": [
    {
     "data": {
      "text/plain": [
       "3"
      ]
     },
     "execution_count": 21,
     "metadata": {},
     "output_type": "execute_result"
    }
   ],
   "source": [
    "arr3 = np.random.rand(3,5,2)\n",
    "arr3.shape # (3, 5, 2)\n",
    "arr3.ndim # 3"
   ]
  },
  {
   "cell_type": "code",
   "execution_count": 46,
   "id": "f563e3f9-201d-454f-8f4c-37cf568a275a",
   "metadata": {},
   "outputs": [
    {
     "data": {
      "text/plain": [
       "dtype('float32')"
      ]
     },
     "execution_count": 46,
     "metadata": {},
     "output_type": "execute_result"
    }
   ],
   "source": [
    "# 创建制定类型的数组\n",
    "arr4 = np.array([1,2,3],dtype=\"float32\")\n",
    "arr4.dtype"
   ]
  },
  {
   "cell_type": "markdown",
   "id": "7f975a5a-311f-48a3-973d-49f85b749b29",
   "metadata": {},
   "source": [
    "![image.png](https://appen-pe.oss-cn-shanghai.aliyuncs.com/imgupload/202112231220825.png)"
   ]
  },
  {
   "cell_type": "markdown",
   "id": "37c2d126-2da3-41f4-8e93-a72a1cf0edeb",
   "metadata": {},
   "source": [
    "## np.empty"
   ]
  },
  {
   "cell_type": "code",
   "execution_count": 22,
   "id": "31036f1d-a83f-471c-be6a-b427d7108f0f",
   "metadata": {},
   "outputs": [
    {
     "data": {
      "text/plain": [
       "array([[[4.67679745e-310, 0.00000000e+000],\n",
       "        [1.03977794e-312, 9.54898106e-313],\n",
       "        [1.08221785e-312, 1.01855798e-312]],\n",
       "\n",
       "       [[1.23075756e-312, 1.10343781e-312],\n",
       "        [1.10343781e-312, 9.76118064e-313],\n",
       "        [1.16709769e-312, 1.90979621e-312]]])"
      ]
     },
     "execution_count": 22,
     "metadata": {},
     "output_type": "execute_result"
    }
   ],
   "source": [
    "np.empty((2,3)) #并不安全，有时候会返回为初始化的垃圾数值\n",
    "np.empty((2,3,2))"
   ]
  },
  {
   "cell_type": "markdown",
   "id": "021b240e-74f2-427b-87ba-1fa1731251d3",
   "metadata": {
    "tags": []
   },
   "source": [
    "## np.zeros"
   ]
  },
  {
   "cell_type": "code",
   "execution_count": 24,
   "id": "68a9e662-eed7-40db-b91f-d843c2e6980a",
   "metadata": {},
   "outputs": [
    {
     "data": {
      "text/plain": [
       "array([[0., 0., 0.],\n",
       "       [0., 0., 0.]])"
      ]
     },
     "execution_count": 24,
     "metadata": {},
     "output_type": "execute_result"
    }
   ],
   "source": [
    "np.zeros((2,3))"
   ]
  },
  {
   "cell_type": "markdown",
   "id": "5f6576db-6784-49e7-b75b-2048acbf05dd",
   "metadata": {},
   "source": [
    "## np.ones"
   ]
  },
  {
   "cell_type": "code",
   "execution_count": 25,
   "id": "f68c57a8-3c05-4987-a152-383d90478996",
   "metadata": {},
   "outputs": [
    {
     "data": {
      "text/plain": [
       "array([[1., 1., 1.],\n",
       "       [1., 1., 1.]])"
      ]
     },
     "execution_count": 25,
     "metadata": {},
     "output_type": "execute_result"
    }
   ],
   "source": [
    "np.ones((2,3))"
   ]
  },
  {
   "cell_type": "markdown",
   "id": "6db74507-c6d5-49c3-a4b9-35d7b3be8a09",
   "metadata": {},
   "source": [
    "## numpy.full"
   ]
  },
  {
   "cell_type": "raw",
   "id": "62c02bfd-a9ab-4e31-96c2-3777df93758b",
   "metadata": {},
   "source": [
    "numpy.full(shape, fill_value, dtype=None, order='C')"
   ]
  },
  {
   "cell_type": "code",
   "execution_count": 26,
   "id": "17d7619b-146c-4492-8937-1074f2bf56d4",
   "metadata": {},
   "outputs": [
    {
     "data": {
      "text/plain": [
       "array([[8, 8, 8],\n",
       "       [8, 8, 8]])"
      ]
     },
     "execution_count": 26,
     "metadata": {},
     "output_type": "execute_result"
    }
   ],
   "source": [
    "np.full((2,3),8,dtype='int64')"
   ]
  },
  {
   "cell_type": "markdown",
   "id": "640035e9-50f3-4a69-aecc-e0524777fd4a",
   "metadata": {
    "tags": []
   },
   "source": [
    "## 算术和广播"
   ]
  },
  {
   "cell_type": "code",
   "execution_count": 45,
   "id": "be943b73-5f1b-4f11-bbaf-7eb4aa183d78",
   "metadata": {},
   "outputs": [
    {
     "name": "stdout",
     "output_type": "stream",
     "text": [
      "[[0.78077749 0.40777749 0.88199488]\n",
      " [0.29747855 0.19742082 0.71134188]]\n",
      "float64\n"
     ]
    }
   ],
   "source": [
    "k = np.random.rand(2,3) \n",
    "print(k)\n",
    "print(k.dtype) # 没有指定，numpy默认是float64\n",
    "# 加减乘除和比较后不会改变原始数组大小"
   ]
  },
  {
   "cell_type": "code",
   "execution_count": 29,
   "id": "4cc01b61-ccf9-4125-bc41-5a0c870de542",
   "metadata": {},
   "outputs": [
    {
     "data": {
      "text/plain": [
       "array([[0.25839222, 0.57298108, 0.90303748],\n",
       "       [1.58951289, 0.12893994, 0.45413512]])"
      ]
     },
     "execution_count": 29,
     "metadata": {},
     "output_type": "execute_result"
    }
   ],
   "source": [
    "k+k"
   ]
  },
  {
   "cell_type": "code",
   "execution_count": 30,
   "id": "d87f7492-7ecb-458c-a26b-7985e423125b",
   "metadata": {},
   "outputs": [
    {
     "data": {
      "text/plain": [
       "array([[1.29196108, 2.86490542, 4.51518739],\n",
       "       [7.94756446, 0.64469971, 2.27067559]])"
      ]
     },
     "execution_count": 30,
     "metadata": {},
     "output_type": "execute_result"
    }
   ],
   "source": [
    "k*10"
   ]
  },
  {
   "cell_type": "code",
   "execution_count": 31,
   "id": "a0cfddbb-03a9-418d-b17d-40cc58f7bb15",
   "metadata": {},
   "outputs": [
    {
     "data": {
      "text/plain": [
       "array([[1.12919611, 1.28649054, 1.45151874],\n",
       "       [1.79475645, 1.06446997, 1.22706756]])"
      ]
     },
     "execution_count": 31,
     "metadata": {},
     "output_type": "execute_result"
    }
   ],
   "source": [
    "k+1"
   ]
  },
  {
   "cell_type": "code",
   "execution_count": 32,
   "id": "fa3dcd9c-f5da-4931-8a2b-91cd2f4575b3",
   "metadata": {},
   "outputs": [
    {
     "data": {
      "text/plain": [
       "array([[0.06459805, 0.14324527, 0.22575937],\n",
       "       [0.39737822, 0.03223499, 0.11353378]])"
      ]
     },
     "execution_count": 32,
     "metadata": {},
     "output_type": "execute_result"
    }
   ],
   "source": [
    "k/2"
   ]
  },
  {
   "cell_type": "code",
   "execution_count": 33,
   "id": "3fe8bcda-b54e-4ce5-941e-2d63512f6e28",
   "metadata": {},
   "outputs": [
    {
     "data": {
      "text/plain": [
       "array([[0.3594386 , 0.53524811, 0.67195144],\n",
       "       [0.89149114, 0.25390937, 0.47651606]])"
      ]
     },
     "execution_count": 33,
     "metadata": {},
     "output_type": "execute_result"
    }
   ],
   "source": [
    "k**0.5"
   ]
  },
  {
   "cell_type": "code",
   "execution_count": 34,
   "id": "54cc8d66-5b76-4748-956b-1d1d0fdd0732",
   "metadata": {},
   "outputs": [
    {
     "data": {
      "text/plain": [
       "array([[False, False, False],\n",
       "       [False, False, False]])"
      ]
     },
     "execution_count": 34,
     "metadata": {},
     "output_type": "execute_result"
    }
   ],
   "source": [
    "k>1"
   ]
  },
  {
   "cell_type": "code",
   "execution_count": 35,
   "id": "b1a9ee23-62ed-4c29-896c-63997a46a93c",
   "metadata": {},
   "outputs": [
    {
     "data": {
      "text/plain": [
       "array([[False, False, False],\n",
       "       [False, False, False]])"
      ]
     },
     "execution_count": 35,
     "metadata": {},
     "output_type": "execute_result"
    }
   ],
   "source": [
    "k==1"
   ]
  },
  {
   "cell_type": "code",
   "execution_count": 36,
   "id": "c090e4ff-97e2-4a0e-8bf2-f37f3587bb5d",
   "metadata": {},
   "outputs": [
    {
     "data": {
      "text/plain": [
       "array([[ True,  True,  True],\n",
       "       [ True,  True,  True]])"
      ]
     },
     "execution_count": 36,
     "metadata": {},
     "output_type": "execute_result"
    }
   ],
   "source": [
    "k!=1"
   ]
  },
  {
   "cell_type": "markdown",
   "id": "718feee7-12b5-4c02-ad70-d3de2762a3b9",
   "metadata": {
    "tags": []
   },
   "source": [
    "# 格式转换"
   ]
  },
  {
   "cell_type": "code",
   "execution_count": 50,
   "id": "9480e9ff-ca25-4099-9b8d-423201be112a",
   "metadata": {},
   "outputs": [
    {
     "data": {
      "text/plain": [
       "array([232,   0,   0], dtype=uint8)"
      ]
     },
     "execution_count": 50,
     "metadata": {},
     "output_type": "execute_result"
    }
   ],
   "source": [
    "t = np.array([0,0,0],dtype='uint8')\n",
    "t[0]=1000\n",
    "t"
   ]
  },
  {
   "cell_type": "code",
   "execution_count": 51,
   "id": "d7e8a3cd-0fa3-4da3-9339-4268a0d23a08",
   "metadata": {},
   "outputs": [
    {
     "data": {
      "text/plain": [
       "array([  1,   2,  15, 127], dtype=int8)"
      ]
     },
     "execution_count": 51,
     "metadata": {},
     "output_type": "execute_result"
    }
   ],
   "source": [
    "a = [1,2,9999,127] \n",
    "np.asarray(a,dtype='int8') #-128 --127"
   ]
  },
  {
   "cell_type": "code",
   "execution_count": 52,
   "id": "55f64944-33a1-440f-9be9-fb294936e618",
   "metadata": {},
   "outputs": [
    {
     "data": {
      "text/plain": [
       "array([  1,   2,  15, 244], dtype=uint8)"
      ]
     },
     "execution_count": 52,
     "metadata": {},
     "output_type": "execute_result"
    }
   ],
   "source": [
    "a = [1,2,9999,244]\n",
    "np.asarray(a,dtype='uint8') # 0-255"
   ]
  },
  {
   "cell_type": "code",
   "execution_count": 53,
   "id": "a2243ddf-f3e0-48bd-92b1-1e062c8f68b1",
   "metadata": {},
   "outputs": [
    {
     "data": {
      "text/plain": [
       "array([b'2', b'3', b'4'], dtype='|S21')"
      ]
     },
     "execution_count": 53,
     "metadata": {},
     "output_type": "execute_result"
    }
   ],
   "source": [
    "arr = np.array([2,3,4])\n",
    "# arr.astype('float64')\n",
    "arr.astype('string_') #array([b'2', b'3', b'4'], dtype='|S21')\n",
    "# arr.astype('unicode_')#array(['2', '3', '4'], dtype='<U21')"
   ]
  },
  {
   "cell_type": "markdown",
   "id": "6d613021-c235-4a4f-bd90-d363ccc4c73a",
   "metadata": {
    "tags": []
   },
   "source": [
    "# 索引和切片"
   ]
  },
  {
   "cell_type": "markdown",
   "id": "b323e5bc-96ba-4ca7-b7cb-6a6e974dfa5e",
   "metadata": {},
   "source": [
    "## 一维切片"
   ]
  },
  {
   "cell_type": "code",
   "execution_count": 54,
   "id": "9b08bd81-25b9-41b9-ad7f-d165c6072da7",
   "metadata": {},
   "outputs": [
    {
     "data": {
      "text/plain": [
       "array([3, 4, 5])"
      ]
     },
     "execution_count": 54,
     "metadata": {},
     "output_type": "execute_result"
    }
   ],
   "source": [
    "#1维的和python的切片是一致的\n",
    "arr_1d = np.arange(10)\n",
    "arr_1d[0]\n",
    "arr_1d[3:6]"
   ]
  },
  {
   "cell_type": "raw",
   "id": "0be8caf3-7b57-420e-8545-eb1e41a6f376",
   "metadata": {},
   "source": [
    "原始的数组不可以批量赋值，但是np可以对切片中的各元素直接赋值"
   ]
  },
  {
   "cell_type": "code",
   "execution_count": 56,
   "id": "b7c5e68b-36d4-4e2c-969c-0a5d2ea54ac5",
   "metadata": {},
   "outputs": [
    {
     "data": {
      "text/plain": [
       "[1, 2, 8, 4]"
      ]
     },
     "execution_count": 56,
     "metadata": {},
     "output_type": "execute_result"
    }
   ],
   "source": [
    "lst = [1,2,3,4]\n",
    "lst[2]=8\n",
    "lst #[1, 2, 8, 4]\n",
    "# lst[2:]=8 #can only assign an iterable"
   ]
  },
  {
   "cell_type": "code",
   "execution_count": 58,
   "id": "72594703-9543-4ca1-8434-01f16f07b62b",
   "metadata": {},
   "outputs": [
    {
     "data": {
      "text/plain": [
       "array([1, 2, 8, 8])"
      ]
     },
     "execution_count": 58,
     "metadata": {},
     "output_type": "execute_result"
    }
   ],
   "source": [
    "lst_np = np.array([1,2,3,4])\n",
    "lst_np[2:]=8\n",
    "lst_np"
   ]
  },
  {
   "cell_type": "code",
   "execution_count": null,
   "id": "9759cc10-c925-4e51-b309-9912e1027b31",
   "metadata": {},
   "outputs": [],
   "source": [
    "赋值可以是标量或者ndarrary 不能是list"
   ]
  },
  {
   "cell_type": "code",
   "execution_count": 59,
   "id": "27174ace-1bd9-4b5a-9670-2ac9d6ba2057",
   "metadata": {},
   "outputs": [
    {
     "data": {
      "text/plain": [
       "array([0, 1, 0, 0, 0, 0, 0, 0, 0, 0])"
      ]
     },
     "execution_count": 59,
     "metadata": {},
     "output_type": "execute_result"
    }
   ],
   "source": [
    "arr_1d = np.arange(10)\n",
    "# arr_1d[2:]=[0, 1, 7, 8, 8, 8, 7, 8, 8, 8]#这样赋值不行，需要都是ndarrayz \n",
    "# ValueError: cannot copy sequence with size 10 to array axis with dimension 8\n",
    "\n",
    "arr_1d[2:] = np.zeros(8)\n",
    "arr_1d #array([0, 1, 0, 0, 0, 0, 0, 0, 0, 0])"
   ]
  },
  {
   "cell_type": "code",
   "execution_count": 61,
   "id": "c67cedd3-3433-4550-bcbd-b3c106725e0f",
   "metadata": {},
   "outputs": [
    {
     "data": {
      "text/plain": [
       "array([0, 1, 2, 3, 4, 8, 6, 7, 8, 9])"
      ]
     },
     "execution_count": 61,
     "metadata": {},
     "output_type": "execute_result"
    }
   ],
   "source": [
    "arr_1d = np.arange(10)\n",
    "arr_copy = arr_1d[2:] # 这个copy是视图\n",
    "arr_copy[3]= 8 #3+2 第五位 注意引用关系\n",
    "arr_1d"
   ]
  },
  {
   "cell_type": "raw",
   "id": "99c76751-83bc-4bcf-99ba-d73acddd002a",
   "metadata": {},
   "source": [
    "如果需要完全复制可以使用copy方法"
   ]
  },
  {
   "cell_type": "code",
   "execution_count": 62,
   "id": "482d9105-acd2-4d27-b6ea-2e57ae78c83c",
   "metadata": {},
   "outputs": [],
   "source": [
    "arr_copy2 = arr_1d[2:].copy()"
   ]
  },
  {
   "cell_type": "markdown",
   "id": "5390ab68-39e2-45c7-bb8e-427e93c0b5dc",
   "metadata": {},
   "source": [
    "## 二维切片"
   ]
  },
  {
   "cell_type": "code",
   "execution_count": 69,
   "id": "11c4438a-2f5b-4193-8948-31ee8625c616",
   "metadata": {},
   "outputs": [],
   "source": [
    "arr_2d =np.array([ [1,2,3],[4,5,6],[7,8,9],[10,11,12] ])\n",
    "\n",
    "# 可以想象成一维的时候是一列数据 分别是1,2,3\n",
    "# 二维的时候相当于增加新的列"
   ]
  },
  {
   "cell_type": "code",
   "execution_count": 78,
   "id": "b44c4245-7101-4562-829f-7885d568c39d",
   "metadata": {},
   "outputs": [
    {
     "data": {
      "text/plain": [
       "array([1, 2, 3])"
      ]
     },
     "execution_count": 78,
     "metadata": {},
     "output_type": "execute_result"
    }
   ],
   "source": [
    "arr_2d[0]  # 第一组"
   ]
  },
  {
   "cell_type": "code",
   "execution_count": 79,
   "id": "37e0c376-5194-4ae8-96d7-eb67df011b71",
   "metadata": {},
   "outputs": [
    {
     "data": {
      "text/plain": [
       "3"
      ]
     },
     "execution_count": 79,
     "metadata": {},
     "output_type": "execute_result"
    }
   ],
   "source": [
    "arr_2d[0][2]  #第一组的 第3个\n",
    "# 上述也可以简写成\n",
    "arr_2d[0,2]"
   ]
  },
  {
   "cell_type": "markdown",
   "id": "02555ea1-2a2c-4977-aa5c-8f53533da7e0",
   "metadata": {
    "tags": []
   },
   "source": [
    "## 三维切片"
   ]
  },
  {
   "cell_type": "code",
   "execution_count": 82,
   "id": "3b995b0d-a9cf-4ff3-80d4-9bdcaf94153e",
   "metadata": {},
   "outputs": [],
   "source": [
    "arr_3d = np.random.randn(3,4,2)   # 最左边的可以看成最外层"
   ]
  },
  {
   "cell_type": "code",
   "execution_count": 84,
   "id": "b465ebe6-9237-4bd2-9fe8-38502e6b3b9e",
   "metadata": {},
   "outputs": [
    {
     "data": {
      "text/plain": [
       "array([[[-0.68264168,  0.44903741],\n",
       "        [-1.1066095 , -1.0229442 ],\n",
       "        [-1.35892017, -0.0663339 ],\n",
       "        [-1.19793423,  0.24222114]],\n",
       "\n",
       "       [[-0.59449874, -0.21814768],\n",
       "        [-0.5921755 ,  0.89843798],\n",
       "        [ 1.05658467,  1.51386083],\n",
       "        [ 0.01200202,  0.33398804]],\n",
       "\n",
       "       [[-0.16313627, -0.58689672],\n",
       "        [ 0.39975886, -0.10671475],\n",
       "        [ 0.00206018, -0.85378297],\n",
       "        [ 0.64840862, -0.45584758]]])"
      ]
     },
     "execution_count": 84,
     "metadata": {},
     "output_type": "execute_result"
    }
   ],
   "source": [
    "arr_3d"
   ]
  },
  {
   "cell_type": "code",
   "execution_count": null,
   "id": "572f636f-4018-46ce-a4a1-e2d5b2fb2c19",
   "metadata": {},
   "outputs": [],
   "source": [
    "# 切片的时候可以当作是像洋葱一样 从里到外一层一层"
   ]
  },
  {
   "cell_type": "code",
   "execution_count": 81,
   "id": "ba84ec42-ed05-45d1-b506-29ab762d0a4b",
   "metadata": {},
   "outputs": [
    {
     "name": "stdout",
     "output_type": "stream",
     "text": [
      "[[ 0.7263256   1.01585411]\n",
      " [ 0.00514739 -0.84297755]\n",
      " [-0.9224199  -1.81407031]\n",
      " [ 1.30531348 -0.86799847]]\n",
      "(4, 2)\n"
     ]
    }
   ],
   "source": [
    "print(arr_3d[0])\n",
    "print(arr_3d[0].shape)"
   ]
  },
  {
   "cell_type": "code",
   "execution_count": 85,
   "id": "c73d1bd9-1a6b-4653-bf5c-9df175ffed6b",
   "metadata": {},
   "outputs": [
    {
     "data": {
      "text/plain": [
       "array([[-1.1066095 , -1.0229442 ],\n",
       "       [-1.35892017, -0.0663339 ],\n",
       "       [-1.19793423,  0.24222114]])"
      ]
     },
     "execution_count": 85,
     "metadata": {},
     "output_type": "execute_result"
    }
   ],
   "source": [
    "arr_3d[0,1:] "
   ]
  },
  {
   "cell_type": "code",
   "execution_count": 80,
   "id": "e3d1cdbe-64fb-4d0a-9847-4bb8afbdd18d",
   "metadata": {},
   "outputs": [],
   "source": [
    "# 切片的时候可以当作是像洋葱一样 从里到外一层一层"
   ]
  },
  {
   "cell_type": "code",
   "execution_count": 86,
   "id": "2e8fc1b6-e4e6-44aa-99a1-44b5eee2b144",
   "metadata": {},
   "outputs": [
    {
     "data": {
      "text/plain": [
       "array([[[ 8.00000000e+00,  8.00000000e+00],\n",
       "        [-1.10660950e+00, -1.02294420e+00],\n",
       "        [-1.35892017e+00, -6.63338996e-02],\n",
       "        [-1.19793423e+00,  2.42221135e-01]],\n",
       "\n",
       "       [[ 8.00000000e+00,  8.00000000e+00],\n",
       "        [-5.92175504e-01,  8.98437981e-01],\n",
       "        [ 1.05658467e+00,  1.51386083e+00],\n",
       "        [ 1.20020239e-02,  3.33988041e-01]],\n",
       "\n",
       "       [[ 8.00000000e+00,  8.00000000e+00],\n",
       "        [ 3.99758855e-01, -1.06714747e-01],\n",
       "        [ 2.06018264e-03, -8.53782973e-01],\n",
       "        [ 6.48408621e-01, -4.55847579e-01]]])"
      ]
     },
     "execution_count": 86,
     "metadata": {},
     "output_type": "execute_result"
    }
   ],
   "source": [
    "arr_3d[:,:1]=8 # 多维数组也可以直接赋值\n",
    "arr_3d"
   ]
  },
  {
   "cell_type": "markdown",
   "id": "d9c99ddc-eade-4aba-852f-1713310c5a68",
   "metadata": {},
   "source": [
    "## 布尔索引"
   ]
  },
  {
   "cell_type": "code",
   "execution_count": 87,
   "id": "ce736df1-1619-4e49-b041-56f20854018d",
   "metadata": {},
   "outputs": [
    {
     "data": {
      "text/plain": [
       "array([[ 0.16312037, -1.29837869, -0.0308545 ,  0.99462949]])"
      ]
     },
     "execution_count": 87,
     "metadata": {},
     "output_type": "execute_result"
    }
   ],
   "source": [
    "arr_2d = np.random.randn(3,4)\n",
    "bool_x = np.array([True,False,True])\n",
    "bool_names = np.array(['jack','henry','jason'])\n",
    "arr_2d[bool_x] #用bool选取0,2\n",
    "arr_2d[bool_names=='jack'] #选取第一行 array([[ 1.3291973 ,  0.52318965, -0.49999786, -0.95954392]])"
   ]
  },
  {
   "cell_type": "code",
   "execution_count": 88,
   "id": "22d521b9-609a-42be-8404-2b4a06237112",
   "metadata": {},
   "outputs": [
    {
     "data": {
      "text/plain": [
       "array([[-0.0308545 ,  0.99462949]])"
      ]
     },
     "execution_count": 88,
     "metadata": {},
     "output_type": "execute_result"
    }
   ],
   "source": [
    "arr_2d[bool_names=='jack',2:]"
   ]
  },
  {
   "cell_type": "code",
   "execution_count": 89,
   "id": "0120b33e-04f9-47f6-8f22-119fa373799e",
   "metadata": {},
   "outputs": [
    {
     "data": {
      "text/plain": [
       "array([[ 0.41495918,  0.03299783],\n",
       "       [-1.40995409, -0.14450955]])"
      ]
     },
     "execution_count": 89,
     "metadata": {},
     "output_type": "execute_result"
    }
   ],
   "source": [
    "arr_2d[~(bool_names=='jack'),2:] #条件如果不是一个字段，要用括号括起来"
   ]
  },
  {
   "cell_type": "code",
   "execution_count": 90,
   "id": "1057b272-4de3-41d5-ba82-c06ea231e7cb",
   "metadata": {},
   "outputs": [
    {
     "data": {
      "text/plain": [
       "array([[-0.0308545 ,  0.99462949],\n",
       "       [ 0.41495918,  0.03299783]])"
      ]
     },
     "execution_count": 90,
     "metadata": {},
     "output_type": "execute_result"
    }
   ],
   "source": [
    "arr_2d[(bool_names=='jack') | (bool_names=='henry'),2:]"
   ]
  },
  {
   "cell_type": "code",
   "execution_count": 91,
   "id": "dc3203df-6a6b-47a2-bd8a-55bd978c472f",
   "metadata": {},
   "outputs": [
    {
     "data": {
      "text/plain": [
       "array([], shape=(0, 2), dtype=float64)"
      ]
     },
     "execution_count": 91,
     "metadata": {},
     "output_type": "execute_result"
    }
   ],
   "source": [
    "arr_2d[(bool_names=='jack') & (bool_names=='henry'),2:]"
   ]
  },
  {
   "cell_type": "code",
   "execution_count": 92,
   "id": "4061a4d1-b33a-4868-b43f-05beb77902de",
   "metadata": {},
   "outputs": [],
   "source": [
    "##布尔索引总是生成一个新的对象"
   ]
  },
  {
   "cell_type": "code",
   "execution_count": 93,
   "id": "dbead6cc-e1cd-4792-9dea-dd54719ebe1e",
   "metadata": {},
   "outputs": [
    {
     "data": {
      "text/plain": [
       "array([[-0.12258443,  0.3713189 , -0.70045145, -0.59038865],\n",
       "       [ 0.24106604, -0.08346432, -0.34475861,  0.5334416 ],\n",
       "       [-1.05744661,  0.47979961,  0.62199232,  2.84162327]])"
      ]
     },
     "execution_count": 93,
     "metadata": {},
     "output_type": "execute_result"
    }
   ],
   "source": [
    "arr_2d = np.random.randn(3,4)\n",
    "arr_2d"
   ]
  },
  {
   "cell_type": "code",
   "execution_count": 94,
   "id": "93a96b4c-294a-4059-a8b7-adcd97fa111e",
   "metadata": {},
   "outputs": [
    {
     "data": {
      "text/plain": [
       "array([[False,  True, False, False],\n",
       "       [ True, False, False,  True],\n",
       "       [False,  True,  True,  True]])"
      ]
     },
     "execution_count": 94,
     "metadata": {},
     "output_type": "execute_result"
    }
   ],
   "source": [
    "arr_2d>0\n",
    "\n",
    "# arr_2d[arr_2d>0]=0\n",
    "# arr_2d"
   ]
  },
  {
   "cell_type": "code",
   "execution_count": 95,
   "id": "40827864-430d-4cb4-9f3b-273a36cfe09c",
   "metadata": {},
   "outputs": [
    {
     "data": {
      "text/plain": [
       "array([[ True,  True,  True,  True],\n",
       "       [ True,  True,  True,  True],\n",
       "       [ True,  True,  True,  True]])"
      ]
     },
     "execution_count": 95,
     "metadata": {},
     "output_type": "execute_result"
    }
   ],
   "source": [
    "arr_2d!=1 #值的判断可以用!= 但是cond之间用~"
   ]
  },
  {
   "cell_type": "markdown",
   "id": "a67636b1-e593-43d8-b3f6-18e8d0f83df1",
   "metadata": {},
   "source": [
    "## 神奇索引"
   ]
  },
  {
   "cell_type": "code",
   "execution_count": 96,
   "id": "f6201e17-b8d7-4e88-8f49-10a70055a550",
   "metadata": {},
   "outputs": [
    {
     "data": {
      "text/plain": [
       "array([[0., 0., 0., 0.],\n",
       "       [1., 1., 1., 1.],\n",
       "       [2., 2., 2., 2.],\n",
       "       [3., 3., 3., 3.],\n",
       "       [4., 4., 4., 4.],\n",
       "       [5., 5., 5., 5.],\n",
       "       [6., 6., 6., 6.],\n",
       "       [7., 7., 7., 7.]])"
      ]
     },
     "execution_count": 96,
     "metadata": {},
     "output_type": "execute_result"
    }
   ],
   "source": [
    "arr= np.empty((8,4))\n",
    "for i in range(8):\n",
    "    arr[i] =i\n",
    "arr"
   ]
  },
  {
   "cell_type": "code",
   "execution_count": 98,
   "id": "cb9a2d64-b6db-4ac9-bf57-022aed53fb40",
   "metadata": {},
   "outputs": [
    {
     "data": {
      "text/plain": [
       "array([[2., 2., 2., 2.],\n",
       "       [1., 1., 1., 1.],\n",
       "       [7., 7., 7., 7.]])"
      ]
     },
     "execution_count": 98,
     "metadata": {},
     "output_type": "execute_result"
    }
   ],
   "source": [
    "arr[[2,1,7]] # 注意是两个括号 上面使用布尔值 这边使用index"
   ]
  },
  {
   "cell_type": "markdown",
   "id": "8e81869f-6bfc-433c-97e1-3277b90f2170",
   "metadata": {},
   "source": [
    "## reshape和转轴"
   ]
  },
  {
   "cell_type": "code",
   "execution_count": 106,
   "id": "b9642cd5-29ac-4513-9c27-462feb7717b2",
   "metadata": {},
   "outputs": [
    {
     "data": {
      "text/plain": [
       "array([[ 0,  1,  2,  3],\n",
       "       [ 4,  5,  6,  7],\n",
       "       [ 8,  9, 10, 11],\n",
       "       [12, 13, 14, 15],\n",
       "       [16, 17, 18, 19],\n",
       "       [20, 21, 22, 23],\n",
       "       [24, 25, 26, 27],\n",
       "       [28, 29, 30, 31]])"
      ]
     },
     "execution_count": 106,
     "metadata": {},
     "output_type": "execute_result"
    }
   ],
   "source": [
    "arr = np.arange(32).reshape(8,4) # 返回新的\n",
    "arr"
   ]
  },
  {
   "cell_type": "code",
   "execution_count": 107,
   "id": "beb55cc6-508f-4a89-937f-ac54cc092275",
   "metadata": {},
   "outputs": [
    {
     "data": {
      "text/plain": [
       "array([[ 0,  4,  8, 12, 16, 20, 24, 28],\n",
       "       [ 1,  5,  9, 13, 17, 21, 25, 29],\n",
       "       [ 2,  6, 10, 14, 18, 22, 26, 30],\n",
       "       [ 3,  7, 11, 15, 19, 23, 27, 31]])"
      ]
     },
     "execution_count": 107,
     "metadata": {},
     "output_type": "execute_result"
    }
   ],
   "source": [
    "arr.T # 返回新的"
   ]
  },
  {
   "cell_type": "code",
   "execution_count": 120,
   "id": "569d3a7c-16f0-472b-9a22-e6c56cf4f4cc",
   "metadata": {},
   "outputs": [
    {
     "data": {
      "text/plain": [
       "array([[ 0,  1,  2,  3],\n",
       "       [ 4,  5,  6,  7],\n",
       "       [ 8,  9, 10, 11],\n",
       "       [12, 13, 14, 15],\n",
       "       [16, 17, 18, 19],\n",
       "       [20, 21, 22, 23],\n",
       "       [24, 25, 26, 27],\n",
       "       [28, 29, 30, 31]])"
      ]
     },
     "execution_count": 120,
     "metadata": {},
     "output_type": "execute_result"
    }
   ],
   "source": [
    "arr2 = np.arange(32).reshape(-1,4)  #缺省 4*8\n",
    "arr2"
   ]
  },
  {
   "cell_type": "code",
   "execution_count": 121,
   "id": "efa78235-d39f-4fb0-8de7-dc13a48f7eb6",
   "metadata": {},
   "outputs": [
    {
     "data": {
      "text/plain": [
       "array([[[ 0,  1,  2,  3,  4,  5,  6,  7],\n",
       "        [ 8,  9, 10, 11, 12, 13, 14, 15]],\n",
       "\n",
       "       [[16, 17, 18, 19, 20, 21, 22, 23],\n",
       "        [24, 25, 26, 27, 28, 29, 30, 31]]])"
      ]
     },
     "execution_count": 121,
     "metadata": {},
     "output_type": "execute_result"
    }
   ],
   "source": [
    "arr2 = np.arange(32).reshape(-1,2,8)  #最外层让系统来计算\n",
    "arr2"
   ]
  },
  {
   "cell_type": "markdown",
   "id": "5472f1c9-9ed1-4721-afb1-e9a7289c13be",
   "metadata": {},
   "source": [
    "## 通用函数"
   ]
  },
  {
   "cell_type": "markdown",
   "id": "6e2a06ff-4e7e-4a8f-9079-c081b1899236",
   "metadata": {},
   "source": [
    "### 一元函数"
   ]
  },
  {
   "cell_type": "code",
   "execution_count": 131,
   "id": "30cde705-f34a-453b-9f6b-e5b9dfab45e6",
   "metadata": {},
   "outputs": [
    {
     "data": {
      "text/plain": [
       "array([[0, 1, 2, 3, 4],\n",
       "       [5, 6, 7, 8, 9]])"
      ]
     },
     "execution_count": 131,
     "metadata": {},
     "output_type": "execute_result"
    }
   ],
   "source": [
    "arr = np.arange(10).reshape(-1,5)\n",
    "arr"
   ]
  },
  {
   "cell_type": "code",
   "execution_count": 132,
   "id": "8022562f-3ce7-49ac-92a6-7a33422d8712",
   "metadata": {},
   "outputs": [
    {
     "data": {
      "text/plain": [
       "array([[0.        , 1.        , 1.41421356, 1.73205081, 2.        ],\n",
       "       [2.23606798, 2.44948974, 2.64575131, 2.82842712, 3.        ]])"
      ]
     },
     "execution_count": 132,
     "metadata": {},
     "output_type": "execute_result"
    }
   ],
   "source": [
    "np.sqrt(arr)"
   ]
  },
  {
   "cell_type": "code",
   "execution_count": 133,
   "id": "d298a9a4-d1df-4e9c-886e-01b1884f3294",
   "metadata": {},
   "outputs": [
    {
     "data": {
      "text/plain": [
       "array([[0., 1., 2., 3., 4.],\n",
       "       [5., 6., 7., 8., 9.]])"
      ]
     },
     "execution_count": 133,
     "metadata": {},
     "output_type": "execute_result"
    }
   ],
   "source": [
    "np.ceil(arr)"
   ]
  },
  {
   "cell_type": "code",
   "execution_count": 140,
   "id": "3517dfc3-9638-4aac-a257-7302c5858c3f",
   "metadata": {},
   "outputs": [
    {
     "data": {
      "text/plain": [
       "array([[0., 1., 2., 3., 4.],\n",
       "       [5., 6., 7., 8., 9.]])"
      ]
     },
     "execution_count": 140,
     "metadata": {},
     "output_type": "execute_result"
    }
   ],
   "source": [
    "np.floor(arr)"
   ]
  },
  {
   "cell_type": "code",
   "execution_count": 134,
   "id": "2c364302-d904-43fb-894d-897d44285d77",
   "metadata": {},
   "outputs": [
    {
     "data": {
      "text/plain": [
       "array([[ 0,  1,  4,  9, 16],\n",
       "       [25, 36, 49, 64, 81]])"
      ]
     },
     "execution_count": 134,
     "metadata": {},
     "output_type": "execute_result"
    }
   ],
   "source": [
    "np.square(arr)"
   ]
  },
  {
   "cell_type": "code",
   "execution_count": 135,
   "id": "2bbe9b07-e3f8-48a9-b196-030a45b43600",
   "metadata": {},
   "outputs": [
    {
     "data": {
      "text/plain": [
       "array([[0.        , 1.        , 1.41421356, 1.73205081, 2.        ],\n",
       "       [2.23606798, 2.44948974, 2.64575131, 2.82842712, 3.        ]])"
      ]
     },
     "execution_count": 135,
     "metadata": {},
     "output_type": "execute_result"
    }
   ],
   "source": [
    "np.sqrt(arr)"
   ]
  },
  {
   "cell_type": "code",
   "execution_count": 137,
   "id": "92a4d0fa-87e7-4300-8c96-599293db90ab",
   "metadata": {},
   "outputs": [
    {
     "data": {
      "text/plain": [
       "array([[False, False, False, False, False],\n",
       "       [False, False, False, False, False]])"
      ]
     },
     "execution_count": 137,
     "metadata": {},
     "output_type": "execute_result"
    }
   ],
   "source": [
    "np.isnan(arr)"
   ]
  },
  {
   "cell_type": "code",
   "execution_count": 141,
   "id": "65e58c7f-72d3-4f71-90df-34ff421a87b8",
   "metadata": {},
   "outputs": [
    {
     "data": {
      "text/plain": [
       "array([[0., 1., 2., 3., 4.],\n",
       "       [5., 6., 7., 8., 9.]])"
      ]
     },
     "execution_count": 141,
     "metadata": {},
     "output_type": "execute_result"
    }
   ],
   "source": [
    "np.rint(arr) # 保留整数部分 保持dtype"
   ]
  },
  {
   "cell_type": "markdown",
   "id": "b601b95e-464c-4043-88a1-05200ff8cdf2",
   "metadata": {},
   "source": [
    "### 二元函数"
   ]
  },
  {
   "cell_type": "code",
   "execution_count": 142,
   "id": "568a5870-225b-4bdc-a5b4-08d8fc640a58",
   "metadata": {},
   "outputs": [
    {
     "data": {
      "text/plain": [
       "array([[ 0,  2,  4,  6,  8],\n",
       "       [10, 12, 14, 16, 18]])"
      ]
     },
     "execution_count": 142,
     "metadata": {},
     "output_type": "execute_result"
    }
   ],
   "source": [
    "np.add(arr,arr)"
   ]
  },
  {
   "cell_type": "markdown",
   "id": "9bcbb269-5198-4f59-aadb-e6c6bdadcb1f",
   "metadata": {},
   "source": [
    "### 数学统计"
   ]
  },
  {
   "cell_type": "code",
   "execution_count": 159,
   "id": "1a4d5dbf-6270-4283-b6b4-9e0ddeaad8e3",
   "metadata": {},
   "outputs": [
    {
     "data": {
      "text/plain": [
       "array([[-1.01078963, -0.5220288 ,  0.84057783, -1.56453809],\n",
       "       [-1.15457758, -0.04202476, -0.28870735, -0.12363833],\n",
       "       [ 1.09590559,  1.29519153, -0.30809618,  0.58349821],\n",
       "       [ 0.05678   , -0.16680382, -0.31469442, -1.35455557],\n",
       "       [ 0.02006958,  0.86191853,  0.74328583, -0.87269185]])"
      ]
     },
     "execution_count": 159,
     "metadata": {},
     "output_type": "execute_result"
    }
   ],
   "source": [
    "arr= np.random.randn(5,4)\n",
    "arr"
   ]
  },
  {
   "cell_type": "code",
   "execution_count": 149,
   "id": "ef1e116f-d807-4d61-ad0c-8ba6d0af7d48",
   "metadata": {},
   "outputs": [
    {
     "data": {
      "text/plain": [
       "0.09362223765049651"
      ]
     },
     "execution_count": 149,
     "metadata": {},
     "output_type": "execute_result"
    }
   ],
   "source": [
    "arr.mean() #同np.mean(arr)"
   ]
  },
  {
   "cell_type": "code",
   "execution_count": 150,
   "id": "a6ef274e-fec8-4157-b408-ed731513b22b",
   "metadata": {},
   "outputs": [
    {
     "data": {
      "text/plain": [
       "1.8724447530099304"
      ]
     },
     "execution_count": 150,
     "metadata": {},
     "output_type": "execute_result"
    }
   ],
   "source": [
    "arr.sum()"
   ]
  },
  {
   "cell_type": "code",
   "execution_count": 160,
   "id": "067ee894-45f5-4fb0-9e05-1aeb85c06071",
   "metadata": {},
   "outputs": [
    {
     "data": {
      "text/plain": [
       "array([-0.19852241,  0.28525054,  0.13447314, -0.66638513])"
      ]
     },
     "execution_count": 160,
     "metadata": {},
     "output_type": "execute_result"
    }
   ],
   "source": [
    "arr.mean(axis=0) # 沿0轴计算，也就是就算每列"
   ]
  },
  {
   "cell_type": "code",
   "execution_count": 162,
   "id": "a6ada483-6a4c-48bb-8fe7-c9eb2ba1b0e6",
   "metadata": {},
   "outputs": [
    {
     "data": {
      "text/plain": [
       "array([-0.56419467, -0.402237  ,  0.66662479, -0.44481845,  0.18814552])"
      ]
     },
     "execution_count": 162,
     "metadata": {},
     "output_type": "execute_result"
    }
   ],
   "source": [
    "arr.mean(axis=1) # 沿1轴计算,也就是计算每行。 在pandas中计算每行汇总值是也是一样axis=1"
   ]
  },
  {
   "cell_type": "code",
   "execution_count": 153,
   "id": "e0603446-6b36-4ba9-9a8c-c2e47d05747c",
   "metadata": {},
   "outputs": [],
   "source": [
    "#std标准差 var方差 "
   ]
  },
  {
   "cell_type": "markdown",
   "id": "27922599-8a5b-4815-a217-e75ec19797b2",
   "metadata": {},
   "source": [
    "![图片](https://pic4.zhimg.com/v2-dbc834c0ce121ecd73c2ae0d9fae754f_r.jpg)"
   ]
  },
  {
   "cell_type": "markdown",
   "id": "5f8059e5-44a0-4521-89e5-16680814c3c4",
   "metadata": {
    "tags": []
   },
   "source": [
    "### np.where"
   ]
  },
  {
   "cell_type": "code",
   "execution_count": 143,
   "id": "44e20daf-db04-4ed8-b09e-6bf94f091d60",
   "metadata": {},
   "outputs": [],
   "source": [
    "#np.where(cond,xarr,yarr) # 满足条件xarr,否则yarr"
   ]
  },
  {
   "cell_type": "code",
   "execution_count": 146,
   "id": "c8ae4000-8735-4288-b0f5-08037449cdc4",
   "metadata": {},
   "outputs": [
    {
     "data": {
      "text/plain": [
       "array([[0.59665122, 0.        , 0.        , 0.01753363],\n",
       "       [0.        , 0.        , 1.3663827 , 1.83700301],\n",
       "       [0.        , 0.37993148, 0.93758963, 1.43544351],\n",
       "       [0.        , 0.        , 0.04743717, 0.        ]])"
      ]
     },
     "execution_count": 146,
     "metadata": {},
     "output_type": "execute_result"
    }
   ],
   "source": [
    "arr =np.random.randn(4,4)\n",
    "np.where(arr>0,arr,0)"
   ]
  },
  {
   "cell_type": "code",
   "execution_count": 145,
   "id": "e8af8b27-7135-4545-9b13-2eb77b86b758",
   "metadata": {},
   "outputs": [
    {
     "data": {
      "text/plain": [
       "array([[-2, -2, -2,  2],\n",
       "       [ 2,  2,  2, -2],\n",
       "       [-2, -2, -2,  2],\n",
       "       [ 2, -2,  2,  2]])"
      ]
     },
     "execution_count": 145,
     "metadata": {},
     "output_type": "execute_result"
    }
   ],
   "source": [
    "np.where(arr>0,2,-2)"
   ]
  },
  {
   "cell_type": "code",
   "execution_count": 163,
   "id": "4e5431d7-73e0-455a-ba42-4fb72d4efa35",
   "metadata": {},
   "outputs": [],
   "source": [
    "###注意和pandas中 df.where不一样 #返回一个同样shape的df，当满足条件为TRUE时，从本身返回结果，否则从返回其他df的结果"
   ]
  },
  {
   "cell_type": "markdown",
   "id": "e8a8100c-1888-451a-8c5f-769e82656fb6",
   "metadata": {},
   "source": [
    "## 常用方法"
   ]
  },
  {
   "cell_type": "markdown",
   "id": "4b3cec02-2263-4e16-b239-731fecced903",
   "metadata": {},
   "source": [
    "### tolist"
   ]
  },
  {
   "cell_type": "code",
   "execution_count": 176,
   "id": "07829ae3-1256-45e1-a07f-2e1a23369a85",
   "metadata": {},
   "outputs": [
    {
     "data": {
      "text/plain": [
       "[[-2.025390625, -0.65185546875, -1.0107421875],\n",
       " [-0.267578125, 0.5576171875, -0.92236328125]]"
      ]
     },
     "execution_count": 176,
     "metadata": {},
     "output_type": "execute_result"
    }
   ],
   "source": [
    "arr = np.random.randn(2,3)\n",
    "arr = arr.astype(\"float16\")\n",
    "arr.tolist()"
   ]
  },
  {
   "cell_type": "markdown",
   "id": "d3d88611-cbfb-4d1d-a9a1-2e86bf223f65",
   "metadata": {},
   "source": [
    "### column_stack"
   ]
  },
  {
   "cell_type": "raw",
   "id": "17ac96fe-feef-46a1-8881-bb2124db73e4",
   "metadata": {},
   "source": [
    "Stack 1-D arrays as columns into a 2-D array."
   ]
  },
  {
   "cell_type": "code",
   "execution_count": 185,
   "id": "fa34772b-b8c5-476e-80d0-f3d91d3d2e62",
   "metadata": {},
   "outputs": [
    {
     "data": {
      "text/plain": [
       "array([[ 1,  8],\n",
       "       [ 2,  9],\n",
       "       [ 3, 10]])"
      ]
     },
     "execution_count": 185,
     "metadata": {},
     "output_type": "execute_result"
    }
   ],
   "source": [
    "a = np.array((1,2,3))\n",
    "b = np.array((8,9,10))\n",
    "np.column_stack( (a,b) )"
   ]
  },
  {
   "cell_type": "code",
   "execution_count": 195,
   "id": "dbee384b-dfa3-424e-8e44-493e7037aae9",
   "metadata": {},
   "outputs": [],
   "source": [
    "# 增加一列,比如增加列index列"
   ]
  },
  {
   "cell_type": "code",
   "execution_count": 198,
   "id": "5a636244-9a4c-4b39-8612-588f71793172",
   "metadata": {},
   "outputs": [
    {
     "data": {
      "text/plain": [
       "array([[ 0,  1,  2,  3,  4,  5,  6,  7,  0],\n",
       "       [ 8,  9, 10, 11, 12, 13, 14, 15,  1],\n",
       "       [16, 17, 18, 19, 20, 21, 22, 23,  2],\n",
       "       [24, 25, 26, 27, 28, 29, 30, 31,  3]])"
      ]
     },
     "execution_count": 198,
     "metadata": {},
     "output_type": "execute_result"
    }
   ],
   "source": [
    "c1 = np.arange(32).reshape(4,8)\n",
    "c1\n",
    "c2 = np.column_stack( ( c1,np.arange(4) ) )\n",
    "# c2 = np.column_stack( [ c1,np.arange(4) ] ) 和上面是等价的\n",
    "c2"
   ]
  },
  {
   "cell_type": "markdown",
   "id": "006f9eec-dff5-4ae8-bf25-e4d1a9e35c7d",
   "metadata": {},
   "source": [
    "### row_stack"
   ]
  },
  {
   "cell_type": "code",
   "execution_count": 199,
   "id": "86a9328c-d2fb-4236-a1bc-2ac87dbbab9e",
   "metadata": {},
   "outputs": [
    {
     "data": {
      "text/plain": [
       "array([[ 1,  2,  3],\n",
       "       [ 8,  9, 10]])"
      ]
     },
     "execution_count": 199,
     "metadata": {},
     "output_type": "execute_result"
    }
   ],
   "source": [
    "a = np.array((1,2,3))\n",
    "b = np.array((8,9,10))\n",
    "np.row_stack( (a,b) )"
   ]
  },
  {
   "cell_type": "markdown",
   "id": "14f2aa3c-c45e-4d7b-9e23-259a781e3bea",
   "metadata": {},
   "source": [
    "### argwhere"
   ]
  },
  {
   "cell_type": "raw",
   "id": "605b38a0-c149-4e8d-8b44-b019cf5bdb92",
   "metadata": {},
   "source": [
    "np.argwhere(a) #返回非0的数组元组的索引，其中a是要索引数组的条件。 a是arrlike"
   ]
  },
  {
   "cell_type": "code",
   "execution_count": 201,
   "id": "4a55f75f-a060-481f-bba2-a341da14cb55",
   "metadata": {},
   "outputs": [],
   "source": [
    "arr = np.array([[0, 1, 2],\n",
    "       [3, 4, 5]])"
   ]
  },
  {
   "cell_type": "code",
   "execution_count": 204,
   "id": "fe14331d-087e-4a09-93e6-2fb1e3e34f71",
   "metadata": {},
   "outputs": [
    {
     "data": {
      "text/plain": [
       "array([[0, 2],\n",
       "       [1, 0],\n",
       "       [1, 1],\n",
       "       [1, 2]])"
      ]
     },
     "execution_count": 204,
     "metadata": {},
     "output_type": "execute_result"
    }
   ],
   "source": [
    "np.argwhere(arr>1) #返回数组中所有大于1的数字的索引值。"
   ]
  },
  {
   "cell_type": "code",
   "execution_count": 240,
   "id": "f304f77f-b945-4d4a-aa9b-8cbc59462541",
   "metadata": {},
   "outputs": [],
   "source": [
    "h = 10\n",
    "w = 3\n",
    "mask_layer = np.zeros((h,w, 3), np.uint8)\n",
    "# mask_layer\n",
    "color = (0,0,0) # rgb\n",
    "\n",
    "mask_layer == color\n",
    "\n",
    "pixels = np.argwhere(mask_layer == color)\n",
    "# pixels"
   ]
  },
  {
   "cell_type": "code",
   "execution_count": 247,
   "id": "f654fa22-aec9-4294-a8ad-ba0f6ce891e3",
   "metadata": {},
   "outputs": [
    {
     "data": {
      "text/plain": [
       "array([[0, 1, 2]])"
      ]
     },
     "execution_count": 247,
     "metadata": {},
     "output_type": "execute_result"
    }
   ],
   "source": [
    "arr = np.array([[0, 1, 2],\n",
    "       [3, 4, 5]])\n",
    "arr[::2,:] # star end step  #注意有逗号和没逗号的区分"
   ]
  },
  {
   "cell_type": "code",
   "execution_count": null,
   "id": "fc152d8b-0bc7-4995-8c85-2547f8cbf75c",
   "metadata": {},
   "outputs": [],
   "source": []
  }
 ],
 "metadata": {
  "kernelspec": {
   "display_name": "Python 3 (ipykernel)",
   "language": "python",
   "name": "python3"
  },
  "language_info": {
   "codemirror_mode": {
    "name": "ipython",
    "version": 3
   },
   "file_extension": ".py",
   "mimetype": "text/x-python",
   "name": "python",
   "nbconvert_exporter": "python",
   "pygments_lexer": "ipython3",
   "version": "3.7.11"
  },
  "toc-autonumbering": true,
  "toc-showmarkdowntxt": true
 },
 "nbformat": 4,
 "nbformat_minor": 5
}
