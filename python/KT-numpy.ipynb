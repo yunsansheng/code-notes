{
 "cells": [
  {
   "cell_type": "code",
   "execution_count": 1,
   "id": "7d2ef524-1380-438a-9669-3c2c953de036",
   "metadata": {},
   "outputs": [],
   "source": [
    "import numpy as np\n",
    "#ndarray高效的多维数组，便捷的算术功能和灵活的广播功能"
   ]
  },
  {
   "cell_type": "markdown",
   "id": "2554d101-2b48-4180-945c-a7eb02a97e77",
   "metadata": {
    "tags": []
   },
   "source": [
    "# ndarray"
   ]
  },
  {
   "cell_type": "code",
   "execution_count": 2,
   "id": "ce2c42c0-60c0-458e-9b16-6a1377d9f89c",
   "metadata": {},
   "outputs": [
    {
     "data": {
      "text/plain": [
       "array([ 0,  1,  2,  3,  4,  5,  6,  7,  8,  9, 10, 11, 12, 13, 14, 15, 16,\n",
       "       17, 18, 19, 20, 21, 22, 23, 24, 25, 26, 27, 28, 29, 30, 31, 32, 33,\n",
       "       34, 35, 36, 37, 38, 39, 40, 41, 42, 43, 44, 45, 46, 47, 48, 49, 50,\n",
       "       51, 52, 53, 54, 55, 56, 57, 58, 59, 60, 61, 62, 63, 64, 65, 66, 67,\n",
       "       68, 69, 70, 71, 72, 73, 74, 75, 76, 77, 78, 79, 80, 81, 82, 83, 84,\n",
       "       85, 86, 87, 88, 89, 90, 91, 92, 93, 94, 95, 96, 97, 98, 99])"
      ]
     },
     "execution_count": 2,
     "metadata": {},
     "output_type": "execute_result"
    }
   ],
   "source": [
    "np.arange(100) #numpy版本的 range 的ndarray\n",
    "#type(np.arange(100)) #numpy.ndarray"
   ]
  },
  {
   "cell_type": "code",
   "execution_count": 3,
   "id": "173cb69d-45d4-4f34-9d79-e49996a17258",
   "metadata": {},
   "outputs": [
    {
     "data": {
      "text/plain": [
       "array([[0.89199571, 0.51772726, 0.64159027],\n",
       "       [0.75270486, 0.32134083, 0.95337597]])"
      ]
     },
     "execution_count": 3,
     "metadata": {},
     "output_type": "execute_result"
    }
   ],
   "source": [
    "np.random.rand(2,3) #rand函数根据给定维度生成[0,1)之间的数据，包含0，不包含1"
   ]
  },
  {
   "cell_type": "code",
   "execution_count": 4,
   "id": "f9140848-1a6e-44f1-b1a4-f1de06fa5b10",
   "metadata": {},
   "outputs": [
    {
     "data": {
      "text/plain": [
       "array([[-0.075917  , -0.34828164, -0.64694155],\n",
       "       [ 0.29311645, -1.29848842,  0.26311527]])"
      ]
     },
     "execution_count": 4,
     "metadata": {},
     "output_type": "execute_result"
    }
   ],
   "source": [
    "np.random.randn(2,3) #返回一个或一组样本，具有标准正态分布。"
   ]
  },
  {
   "cell_type": "markdown",
   "id": "6bbb6e80-c7b7-4b04-85ed-98b61360d342",
   "metadata": {},
   "source": [
    "## np.array"
   ]
  },
  {
   "cell_type": "code",
   "execution_count": 12,
   "id": "2ca5d58a-c0b5-440f-a3c5-a315b7f53e75",
   "metadata": {},
   "outputs": [
    {
     "data": {
      "text/plain": [
       "1"
      ]
     },
     "execution_count": 12,
     "metadata": {},
     "output_type": "execute_result"
    }
   ],
   "source": [
    "arr = np.array([1,2,3])\n",
    "type(arr)  # numpy.ndarray\n",
    "arr.shape # (3,)\n",
    "arr.ndim # 1"
   ]
  },
  {
   "cell_type": "code",
   "execution_count": 18,
   "id": "58c0b422-66b1-4ad8-bf53-4bd4ea91d096",
   "metadata": {},
   "outputs": [
    {
     "data": {
      "text/plain": [
       "2"
      ]
     },
     "execution_count": 18,
     "metadata": {},
     "output_type": "execute_result"
    }
   ],
   "source": [
    "arr2 = np.random.rand(3,5)\n",
    "arr2.shape # (3, 5)\n",
    "arr2.ndim # 2"
   ]
  },
  {
   "cell_type": "code",
   "execution_count": 21,
   "id": "2152e9c7-1635-4f82-ac54-104894878734",
   "metadata": {},
   "outputs": [
    {
     "data": {
      "text/plain": [
       "3"
      ]
     },
     "execution_count": 21,
     "metadata": {},
     "output_type": "execute_result"
    }
   ],
   "source": [
    "arr3 = np.random.rand(3,5,2)\n",
    "arr3.shape # (3, 5, 2)\n",
    "arr3.ndim # 3"
   ]
  },
  {
   "cell_type": "markdown",
   "id": "37c2d126-2da3-41f4-8e93-a72a1cf0edeb",
   "metadata": {},
   "source": [
    "## np.empty"
   ]
  },
  {
   "cell_type": "code",
   "execution_count": 22,
   "id": "31036f1d-a83f-471c-be6a-b427d7108f0f",
   "metadata": {},
   "outputs": [
    {
     "data": {
      "text/plain": [
       "array([[[4.67679745e-310, 0.00000000e+000],\n",
       "        [1.03977794e-312, 9.54898106e-313],\n",
       "        [1.08221785e-312, 1.01855798e-312]],\n",
       "\n",
       "       [[1.23075756e-312, 1.10343781e-312],\n",
       "        [1.10343781e-312, 9.76118064e-313],\n",
       "        [1.16709769e-312, 1.90979621e-312]]])"
      ]
     },
     "execution_count": 22,
     "metadata": {},
     "output_type": "execute_result"
    }
   ],
   "source": [
    "np.empty((2,3)) #并不安全，有时候会返回为初始化的垃圾数值\n",
    "np.empty((2,3,2))"
   ]
  },
  {
   "cell_type": "markdown",
   "id": "021b240e-74f2-427b-87ba-1fa1731251d3",
   "metadata": {
    "tags": []
   },
   "source": [
    "## np.zeros"
   ]
  },
  {
   "cell_type": "code",
   "execution_count": 24,
   "id": "68a9e662-eed7-40db-b91f-d843c2e6980a",
   "metadata": {},
   "outputs": [
    {
     "data": {
      "text/plain": [
       "array([[0., 0., 0.],\n",
       "       [0., 0., 0.]])"
      ]
     },
     "execution_count": 24,
     "metadata": {},
     "output_type": "execute_result"
    }
   ],
   "source": [
    "np.zeros((2,3))"
   ]
  },
  {
   "cell_type": "markdown",
   "id": "5f6576db-6784-49e7-b75b-2048acbf05dd",
   "metadata": {},
   "source": [
    "## np.ones"
   ]
  },
  {
   "cell_type": "code",
   "execution_count": 25,
   "id": "f68c57a8-3c05-4987-a152-383d90478996",
   "metadata": {},
   "outputs": [
    {
     "data": {
      "text/plain": [
       "array([[1., 1., 1.],\n",
       "       [1., 1., 1.]])"
      ]
     },
     "execution_count": 25,
     "metadata": {},
     "output_type": "execute_result"
    }
   ],
   "source": [
    "np.ones((2,3))"
   ]
  },
  {
   "cell_type": "markdown",
   "id": "6db74507-c6d5-49c3-a4b9-35d7b3be8a09",
   "metadata": {},
   "source": [
    "## numpy.full"
   ]
  },
  {
   "cell_type": "raw",
   "id": "62c02bfd-a9ab-4e31-96c2-3777df93758b",
   "metadata": {},
   "source": [
    "numpy.full(shape, fill_value, dtype=None, order='C')"
   ]
  },
  {
   "cell_type": "code",
   "execution_count": 26,
   "id": "17d7619b-146c-4492-8937-1074f2bf56d4",
   "metadata": {},
   "outputs": [
    {
     "data": {
      "text/plain": [
       "array([[8, 8, 8],\n",
       "       [8, 8, 8]])"
      ]
     },
     "execution_count": 26,
     "metadata": {},
     "output_type": "execute_result"
    }
   ],
   "source": [
    "np.full((2,3),8,dtype='int64')"
   ]
  },
  {
   "cell_type": "markdown",
   "id": "640035e9-50f3-4a69-aecc-e0524777fd4a",
   "metadata": {},
   "source": [
    "# 算术和广播"
   ]
  },
  {
   "cell_type": "code",
   "execution_count": 28,
   "id": "be943b73-5f1b-4f11-bbaf-7eb4aa183d78",
   "metadata": {},
   "outputs": [
    {
     "data": {
      "text/plain": [
       "array([[0.12919611, 0.28649054, 0.45151874],\n",
       "       [0.79475645, 0.06446997, 0.22706756]])"
      ]
     },
     "execution_count": 28,
     "metadata": {},
     "output_type": "execute_result"
    }
   ],
   "source": [
    "k = np.random.rand(2,3)\n",
    "k"
   ]
  },
  {
   "cell_type": "code",
   "execution_count": 29,
   "id": "4cc01b61-ccf9-4125-bc41-5a0c870de542",
   "metadata": {},
   "outputs": [
    {
     "data": {
      "text/plain": [
       "array([[0.25839222, 0.57298108, 0.90303748],\n",
       "       [1.58951289, 0.12893994, 0.45413512]])"
      ]
     },
     "execution_count": 29,
     "metadata": {},
     "output_type": "execute_result"
    }
   ],
   "source": [
    "k+k"
   ]
  },
  {
   "cell_type": "code",
   "execution_count": 30,
   "id": "d87f7492-7ecb-458c-a26b-7985e423125b",
   "metadata": {},
   "outputs": [
    {
     "data": {
      "text/plain": [
       "array([[1.29196108, 2.86490542, 4.51518739],\n",
       "       [7.94756446, 0.64469971, 2.27067559]])"
      ]
     },
     "execution_count": 30,
     "metadata": {},
     "output_type": "execute_result"
    }
   ],
   "source": [
    "k*10"
   ]
  },
  {
   "cell_type": "code",
   "execution_count": null,
   "id": "a0cfddbb-03a9-418d-b17d-40cc58f7bb15",
   "metadata": {},
   "outputs": [],
   "source": [
    "k"
   ]
  }
 ],
 "metadata": {
  "kernelspec": {
   "display_name": "Python 3 (ipykernel)",
   "language": "python",
   "name": "python3"
  },
  "language_info": {
   "codemirror_mode": {
    "name": "ipython",
    "version": 3
   },
   "file_extension": ".py",
   "mimetype": "text/x-python",
   "name": "python",
   "nbconvert_exporter": "python",
   "pygments_lexer": "ipython3",
   "version": "3.7.11"
  }
 },
 "nbformat": 4,
 "nbformat_minor": 5
}
