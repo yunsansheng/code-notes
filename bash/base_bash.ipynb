{
 "cells": [
  {
   "cell_type": "code",
   "execution_count": 1,
   "id": "923416d7-8c4f-437b-8cfd-57948e456e94",
   "metadata": {},
   "outputs": [
    {
     "name": "stdout",
     "output_type": "stream",
     "text": [
      "total 16\n",
      "drwxr-xr-x 3 root root 4096 Nov  7 13:22 .\n",
      "drwxr-xr-x 8 root root 4096 Nov  7 13:17 ..\n",
      "drwxr-xr-x 2 root root 4096 Nov  7 13:21 .ipynb_checkpoints\n",
      "-rw-r--r-- 1 root root  459 Nov  7 13:22 base_bash.ipynb\n"
     ]
    }
   ],
   "source": [
    "ls -la"
   ]
  },
  {
   "cell_type": "code",
   "execution_count": 2,
   "id": "8f35ce85-ed2d-44e2-9155-c7d2e3f5616b",
   "metadata": {},
   "outputs": [
    {
     "name": "stdout",
     "output_type": "stream",
     "text": [
      "64\n"
     ]
    }
   ],
   "source": [
    "getconf LONG_BIT # 32位Linux系统显示32， 64位Linux系统显示64。"
   ]
  },
  {
   "cell_type": "code",
   "execution_count": 3,
   "id": "58fc9f54-5a7d-4236-8c23-8e0cceacb626",
   "metadata": {},
   "outputs": [
    {
     "name": "stdout",
     "output_type": "stream",
     "text": [
      "Linux\n"
     ]
    }
   ],
   "source": [
    "uname"
   ]
  },
  {
   "cell_type": "code",
   "execution_count": 4,
   "id": "f667239b-19e8-434e-9a90-f86b4c3aee7d",
   "metadata": {},
   "outputs": [
    {
     "name": "stdout",
     "output_type": "stream",
     "text": [
      "Linux e1f837876f64 3.10.0-1160.31.1.el7.x86_64 #1 SMP Thu Jun 10 13:32:12 UTC 2021 x86_64 GNU/Linux\n"
     ]
    }
   ],
   "source": [
    "uname -a"
   ]
  },
  {
   "cell_type": "code",
   "execution_count": null,
   "id": "5427c672-4598-4d16-9bfc-fd994edf6086",
   "metadata": {},
   "outputs": [],
   "source": []
  },
  {
   "cell_type": "code",
   "execution_count": null,
   "id": "8726bef3-7549-4fa2-bd7d-94e9463f8f05",
   "metadata": {},
   "outputs": [],
   "source": []
  }
 ],
 "metadata": {
  "kernelspec": {
   "display_name": "Bash",
   "language": "bash",
   "name": "bash"
  },
  "language_info": {
   "codemirror_mode": "shell",
   "file_extension": ".sh",
   "mimetype": "text/x-sh",
   "name": "bash"
  }
 },
 "nbformat": 4,
 "nbformat_minor": 5
}
