{
 "cells": [
  {
   "cell_type": "code",
   "execution_count": 1,
   "id": "923416d7-8c4f-437b-8cfd-57948e456e94",
   "metadata": {},
   "outputs": [
    {
     "name": "stdout",
     "output_type": "stream",
     "text": [
      "total 16\n",
      "drwxr-xr-x 3 root root 4096 Nov  7 13:22 .\n",
      "drwxr-xr-x 8 root root 4096 Nov  7 13:17 ..\n",
      "drwxr-xr-x 2 root root 4096 Nov  7 13:21 .ipynb_checkpoints\n",
      "-rw-r--r-- 1 root root  459 Nov  7 13:22 base_bash.ipynb\n"
     ]
    }
   ],
   "source": [
    "ls -la"
   ]
  },
  {
   "cell_type": "code",
   "execution_count": null,
   "id": "8f35ce85-ed2d-44e2-9155-c7d2e3f5616b",
   "metadata": {},
   "outputs": [],
   "source": []
  }
 ],
 "metadata": {
  "kernelspec": {
   "display_name": "Bash",
   "language": "bash",
   "name": "bash"
  },
  "language_info": {
   "codemirror_mode": "shell",
   "file_extension": ".sh",
   "mimetype": "text/x-sh",
   "name": "bash"
  }
 },
 "nbformat": 4,
 "nbformat_minor": 5
}
