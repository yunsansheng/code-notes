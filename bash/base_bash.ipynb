{
 "cells": [
  {
   "cell_type": "code",
   "execution_count": 1,
   "id": "923416d7-8c4f-437b-8cfd-57948e456e94",
   "metadata": {},
   "outputs": [
    {
     "name": "stdout",
     "output_type": "stream",
     "text": [
      "total 16\n",
      "drwxr-xr-x 3 root root 4096 Nov  7 13:22 .\n",
      "drwxr-xr-x 8 root root 4096 Nov  7 13:17 ..\n",
      "drwxr-xr-x 2 root root 4096 Nov  7 13:21 .ipynb_checkpoints\n",
      "-rw-r--r-- 1 root root  459 Nov  7 13:22 base_bash.ipynb\n"
     ]
    }
   ],
   "source": [
    "ls -la"
   ]
  },
  {
   "cell_type": "code",
   "execution_count": 2,
   "id": "8f35ce85-ed2d-44e2-9155-c7d2e3f5616b",
   "metadata": {},
   "outputs": [
    {
     "name": "stdout",
     "output_type": "stream",
     "text": [
      "64\n"
     ]
    }
   ],
   "source": [
    "getconf LONG_BIT # 32位Linux系统显示32， 64位Linux系统显示64。"
   ]
  },
  {
   "cell_type": "code",
   "execution_count": 3,
   "id": "58fc9f54-5a7d-4236-8c23-8e0cceacb626",
   "metadata": {},
   "outputs": [
    {
     "name": "stdout",
     "output_type": "stream",
     "text": [
      "Linux\n"
     ]
    }
   ],
   "source": [
    "uname"
   ]
  },
  {
   "cell_type": "code",
   "execution_count": 4,
   "id": "f667239b-19e8-434e-9a90-f86b4c3aee7d",
   "metadata": {},
   "outputs": [
    {
     "name": "stdout",
     "output_type": "stream",
     "text": [
      "Linux e1f837876f64 3.10.0-1160.31.1.el7.x86_64 #1 SMP Thu Jun 10 13:32:12 UTC 2021 x86_64 GNU/Linux\n"
     ]
    }
   ],
   "source": [
    "uname -a"
   ]
  },
  {
   "cell_type": "code",
   "execution_count": null,
   "id": "5427c672-4598-4d16-9bfc-fd994edf6086",
   "metadata": {},
   "outputs": [],
   "source": []
  },
  {
   "cell_type": "raw",
   "id": "a9b33bd4-e4f3-4330-87ad-d20e8a936cd8",
   "metadata": {},
   "source": [
    "ssh-keygen -t rsa -f ~/.ssh/sftp_rsa -C \"aragonsftp\"\n",
    "-t 加密方式\n",
    "-f 文件存储目录和名称\n",
    "-C 备注"
   ]
  },
  {
   "cell_type": "markdown",
   "id": "0d92cfc8-1ef4-493a-aa6f-93e6b8147c79",
   "metadata": {},
   "source": [
    "# rclone"
   ]
  },
  {
   "cell_type": "raw",
   "id": "0fca9112-7ed6-4f94-8c43-bc42cc2d361b",
   "metadata": {},
   "source": [
    "https://rclone.org/downloads/"
   ]
  },
  {
   "cell_type": "raw",
   "id": "34d638ec-c91b-48c8-aeef-0eb684a347aa",
   "metadata": {},
   "source": [
    "#查看已完成配置\n",
    "rclone config show"
   ]
  },
  {
   "cell_type": "raw",
   "id": "32d71143-5845-4632-94a2-8e197d9e909e",
   "metadata": {},
   "source": [
    "#查看文件\n",
    "rclone lsd volces-tos:bucket-demo \n",
    "rclone lsd aragonsftp:MSA_MYS/"
   ]
  },
  {
   "cell_type": "markdown",
   "id": "1079a476-e3f1-4ac1-8b52-259a286b83c9",
   "metadata": {},
   "source": [
    "## sftp + rclone"
   ]
  },
  {
   "cell_type": "raw",
   "id": "5af70b5e-4706-469e-a630-26d3af16c708",
   "metadata": {},
   "source": [
    "https://zhuanlan.zhihu.com/p/441077229\n",
    "https://www.volcengine.com/docs/6349/81434"
   ]
  },
  {
   "cell_type": "code",
   "execution_count": null,
   "id": "a7a64152-4cc2-4415-a6c4-9802d2ac1768",
   "metadata": {},
   "outputs": [],
   "source": [
    "copy和sync的作用\n",
    "rclone copy - Copy files from source to dest, skipping already copied\n",
    "rclone sync - Make source and dest identical, modifying destination only."
   ]
  },
  {
   "cell_type": "markdown",
   "id": "9dd73728-66a3-4581-b976-e9b0b09958cb",
   "metadata": {},
   "source": [
    "### 上传本地文件"
   ]
  },
  {
   "cell_type": "raw",
   "id": "26650d65-4c0c-4563-b348-8cacdd2a8ef1",
   "metadata": {},
   "source": [
    "rclone copy source:sourcepath dest:destpath"
   ]
  },
  {
   "cell_type": "code",
   "execution_count": null,
   "id": "36ab5720-754a-4dc0-8644-dda9678d3285",
   "metadata": {},
   "outputs": [],
   "source": [
    "将本地文件夹中testdir中的所有文件复制到bucket-demo桶中，并放置到桶根目录下，可执行如下命令。"
   ]
  },
  {
   "cell_type": "code",
   "execution_count": null,
   "id": "ab2d44d7-c45c-4f58-848d-98556d04b5bd",
   "metadata": {},
   "outputs": [],
   "source": [
    "rclone copy testdir volces-tos:bucket-demo"
   ]
  },
  {
   "cell_type": "code",
   "execution_count": null,
   "id": "8c4594d8-717c-4517-876e-782c89d5b8ce",
   "metadata": {},
   "outputs": [],
   "source": [
    "rclone copy aragonsftp:MSA_MYS/10000 /tmp/test "
   ]
  },
  {
   "cell_type": "markdown",
   "id": "79322e84-6b0e-4462-a700-905a6e1398a6",
   "metadata": {
    "tags": []
   },
   "source": [
    "### 同步本地目录 会删除"
   ]
  },
  {
   "cell_type": "raw",
   "id": "3ce62b08-e68e-4aa1-a908-0d159a82a19b",
   "metadata": {},
   "source": [
    "rclone sync source:path dest:path [flags]"
   ]
  },
  {
   "cell_type": "code",
   "execution_count": null,
   "id": "2334f7b8-78bd-4b7b-a8eb-fc7ce7592263",
   "metadata": {},
   "outputs": [],
   "source": [
    "如果您需要让桶内testdir文件夹中数据和本地文件夹testdir完全一致，可执行如下命令"
   ]
  },
  {
   "cell_type": "code",
   "execution_count": null,
   "id": "c1fc50d1-ff29-47b4-b03f-fdf5f399e97d",
   "metadata": {},
   "outputs": [],
   "source": [
    "rclone sync testdir volces-tos:bucket-demo/testdir"
   ]
  },
  {
   "cell_type": "code",
   "execution_count": null,
   "id": "d4bc6d16-e9f7-42b4-bffb-fa83052822c5",
   "metadata": {},
   "outputs": [],
   "source": [
    "rclone sync aragonsftp:MSA_MYS/10000 /tmp/test"
   ]
  }
 ],
 "metadata": {
  "kernelspec": {
   "display_name": "Bash",
   "language": "bash",
   "name": "bash"
  },
  "language_info": {
   "codemirror_mode": "shell",
   "file_extension": ".sh",
   "mimetype": "text/x-sh",
   "name": "bash"
  }
 },
 "nbformat": 4,
 "nbformat_minor": 5
}
