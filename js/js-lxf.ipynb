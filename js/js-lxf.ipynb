{
 "cells": [
  {
   "cell_type": "markdown",
   "id": "0961f5aa-f6ce-4763-8c10-713ce7c0d47e",
   "metadata": {},
   "source": [
    "# 基本语法"
   ]
  },
  {
   "cell_type": "raw",
   "id": "64517848-6c33-4a10-8d2c-0a436a1756fb",
   "metadata": {},
   "source": [
    "数据类型\n",
    "- Number\n",
    "- 字符串\n",
    "- 布尔值 true false\n",
    "- 对象\n",
    "- 数组"
   ]
  },
  {
   "cell_type": "code",
   "execution_count": 1,
   "id": "663d7c19-cf94-4d52-93d2-7c9408a5556d",
   "metadata": {},
   "outputs": [
    {
     "data": {
      "text/plain": [
       "Infinity"
      ]
     },
     "execution_count": 1,
     "metadata": {},
     "output_type": "execute_result"
    }
   ],
   "source": [
    "//number\n",
    "123; // 整数123\n",
    "0.456; // 浮点数0.456\n",
    "1.2345e3; // 科学计数法表示1.2345x1000，等同于1234.5\n",
    "-99; // 负数\n",
    "NaN; // NaN表示Not a Number，当无法计算结果时用NaN表示\n",
    "Infinity; // Infinity表示无限大，当数值超过了JavaScript的Number所能表示的最大值时，就表示为Infinity"
   ]
  },
  {
   "cell_type": "code",
   "execution_count": null,
   "id": "e690efbe-7371-489f-9099-b4e9dcce9f66",
   "metadata": {},
   "outputs": [],
   "source": [
    "&& //and\n",
    "|| //or\n",
    "! //not"
   ]
  },
  {
   "cell_type": "code",
   "execution_count": null,
   "id": "049ccbcb-15ed-4f71-9bf5-fa03a932198a",
   "metadata": {},
   "outputs": [],
   "source": [
    "比较运算符\n",
    "== //会转化类型\n",
    "=== //一定要使用这个\n",
    "NaN === NaN; // false\n",
    "isNaN(NaN); // true 唯一能判断NaN的方法是通过isNaN()函数："
   ]
  },
  {
   "cell_type": "raw",
   "id": "3cfd787f-bdfd-45e3-ae39-4ab497f47d6f",
   "metadata": {},
   "source": [
    "null undefined 我们都应该用null。undefined 仅仅在判断函数参数是否传递的情况下有用。"
   ]
  },
  {
   "cell_type": "code",
   "execution_count": 4,
   "id": "acd90bec-187f-482c-893c-4ceedba93b74",
   "metadata": {},
   "outputs": [
    {
     "data": {
      "text/plain": [
       "true"
      ]
     },
     "execution_count": 4,
     "metadata": {},
     "output_type": "execute_result"
    }
   ],
   "source": [
    "var a = null \n",
    "a == null //true\n",
    "var b = undefined\n",
    "b == undefined //true"
   ]
  },
  {
   "cell_type": "code",
   "execution_count": 6,
   "id": "d0072fef-11f4-4637-8098-eaebda5a85dc",
   "metadata": {},
   "outputs": [],
   "source": [
    "//JavaScript的对象是一组由键-值组成的无序集合\n",
    "var person = {\n",
    "    name: 'Bob',\n",
    "    age: 20,\n",
    "    tags: ['js', 'web', 'mobile'],\n",
    "    city: 'Beijing',\n",
    "    hasCar: true,\n",
    "    zipcode: null\n",
    "};"
   ]
  },
  {
   "cell_type": "code",
   "execution_count": null,
   "id": "9453f169-4b25-40ea-b172-5631f908fd7a",
   "metadata": {},
   "outputs": [],
   "source": [
    "//怎么把对象序列成json\n",
    "JSON.stringify(person)"
   ]
  },
  {
   "cell_type": "code",
   "execution_count": 8,
   "id": "1de32f13-c0cb-4832-b02d-34e1d0c4e6eb",
   "metadata": {},
   "outputs": [
    {
     "name": "stdout",
     "output_type": "stream",
     "text": [
      "undefined\n"
     ]
    },
    {
     "data": {
      "text/plain": [
       "null"
      ]
     },
     "execution_count": 8,
     "metadata": {},
     "output_type": "execute_result"
    }
   ],
   "source": [
    "person.name //'Bob'\n",
    "console.log(person.abc) //undefind\n",
    "person.zipcode //null"
   ]
  },
  {
   "cell_type": "code",
   "execution_count": 9,
   "id": "fa418bb3-eaa6-4990-b91b-531292c52de6",
   "metadata": {},
   "outputs": [],
   "source": [
    "//一定要使用var 来定义变量，否则就是一个全局变量\n",
    "var a = 1"
   ]
  },
  {
   "cell_type": "code",
   "execution_count": 10,
   "id": "74978856-bdf8-4dc7-b360-249229ba6a8f",
   "metadata": {},
   "outputs": [
    {
     "data": {
      "text/plain": [
       "'\\n这是一个多行字符\\n这是多行\\n'"
      ]
     },
     "execution_count": 10,
     "metadata": {},
     "output_type": "execute_result"
    }
   ],
   "source": [
    "`\n",
    "这是一个多行字符\n",
    "这是多行\n",
    "`"
   ]
  },
  {
   "cell_type": "code",
   "execution_count": 11,
   "id": "9dc5f5f2-cbbf-4de8-93ea-1974242728a2",
   "metadata": {},
   "outputs": [
    {
     "name": "stdout",
     "output_type": "stream",
     "text": [
      "你好, 小明, 你今年20岁了!\n"
     ]
    }
   ],
   "source": [
    "var name = '小明';\n",
    "var age = 20;\n",
    "var message = '你好, ' + name + ', 你今年' + age + '岁了!';\n",
    "console.log(message) //用+连接字符串"
   ]
  },
  {
   "cell_type": "code",
   "execution_count": 12,
   "id": "efc0479f-9395-4600-a64b-37c81bdca971",
   "metadata": {},
   "outputs": [],
   "source": [
    "var b = 1+'abc' //会强制转化类型"
   ]
  },
  {
   "cell_type": "code",
   "execution_count": 13,
   "id": "83b96956-0fd4-4344-bb8c-64069e92f28c",
   "metadata": {},
   "outputs": [
    {
     "data": {
      "text/plain": [
       "'1'"
      ]
     },
     "execution_count": 13,
     "metadata": {},
     "output_type": "execute_result"
    }
   ],
   "source": [
    "//数值转字符串\n",
    "a = 1\n",
    "a.toString()"
   ]
  },
  {
   "cell_type": "code",
   "execution_count": null,
   "id": "a4cfa824-aeb1-45de-8d1b-914d609b4c5d",
   "metadata": {},
   "outputs": [],
   "source": [
    "//字符串常用操作\n",
    "var s = 'Hello, world!';\n",
    "s.length; // 13\n",
    "s[0]\n",
    "s[13]; // undefined 超出范围的索引不会报错，但一律返回undefined\n",
    "\n",
    "s.toUpperCase();\n",
    "s.toLowerCase()\n",
    "\n",
    "s.indexOf('l') // 如果没有找到指定的子串，返回-1\n",
    "\n",
    "s.substring(0, 5); \n",
    "s.substring(7); "
   ]
  },
  {
   "cell_type": "code",
   "execution_count": 14,
   "id": "093bb102-b62d-48c2-a4a7-018962906d38",
   "metadata": {},
   "outputs": [
    {
     "data": {
      "text/plain": [
       "6"
      ]
     },
     "execution_count": 14,
     "metadata": {},
     "output_type": "execute_result"
    }
   ],
   "source": [
    "var arr = [1, 2, 3.14, 'Hello', null, true];\n",
    "arr.length"
   ]
  },
  {
   "cell_type": "code",
   "execution_count": 15,
   "id": "23f2a5cb-6648-40fc-ae04-913ac67e8620",
   "metadata": {},
   "outputs": [
    {
     "data": {
      "text/plain": [
       "[ 1, 2, 3.14 ]"
      ]
     },
     "execution_count": 15,
     "metadata": {},
     "output_type": "execute_result"
    }
   ],
   "source": [
    "arr.slice(0, 3); "
   ]
  },
  {
   "cell_type": "code",
   "execution_count": 16,
   "id": "ea4a50dc-f731-492c-a669-f54ed0e25533",
   "metadata": {},
   "outputs": [
    {
     "data": {
      "text/plain": [
       "11"
      ]
     },
     "execution_count": 16,
     "metadata": {},
     "output_type": "execute_result"
    }
   ],
   "source": [
    "//push()向Array的末尾添加若干元素，pop()则把Array的最后一个元素删除掉：\n",
    "arr.push(1,2,3,4,5)"
   ]
  },
  {
   "cell_type": "code",
   "execution_count": 17,
   "id": "e12e99b0-525c-49b8-afaf-3951b096e105",
   "metadata": {},
   "outputs": [
    {
     "data": {
      "text/plain": [
       "[ 1, 2, 3.14, 'Hello', null, true, 1, 2, 3, 4 ]"
      ]
     },
     "execution_count": 17,
     "metadata": {},
     "output_type": "execute_result"
    }
   ],
   "source": [
    "arr.pop()\n",
    "arr"
   ]
  },
  {
   "cell_type": "code",
   "execution_count": 18,
   "id": "90154ff6-8e3a-406c-ac48-3d9dfaf913cf",
   "metadata": {},
   "outputs": [],
   "source": [
    "//如果要往Array的头部添加若干元素，使用unshift()方法，shift()方法则把Array的第一个元素删掉：\n",
    "//sort()可以对当前Array进行排序\n",
    "//splice()方法是修改Array的“万能方法”，它可以从指定的索引开始删除若干元素，然后再从该位置添加若干元素\n",
    "//concat()方法把当前的Array和另一个Array连接起来，并返回一个新的Array："
   ]
  },
  {
   "cell_type": "code",
   "execution_count": 19,
   "id": "7e3a68d8-e470-4b0b-abf0-51ae6fc7b171",
   "metadata": {},
   "outputs": [
    {
     "data": {
      "text/plain": [
       "[ 'A', 'B', 'C', 1, 2, 3 ]"
      ]
     },
     "execution_count": 19,
     "metadata": {},
     "output_type": "execute_result"
    }
   ],
   "source": [
    "var arr = ['A', 'B', 'C'];\n",
    "var added = arr.concat([1, 2, 3]);\n",
    "added; // ['A', 'B', 'C', 1, 2, 3]"
   ]
  },
  {
   "cell_type": "code",
   "execution_count": null,
   "id": "95f0d5ac-4a6e-4a86-a977-046df1d5f19c",
   "metadata": {},
   "outputs": [],
   "source": [
    "//join()方法是一个非常实用的方法，它把当前Array的每个元素都用指定的字符串连接起来，然后返回连接后的字符串：\n",
    "\n",
    "var arr = ['A', 'B', 'C', 1, 2, 3];\n",
    "arr.join('-'); // 'A-B-C-1-2-3'"
   ]
  },
  {
   "cell_type": "code",
   "execution_count": 20,
   "id": "ca98209c-4752-4afa-b6af-b6891f805ea5",
   "metadata": {},
   "outputs": [
    {
     "data": {
      "text/plain": [
       "[ [ 1, 2, 3 ], [ 400, 500, 600 ], '-' ]"
      ]
     },
     "execution_count": 20,
     "metadata": {},
     "output_type": "execute_result"
    }
   ],
   "source": [
    "//多维数组\n",
    "var arr = [[1, 2, 3], [400, 500, 600], '-'];\n",
    "arr"
   ]
  },
  {
   "cell_type": "code",
   "execution_count": 35,
   "id": "12781ab8-9d92-4f12-8867-1a6859bcd57a",
   "metadata": {},
   "outputs": [
    {
     "data": {
      "text/plain": [
       "'No.1 Middle School'"
      ]
     },
     "execution_count": 35,
     "metadata": {},
     "output_type": "execute_result"
    }
   ],
   "source": [
    "//对象\n",
    "var xiaohong = {\n",
    "    name: '小红',\n",
    "    'middle-school': 'No.1 Middle School'\n",
    "};\n",
    "\n",
    "// 对象的属性访问\n",
    "xiaohong.name\n",
    "xiaohong[\"name\"]\n",
    "xiaohong[\"middle-school\"]//xiaohong的属性名middle-school不是一个有效的变量，就需要用''括起来。访问这个属性也无法使用.操作符，必须用['xxx']来访问："
   ]
  },
  {
   "cell_type": "code",
   "execution_count": 23,
   "id": "de5d6e4d-018c-48c2-a1f3-9a2c24c6698c",
   "metadata": {},
   "outputs": [
    {
     "data": {
      "text/plain": [
       "false"
      ]
     },
     "execution_count": 23,
     "metadata": {},
     "output_type": "execute_result"
    }
   ],
   "source": [
    "//我们要检测xiaoming是否拥有某一属性，可以用in操作符：\n",
    "\n",
    "var xiaoming = {\n",
    "    name: '小明',\n",
    "    birth: 1990,\n",
    "    school: 'No.1 Middle School',\n",
    "    height: 1.70,\n",
    "    weight: 65,\n",
    "    score: null\n",
    "};\n",
    "'name' in xiaoming; // true\n",
    "'grade' in xiaoming; // false\n",
    "\n",
    "//不过要小心，如果in判断一个属性存在，这个属性不一定是xiaoming的，它可能是xiaoming继承得到的：\n",
    "'toString' in xiaoming; // true\n",
    "\n",
    "xiaoming.hasOwnProperty('toString'); // false"
   ]
  },
  {
   "cell_type": "code",
   "execution_count": 24,
   "id": "f17a2382-3be4-4695-97b6-7fda497fc1e3",
   "metadata": {},
   "outputs": [
    {
     "name": "stdout",
     "output_type": "stream",
     "text": [
      "adult\n"
     ]
    }
   ],
   "source": [
    "var age = 20;\n",
    "if (age >= 18) { // 如果age >= 18为true，则执行if语句块\n",
    "    console.log('adult');\n",
    "} else { // 否则执行else语句块\n",
    "    console.log('teenager');\n",
    "}\n",
    "//JavaScript把null、undefined、0、NaN和空字符串''视为false，其他值一概视为true，因此上述代码条件判断的结果是true。"
   ]
  },
  {
   "cell_type": "code",
   "execution_count": 25,
   "id": "d41a871c-e4b0-46e2-b749-919844910fb6",
   "metadata": {},
   "outputs": [
    {
     "name": "stdout",
     "output_type": "stream",
     "text": [
      "Apple\n",
      "Google\n",
      "Microsoft\n"
     ]
    }
   ],
   "source": [
    "var arr = ['Apple', 'Google', 'Microsoft'];\n",
    "var i, x;\n",
    "for (i=0; i<arr.length; i++) {\n",
    "    x = arr[i];\n",
    "    console.log(x);\n",
    "}"
   ]
  },
  {
   "cell_type": "code",
   "execution_count": null,
   "id": "e76e60d6-4612-4ffd-ae9e-faad439102ad",
   "metadata": {},
   "outputs": [],
   "source": [
    "var arr = ['one','two',3,4,5]\n",
    "for (var i=0; i<arr.length;i++){\n",
    "    console.log(i,arr[i],'haha')\n",
    "}"
   ]
  },
  {
   "cell_type": "code",
   "execution_count": 29,
   "id": "fa3b7994-7cd5-48f8-8298-2144e10dfb56",
   "metadata": {},
   "outputs": [
    {
     "name": "stdout",
     "output_type": "stream",
     "text": [
      "string 0 Apple\n",
      "string 1 Google\n",
      "string 2 Microsoft\n"
     ]
    }
   ],
   "source": [
    "//遍历数组\n",
    "var arr = ['Apple', 'Google', 'Microsoft'];\n",
    "for (var i in arr){\n",
    "    console.log(typeof(i),i,arr[i])  //注意i是string\n",
    "}\n",
    "//请注意，for ... in对Array的循环得到的是String而不是Number"
   ]
  },
  {
   "cell_type": "code",
   "execution_count": 32,
   "id": "8e1ed76b-77b5-4327-9f25-d0ebab8fe945",
   "metadata": {},
   "outputs": [
    {
     "name": "stdout",
     "output_type": "stream",
     "text": [
      "name Jack\n",
      "age 20\n",
      "city Beijing\n",
      "name\n",
      "age\n",
      "city\n"
     ]
    }
   ],
   "source": [
    "var obj = {\n",
    "    name: 'Jack',\n",
    "    age: 20,\n",
    "    city: 'Beijing'\n",
    "};\n",
    "//遍历对象\n",
    "for (var key in obj) {\n",
    "    console.log(key,obj[key]); // 'name', 'age', 'city'\n",
    "}\n",
    "\n",
    "//要过滤掉对象继承的属性，用hasOwnProperty()来实现\n",
    "for (var key in obj) {\n",
    "    if (obj.hasOwnProperty(key)) {\n",
    "        console.log(key); // 'name', 'age', 'city'\n",
    "    }\n",
    "}"
   ]
  },
  {
   "cell_type": "raw",
   "id": "94c13a03-b6d1-48f8-955a-9268bcf519b3",
   "metadata": {},
   "source": [
    "//map和set\n",
    "JavaScript的默认对象表示方式{}可以视为其他语言中的Map或Dictionary的数据结构，即一组键值对。\n",
    "但是JavaScript的对象有个小问题，就是键必须是字符串。但实际上Number或者其他数据类型作为键也是非常合理的。\n",
    "为了解决这个问题，最新的ES6规范引入了新的数据类型Map"
   ]
  },
  {
   "cell_type": "code",
   "execution_count": 49,
   "id": "f8a3e663-0c2c-4941-8744-cc1227cca74d",
   "metadata": {},
   "outputs": [
    {
     "data": {
      "text/plain": [
       "95"
      ]
     },
     "execution_count": 49,
     "metadata": {},
     "output_type": "execute_result"
    }
   ],
   "source": [
    "var a = new Map()\n",
    "a.name = 1\n",
    "a.job = 2\n",
    "a\n",
    "//这种方式还是使用属性\n",
    "\n",
    "s = {'Michael':95,'Bob':75,'Tracy':85}\n",
    "s[\"Michael\"] //对象方式就必须用对象方式来取值\n",
    "\n",
    "//所以上面的a实际上只是添加了属性，但还是空的Map"
   ]
  },
  {
   "cell_type": "code",
   "execution_count": 62,
   "id": "b1a73fa1-7549-48fa-8faa-de469ecfd29c",
   "metadata": {},
   "outputs": [
    {
     "name": "stdout",
     "output_type": "stream",
     "text": [
      "Map { 'Bob' => 75, 'Tracy' => 85, 'Adam' => 67 }\n"
     ]
    },
    {
     "data": {
      "text/plain": [
       "[Map Iterator] { [ 'Bob', 75 ], [ 'Tracy', 85 ], [ 'Adam', 67 ] }"
      ]
     },
     "execution_count": 62,
     "metadata": {},
     "output_type": "execute_result"
    }
   ],
   "source": [
    "var m = new Map([['Michael', 95], ['Bob', 75], ['Tracy', 85]]); //Map是用维数组初始化\n",
    "m\n",
    "//Map { 'Michael' => 95, 'Bob' => 75, 'Tracy' => 85 }\n",
    "m.get('Michael');\n",
    "\n",
    "m.set('Adam', 67); //使用set来添加新的\n",
    "\n",
    "m.has('Adam') //true\n",
    "\n",
    "m.delete('Michael')\n",
    "\n",
    "// m.clear() //清除全部\n",
    "console.log(m)\n",
    "\n",
    "//是按照顺序存储的\n",
    "\n",
    "// keys()：返回键名的遍历器。\n",
    "// values()：返回键值的遍历器。\n",
    "// entries()：返回所有成员的遍历器\n",
    "\n",
    "m.keys()\n",
    "m.values()\n",
    "m.entries()\n"
   ]
  },
  {
   "cell_type": "code",
   "execution_count": 63,
   "id": "c16d9b8b-1560-4ef0-adff-c9b52c9d5008",
   "metadata": {},
   "outputs": [],
   "source": [
    "//Set用法"
   ]
  },
  {
   "cell_type": "code",
   "execution_count": 69,
   "id": "1a722a9c-e249-4962-82a1-d652b4a99774",
   "metadata": {},
   "outputs": [
    {
     "data": {
      "text/plain": [
       "false"
      ]
     },
     "execution_count": 69,
     "metadata": {},
     "output_type": "execute_result"
    }
   ],
   "source": [
    "var s1 = new Set(); // 空Set\n",
    "s1.add(4)\n",
    "s1.delete(3) //false 不报错\n",
    "\n",
    "//有初始值\n",
    "s2 = new Set([1,2,3,4,4,]);\n",
    "s2.has(1) //true\n",
    "s2.has(5) //false\n"
   ]
  },
  {
   "cell_type": "code",
   "execution_count": null,
   "id": "252bbc68-6c3d-4eb0-bf0d-e1064236eb77",
   "metadata": {},
   "outputs": [],
   "source": [
    "//ES6标准引入了新的iterable类型，Array、Map和Set都属于iterable\n",
    "//具有iterable类型的集合可以通过新的for ... of循环来遍历。\n",
    "\n",
    "//for ... in循环由于历史遗留问题，它遍历的实际上是对象的属性名称。一个Array数组实际上也是一个对象，它的每个元素的索引被视为一个属性。\n",
    "//当我们手动给Array对象添加了额外的属性后，for ... in循环将带来意想不到的意外效果：\n",
    "//for ... of循环则完全修复了这些问题，它只循环集合本身的元素：\n",
    "//这就是为什么要引入新的for ... of循环。"
   ]
  },
  {
   "cell_type": "code",
   "execution_count": 72,
   "id": "a863e9a3-ce29-45c9-b61f-f766d6ad30ee",
   "metadata": {},
   "outputs": [
    {
     "name": "stdout",
     "output_type": "stream",
     "text": [
      "1 'number'\n",
      "2 'number'\n",
      "3 'number'\n"
     ]
    }
   ],
   "source": [
    "var a = [1, 2, 3];\n",
    "for (var x of a) {\n",
    "    console.log(x,typeof(x));\n",
    "} //迭代的是内容，而不是key 而且内容和类型一致"
   ]
  },
  {
   "cell_type": "code",
   "execution_count": null,
   "id": "a4d3c3f0-e186-4230-bd9b-7f525bd3a4c7",
   "metadata": {},
   "outputs": [],
   "source": [
    "var new_obj = {name:1,job:2}\n",
    "for (var i of new_obj){\n",
    "    console.log(i)\n",
    "}\n",
    "//TypeError: new_obj is not iterable\n",
    "\n",
    "//for of 不能用于以前的对象"
   ]
  },
  {
   "cell_type": "code",
   "execution_count": 75,
   "id": "11810dd7-308d-4ff4-af6c-c0116cfafe08",
   "metadata": {},
   "outputs": [
    {
     "name": "stdout",
     "output_type": "stream",
     "text": [
      "a\n",
      "b\n",
      "c\n"
     ]
    }
   ],
   "source": [
    "var arr3 = [\"a\",\"b\",\"c\"]\n",
    "for (var i of arr3){\n",
    "    console.log(i)\n",
    "}\n",
    "// 可以用于数组\n",
    "//可用于Arrays(数组)，Maps(映射)，Set(集合)，String(字符串)，Arguments Object(参数对象)，Generators(生成器)。不能用于普通对象"
   ]
  },
  {
   "cell_type": "code",
   "execution_count": 76,
   "id": "9e0ecb91-d878-4a8d-b4f3-5807179e7cee",
   "metadata": {},
   "outputs": [
    {
     "name": "stdout",
     "output_type": "stream",
     "text": [
      "Key: one and Value: 1\n",
      "Key: two and Value: 2\n"
     ]
    }
   ],
   "source": [
    "const iterable = new Map([['one', 1], ['two', 2]]);\n",
    "for (const [key, value] of iterable) {    //这里用到的是es6解构赋值\n",
    "  console.log(`Key: ${key} and Value: ${value}`);\n",
    "}"
   ]
  },
  {
   "cell_type": "code",
   "execution_count": 84,
   "id": "bf3f083f-4e5e-4abb-8d08-df97c16b7fd0",
   "metadata": {},
   "outputs": [
    {
     "name": "stdout",
     "output_type": "stream",
     "text": [
      "A, index = 0\n",
      "B, index = 1\n",
      "C, index = 2\n"
     ]
    }
   ],
   "source": [
    "//然而，更好的方式是直接使用iterable内置的forEach方法，它接收一个函数，每次迭代就自动回调该函数。以Array为例\n",
    "var a = ['A', 'B', 'C'];\n",
    "\n",
    "a.forEach(function (element, index, array) {\n",
    "    // element: 指向当前元素的值\n",
    "    // index: 指向当前索引\n",
    "    // array: 指向Array对象本身\n",
    "\n",
    "    console.log(element + ', index = ' + index);\n",
    "});\n",
    "\n",
    "//第一个参数是元素本身，第二个参数是index，第三个参数是该对象\n",
    "//a.forEach( (e,i) => console.log(e,i) )\n",
    "//a.forEach((e,i)=>console.log(typeof(i))) //这个是number"
   ]
  },
  {
   "cell_type": "code",
   "execution_count": 86,
   "id": "fafc6057-c1e3-452b-b6a6-5a6a563e6621",
   "metadata": {},
   "outputs": [
    {
     "name": "stdout",
     "output_type": "stream",
     "text": [
      "a a Set { 'a', 2, 3, 4 }\n",
      "2 2 Set { 'a', 2, 3, 4 }\n",
      "3 3 Set { 'a', 2, 3, 4 }\n",
      "4 4 Set { 'a', 2, 3, 4 }\n"
     ]
    }
   ],
   "source": [
    "//Set这种无序的遍历 e和i都是本身\n",
    "var b = new Set(['a',2,3])\n",
    "b.add(4)\n",
    "b.forEach((e,i,it)=>console.log(e,i,it) )"
   ]
  },
  {
   "cell_type": "code",
   "execution_count": 87,
   "id": "4c24577f-9b09-4d14-a726-47954d88c06f",
   "metadata": {},
   "outputs": [
    {
     "name": "stdout",
     "output_type": "stream",
     "text": [
      "1 'a'\n",
      "2 'b'\n"
     ]
    }
   ],
   "source": [
    "//map e是value i是key\n",
    "var c = new Map([['a',1],['b',2]])\n",
    "c.forEach((e,i)=>console.log(e,i))\n"
   ]
  },
  {
   "cell_type": "code",
   "execution_count": 88,
   "id": "1b102a75-963d-486d-9cf4-ee55e7abdf35",
   "metadata": {},
   "outputs": [
    {
     "data": {
      "text/plain": [
       "{ name: 'wang', age: 18 }"
      ]
     },
     "execution_count": 88,
     "metadata": {},
     "output_type": "execute_result"
    }
   ],
   "source": [
    "//对象的遍历,除了in以外的用法\n",
    "d = {name:'wang',age:18}\n",
    "//d.forEach((e)=>(console.log(e))) //TypeError\n",
    "//正确方法\n",
    "//Object.keys(d).forEach((k)=>(console.log(k,d[k])))\n",
    "//Object.keys(d)  [ 'name', 'age' ]\n",
    "// Object.getOwnPropertyNames(d).forEach((k)=>(console.log(k,d[k])))"
   ]
  },
  {
   "cell_type": "markdown",
   "id": "ec6836c7-05b9-4498-8f08-f58d1fc39a07",
   "metadata": {
    "tags": []
   },
   "source": [
    "# 函数"
   ]
  },
  {
   "cell_type": "raw",
   "id": "2b8f8306-1355-4583-a8ff-77b5a134e8f0",
   "metadata": {},
   "source": [
    "什么时候加分号，什么时候不加分号\n",
    "真正会导致上下行解析出问题的 token 有 5 个：括号，方括号，正则开头的斜杠，加号，减号。\n",
    "如果在return、break、continue、throw等关键字后面换行，javascript会在换行处填补分号。"
   ]
  },
  {
   "cell_type": "code",
   "execution_count": 90,
   "id": "043f4205-0c06-4315-83fa-3bb8ad2e609d",
   "metadata": {},
   "outputs": [],
   "source": [
    "function abs(x) {\n",
    "    if (x >= 0) {\n",
    "        return x;\n",
    "    } else {\n",
    "        return -x;\n",
    "    }\n",
    "}//function不属于表达式，表达式都需要加分号\n",
    "// function (x) { ... }是一个匿名函数，它没有函数名。"
   ]
  },
  {
   "cell_type": "code",
   "execution_count": 95,
   "id": "7848eeca-3e90-4dfc-b8b7-fb34dadaf8ba",
   "metadata": {},
   "outputs": [
    {
     "data": {
      "text/plain": [
       "12"
      ]
     },
     "execution_count": 95,
     "metadata": {},
     "output_type": "execute_result"
    }
   ],
   "source": [
    "// 通过变量abs就可以调用该函数。\n",
    "abs(-2) //2\n",
    "//由于JavaScript允许传入任意个参数而不影响调用，因此传入的参数比定义的参数多也没有问题，虽然函数内部并不需要这些参数：\n",
    "abs(12,22);"
   ]
  },
  {
   "cell_type": "code",
   "execution_count": 92,
   "id": "44702119-dc20-4436-aa95-4ad8ccc866a6",
   "metadata": {},
   "outputs": [],
   "source": [
    "var abs = function (x) {\n",
    "    if (x >= 0) {\n",
    "        return x;\n",
    "    } else {\n",
    "        return -x;\n",
    "    }\n",
    "};//这个是赋值语句，最好加分号"
   ]
  },
  {
   "cell_type": "code",
   "execution_count": 93,
   "id": "d92a10d5-95d0-433d-839c-9e2f27a79a41",
   "metadata": {},
   "outputs": [
    {
     "data": {
      "text/plain": [
       "3"
      ]
     },
     "execution_count": 93,
     "metadata": {},
     "output_type": "execute_result"
    }
   ],
   "source": [
    "a = (1)// 1\n",
    "a = (1,3)// 3"
   ]
  },
  {
   "cell_type": "code",
   "execution_count": null,
   "id": "e25e5577-b684-4c82-8b65-3b26f05673f0",
   "metadata": {},
   "outputs": [],
   "source": [
    "//前面我们讲到了JavaScript引擎有一个在行末自动添加分号的机制，这可能让你栽到return语句的一个大坑：\n",
    "function foo() {\n",
    "    return { name: 'foo' };\n",
    "}\n",
    "\n",
    "function foo() {\n",
    "    return //这里会自动加分号\n",
    "        { name: 'foo' };\n",
    "}"
   ]
  },
  {
   "cell_type": "raw",
   "id": "ed01913b-439e-4264-a911-d88750830c9a",
   "metadata": {},
   "source": [
    "JavaScript还有一个免费赠送的关键字arguments，它只在函数内部起作用，并且永远指向当前函数的调用者传入的所有参数。arguments类似Array但它不是一个Array"
   ]
  },
  {
   "cell_type": "code",
   "execution_count": 96,
   "id": "8c4e4c48-509c-4201-af8a-ef8215db38dd",
   "metadata": {},
   "outputs": [],
   "source": [
    "function test_arg(){\n",
    "    console.log(arguments) //arguments是系统保留字，必须使用这个\n",
    "}"
   ]
  },
  {
   "cell_type": "code",
   "execution_count": 97,
   "id": "592da8d8-0260-4893-8c48-5ec9c3e3ae74",
   "metadata": {},
   "outputs": [
    {
     "name": "stdout",
     "output_type": "stream",
     "text": [
      "[Arguments] { '0': 1, '1': 23, '2': 1 }\n"
     ]
    }
   ],
   "source": [
    "test_arg(1,23,a=1) //[Arguments] { '0': 1, '1': 23, '2': 1 }"
   ]
  },
  {
   "cell_type": "code",
   "execution_count": 98,
   "id": "4fb54172-b37b-4580-becf-1ce74e725c09",
   "metadata": {},
   "outputs": [],
   "source": [
    "//由于JavaScript函数允许接收任意个参数，于是我们就不得不用arguments来获取所有参数：\n",
    "\n",
    "function foo(a, b) {\n",
    "    var i, rest = [];\n",
    "    if (arguments.length > 2) {\n",
    "        for (i = 2; i<arguments.length; i++) {\n",
    "            rest.push(arguments[i]);\n",
    "        }\n",
    "    }\n",
    "    console.log('a = ' + a);\n",
    "    console.log('b = ' + b);\n",
    "    console.log(rest);\n",
    "}"
   ]
  },
  {
   "cell_type": "code",
   "execution_count": 99,
   "id": "1775e40c-1c57-460f-98a4-bbdec2c682c7",
   "metadata": {},
   "outputs": [
    {
     "name": "stdout",
     "output_type": "stream",
     "text": [
      "a = 1\n",
      "b = 3\n",
      "[ 2, 4 ]\n"
     ]
    }
   ],
   "source": [
    "foo(1,3,2,4)"
   ]
  },
  {
   "cell_type": "code",
   "execution_count": 100,
   "id": "ea292f8b-7b85-4df4-ae25-7943d8061154",
   "metadata": {},
   "outputs": [],
   "source": [
    "//ES6标准引入了rest参数，上面的函数可以改写为：\n",
    "\n",
    "function foo(a, b, ...rest) { //rest可以改成其他名称\n",
    "    console.log('a = ' + a);\n",
    "    console.log('b = ' + b);\n",
    "    console.log(rest);\n",
    "}"
   ]
  },
  {
   "cell_type": "code",
   "execution_count": 101,
   "id": "16610d00-070f-4030-bffc-4b0353237691",
   "metadata": {},
   "outputs": [
    {
     "name": "stdout",
     "output_type": "stream",
     "text": [
      "a = 1\n",
      "b = 2\n",
      "[ 3, 4, 5, 6 ]\n"
     ]
    }
   ],
   "source": [
    "foo(1,2,3,4,5,6)"
   ]
  },
  {
   "cell_type": "markdown",
   "id": "b72c48b5-70e9-4749-a0a6-e5615e6c3952",
   "metadata": {},
   "source": [
    "## 变量作用域与解构赋值"
   ]
  },
  {
   "cell_type": "raw",
   "id": "7bb54b75-f33a-4136-b6c5-4eb19bfa82a0",
   "metadata": {},
   "source": [
    "函数内，没有往外层查找，直到全局"
   ]
  },
  {
   "cell_type": "code",
   "execution_count": 122,
   "id": "aba61367-3f81-43be-9952-d83c82c38286",
   "metadata": {},
   "outputs": [],
   "source": [
    "//从ES6开始，JavaScript引入了解构赋值，可以同时对一组变量进行赋值。\n",
    "var array = ['hello', 'JavaScript', 'ES6'];\n",
    "var x = array[0];\n",
    "var y = array[1];\n",
    "var z = array[2];"
   ]
  },
  {
   "cell_type": "code",
   "execution_count": 123,
   "id": "9a0cf43d-fbc0-40db-a6e2-78b664cb168b",
   "metadata": {},
   "outputs": [],
   "source": [
    "var [x, y, z] = ['hello', 'JavaScript', 'ES6'];"
   ]
  },
  {
   "cell_type": "code",
   "execution_count": 124,
   "id": "2788bdcc-d4e6-402a-a9e5-e99c555d18d7",
   "metadata": {},
   "outputs": [],
   "source": [
    "//var a,b = 1,2//这种不行\n",
    "var [a,b] = [1,2] //多个变量要用[...]括起来。"
   ]
  },
  {
   "cell_type": "code",
   "execution_count": 126,
   "id": "1d1962c4-d0ab-4ad4-bcab-6fb878c4e1a5",
   "metadata": {},
   "outputs": [],
   "source": [
    "//如果数组本身还有嵌套，也可以通过下面的形式进行解构赋值，注意嵌套层次和位置要保持一致：\n",
    "let [x, [y, z]] = ['hello', ['JavaScript', 'ES6']];"
   ]
  },
  {
   "cell_type": "code",
   "execution_count": null,
   "id": "85888dc2-f366-431f-b99b-7c421d70374f",
   "metadata": {},
   "outputs": [],
   "source": [
    "[a, b, ...rest] = [10, 20, 30, 40, 50];"
   ]
  },
  {
   "cell_type": "code",
   "execution_count": null,
   "id": "f0380c10-274e-4754-99b8-9d7d4c0a3c47",
   "metadata": {},
   "outputs": [],
   "source": [
    "//对象解构\n",
    "var person = {\n",
    "    name: '小明',\n",
    "    age: 20,\n",
    "    gender: 'male',\n",
    "    passport: 'G-12345678',\n",
    "    school: 'No.4 middle school',\n",
    "    address: {\n",
    "        city: 'Beijing',\n",
    "        street: 'No.1 Road',\n",
    "        zipcode: '100001'\n",
    "    }\n",
    "};\n",
    "var {name, address: {city, zip}} = person;\n",
    "name; // '小明'\n",
    "city; // 'Beijing'\n",
    "zip; // undefined, 因为属性名是zipcode而不是zip\n",
    "// 注意: address不是变量，而是为了让city和zip获得嵌套的address对象的属性:\n",
    "address; // Uncaught ReferenceError: address is not defined"
   ]
  },
  {
   "cell_type": "code",
   "execution_count": 221,
   "id": "0dd64dbe-c3db-40fd-81b4-97373ba91ae0",
   "metadata": {},
   "outputs": [
    {
     "name": "stdout",
     "output_type": "stream",
     "text": [
      "guanguan 2\n"
     ]
    }
   ],
   "source": [
    "const user = { name: 'guanguan', age: 2 };\n",
    "const { name, age } = user;\n",
    "console.log(name,age)"
   ]
  },
  {
   "cell_type": "code",
   "execution_count": null,
   "id": "5c8cf4a0-bc48-48ee-a0c6-acf6bbc2af9e",
   "metadata": {},
   "outputs": [],
   "source": [
    "const add2 = (state, { payload }) => {\n",
    "  return state.concat(payload);\n",
    "};\n",
    "add2([1],{payload:[2,3],other:\"this is a msg\"})\n"
   ]
  },
  {
   "cell_type": "code",
   "execution_count": null,
   "id": "82484eef-46c7-483f-ae21-aa461d5712e8",
   "metadata": {},
   "outputs": [],
   "source": [
    "//析构时还可以配 alias，让代码更具有语义。\n",
    "const add3 = (state, { payload: todo }) => {\n",
    "  return state.concat(todo); //这里用的todo\n",
    "};"
   ]
  },
  {
   "cell_type": "code",
   "execution_count": 222,
   "id": "037bcd50-fb22-47d5-aa71-22ee76b863be",
   "metadata": {},
   "outputs": [
    {
     "name": "stdout",
     "output_type": "stream",
     "text": [
      "{ name: 'duoduo', age: 8 }\n"
     ]
    }
   ],
   "source": [
    "//这是析构的反向操作，用于重新组织一个 Object 。\n",
    "{\n",
    "    const name = 'duoduo';\n",
    "    const age = 8;\n",
    "\n",
    "    const user = { name, age };  \n",
    "    console.log(user)\n",
    "}\n",
    "//组装成一个对象"
   ]
  },
  {
   "cell_type": "code",
   "execution_count": 223,
   "id": "cd18dd57-ddde-4dc8-971d-4bc22b7690f6",
   "metadata": {},
   "outputs": [
    {
     "data": {
      "text/plain": [
       "[ 'Learn dva0', '1', 'Learn antd' ]"
      ]
     },
     "execution_count": 223,
     "metadata": {},
     "output_type": "execute_result"
    }
   ],
   "source": [
    "{//组装数组\n",
    "  const todos = ['Learn dva0','1'];\n",
    "  [...todos, 'Learn antd'];\n",
    "}"
   ]
  },
  {
   "cell_type": "code",
   "execution_count": 224,
   "id": "a92eaee5-ac61-4de6-a9e3-bca241285470",
   "metadata": {},
   "outputs": [
    {
     "data": {
      "text/plain": [
       "[ 'b', 'c' ]"
      ]
     },
     "execution_count": 224,
     "metadata": {},
     "output_type": "execute_result"
    }
   ],
   "source": [
    "{\n",
    "    const arr = ['a', 'b', 'c'];\n",
    "    const [first, ...rest] = arr;\n",
    "    rest;  // ['b', 'c']\n",
    "}"
   ]
  },
  {
   "cell_type": "code",
   "execution_count": 225,
   "id": "77905f3c-493a-4164-9cd9-158357241ba9",
   "metadata": {},
   "outputs": [
    {
     "name": "stdout",
     "output_type": "stream",
     "text": [
      "1 2 3\n"
     ]
    }
   ],
   "source": [
    "{\n",
    "    let a = [1,2,3]\n",
    "    console.log(...a)\n",
    "    //console.log(1,2,3)\n",
    "}"
   ]
  },
  {
   "cell_type": "code",
   "execution_count": 231,
   "id": "6274cfed-6eff-4332-a4b4-f44cd809bbd5",
   "metadata": {},
   "outputs": [
    {
     "name": "stdout",
     "output_type": "stream",
     "text": [
      "{ name: 'henry', age: 18, gender: 'M' }\n"
     ]
    }
   ],
   "source": [
    "{\n",
    "    let b = {name:'henry',age:18}\n",
    "    console.log({...b,gender:'M'}) ////如果是相同的key后面新的内容，会替换前面的内容\n",
    "}"
   ]
  },
  {
   "cell_type": "markdown",
   "id": "8371b041-c3e9-4578-80b7-f15bda3d51ee",
   "metadata": {},
   "source": [
    "## 变量提升"
   ]
  },
  {
   "cell_type": "raw",
   "id": "b65ae9e3-044a-462d-a250-dc3d1795f75a",
   "metadata": {},
   "source": [
    "javaScript的函数定义有个特点，它会先扫描整个函数体的语句，把所有申明的变量“提升”到函数顶部：\n",
    "由于JavaScript的这一怪异的“特性”，我们在函数内部定义变量时，请严格遵守“在函数内部首先申明所有变量”这一规则。\n",
    "在python中不允许先使用后赋值"
   ]
  },
  {
   "cell_type": "code",
   "execution_count": 102,
   "id": "d9716887-0421-4b28-9d80-2ecdfd5b8730",
   "metadata": {},
   "outputs": [
    {
     "name": "stdout",
     "output_type": "stream",
     "text": [
      "Hello, undefined\n"
     ]
    }
   ],
   "source": [
    "function foo() {\n",
    "    var x = 'Hello, ' + y;\n",
    "    console.log(x);\n",
    "    var y = 'Bob';\n",
    "}\n",
    "\n",
    "foo();"
   ]
  },
  {
   "cell_type": "code",
   "execution_count": null,
   "id": "c8089c22-76f6-4e19-975c-6baac9993d58",
   "metadata": {},
   "outputs": [],
   "source": [
    "减少冲突的一个方法是把自己的所有变量和函数全部绑定到一个全局变量中。例如"
   ]
  },
  {
   "cell_type": "code",
   "execution_count": null,
   "id": "d245f659-e4ce-4ff9-b479-ee4b48f8ffaf",
   "metadata": {},
   "outputs": [],
   "source": [
    "// 唯一的全局变量MYAPP:\n",
    "var MYAPP = {};\n",
    "\n",
    "// 其他变量:\n",
    "MYAPP.name = 'myapp';\n",
    "MYAPP.version = 1.0;\n",
    "\n",
    "// 其他函数:\n",
    "MYAPP.foo = function () {\n",
    "    return 'foo';\n",
    "};"
   ]
  },
  {
   "cell_type": "markdown",
   "id": "f04fa6fd-bbda-41df-96eb-f1422d2cd83f",
   "metadata": {},
   "source": [
    "## 局部作用域"
   ]
  },
  {
   "cell_type": "code",
   "execution_count": null,
   "id": "b2bf566b-ae1c-4121-8719-2beebc34d6a4",
   "metadata": {},
   "outputs": [],
   "source": [
    "//由于JavaScript的变量作用域实际上是函数内部，我们在for循环等语句块中是无法定义具有局部作用域的变量的：\n",
    "function foo() {\n",
    "    for (var i=0; i<100; i++) {\n",
    "        //\n",
    "    }\n",
    "    i += 100; // 仍然可以引用变量i\n",
    "}"
   ]
  },
  {
   "cell_type": "code",
   "execution_count": 103,
   "id": "44592061-bf44-45f4-986c-4e953b0ec6b3",
   "metadata": {},
   "outputs": [],
   "source": [
    "//为了解决块级作用域，ES6引入了新的关键字let，用let替代var可以申明一个块级作用域的变量：\n",
    "function foo() {\n",
    "    var sum = 0;\n",
    "    for (let i=0; i<100; i++) {\n",
    "        sum += i;\n",
    "    }\n",
    "    // SyntaxError:\n",
    "    i += 1;\n",
    "}"
   ]
  },
  {
   "cell_type": "code",
   "execution_count": 106,
   "id": "647bb53a-c079-49da-b127-3a7708cfea00",
   "metadata": {},
   "outputs": [],
   "source": [
    "//常量\n",
    "//由于var和let申明的是变量，如果要申明一个常量，在ES6之前是不行的，我们通常用全部大写的变量来表示“这是一个常量，不要修改它的值”：\n",
    "var PI1 = 3.14;\n",
    "\n",
    "//ES6标准引入了新的关键字const来定义常量，const与let都具有块级作用域：\n",
    "const PI2 = 3.14;"
   ]
  },
  {
   "cell_type": "code",
   "execution_count": 107,
   "id": "4f48798c-5fbc-4422-8e17-05a119a30f0e",
   "metadata": {},
   "outputs": [],
   "source": [
    "const pi3 = 2 //var可以声明多次，const只能申明一次"
   ]
  },
  {
   "cell_type": "code",
   "execution_count": 113,
   "id": "b27cc1d2-e95e-42fa-bbbd-abd052cb2e44",
   "metadata": {},
   "outputs": [],
   "source": [
    "let pil = 1 //let也只能一次"
   ]
  },
  {
   "cell_type": "code",
   "execution_count": 117,
   "id": "2f0f6d62-94e1-44bd-b8df-966195bf8113",
   "metadata": {},
   "outputs": [
    {
     "name": "stdout",
     "output_type": "stream",
     "text": [
      "1\n"
     ]
    }
   ],
   "source": [
    "if (true) {\n",
    "    let a = 1;\n",
    "    console.log(a)\n",
    "}else{\n",
    "    let a = 2;\n",
    "    console.log(a)\n",
    "}"
   ]
  },
  {
   "cell_type": "code",
   "execution_count": 121,
   "id": "267e6aa9-1138-44aa-8aa2-06ebaa456e4a",
   "metadata": {},
   "outputs": [
    {
     "name": "stdout",
     "output_type": "stream",
     "text": [
      "0 0\n",
      "1 1\n",
      "2 2\n"
     ]
    }
   ],
   "source": [
    "for (i in [1,2,3]){\n",
    "    let inner_i = i\n",
    "    const cst_i = i\n",
    "    console.log(inner_i,cst_i)\n",
    "} //let和const可以用在if循环中和for循环中"
   ]
  },
  {
   "cell_type": "code",
   "execution_count": 129,
   "id": "56b9d9da-a1a9-4fc0-88c7-900f5845143d",
   "metadata": {},
   "outputs": [
    {
     "name": "stdout",
     "output_type": "stream",
     "text": [
      "3\n"
     ]
    }
   ],
   "source": [
    "if(true){\n",
    "    const b = 3\n",
    "    let a = 1\n",
    "    console.log(b)\n",
    "}\n",
    "// console.log(b) 无法访问到内部的变量"
   ]
  },
  {
   "cell_type": "code",
   "execution_count": null,
   "id": "4296f7d9-1a09-4e78-92d4-2b87c2123d3c",
   "metadata": {},
   "outputs": [],
   "source": [
    "//最好都用let和const代替 var\n",
    "var a = [0,1,2,3,4,5,6,7,8,9,10]\n",
    "var aFn = [];\n",
    "for (var i = 0; i < 10; i++) {\n",
    "    aFn[i] = function() {\n",
    "        return a[i]**2;\n",
    "    }\n",
    "}\n",
    "//执行aFn中函数\n",
    "for (var j = 0; j < 10; j++) {\n",
    "    console.log(aFn[j]());\n",
    "}\n",
    "//这个都是输出的100，因为\n",
    "//函数自身的作用域是在函数执行前的那一刻产生的，因此，对于aFn中所有的函数来说，//\n",
    "//他们的i都是继承自同一个全局作用域。因此表现出来的就是全局作用域那个i，在执行的过程中，i的值已经是10了，所以输出都是100"
   ]
  },
  {
   "cell_type": "code",
   "execution_count": 130,
   "id": "0ef31dab-5e2b-44c7-8ea3-1748f74c228e",
   "metadata": {},
   "outputs": [
    {
     "name": "stdout",
     "output_type": "stream",
     "text": [
      "0\n",
      "1\n",
      "4\n",
      "9\n",
      "16\n",
      "25\n",
      "36\n",
      "49\n",
      "64\n",
      "81\n"
     ]
    }
   ],
   "source": [
    "//最好都用let和const代替 var\n",
    "var a = [0,1,2,3,4,5,6,7,8,9,10]\n",
    "var aFn = [];\n",
    "for (let i = 0; i < 10; i++) {  //注意这边用let\n",
    "    aFn[i] = function() {\n",
    "        return a[i]**2;\n",
    "    }\n",
    "}\n",
    "//执行aFn中函数\n",
    "for (let j = 0; j < 10; j++) { //改成了let\n",
    "    console.log(aFn[j]());\n",
    "}"
   ]
  },
  {
   "cell_type": "markdown",
   "id": "541e130b-041a-432b-90f1-f8610b56db69",
   "metadata": {},
   "source": [
    "## 方法"
   ]
  },
  {
   "cell_type": "code",
   "execution_count": 167,
   "id": "e45937e5-3cd0-42d4-9b39-156fede668b4",
   "metadata": {},
   "outputs": [
    {
     "data": {
      "text/plain": [
       "31"
      ]
     },
     "execution_count": 167,
     "metadata": {},
     "output_type": "execute_result"
    }
   ],
   "source": [
    "var xiaoming = {\n",
    "    name: '小明',\n",
    "    birth: 1990,\n",
    "    age: function () {\n",
    "        var y = new Date().getFullYear();\n",
    "        return y - this.birth;\n",
    "    }\n",
    "};\n",
    "xiaoming.age; // function xiaoming.age()\n",
    "xiaoming.age(); // 今年调用是29,明年调用就变成30了"
   ]
  },
  {
   "cell_type": "code",
   "execution_count": 133,
   "id": "fcd2f70e-f85e-413b-96e2-0251ea2f60b2",
   "metadata": {},
   "outputs": [],
   "source": [
    "////在一个方法内部，this是一个特殊变量，它始终指向当前对象，也就是xiaoming这个变量"
   ]
  },
  {
   "cell_type": "code",
   "execution_count": 165,
   "id": "7b776497-884b-4fcc-84f2-b9bde6487829",
   "metadata": {},
   "outputs": [
    {
     "data": {
      "text/plain": [
       "31"
      ]
     },
     "execution_count": 165,
     "metadata": {},
     "output_type": "execute_result"
    }
   ],
   "source": [
    "function getAge() {\n",
    "    var y = new Date().getFullYear();\n",
    "    return y - this.birth;\n",
    "}\n",
    "\n",
    "var xiaoming = {\n",
    "    name: '小明',\n",
    "    birth: 1990,\n",
    "    age: getAge\n",
    "};\n",
    "\n",
    "xiaoming.age(); // 31, 正常结果\n",
    "// getAge(); // NaN"
   ]
  },
  {
   "cell_type": "code",
   "execution_count": null,
   "id": "e3e165c0-b11a-4626-976e-2272837dcdce",
   "metadata": {},
   "outputs": [],
   "source": [
    "javaScript的函数内部如果调用了this，那么这个this到底指向谁？\n",
    "\n",
    "答案是，视情况而定！\n",
    "\n",
    "如果以对象的方法形式调用，比如xiaoming.age()，该函数的this指向被调用的对象，也就是xiaoming，这是符合我们预期的。\n",
    "\n",
    "如果单独调用函数，比如getAge()，此时，该函数的this指向全局对象，也就是window。\n",
    "// var fn = xiaoming.age; // 先拿到xiaoming的age函数\n",
    "// fn(); // NaN"
   ]
  },
  {
   "cell_type": "code",
   "execution_count": null,
   "id": "cb696e4d-480d-4f8d-9ead-e7308a0d622e",
   "metadata": {},
   "outputs": [],
   "source": [
    "//要保证this指向正确，必须用obj.xxx()的形式调用！"
   ]
  },
  {
   "cell_type": "code",
   "execution_count": 162,
   "id": "bbedeac1-4633-409a-a2d5-4c3d8d72074c",
   "metadata": {},
   "outputs": [
    {
     "data": {
      "text/plain": [
       "31"
      ]
     },
     "execution_count": 162,
     "metadata": {},
     "output_type": "execute_result"
    }
   ],
   "source": [
    "//修复的办法也不是没有，我们用一个that变量首先捕获this：\n",
    "var xiaoming = {\n",
    "    name: '小明',\n",
    "    birth: 1990,\n",
    "    age: function () {\n",
    "        var that = this; // 在方法内部一开始就捕获this\n",
    "        function getAgeFromBirth() {\n",
    "            var y = new Date().getFullYear();\n",
    "            return y - that.birth; // 用that而不是this\n",
    "        }\n",
    "        return getAgeFromBirth();\n",
    "    }\n",
    "};\n",
    "\n",
    "xiaoming.age(); // 31\n",
    "// fn = xiaoming.age\n",
    "// fn() //NaN"
   ]
  },
  {
   "cell_type": "raw",
   "id": "9dee3118-d498-4d46-a8a6-ade058fecc52",
   "metadata": {},
   "source": [
    "虽然在一个独立的函数调用中，根据是否是strict模式，this指向undefined或window，不过，我们还是可以控制this的指向的！\n",
    "要指定函数的this指向哪个对象，可以用函数本身的apply方法，它接收两个参数，第一个参数就是需要绑定的this变量，第二个参数是Array，表示函数本身的参数。\n",
    "用apply修复getAge()调用：\n",
    "\n",
    "function getAge() {\n",
    "    var y = new Date().getFullYear();\n",
    "    return y - this.birth;\n",
    "}\n",
    "\n",
    "var xiaoming = {\n",
    "    name: '小明',\n",
    "    birth: 1990,\n",
    "    age: getAge\n",
    "};\n",
    "\n",
    "xiaoming.age(); // 25\n",
    "getAge.apply(xiaoming, []); // 25, this指向xiaoming, 参数为空\n",
    "另一个与apply()类似的方法是call()，唯一区别是：\n",
    "\n",
    "apply()把参数打包成Array再传入；\n",
    "\n",
    "call()把参数按顺序传入。\n",
    "\n",
    "比如调用Math.max(3, 5, 4)，分别用apply()和call()实现如下：\n",
    "\n",
    "Math.max.apply(null, [3, 5, 4]); // 5\n",
    "Math.max.call(null, 3, 5, 4); // 5"
   ]
  },
  {
   "cell_type": "markdown",
   "id": "4a6624ee-dd8c-4b35-b014-6dcf57cea032",
   "metadata": {},
   "source": [
    "## 高阶函数"
   ]
  },
  {
   "cell_type": "code",
   "execution_count": 137,
   "id": "5d209a79-dd4a-48b8-b875-ff10aa2ffdab",
   "metadata": {},
   "outputs": [
    {
     "name": "stdout",
     "output_type": "stream",
     "text": [
      "[ 1, 4, 9, 16, 25, 36, 49, 64, 81 ]\n"
     ]
    }
   ],
   "source": [
    "function pow(x){\n",
    "    return x*x\n",
    "}\n",
    "var arr = [1, 2, 3, 4, 5, 6, 7, 8, 9];\n",
    "var results = arr.map(pow); // [1, 4, 9, 16, 25, 36, 49, 64, 81]\n",
    "console.log(results);"
   ]
  },
  {
   "cell_type": "code",
   "execution_count": 138,
   "id": "d324b4fb-e659-4df0-ae52-4bf9cb7ea4a7",
   "metadata": {},
   "outputs": [
    {
     "data": {
      "text/plain": [
       "25"
      ]
     },
     "execution_count": 138,
     "metadata": {},
     "output_type": "execute_result"
    }
   ],
   "source": [
    "var arr = [1, 3, 5, 7, 9];\n",
    "arr.reduce(function (x, y) {\n",
    "    return x + y;\n",
    "}); // 25"
   ]
  },
  {
   "cell_type": "code",
   "execution_count": 139,
   "id": "dd47e165-5604-4d92-931f-5413ed86aea7",
   "metadata": {},
   "outputs": [
    {
     "data": {
      "text/plain": [
       "13579"
      ]
     },
     "execution_count": 139,
     "metadata": {},
     "output_type": "execute_result"
    }
   ],
   "source": [
    "var arr = [1, 3, 5, 7, 9];\n",
    "arr.reduce(function (x, y) {\n",
    "    return x * 10 + y;\n",
    "}); // 13579"
   ]
  },
  {
   "cell_type": "code",
   "execution_count": 140,
   "id": "febf325a-da59-4e28-aac1-f9d9e59155cc",
   "metadata": {},
   "outputs": [
    {
     "data": {
      "text/plain": [
       "[ 1, 5, 9, 15 ]"
      ]
     },
     "execution_count": 140,
     "metadata": {},
     "output_type": "execute_result"
    }
   ],
   "source": [
    "var arr = [1, 2, 4, 5, 6, 9, 10, 15];\n",
    "var r = arr.filter(function (x) {\n",
    "    return x % 2 !== 0;\n",
    "});\n",
    "r; // [1, 5, 9, 15]\n",
    "\n",
    "//filter()接收的回调函数，其实可以有多个参数。通常我们仅使用第一个参数，表示Array的某个元素。\n",
    "//回调函数还可以接收另外两个参数，表示元素的位置和数组本身：\n"
   ]
  },
  {
   "cell_type": "code",
   "execution_count": null,
   "id": "332be569-8ca6-4790-982f-4df9b9ccc70c",
   "metadata": {
    "tags": []
   },
   "outputs": [],
   "source": [
    "//filter()接收的回调函数，其实可以有多个参数。通常我们仅使用第一个参数，表示Array的某个元素。\n",
    "//回调函数还可以接收另外两个参数，表示元素的位置和数组本身：\n",
    "var arr = ['A', 'B', 'C'];\n",
    "var r = arr.filter(function (element, index, self) {\n",
    "    console.log(element); // 依次打印'A', 'B', 'C'\n",
    "    console.log(index); // 依次打印0, 1, 2\n",
    "    console.log(self); // self就是变量arr\n",
    "    return true;\n",
    "});"
   ]
  },
  {
   "cell_type": "code",
   "execution_count": null,
   "id": "d132798e-a30d-4a29-85b3-c489d5292548",
   "metadata": {},
   "outputs": [],
   "source": [
    "//这是因为Array的sort()方法默认把所有元素先转换为String再排序\n",
    "//sort()方法也是一个高阶函数，它还可以接收一个比较函数来实现自定义的排序。\n",
    "//sort()方法会直接对Array进行修改，它返回的结果仍是当前Array："
   ]
  },
  {
   "cell_type": "code",
   "execution_count": 142,
   "id": "131b9a1d-92c5-4a98-883e-3b7be8965fdf",
   "metadata": {},
   "outputs": [
    {
     "name": "stdout",
     "output_type": "stream",
     "text": [
      "true\n"
     ]
    }
   ],
   "source": [
    "//对于数组，除了map()、reduce、filter()、sort()这些方法可以传入一个函数外，Array对象还提供了很多非常实用的高阶函数。\n",
    "var arr = ['Apple', 'pear', 'orange'];\n",
    "console.log(arr.every(function (s) {\n",
    "    return s.length > 0;\n",
    "})); // true, 因为每个元素都满足s.length>0"
   ]
  },
  {
   "cell_type": "code",
   "execution_count": 143,
   "id": "35e1026d-a0b6-4f00-b5b0-a7704cdc81b3",
   "metadata": {},
   "outputs": [
    {
     "name": "stdout",
     "output_type": "stream",
     "text": [
      "false\n"
     ]
    }
   ],
   "source": [
    "console.log(arr.every(function (s) {\n",
    "    return s.toLowerCase() === s;\n",
    "})); // false, 因为不是每个元素都全部是小写"
   ]
  },
  {
   "cell_type": "code",
   "execution_count": 144,
   "id": "ea139e13-105a-49e3-9f89-d7d163d5dfc9",
   "metadata": {},
   "outputs": [
    {
     "data": {
      "text/plain": [
       "true"
      ]
     },
     "execution_count": 144,
     "metadata": {},
     "output_type": "execute_result"
    }
   ],
   "source": [
    "const ages = [3, 10, 18, 20];\n",
    "\n",
    "ages.some(checkAdult);\n",
    "function checkAdult(age) {\n",
    "  return age > 18;\n",
    "}"
   ]
  },
  {
   "cell_type": "markdown",
   "id": "ddf02f09-8116-4691-8fba-a01dee13285b",
   "metadata": {},
   "source": [
    "## 箭头函数"
   ]
  },
  {
   "cell_type": "raw",
   "id": "886d1e08-2ff9-4882-990a-9472d3bf3ff7",
   "metadata": {},
   "source": [
    "ES6标准新增了一种新的函数：Arrow Function（箭头函数）。\n",
    "箭头函数看上去是匿名函数的一种简写，但实际上，箭头函数和匿名函数有个明显的区别：箭头函数内部的this是词法作用域，由上下文确定。"
   ]
  },
  {
   "cell_type": "code",
   "execution_count": 145,
   "id": "a0a5b497-3ca1-46a2-9d4f-06d73a15cdee",
   "metadata": {},
   "outputs": [
    {
     "data": {
      "text/plain": [
       "[Function]"
      ]
     },
     "execution_count": 145,
     "metadata": {},
     "output_type": "execute_result"
    }
   ],
   "source": [
    "x => x * x //一般匿名函数一定要加括号，或者赋值给某个变量，否则就要使用箭头函数"
   ]
  },
  {
   "cell_type": "code",
   "execution_count": 147,
   "id": "a8c1da2c-5145-4b38-8be2-c9c9988a8319",
   "metadata": {},
   "outputs": [
    {
     "data": {
      "text/plain": [
       "[Function]"
      ]
     },
     "execution_count": 147,
     "metadata": {},
     "output_type": "execute_result"
    }
   ],
   "source": [
    "//上面等同于\n",
    "(function (x) {\n",
    "    return x * x;\n",
    "})"
   ]
  },
  {
   "cell_type": "code",
   "execution_count": 148,
   "id": "4b2c19c9-c022-4435-a1fa-b6711f840930",
   "metadata": {},
   "outputs": [
    {
     "data": {
      "text/plain": [
       "4"
      ]
     },
     "execution_count": 148,
     "metadata": {},
     "output_type": "execute_result"
    }
   ],
   "source": [
    "(x => x * x )(2)"
   ]
  },
  {
   "cell_type": "code",
   "execution_count": 149,
   "id": "2b1d6c3a-51c8-4bd3-b5c4-8be15cd68eca",
   "metadata": {},
   "outputs": [
    {
     "data": {
      "text/plain": [
       "4"
      ]
     },
     "execution_count": 149,
     "metadata": {},
     "output_type": "execute_result"
    }
   ],
   "source": [
    "let pow2 = x => x * x\n",
    "pow2(2)"
   ]
  },
  {
   "cell_type": "code",
   "execution_count": 150,
   "id": "58909c35-9ad4-469d-a16c-8a241ad945d7",
   "metadata": {},
   "outputs": [
    {
     "data": {
      "text/plain": [
       "1"
      ]
     },
     "execution_count": 150,
     "metadata": {},
     "output_type": "execute_result"
    }
   ],
   "source": [
    "//如果有一些判断或者循环，加{}语句块\n",
    "var a = x => {\n",
    "    if (x > 0) {\n",
    "        return x * x;\n",
    "    }\n",
    "    else {\n",
    "        return - x * x;\n",
    "    }\n",
    "}\n",
    "a(1)"
   ]
  },
  {
   "cell_type": "code",
   "execution_count": 151,
   "id": "dfde9b51-89ab-47ba-b7eb-225d3f1729cc",
   "metadata": {},
   "outputs": [
    {
     "data": {
      "text/plain": [
       "[Function]"
      ]
     },
     "execution_count": 151,
     "metadata": {},
     "output_type": "execute_result"
    }
   ],
   "source": [
    "//如果参数不是一个，就需要用括号()括起来：\n",
    "\n",
    "// 两个参数:\n",
    "(x, y) => x * x + y * y"
   ]
  },
  {
   "cell_type": "code",
   "execution_count": 152,
   "id": "af116493-68bc-47c4-867b-1ee4c8078846",
   "metadata": {},
   "outputs": [
    {
     "data": {
      "text/plain": [
       "[Function]"
      ]
     },
     "execution_count": 152,
     "metadata": {},
     "output_type": "execute_result"
    }
   ],
   "source": [
    "// 无参数:\n",
    "() => 3.14  //没有参数，不能为空，所以加一个括号"
   ]
  },
  {
   "cell_type": "code",
   "execution_count": 153,
   "id": "20553845-dedc-4a97-a354-fc197b0bfda4",
   "metadata": {},
   "outputs": [
    {
     "data": {
      "text/plain": [
       "[Function]"
      ]
     },
     "execution_count": 153,
     "metadata": {},
     "output_type": "execute_result"
    }
   ],
   "source": [
    "//如果要返回一个对象，就要注意，如果是单表达式，这么写的话会报错：\n",
    "\n",
    "// SyntaxError:\n",
    "// x => { foo: x }\n",
    "// 因为和函数体的{ ... }有语法冲突，所以要改为：\n",
    "\n",
    "// ok:\n",
    "x => ({ foo: x })"
   ]
  },
  {
   "cell_type": "code",
   "execution_count": null,
   "id": "043f1c26-3ba3-4927-9d14-7cc001820496",
   "metadata": {},
   "outputs": [],
   "source": [
    "var xiaoming4 = {\n",
    "    name: '小明',\n",
    "    birth: 1990,\n",
    "    age:()=>{\n",
    "        console.log('this',this) //global\n",
    "        let y = new Date().getFullYear();\n",
    "        return y - this.birth;\n",
    "    } \n",
    "};\n",
    "//匿名函数没有自己的this\n",
    "// xiaoming4.age() //NaN ??\n",
    "xm = xiaoming4.age\n",
    "xm()//两种方式执行 this都是global\n",
    "//匿名函数没有this. 如果匿名函数中出现了this 那么代表的是最外层的一个普通函数（含匿名函数，或者对象，所在的作用域）"
   ]
  },
  {
   "cell_type": "code",
   "execution_count": 187,
   "id": "450bede8-ce7a-4d40-b68c-64203d209d15",
   "metadata": {},
   "outputs": [
    {
     "data": {
      "text/plain": [
       "[Function]"
      ]
     },
     "execution_count": 187,
     "metadata": {},
     "output_type": "execute_result"
    }
   ],
   "source": [
    "//现在，箭头函数完全修复了this的指向，this总是指向词法作用域，也就是外层调用者obj：\n",
    "var obj = {\n",
    "    birth: 1990,\n",
    "    getAge:()=> function () {\n",
    "        var fn = () => {\n",
    "            // console.log(this)\n",
    "            return new Date().getFullYear() - this.birth;\n",
    "        } // this指向obj对象\n",
    "        return fn();\n",
    "    }\n",
    "};\n",
    "obj.getAge()\n",
    "// 包括箭头函数的第一个this是 一个匿名函数，this绑定的就是这个匿名函数所在的obj"
   ]
  },
  {
   "cell_type": "markdown",
   "id": "3699c65a-0c9a-434c-9357-b48b74e05def",
   "metadata": {
    "tags": []
   },
   "source": [
    "## Generator"
   ]
  },
  {
   "cell_type": "raw",
   "id": "9ed5bd83-0fc9-43a1-a980-b5033ceee968",
   "metadata": {},
   "source": [
    "是ES6标准引入的新的数据类型。一个generator看上去像一个函数，但可以返回多次。"
   ]
  },
  {
   "cell_type": "code",
   "execution_count": 188,
   "id": "288838fc-ce86-4901-badc-677de9d957d6",
   "metadata": {},
   "outputs": [],
   "source": [
    "function* foo(x) {\n",
    "    yield x + 1;\n",
    "    yield x + 2;\n",
    "    return x + 3;\n",
    "}"
   ]
  },
  {
   "cell_type": "code",
   "execution_count": 189,
   "id": "90c4ce0b-aa99-4959-9dba-2fbda6c011ca",
   "metadata": {},
   "outputs": [],
   "source": [
    "var f = foo(1)"
   ]
  },
  {
   "cell_type": "code",
   "execution_count": 190,
   "id": "98d1f0ba-f1ef-43c9-a68e-008ecfb24618",
   "metadata": {},
   "outputs": [
    {
     "data": {
      "text/plain": [
       "{ value: undefined, done: true }"
      ]
     },
     "execution_count": 190,
     "metadata": {},
     "output_type": "execute_result"
    }
   ],
   "source": [
    "f.next() //{ value: 2, done: false }\n",
    "f.next() //{ value: 3, done: false }\n",
    "f.next() //{ value: 4, done: true }\n",
    "f.next() //{ value: undefined, done: true }"
   ]
  },
  {
   "cell_type": "code",
   "execution_count": 193,
   "id": "3356ca09-099d-4a9b-96e8-a3f1f0c7e499",
   "metadata": {},
   "outputs": [
    {
     "name": "stdout",
     "output_type": "stream",
     "text": [
      "11\n",
      "12\n"
     ]
    }
   ],
   "source": [
    "//第二个方法是直接用for ... of循环迭代generator对象，这种方式不需要我们自己判断done：\n",
    "for (var x of foo(10)) {\n",
    "    console.log(x); \n",
    "}"
   ]
  },
  {
   "cell_type": "markdown",
   "id": "55e5eb53-1bc2-4fbb-9e59-e90ff23072cd",
   "metadata": {},
   "source": [
    "# 类"
   ]
  },
  {
   "cell_type": "code",
   "execution_count": 204,
   "id": "23573158-13cd-479d-b161-0e501c955cf5",
   "metadata": {},
   "outputs": [],
   "source": [
    "class Box{\n",
    "    constructor(num1,num2){ //构造函数 //当实例化对象时该行代码会执行。\n",
    "        this.num1 = num1;\n",
    "        this.num2=num2;\n",
    "    }\n",
    "    sum(){\n",
    "        return this.num1+this.num2; //注意要加this,否则不能被访问到 类似python中的self\n",
    "    }\n",
    "}\n",
    "//在类中声明方法的时候，千万不要给该方法加上function关键字\n",
    "//方法之间不要用逗号分隔，否则会报错\n",
    "//类的名称大写"
   ]
  },
  {
   "cell_type": "code",
   "execution_count": 205,
   "id": "fe7f6113-bdbe-4abc-869a-83d195adc792",
   "metadata": {},
   "outputs": [
    {
     "data": {
      "text/plain": [
       "3"
      ]
     },
     "execution_count": 205,
     "metadata": {},
     "output_type": "execute_result"
    }
   ],
   "source": [
    "let box5 = new Box(1,2) //创建实例\n",
    "box5.sum() //3"
   ]
  },
  {
   "cell_type": "code",
   "execution_count": 207,
   "id": "417a8d1c-97bd-401b-8267-965e25e8499a",
   "metadata": {},
   "outputs": [
    {
     "data": {
      "text/plain": [
       "[Function]"
      ]
     },
     "execution_count": 207,
     "metadata": {},
     "output_type": "execute_result"
    }
   ],
   "source": [
    "//function 实现\n",
    "function Person(name,age) {\n",
    "    this.name = name;\n",
    "    this.age=age;\n",
    "}\n",
    "Person.prototype.say = function(){ //使用prototype\n",
    "    return \"我的名字叫\" + this.name+\"今年\"+this.age+\"岁了\";\n",
    "}"
   ]
  },
  {
   "cell_type": "code",
   "execution_count": 209,
   "id": "0b58f3ea-e025-4193-96d1-2eb602955bb1",
   "metadata": {},
   "outputs": [
    {
     "data": {
      "text/plain": [
       "'我的名字叫小明今年25岁了'"
      ]
     },
     "execution_count": 209,
     "metadata": {},
     "output_type": "execute_result"
    }
   ],
   "source": [
    "let ps1 = new Person('小明',25)\n",
    "ps1.say()"
   ]
  },
  {
   "cell_type": "markdown",
   "id": "32ee34cb-c798-4384-8a9a-701a5d6810b0",
   "metadata": {},
   "source": [
    "## 类的继承"
   ]
  },
  {
   "cell_type": "code",
   "execution_count": 213,
   "id": "2ba3c6db-111b-49ab-b20a-80821153d0a1",
   "metadata": {},
   "outputs": [],
   "source": [
    "class Students {\n",
    "    constructor(name) {\n",
    "        this.name = name;\n",
    "    }\n",
    "\n",
    "    hello() {\n",
    "        console.log('Hello, ' + this.name + '!');\n",
    "    }\n",
    "}"
   ]
  },
  {
   "cell_type": "code",
   "execution_count": 214,
   "id": "cb284822-714c-4d6b-8bfb-aab899e9d2bd",
   "metadata": {},
   "outputs": [],
   "source": [
    "class PrimaryStudents extends Students {\n",
    "    constructor(name, grade) {\n",
    "        super(name); // 记得用super调用父类的构造方法!\n",
    "        this.grade = grade;\n",
    "    }\n",
    "\n",
    "    myGrade() {\n",
    "        console.log('I am at grade ' + this.grade);\n",
    "    }\n",
    "}"
   ]
  },
  {
   "cell_type": "code",
   "execution_count": 216,
   "id": "fdac4129-0bab-4b86-944b-f9ffd7d2455c",
   "metadata": {},
   "outputs": [
    {
     "name": "stdout",
     "output_type": "stream",
     "text": [
      "Hello, st1!\n",
      "I am at grade 90\n"
     ]
    }
   ],
   "source": [
    "st = new PrimaryStudents('st1',90)\n",
    "st.hello()\n",
    "st.myGrade()"
   ]
  },
  {
   "cell_type": "raw",
   "id": "41725c3d-402f-49d4-862e-068cc7437007",
   "metadata": {},
   "source": [
    "static 关键字用来定义一个类的一个静态方法。调用静态方法不需要实例化该类，但不能通过一个类实例调用静态方法。静态方法通常用于为一个应用程序创建工具函数。"
   ]
  },
  {
   "cell_type": "code",
   "execution_count": 217,
   "id": "7e520714-6b6a-414b-a878-bcb5fe4f3e18",
   "metadata": {},
   "outputs": [],
   "source": [
    "class Point {\n",
    "    constructor(x, y) {\n",
    "        this.x = x;\n",
    "        this.y = y;\n",
    "    }\n",
    "\n",
    "    static distance(a, b) {\n",
    "        const dx = a.x - b.x;\n",
    "        const dy = a.y - b.y;\n",
    "\n",
    "        return Math.hypot(dx, dy);\n",
    "    }\n",
    "}"
   ]
  },
  {
   "cell_type": "code",
   "execution_count": 218,
   "id": "a6388cfd-e46a-4b5f-94a4-f8e871ed7be8",
   "metadata": {},
   "outputs": [
    {
     "name": "stdout",
     "output_type": "stream",
     "text": [
      "7.0710678118654755\n"
     ]
    }
   ],
   "source": [
    "const p11 = new Point(5, 5);\n",
    "const p22 = new Point(10, 10);\n",
    "\n",
    "console.log(Point.distance(p11, p22));"
   ]
  },
  {
   "cell_type": "code",
   "execution_count": null,
   "id": "bcf89275-f77c-4979-b3eb-d5e8065e6452",
   "metadata": {},
   "outputs": [],
   "source": [
    "class Bork {\n",
    "    //Property initializer syntax\n",
    "    instanceProperty = \"bork\"; //实例属性，需要new后才能使用\n",
    "    boundFunction = () => {   //实例方法，需要new后才能使用\n",
    "      return this.instanceProperty;\n",
    "    };\n",
    "\n",
    "    //Static class properties\n",
    "    static staticProperty = \"babelIsCool\"; //静态属性，不需要实例化\n",
    "    static staticFunction = function() { //静态方法，不需要实例化\n",
    "      return Bork.staticProperty;\n",
    "    };\n",
    "}"
   ]
  },
  {
   "cell_type": "code",
   "execution_count": 219,
   "id": "46e2c98e-b2ad-4000-8c6e-5aebf978b0ee",
   "metadata": {},
   "outputs": [],
   "source": [
    "class Testb{\n",
    "    constructor(){\n",
    "        this.x = 1;\n",
    "        this.y = 2;\n",
    "        this.add = this.add.bind(this)\n",
    "    }\n",
    "\n",
    "    add(){\n",
    "        return this.x +this.y\n",
    "    }\n",
    "}"
   ]
  },
  {
   "cell_type": "code",
   "execution_count": 220,
   "id": "1db5aa4c-5600-4574-92a6-7af3dd1b397a",
   "metadata": {},
   "outputs": [
    {
     "data": {
      "text/plain": [
       "true"
      ]
     },
     "execution_count": 220,
     "metadata": {},
     "output_type": "execute_result"
    }
   ],
   "source": [
    "t = new Testb()\n",
    "t.add()\n",
    "t.hasOwnProperty('add')//true"
   ]
  },
  {
   "cell_type": "markdown",
   "id": "05bd2af4-7a5b-4a7b-94d0-1567d6ae0a81",
   "metadata": {},
   "source": [
    "# export import "
   ]
  },
  {
   "cell_type": "code",
   "execution_count": null,
   "id": "4fbc2eb7-78be-4cd1-8706-7389f3a0f961",
   "metadata": {},
   "outputs": [],
   "source": [
    "//learn.js\n",
    "export let undefine1, undefine2, undefine3;\n",
    "export let name1=1, name2=2, nameN=3; // also var, const\n",
    "export function testA() {\n",
    "    return 'tis is a test message';\n",
    "}\n",
    "export class TestClass {\n",
    "    constructor(){\n",
    "        this.a = 1;\n",
    "    }\n",
    "}\n",
    "//也可以多次一起导出\n",
    "export { ct1, ct2,ct3,testA };\n",
    "export { variable1 as name1, variable2 as name2, …, nameN };\n",
    "\n",
    "// Default exports\n",
    "export default expression;\n",
    "export default function (…) { … } // also class, function*\n",
    "export default function name1(…) { … } // also class, function*\n",
    "export { name1 as default, … };"
   ]
  },
  {
   "cell_type": "code",
   "execution_count": null,
   "id": "75221289-7c69-4517-a9e3-43e648440d2b",
   "metadata": {},
   "outputs": [],
   "source": [
    "// index.js\n",
    "import {undefine1,name1,testA,TestClass} from './learn'\n",
    "\n",
    "console.log(undefine1);\n",
    "console.log(name1);\n",
    "console.log(testA());\n",
    "\n",
    "let tcls = new TestClass();\n",
    "console.log(tcls.a);"
   ]
  },
  {
   "cell_type": "code",
   "execution_count": null,
   "id": "2527deb3-2032-4b60-b3e0-5d0d41f601a6",
   "metadata": {},
   "outputs": [],
   "source": [
    " //------ myFunc.js ------\n",
    "export default function () { ... }; //匿名函数\n",
    "\n",
    "//------ main1.js ------\n",
    "import myFunc from 'myFunc'; //import时不必通过变量的形式导入 每个模块只能有一个 默认的名称是可以随意起的\n",
    "myFunc();"
   ]
  }
 ],
 "metadata": {
  "kernelspec": {
   "display_name": "Javascript (Node.js)",
   "language": "javascript",
   "name": "javascript"
  },
  "language_info": {
   "file_extension": ".js",
   "mimetype": "application/javascript",
   "name": "javascript",
   "version": "10.24.0"
  }
 },
 "nbformat": 4,
 "nbformat_minor": 5
}
