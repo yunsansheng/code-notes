{
 "cells": [
  {
   "cell_type": "markdown",
   "id": "0961f5aa-f6ce-4763-8c10-713ce7c0d47e",
   "metadata": {},
   "source": [
    "# 基本语法"
   ]
  },
  {
   "cell_type": "raw",
   "id": "64517848-6c33-4a10-8d2c-0a436a1756fb",
   "metadata": {},
   "source": [
    "数据类型\n",
    "- Number\n",
    "- 字符串\n",
    "- 布尔值 true false\n",
    "- 对象\n",
    "- 数组"
   ]
  },
  {
   "cell_type": "code",
   "execution_count": 1,
   "id": "663d7c19-cf94-4d52-93d2-7c9408a5556d",
   "metadata": {},
   "outputs": [
    {
     "data": {
      "text/plain": [
       "Infinity"
      ]
     },
     "execution_count": 1,
     "metadata": {},
     "output_type": "execute_result"
    }
   ],
   "source": [
    "//number\n",
    "123; // 整数123\n",
    "0.456; // 浮点数0.456\n",
    "1.2345e3; // 科学计数法表示1.2345x1000，等同于1234.5\n",
    "-99; // 负数\n",
    "NaN; // NaN表示Not a Number，当无法计算结果时用NaN表示\n",
    "Infinity; // Infinity表示无限大，当数值超过了JavaScript的Number所能表示的最大值时，就表示为Infinity"
   ]
  },
  {
   "cell_type": "code",
   "execution_count": null,
   "id": "e690efbe-7371-489f-9099-b4e9dcce9f66",
   "metadata": {},
   "outputs": [],
   "source": [
    "&& //and\n",
    "|| //or\n",
    "! //not"
   ]
  },
  {
   "cell_type": "code",
   "execution_count": null,
   "id": "049ccbcb-15ed-4f71-9bf5-fa03a932198a",
   "metadata": {},
   "outputs": [],
   "source": [
    "比较运算符\n",
    "== //会转化类型\n",
    "=== //一定要使用这个\n",
    "NaN === NaN; // false\n",
    "isNaN(NaN); // true 唯一能判断NaN的方法是通过isNaN()函数："
   ]
  },
  {
   "cell_type": "raw",
   "id": "3cfd787f-bdfd-45e3-ae39-4ab497f47d6f",
   "metadata": {},
   "source": [
    "null undefined 我们都应该用null。undefined 仅仅在判断函数参数是否传递的情况下有用。"
   ]
  },
  {
   "cell_type": "code",
   "execution_count": 4,
   "id": "acd90bec-187f-482c-893c-4ceedba93b74",
   "metadata": {},
   "outputs": [
    {
     "data": {
      "text/plain": [
       "true"
      ]
     },
     "execution_count": 4,
     "metadata": {},
     "output_type": "execute_result"
    }
   ],
   "source": [
    "var a = null \n",
    "a == null //true\n",
    "var b = undefined\n",
    "b == undefined //true"
   ]
  },
  {
   "cell_type": "code",
   "execution_count": 6,
   "id": "d0072fef-11f4-4637-8098-eaebda5a85dc",
   "metadata": {},
   "outputs": [],
   "source": [
    "//JavaScript的对象是一组由键-值组成的无序集合\n",
    "var person = {\n",
    "    name: 'Bob',\n",
    "    age: 20,\n",
    "    tags: ['js', 'web', 'mobile'],\n",
    "    city: 'Beijing',\n",
    "    hasCar: true,\n",
    "    zipcode: null\n",
    "};"
   ]
  },
  {
   "cell_type": "code",
   "execution_count": null,
   "id": "9453f169-4b25-40ea-b172-5631f908fd7a",
   "metadata": {},
   "outputs": [],
   "source": [
    "//怎么把对象序列成json\n",
    "JSON.stringify(person)"
   ]
  },
  {
   "cell_type": "code",
   "execution_count": 8,
   "id": "1de32f13-c0cb-4832-b02d-34e1d0c4e6eb",
   "metadata": {},
   "outputs": [
    {
     "name": "stdout",
     "output_type": "stream",
     "text": [
      "undefined\n"
     ]
    },
    {
     "data": {
      "text/plain": [
       "null"
      ]
     },
     "execution_count": 8,
     "metadata": {},
     "output_type": "execute_result"
    }
   ],
   "source": [
    "person.name //'Bob'\n",
    "console.log(person.abc) //undefind\n",
    "person.zipcode //null"
   ]
  },
  {
   "cell_type": "code",
   "execution_count": 9,
   "id": "fa418bb3-eaa6-4990-b91b-531292c52de6",
   "metadata": {},
   "outputs": [],
   "source": [
    "//一定要使用var 来定义变量，否则就是一个全局变量\n",
    "var a = 1"
   ]
  },
  {
   "cell_type": "code",
   "execution_count": 10,
   "id": "74978856-bdf8-4dc7-b360-249229ba6a8f",
   "metadata": {},
   "outputs": [
    {
     "data": {
      "text/plain": [
       "'\\n这是一个多行字符\\n这是多行\\n'"
      ]
     },
     "execution_count": 10,
     "metadata": {},
     "output_type": "execute_result"
    }
   ],
   "source": [
    "`\n",
    "这是一个多行字符\n",
    "这是多行\n",
    "`"
   ]
  },
  {
   "cell_type": "code",
   "execution_count": 11,
   "id": "9dc5f5f2-cbbf-4de8-93ea-1974242728a2",
   "metadata": {},
   "outputs": [
    {
     "name": "stdout",
     "output_type": "stream",
     "text": [
      "你好, 小明, 你今年20岁了!\n"
     ]
    }
   ],
   "source": [
    "var name = '小明';\n",
    "var age = 20;\n",
    "var message = '你好, ' + name + ', 你今年' + age + '岁了!';\n",
    "console.log(message) //用+连接字符串"
   ]
  },
  {
   "cell_type": "code",
   "execution_count": 12,
   "id": "efc0479f-9395-4600-a64b-37c81bdca971",
   "metadata": {},
   "outputs": [],
   "source": [
    "var b = 1+'abc' //会强制转化类型"
   ]
  },
  {
   "cell_type": "code",
   "execution_count": 13,
   "id": "83b96956-0fd4-4344-bb8c-64069e92f28c",
   "metadata": {},
   "outputs": [
    {
     "data": {
      "text/plain": [
       "'1'"
      ]
     },
     "execution_count": 13,
     "metadata": {},
     "output_type": "execute_result"
    }
   ],
   "source": [
    "//数值转字符串\n",
    "a = 1\n",
    "a.toString()"
   ]
  },
  {
   "cell_type": "code",
   "execution_count": null,
   "id": "a4cfa824-aeb1-45de-8d1b-914d609b4c5d",
   "metadata": {},
   "outputs": [],
   "source": [
    "//字符串常用操作\n",
    "var s = 'Hello, world!';\n",
    "s.length; // 13\n",
    "s[0]\n",
    "s[13]; // undefined 超出范围的索引不会报错，但一律返回undefined\n",
    "\n",
    "s.toUpperCase();\n",
    "s.toLowerCase()\n",
    "\n",
    "s.indexOf('l') // 如果没有找到指定的子串，返回-1\n",
    "\n",
    "s.substring(0, 5); \n",
    "s.substring(7); "
   ]
  },
  {
   "cell_type": "code",
   "execution_count": 14,
   "id": "093bb102-b62d-48c2-a4a7-018962906d38",
   "metadata": {},
   "outputs": [
    {
     "data": {
      "text/plain": [
       "6"
      ]
     },
     "execution_count": 14,
     "metadata": {},
     "output_type": "execute_result"
    }
   ],
   "source": [
    "var arr = [1, 2, 3.14, 'Hello', null, true];\n",
    "arr.length"
   ]
  },
  {
   "cell_type": "code",
   "execution_count": 15,
   "id": "23f2a5cb-6648-40fc-ae04-913ac67e8620",
   "metadata": {},
   "outputs": [
    {
     "data": {
      "text/plain": [
       "[ 1, 2, 3.14 ]"
      ]
     },
     "execution_count": 15,
     "metadata": {},
     "output_type": "execute_result"
    }
   ],
   "source": [
    "arr.slice(0, 3); "
   ]
  },
  {
   "cell_type": "code",
   "execution_count": 16,
   "id": "ea4a50dc-f731-492c-a669-f54ed0e25533",
   "metadata": {},
   "outputs": [
    {
     "data": {
      "text/plain": [
       "11"
      ]
     },
     "execution_count": 16,
     "metadata": {},
     "output_type": "execute_result"
    }
   ],
   "source": [
    "//push()向Array的末尾添加若干元素，pop()则把Array的最后一个元素删除掉：\n",
    "arr.push(1,2,3,4,5)"
   ]
  },
  {
   "cell_type": "code",
   "execution_count": 17,
   "id": "e12e99b0-525c-49b8-afaf-3951b096e105",
   "metadata": {},
   "outputs": [
    {
     "data": {
      "text/plain": [
       "[ 1, 2, 3.14, 'Hello', null, true, 1, 2, 3, 4 ]"
      ]
     },
     "execution_count": 17,
     "metadata": {},
     "output_type": "execute_result"
    }
   ],
   "source": [
    "arr.pop()\n",
    "arr"
   ]
  },
  {
   "cell_type": "code",
   "execution_count": 18,
   "id": "90154ff6-8e3a-406c-ac48-3d9dfaf913cf",
   "metadata": {},
   "outputs": [],
   "source": [
    "//如果要往Array的头部添加若干元素，使用unshift()方法，shift()方法则把Array的第一个元素删掉：\n",
    "//sort()可以对当前Array进行排序\n",
    "//splice()方法是修改Array的“万能方法”，它可以从指定的索引开始删除若干元素，然后再从该位置添加若干元素\n",
    "//concat()方法把当前的Array和另一个Array连接起来，并返回一个新的Array："
   ]
  },
  {
   "cell_type": "code",
   "execution_count": 19,
   "id": "7e3a68d8-e470-4b0b-abf0-51ae6fc7b171",
   "metadata": {},
   "outputs": [
    {
     "data": {
      "text/plain": [
       "[ 'A', 'B', 'C', 1, 2, 3 ]"
      ]
     },
     "execution_count": 19,
     "metadata": {},
     "output_type": "execute_result"
    }
   ],
   "source": [
    "var arr = ['A', 'B', 'C'];\n",
    "var added = arr.concat([1, 2, 3]);\n",
    "added; // ['A', 'B', 'C', 1, 2, 3]"
   ]
  },
  {
   "cell_type": "code",
   "execution_count": null,
   "id": "95f0d5ac-4a6e-4a86-a977-046df1d5f19c",
   "metadata": {},
   "outputs": [],
   "source": [
    "//join()方法是一个非常实用的方法，它把当前Array的每个元素都用指定的字符串连接起来，然后返回连接后的字符串：\n",
    "\n",
    "var arr = ['A', 'B', 'C', 1, 2, 3];\n",
    "arr.join('-'); // 'A-B-C-1-2-3'"
   ]
  },
  {
   "cell_type": "code",
   "execution_count": 20,
   "id": "ca98209c-4752-4afa-b6af-b6891f805ea5",
   "metadata": {},
   "outputs": [
    {
     "data": {
      "text/plain": [
       "[ [ 1, 2, 3 ], [ 400, 500, 600 ], '-' ]"
      ]
     },
     "execution_count": 20,
     "metadata": {},
     "output_type": "execute_result"
    }
   ],
   "source": [
    "//多维数组\n",
    "var arr = [[1, 2, 3], [400, 500, 600], '-'];\n",
    "arr"
   ]
  },
  {
   "cell_type": "code",
   "execution_count": 35,
   "id": "12781ab8-9d92-4f12-8867-1a6859bcd57a",
   "metadata": {},
   "outputs": [
    {
     "data": {
      "text/plain": [
       "'No.1 Middle School'"
      ]
     },
     "execution_count": 35,
     "metadata": {},
     "output_type": "execute_result"
    }
   ],
   "source": [
    "//对象\n",
    "var xiaohong = {\n",
    "    name: '小红',\n",
    "    'middle-school': 'No.1 Middle School'\n",
    "};\n",
    "\n",
    "// 对象的属性访问\n",
    "xiaohong.name\n",
    "xiaohong[\"name\"]\n",
    "xiaohong[\"middle-school\"]//xiaohong的属性名middle-school不是一个有效的变量，就需要用''括起来。访问这个属性也无法使用.操作符，必须用['xxx']来访问："
   ]
  },
  {
   "cell_type": "code",
   "execution_count": 23,
   "id": "de5d6e4d-018c-48c2-a1f3-9a2c24c6698c",
   "metadata": {},
   "outputs": [
    {
     "data": {
      "text/plain": [
       "false"
      ]
     },
     "execution_count": 23,
     "metadata": {},
     "output_type": "execute_result"
    }
   ],
   "source": [
    "//我们要检测xiaoming是否拥有某一属性，可以用in操作符：\n",
    "\n",
    "var xiaoming = {\n",
    "    name: '小明',\n",
    "    birth: 1990,\n",
    "    school: 'No.1 Middle School',\n",
    "    height: 1.70,\n",
    "    weight: 65,\n",
    "    score: null\n",
    "};\n",
    "'name' in xiaoming; // true\n",
    "'grade' in xiaoming; // false\n",
    "\n",
    "//不过要小心，如果in判断一个属性存在，这个属性不一定是xiaoming的，它可能是xiaoming继承得到的：\n",
    "'toString' in xiaoming; // true\n",
    "\n",
    "xiaoming.hasOwnProperty('toString'); // false"
   ]
  },
  {
   "cell_type": "code",
   "execution_count": 24,
   "id": "f17a2382-3be4-4695-97b6-7fda497fc1e3",
   "metadata": {},
   "outputs": [
    {
     "name": "stdout",
     "output_type": "stream",
     "text": [
      "adult\n"
     ]
    }
   ],
   "source": [
    "var age = 20;\n",
    "if (age >= 18) { // 如果age >= 18为true，则执行if语句块\n",
    "    console.log('adult');\n",
    "} else { // 否则执行else语句块\n",
    "    console.log('teenager');\n",
    "}\n",
    "//JavaScript把null、undefined、0、NaN和空字符串''视为false，其他值一概视为true，因此上述代码条件判断的结果是true。"
   ]
  },
  {
   "cell_type": "code",
   "execution_count": 25,
   "id": "d41a871c-e4b0-46e2-b749-919844910fb6",
   "metadata": {},
   "outputs": [
    {
     "name": "stdout",
     "output_type": "stream",
     "text": [
      "Apple\n",
      "Google\n",
      "Microsoft\n"
     ]
    }
   ],
   "source": [
    "var arr = ['Apple', 'Google', 'Microsoft'];\n",
    "var i, x;\n",
    "for (i=0; i<arr.length; i++) {\n",
    "    x = arr[i];\n",
    "    console.log(x);\n",
    "}"
   ]
  },
  {
   "cell_type": "code",
   "execution_count": null,
   "id": "e76e60d6-4612-4ffd-ae9e-faad439102ad",
   "metadata": {},
   "outputs": [],
   "source": [
    "var arr = ['one','two',3,4,5]\n",
    "for (var i=0; i<arr.length;i++){\n",
    "    console.log(i,arr[i],'haha')\n",
    "}"
   ]
  },
  {
   "cell_type": "code",
   "execution_count": 29,
   "id": "fa3b7994-7cd5-48f8-8298-2144e10dfb56",
   "metadata": {},
   "outputs": [
    {
     "name": "stdout",
     "output_type": "stream",
     "text": [
      "string 0 Apple\n",
      "string 1 Google\n",
      "string 2 Microsoft\n"
     ]
    }
   ],
   "source": [
    "//遍历数组\n",
    "var arr = ['Apple', 'Google', 'Microsoft'];\n",
    "for (var i in arr){\n",
    "    console.log(typeof(i),i,arr[i])  //注意i是string\n",
    "}\n",
    "//请注意，for ... in对Array的循环得到的是String而不是Number"
   ]
  },
  {
   "cell_type": "code",
   "execution_count": 32,
   "id": "8e1ed76b-77b5-4327-9f25-d0ebab8fe945",
   "metadata": {},
   "outputs": [
    {
     "name": "stdout",
     "output_type": "stream",
     "text": [
      "name Jack\n",
      "age 20\n",
      "city Beijing\n",
      "name\n",
      "age\n",
      "city\n"
     ]
    }
   ],
   "source": [
    "var obj = {\n",
    "    name: 'Jack',\n",
    "    age: 20,\n",
    "    city: 'Beijing'\n",
    "};\n",
    "//遍历对象\n",
    "for (var key in obj) {\n",
    "    console.log(key,obj[key]); // 'name', 'age', 'city'\n",
    "}\n",
    "\n",
    "//要过滤掉对象继承的属性，用hasOwnProperty()来实现\n",
    "for (var key in obj) {\n",
    "    if (obj.hasOwnProperty(key)) {\n",
    "        console.log(key); // 'name', 'age', 'city'\n",
    "    }\n",
    "}"
   ]
  },
  {
   "cell_type": "raw",
   "id": "94c13a03-b6d1-48f8-955a-9268bcf519b3",
   "metadata": {},
   "source": [
    "//map和set\n",
    "JavaScript的默认对象表示方式{}可以视为其他语言中的Map或Dictionary的数据结构，即一组键值对。\n",
    "但是JavaScript的对象有个小问题，就是键必须是字符串。但实际上Number或者其他数据类型作为键也是非常合理的。\n",
    "为了解决这个问题，最新的ES6规范引入了新的数据类型Map"
   ]
  },
  {
   "cell_type": "code",
   "execution_count": 49,
   "id": "f8a3e663-0c2c-4941-8744-cc1227cca74d",
   "metadata": {},
   "outputs": [
    {
     "data": {
      "text/plain": [
       "95"
      ]
     },
     "execution_count": 49,
     "metadata": {},
     "output_type": "execute_result"
    }
   ],
   "source": [
    "var a = new Map()\n",
    "a.name = 1\n",
    "a.job = 2\n",
    "a\n",
    "//这种方式还是使用属性\n",
    "\n",
    "s = {'Michael':95,'Bob':75,'Tracy':85}\n",
    "s[\"Michael\"] //对象方式就必须用对象方式来取值\n",
    "\n",
    "//所以上面的a实际上只是添加了属性，但还是空的Map"
   ]
  },
  {
   "cell_type": "code",
   "execution_count": 62,
   "id": "b1a73fa1-7549-48fa-8faa-de469ecfd29c",
   "metadata": {},
   "outputs": [
    {
     "name": "stdout",
     "output_type": "stream",
     "text": [
      "Map { 'Bob' => 75, 'Tracy' => 85, 'Adam' => 67 }\n"
     ]
    },
    {
     "data": {
      "text/plain": [
       "[Map Iterator] { [ 'Bob', 75 ], [ 'Tracy', 85 ], [ 'Adam', 67 ] }"
      ]
     },
     "execution_count": 62,
     "metadata": {},
     "output_type": "execute_result"
    }
   ],
   "source": [
    "var m = new Map([['Michael', 95], ['Bob', 75], ['Tracy', 85]]); //Map是用维数组初始化\n",
    "m\n",
    "//Map { 'Michael' => 95, 'Bob' => 75, 'Tracy' => 85 }\n",
    "m.get('Michael');\n",
    "\n",
    "m.set('Adam', 67); //使用set来添加新的\n",
    "\n",
    "m.has('Adam') //true\n",
    "\n",
    "m.delete('Michael')\n",
    "\n",
    "// m.clear() //清除全部\n",
    "console.log(m)\n",
    "\n",
    "//是按照顺序存储的\n",
    "\n",
    "// keys()：返回键名的遍历器。\n",
    "// values()：返回键值的遍历器。\n",
    "// entries()：返回所有成员的遍历器\n",
    "\n",
    "m.keys()\n",
    "m.values()\n",
    "m.entries()\n"
   ]
  },
  {
   "cell_type": "code",
   "execution_count": 63,
   "id": "c16d9b8b-1560-4ef0-adff-c9b52c9d5008",
   "metadata": {},
   "outputs": [],
   "source": [
    "//Set用法"
   ]
  },
  {
   "cell_type": "code",
   "execution_count": 69,
   "id": "1a722a9c-e249-4962-82a1-d652b4a99774",
   "metadata": {},
   "outputs": [
    {
     "data": {
      "text/plain": [
       "false"
      ]
     },
     "execution_count": 69,
     "metadata": {},
     "output_type": "execute_result"
    }
   ],
   "source": [
    "var s1 = new Set(); // 空Set\n",
    "s1.add(4)\n",
    "s1.delete(3) //false 不报错\n",
    "\n",
    "//有初始值\n",
    "s2 = new Set([1,2,3,4,4,]);\n",
    "s2.has(1) //true\n",
    "s2.has(5) //false\n"
   ]
  },
  {
   "cell_type": "code",
   "execution_count": null,
   "id": "252bbc68-6c3d-4eb0-bf0d-e1064236eb77",
   "metadata": {},
   "outputs": [],
   "source": [
    "//ES6标准引入了新的iterable类型，Array、Map和Set都属于iterable\n",
    "//具有iterable类型的集合可以通过新的for ... of循环来遍历。\n",
    "\n",
    "//for ... in循环由于历史遗留问题，它遍历的实际上是对象的属性名称。一个Array数组实际上也是一个对象，它的每个元素的索引被视为一个属性。\n",
    "//当我们手动给Array对象添加了额外的属性后，for ... in循环将带来意想不到的意外效果：\n",
    "//for ... of循环则完全修复了这些问题，它只循环集合本身的元素：\n",
    "//这就是为什么要引入新的for ... of循环。"
   ]
  },
  {
   "cell_type": "code",
   "execution_count": 72,
   "id": "a863e9a3-ce29-45c9-b61f-f766d6ad30ee",
   "metadata": {},
   "outputs": [
    {
     "name": "stdout",
     "output_type": "stream",
     "text": [
      "1 'number'\n",
      "2 'number'\n",
      "3 'number'\n"
     ]
    }
   ],
   "source": [
    "var a = [1, 2, 3];\n",
    "for (var x of a) {\n",
    "    console.log(x,typeof(x));\n",
    "} //迭代的是内容，而不是key 而且内容和类型一致"
   ]
  },
  {
   "cell_type": "code",
   "execution_count": null,
   "id": "a4d3c3f0-e186-4230-bd9b-7f525bd3a4c7",
   "metadata": {},
   "outputs": [],
   "source": [
    "var new_obj = {name:1,job:2}\n",
    "for (var i of new_obj){\n",
    "    console.log(i)\n",
    "}\n",
    "//TypeError: new_obj is not iterable\n",
    "\n",
    "//for of 不能用于以前的对象"
   ]
  },
  {
   "cell_type": "code",
   "execution_count": 75,
   "id": "11810dd7-308d-4ff4-af6c-c0116cfafe08",
   "metadata": {},
   "outputs": [
    {
     "name": "stdout",
     "output_type": "stream",
     "text": [
      "a\n",
      "b\n",
      "c\n"
     ]
    }
   ],
   "source": [
    "var arr3 = [\"a\",\"b\",\"c\"]\n",
    "for (var i of arr3){\n",
    "    console.log(i)\n",
    "}\n",
    "// 可以用于数组\n",
    "//可用于Arrays(数组)，Maps(映射)，Set(集合)，String(字符串)，Arguments Object(参数对象)，Generators(生成器)。不能用于普通对象"
   ]
  },
  {
   "cell_type": "code",
   "execution_count": 76,
   "id": "9e0ecb91-d878-4a8d-b4f3-5807179e7cee",
   "metadata": {},
   "outputs": [
    {
     "name": "stdout",
     "output_type": "stream",
     "text": [
      "Key: one and Value: 1\n",
      "Key: two and Value: 2\n"
     ]
    }
   ],
   "source": [
    "const iterable = new Map([['one', 1], ['two', 2]]);\n",
    "for (const [key, value] of iterable) {    //这里用到的是es6解构赋值\n",
    "  console.log(`Key: ${key} and Value: ${value}`);\n",
    "}"
   ]
  },
  {
   "cell_type": "code",
   "execution_count": 84,
   "id": "bf3f083f-4e5e-4abb-8d08-df97c16b7fd0",
   "metadata": {},
   "outputs": [
    {
     "name": "stdout",
     "output_type": "stream",
     "text": [
      "A, index = 0\n",
      "B, index = 1\n",
      "C, index = 2\n"
     ]
    }
   ],
   "source": [
    "//然而，更好的方式是直接使用iterable内置的forEach方法，它接收一个函数，每次迭代就自动回调该函数。以Array为例\n",
    "var a = ['A', 'B', 'C'];\n",
    "\n",
    "a.forEach(function (element, index, array) {\n",
    "    // element: 指向当前元素的值\n",
    "    // index: 指向当前索引\n",
    "    // array: 指向Array对象本身\n",
    "\n",
    "    console.log(element + ', index = ' + index);\n",
    "});\n",
    "\n",
    "//第一个参数是元素本身，第二个参数是index，第三个参数是该对象\n",
    "//a.forEach( (e,i) => console.log(e,i) )\n",
    "//a.forEach((e,i)=>console.log(typeof(i))) //这个是number"
   ]
  },
  {
   "cell_type": "code",
   "execution_count": 86,
   "id": "fafc6057-c1e3-452b-b6a6-5a6a563e6621",
   "metadata": {},
   "outputs": [
    {
     "name": "stdout",
     "output_type": "stream",
     "text": [
      "a a Set { 'a', 2, 3, 4 }\n",
      "2 2 Set { 'a', 2, 3, 4 }\n",
      "3 3 Set { 'a', 2, 3, 4 }\n",
      "4 4 Set { 'a', 2, 3, 4 }\n"
     ]
    }
   ],
   "source": [
    "//Set这种无序的遍历 e和i都是本身\n",
    "var b = new Set(['a',2,3])\n",
    "b.add(4)\n",
    "b.forEach((e,i,it)=>console.log(e,i,it) )"
   ]
  },
  {
   "cell_type": "code",
   "execution_count": 87,
   "id": "4c24577f-9b09-4d14-a726-47954d88c06f",
   "metadata": {},
   "outputs": [
    {
     "name": "stdout",
     "output_type": "stream",
     "text": [
      "1 'a'\n",
      "2 'b'\n"
     ]
    }
   ],
   "source": [
    "//map e是value i是key\n",
    "var c = new Map([['a',1],['b',2]])\n",
    "c.forEach((e,i)=>console.log(e,i))\n"
   ]
  },
  {
   "cell_type": "code",
   "execution_count": 88,
   "id": "1b102a75-963d-486d-9cf4-ee55e7abdf35",
   "metadata": {},
   "outputs": [
    {
     "data": {
      "text/plain": [
       "{ name: 'wang', age: 18 }"
      ]
     },
     "execution_count": 88,
     "metadata": {},
     "output_type": "execute_result"
    }
   ],
   "source": [
    "//对象的遍历,除了in以外的用法\n",
    "d = {name:'wang',age:18}\n",
    "//d.forEach((e)=>(console.log(e))) //TypeError\n",
    "//正确方法\n",
    "//Object.keys(d).forEach((k)=>(console.log(k,d[k])))\n",
    "//Object.keys(d)  [ 'name', 'age' ]\n",
    "// Object.getOwnPropertyNames(d).forEach((k)=>(console.log(k,d[k])))"
   ]
  },
  {
   "cell_type": "markdown",
   "id": "ec6836c7-05b9-4498-8f08-f58d1fc39a07",
   "metadata": {
    "tags": []
   },
   "source": [
    "# 函数"
   ]
  },
  {
   "cell_type": "raw",
   "id": "2b8f8306-1355-4583-a8ff-77b5a134e8f0",
   "metadata": {},
   "source": [
    "什么时候加分号，什么时候不加分号\n",
    "真正会导致上下行解析出问题的 token 有 5 个：括号，方括号，正则开头的斜杠，加号，减号。\n",
    "如果在return、break、continue、throw等关键字后面换行，javascript会在换行处填补分号。"
   ]
  },
  {
   "cell_type": "code",
   "execution_count": 90,
   "id": "043f4205-0c06-4315-83fa-3bb8ad2e609d",
   "metadata": {},
   "outputs": [],
   "source": [
    "function abs(x) {\n",
    "    if (x >= 0) {\n",
    "        return x;\n",
    "    } else {\n",
    "        return -x;\n",
    "    }\n",
    "}//function不属于表达式，表达式都需要加分号\n",
    "// function (x) { ... }是一个匿名函数，它没有函数名。"
   ]
  },
  {
   "cell_type": "code",
   "execution_count": 95,
   "id": "7848eeca-3e90-4dfc-b8b7-fb34dadaf8ba",
   "metadata": {},
   "outputs": [
    {
     "data": {
      "text/plain": [
       "12"
      ]
     },
     "execution_count": 95,
     "metadata": {},
     "output_type": "execute_result"
    }
   ],
   "source": [
    "// 通过变量abs就可以调用该函数。\n",
    "abs(-2) //2\n",
    "//由于JavaScript允许传入任意个参数而不影响调用，因此传入的参数比定义的参数多也没有问题，虽然函数内部并不需要这些参数：\n",
    "abs(12,22);"
   ]
  },
  {
   "cell_type": "code",
   "execution_count": 92,
   "id": "44702119-dc20-4436-aa95-4ad8ccc866a6",
   "metadata": {},
   "outputs": [],
   "source": [
    "var abs = function (x) {\n",
    "    if (x >= 0) {\n",
    "        return x;\n",
    "    } else {\n",
    "        return -x;\n",
    "    }\n",
    "};//这个是赋值语句，最好加分号"
   ]
  },
  {
   "cell_type": "code",
   "execution_count": 93,
   "id": "d92a10d5-95d0-433d-839c-9e2f27a79a41",
   "metadata": {},
   "outputs": [
    {
     "data": {
      "text/plain": [
       "3"
      ]
     },
     "execution_count": 93,
     "metadata": {},
     "output_type": "execute_result"
    }
   ],
   "source": [
    "a = (1)// 1\n",
    "a = (1,3)// 3"
   ]
  },
  {
   "cell_type": "raw",
   "id": "ed01913b-439e-4264-a911-d88750830c9a",
   "metadata": {},
   "source": [
    "JavaScript还有一个免费赠送的关键字arguments，它只在函数内部起作用，并且永远指向当前函数的调用者传入的所有参数。arguments类似Array但它不是一个Array"
   ]
  },
  {
   "cell_type": "code",
   "execution_count": 96,
   "id": "8c4e4c48-509c-4201-af8a-ef8215db38dd",
   "metadata": {},
   "outputs": [],
   "source": [
    "function test_arg(){\n",
    "    console.log(arguments) //arguments是系统保留字，必须使用这个\n",
    "}"
   ]
  },
  {
   "cell_type": "code",
   "execution_count": 97,
   "id": "592da8d8-0260-4893-8c48-5ec9c3e3ae74",
   "metadata": {},
   "outputs": [
    {
     "name": "stdout",
     "output_type": "stream",
     "text": [
      "[Arguments] { '0': 1, '1': 23, '2': 1 }\n"
     ]
    }
   ],
   "source": [
    "test_arg(1,23,a=1) //[Arguments] { '0': 1, '1': 23, '2': 1 }"
   ]
  },
  {
   "cell_type": "code",
   "execution_count": null,
   "id": "4fb54172-b37b-4580-becf-1ce74e725c09",
   "metadata": {},
   "outputs": [],
   "source": []
  }
 ],
 "metadata": {
  "kernelspec": {
   "display_name": "Javascript (Node.js)",
   "language": "javascript",
   "name": "javascript"
  },
  "language_info": {
   "file_extension": ".js",
   "mimetype": "application/javascript",
   "name": "javascript",
   "version": "10.24.0"
  }
 },
 "nbformat": 4,
 "nbformat_minor": 5
}
