{
 "cells": [
  {
   "cell_type": "markdown",
   "id": "ec392123-e4a8-41c8-bebb-472f8334297d",
   "metadata": {},
   "source": [
    "# C语言基础"
   ]
  },
  {
   "cell_type": "code",
   "execution_count": 2,
   "id": "206e3e49-7a87-419c-8bf9-864fdf5e9a12",
   "metadata": {},
   "outputs": [
    {
     "name": "stdout",
     "output_type": "stream",
     "text": [
      "Hello World\n"
     ]
    }
   ],
   "source": [
    "#include <stdio.h>\n",
    "\n",
    "int main(void) {\n",
    "  printf(\"Hello World\\n\");\n",
    "  return 0;\n",
    "}"
   ]
  },
  {
   "cell_type": "raw",
   "id": "7c556720-7abc-4492-9bba-e877693b120a",
   "metadata": {},
   "source": [
    "gcc hello.c //生成a.out的编译文件"
   ]
  },
  {
   "cell_type": "raw",
   "id": "950aa28f-969b-4393-83b9-f2e68849c1f2",
   "metadata": {},
   "source": [
    "gcc -o hello hello.c //编译文件是hello"
   ]
  },
  {
   "cell_type": "raw",
   "id": "54c40b5c-38cd-466a-951b-68c8c6ae4d96",
   "metadata": {},
   "source": [
    "./hello //执行文件"
   ]
  },
  {
   "cell_type": "markdown",
   "id": "d60331b5-ef24-4cc0-aa30-5662e16c6717",
   "metadata": {
    "tags": []
   },
   "source": [
    "# 基本语法"
   ]
  },
  {
   "cell_type": "markdown",
   "id": "888dff56-dad1-491c-bacf-5ce2d037649a",
   "metadata": {
    "tags": []
   },
   "source": [
    "## 语句"
   ]
  },
  {
   "cell_type": "raw",
   "id": "f1457106-cbd4-4f2c-9e87-ec628db1ec29",
   "metadata": {},
   "source": [
    "int x = 1;\n",
    "//语句必须使用分号结尾，除非有明确规定可以不写分号。"
   ]
  },
  {
   "cell_type": "raw",
   "id": "daf5d38b-327b-4df3-ab72-8aa91b7247df",
   "metadata": {},
   "source": [
    "//下面的语句和上面同价\n",
    "int x\n",
    "=\n",
    "1\n",
    ";"
   ]
  },
  {
   "cell_type": "markdown",
   "id": "43293967-3d5b-4271-8193-1305ca3606d6",
   "metadata": {},
   "source": [
    "## 表达式"
   ]
  },
  {
   "cell_type": "raw",
   "id": "1f7c6554-3255-4c33-97f0-5f4d65b44992",
   "metadata": {},
   "source": [
    "//C 语言的各种计算，主要通过表达式完成。表达式（expression）是一个计算式，用来获取值\n",
    "//语句可以包含表达式，但是表达式本身不构成语句。\n",
    "//表达式都有返回值，语句不一定有"
   ]
  },
  {
   "cell_type": "code",
   "execution_count": null,
   "id": "a0160c82-9fa3-4ec6-a9ba-c3ebbd1b2a7f",
   "metadata": {},
   "outputs": [],
   "source": [
    "// 1 + 2;\n",
    "// 8;"
   ]
  },
  {
   "cell_type": "markdown",
   "id": "1d0c4d51-8079-4b5f-ab93-7a707c1de033",
   "metadata": {
    "tags": []
   },
   "source": [
    "## 语句块"
   ]
  },
  {
   "cell_type": "raw",
   "id": "3052c680-e9d1-4679-89fc-ff0bcdfd7cd1",
   "metadata": {},
   "source": [
    "C 语言允许多个语句使用一对大括号{}，组成一个块，也称为复合语句（compounded statement）。在语法上，语句块可以视为多个语句组成的一个复合语句。"
   ]
  },
  {
   "cell_type": "code",
   "execution_count": null,
   "id": "410ebb1e-986c-4f49-8b14-e12a51b8f0b0",
   "metadata": {},
   "outputs": [],
   "source": [
    "{\n",
    "  int x;\n",
    "  x = 1;\n",
    "}\n",
    "//大括号的结尾不需要添加分号。"
   ]
  },
  {
   "cell_type": "markdown",
   "id": "76a83dc8-6bc5-4750-adaa-b249e3acc095",
   "metadata": {
    "tags": []
   },
   "source": [
    "## 空格"
   ]
  },
  {
   "cell_type": "raw",
   "id": "a4416bf0-5792-4738-80a5-b47db9b65395",
   "metadata": {},
   "source": [
    "C 语言里面的空格，主要用来帮助编译器区分语法单位。\n",
    "如果语法单位不用空格就能区分，空格就不是必须的，只是为了增加代码的可读性"
   ]
  },
  {
   "cell_type": "markdown",
   "id": "ee117c26-1d2a-49d6-8adb-1ca2fbf7f842",
   "metadata": {
    "tags": []
   },
   "source": [
    "## 注释"
   ]
  },
  {
   "cell_type": "raw",
   "id": "ad20cbe8-3113-47b6-8de9-a23266660b9e",
   "metadata": {},
   "source": [
    "/* 注释 */\n",
    "\n",
    "/*\n",
    "  这是一行注释\n",
    "*/"
   ]
  },
  {
   "cell_type": "markdown",
   "id": "72d89626-81f8-4a4f-9667-24ef43429895",
   "metadata": {
    "tags": []
   },
   "source": [
    "## printf"
   ]
  },
  {
   "cell_type": "code",
   "execution_count": 12,
   "id": "79d0b66c-88ba-498b-b5e2-bd64f12debd5",
   "metadata": {},
   "outputs": [
    {
     "name": "stdout",
     "output_type": "stream",
     "text": [
      "hello\n",
      "world\n",
      "There are 3 apples\n",
      "jane will come tonight\n",
      "Ben says it is 21 o'clock\n"
     ]
    }
   ],
   "source": [
    "//printf()是在标准库的头文件stdio.h定义的。使用这个函数之前，必须在源码文件头部引入这个头文件。\n",
    "#include <stdio.h> //　不需要;结尾\n",
    "\n",
    "int main(void) {\n",
    "    \n",
    "  printf(\"hello\\n\");\n",
    "  printf(\"world\\n\");\n",
    "  \n",
    "  // %i整数 %s字符串 \n",
    "  printf(\"There are %i apples\\n\", 3);\n",
    "  printf(\"%s will come tonight\\n\", \"jane\");\n",
    "  //printf(\"%s will come tonight\\n\", 3); //编译报错\n",
    "    \n",
    "  printf(\"%s says it is %i o'clock\\n\", \"Ben\", 21);\n",
    "    \n",
    "    \n",
    "  return 0;\n",
    "}\n"
   ]
  },
  {
   "cell_type": "raw",
   "id": "15b64cf4-a57f-4f72-8de4-2a8f0ce8e9c4",
   "metadata": {},
   "source": [
    "%d：十进制整数 %i：整数，基本等同于%d\n",
    "%a：浮点数\n",
    "%c：字符\n",
    "%s：字符串"
   ]
  },
  {
   "cell_type": "markdown",
   "id": "9057bec5-2f6c-4e62-a9ad-ef5f3301a7e3",
   "metadata": {
    "tags": []
   },
   "source": [
    "# 变量"
   ]
  },
  {
   "cell_type": "raw",
   "id": "3156f108-371d-472c-be5a-c5c5c1d5cfad",
   "metadata": {},
   "source": [
    "# 变量名\n",
    "只能由字母（包括大写和小写）、数字和下划线（_）组成。\n",
    "不能以数字开头。\n",
    "长度不能超过63个字符。"
   ]
  },
  {
   "cell_type": "raw",
   "id": "2091872a-4a25-481e-8ce0-5df54a99e651",
   "metadata": {},
   "source": [
    "保留字\n",
    "auto, break, case, char, const, continue, default, do, double, else, enum, extern, float, for, goto, if, inline, int, long, register, restrict, return, short, signed, sizeof, static, struct, switch, typedef, union, unsigned, void, volatile, while"
   ]
  },
  {
   "cell_type": "raw",
   "id": "937bd8a4-feb6-4b75-ac25-45855b076133",
   "metadata": {},
   "source": [
    "C 语言会在变量声明时，就为它分配内存空间，但是不会清除内存里面原来的值。\n",
    "这导致声明变量以后，变量会是一个随机的值。所以，变量一定要赋值以后才能使用"
   ]
  },
  {
   "cell_type": "raw",
   "id": "863edda5-1b8c-43e0-a118-55486c648779",
   "metadata": {},
   "source": [
    "变量的值应该与类型一致，不应该赋予不是同一个类型的值，比如num的类型是整数，就不应该赋值为小数。\n",
    "虽然 C 语言会自动转换类型，但是应该避免赋值运算符两侧的类型不一致。"
   ]
  },
  {
   "cell_type": "code",
   "execution_count": 24,
   "id": "e5bc8bf3-e52e-480c-a910-1315bc63355c",
   "metadata": {},
   "outputs": [
    {
     "name": "stdout",
     "output_type": "stream",
     "text": [
      "x is 1\n",
      "g is 2\n"
     ]
    }
   ],
   "source": [
    "#include <stdio.h>\n",
    "\n",
    "int g = 2; //顶层声明\n",
    "\n",
    "int main(void) {\n",
    "    int x;\n",
    "    x = 1.2;\n",
    "    printf(\"x is %i\\n\",x);\n",
    "    \n",
    "    int num = 42;\n",
    "    int y = 1, z = 2;\n",
    "    \n",
    "    printf(\"g is %i\\n\",g);\n",
    "\n",
    "    return 0;\n",
    "}\n"
   ]
  },
  {
   "cell_type": "raw",
   "id": "3b5803a2-be9e-4bab-8292-1b81ce99b25f",
   "metadata": {},
   "source": [
    "块作用域（block scope）指的是由大括号（{}）组成的代码块，它形成一个单独的作用域。\n",
    "凡是在块作用域里面声明的变量，只在当前代码块有效，代码块外部不可见。"
   ]
  },
  {
   "cell_type": "raw",
   "id": "160d2e98-6402-4eb5-b48c-ad34ad039a2b",
   "metadata": {},
   "source": [
    "int a = 12;\n",
    "\n",
    "if (a == 12) {\n",
    "  int b = 99;\n",
    "  printf(\"%d %d\\n\", a, b);  // 12 99\n",
    "}\n",
    "\n",
    "printf(\"%d\\n\", a);  // 12\n",
    "printf(\"%d\\n\", b);  // 出错"
   ]
  },
  {
   "cell_type": "raw",
   "id": "32512f43-184d-4343-b585-711d039bfb5c",
   "metadata": {},
   "source": [
    "{\n",
    "  int i = 10;\n",
    "\n",
    "  {\n",
    "    int i = 20;\n",
    "    printf(\"%d\\n\", i);  // 20\n",
    "  }\n",
    "\n",
    "  printf(\"%d\\n\", i);  // 10\n",
    "}"
   ]
  },
  {
   "cell_type": "raw",
   "id": "9558fb7c-07d2-47d2-b416-ed77d45e651c",
   "metadata": {},
   "source": [
    "for (int i = 0; i < 10; i++)\n",
    "  printf(\"%d\\n\", i);\n",
    "\n",
    "printf(\"%d\\n\", i); // 出错"
   ]
  },
  {
   "cell_type": "markdown",
   "id": "926d67b8-ad42-4f8b-8a47-d9fd6f07a114",
   "metadata": {},
   "source": [
    "# 运算符"
   ]
  },
  {
   "cell_type": "markdown",
   "id": "3d272261-6155-4827-aa6c-c7a35ad1e5c0",
   "metadata": {},
   "source": [
    "## 算术运算符"
   ]
  },
  {
   "cell_type": "code",
   "execution_count": 30,
   "id": "ae87a348-e469-4856-b5bf-1a407a43a8b3",
   "metadata": {},
   "outputs": [
    {
     "name": "stdout",
     "output_type": "stream",
     "text": [
      "1.000000 1.500000\n"
     ]
    }
   ],
   "source": [
    "#include <stdio.h>\n",
    "\n",
    "int main(void) {\n",
    "    \n",
    "    float x1 = 6 / 4; //两个整数相除，得到还是一个整数\n",
    "    float x2 = 6.0 / 4; // 或者写成 6 / 4.0\n",
    "    printf(\"%f %f\\n\", x1,x2); \n",
    "    \n",
    "    return 0;\n",
    "}"
   ]
  },
  {
   "cell_type": "markdown",
   "id": "cf40b50d-1ba0-4058-b9f1-7a027e736e2a",
   "metadata": {},
   "source": [
    "## 自增,自减"
   ]
  },
  {
   "cell_type": "raw",
   "id": "b50e102c-4a24-415b-9a75-6d207575a202",
   "metadata": {},
   "source": [
    "++：自增运算符\n",
    "--：自减运算符"
   ]
  },
  {
   "cell_type": "markdown",
   "id": "da3e2836-d332-4ca4-8ec3-e598f5e1ff99",
   "metadata": {},
   "source": [
    "## 关系运算符"
   ]
  },
  {
   "cell_type": "raw",
   "id": "902e9b73-ad62-4284-b2d4-0021f134b18f",
   "metadata": {},
   "source": [
    "> 大于运算符\n",
    "< 小于运算符\n",
    ">= 大于等于运算符\n",
    "<= 小于等于运算符\n",
    "== 相等运算符\n",
    "!= 不相等运算符"
   ]
  },
  {
   "cell_type": "code",
   "execution_count": null,
   "id": "9f4f17d2-dd1b-4cb9-9e76-ed161e9670d4",
   "metadata": {},
   "outputs": [],
   "source": [
    "// 关系表达式通常返回0或1，表示真伪。C 语言中，0表示伪，所有非零值表示真"
   ]
  },
  {
   "cell_type": "markdown",
   "id": "57e7fafb-b846-4ba3-af42-edcc0ae89ef0",
   "metadata": {},
   "source": [
    "## 逻辑运算符"
   ]
  },
  {
   "cell_type": "raw",
   "id": "20800502-de86-4ec8-9601-6cdaae920a13",
   "metadata": {},
   "source": [
    "!：否运算符（改变单个表达式的真伪）。\n",
    "&&：与运算符（两侧的表达式都为真，则为真，否则为伪）。\n",
    "||：或运算符（两侧至少有一个表达式为真，则为真，否则为伪）"
   ]
  },
  {
   "cell_type": "markdown",
   "id": "18cbc402-fa26-4471-a149-32f7b7b49062",
   "metadata": {
    "tags": []
   },
   "source": [
    "## 位运算符"
   ]
  },
  {
   "cell_type": "markdown",
   "id": "551d2ec6-15b0-47cc-85ef-709b9c925719",
   "metadata": {},
   "source": [
    "### 取反运算符"
   ]
  },
  {
   "cell_type": "raw",
   "id": "b10915a6-e013-4ee1-80cc-55eba17cf6bf",
   "metadata": {},
   "source": [
    "// 返回 01101100\n",
    "~ 10010011"
   ]
  },
  {
   "cell_type": "code",
   "execution_count": 41,
   "id": "3d04ab54-b056-4606-afee-0dddeb050173",
   "metadata": {},
   "outputs": [
    {
     "name": "stdout",
     "output_type": "stream",
     "text": [
      "-3"
     ]
    }
   ],
   "source": [
    "#include <stdio.h>\n",
    "int main(void) {\n",
    "\n",
    "    int a = 2; //00000010\n",
    "    int b = ~ a ; // 11111101 => 253-256\n",
    "    \n",
    "    printf(\"%d\",b);\n",
    "    return 0;\n",
    "}"
   ]
  },
  {
   "cell_type": "markdown",
   "id": "98c3b6d2-5d84-4708-8922-f982ab80c8d5",
   "metadata": {
    "tags": []
   },
   "source": [
    "### 与运算符&"
   ]
  },
  {
   "cell_type": "raw",
   "id": "dd6ea15b-3410-420a-a4e1-585a9f81cf6b",
   "metadata": {},
   "source": [
    "// 返回 00010001\n",
    "10010011 & 00111101"
   ]
  },
  {
   "cell_type": "code",
   "execution_count": 45,
   "id": "8eec44bb-b370-4d3d-8cd9-80fd905322dc",
   "metadata": {},
   "outputs": [
    {
     "name": "stdout",
     "output_type": "stream",
     "text": [
      "2"
     ]
    }
   ],
   "source": [
    "#include <stdio.h>\n",
    "int main(void) {\n",
    "\n",
    "    int a = 3; //11\n",
    "    int b = 2; //10\n",
    "    int c = a & b; // 10 => 2\n",
    "    \n",
    "    int val;\n",
    "    val &= a; //val = val & a\n",
    "    \n",
    "    printf(\"%d\",c); \n",
    "    return 0;\n",
    "}"
   ]
  },
  {
   "cell_type": "markdown",
   "id": "517788e5-6916-4e34-8ef4-8ee6ecf512ca",
   "metadata": {
    "tags": []
   },
   "source": [
    "### 或运算符|"
   ]
  },
  {
   "cell_type": "raw",
   "id": "a6d7c8c1-e8fa-449e-a2c5-8f4ad4eb39e9",
   "metadata": {},
   "source": [
    "// 返回 10111111\n",
    "10010011 | 00111101\n",
    "\n",
    "val |= 0377;"
   ]
  },
  {
   "cell_type": "markdown",
   "id": "f9ae691f-8cd1-4a40-a69f-df0cc9204eb0",
   "metadata": {},
   "source": [
    "### 异或运算符^"
   ]
  },
  {
   "cell_type": "raw",
   "id": "065f8479-d75d-422c-9c8e-b874579888a6",
   "metadata": {},
   "source": [
    "有且仅有一个为1，就返回1，否则返回0。\n",
    "\n",
    "// 简写为\n",
    "val ^= 0377;"
   ]
  },
  {
   "cell_type": "markdown",
   "id": "53755629-3c76-49e3-bc0c-990a8585eeb1",
   "metadata": {},
   "source": [
    "### 左移运算符<<"
   ]
  },
  {
   "cell_type": "raw",
   "id": "36405b71-8a2e-41bf-b540-e27146555913",
   "metadata": {},
   "source": [
    "左移运算符<<将左侧运算数的每一位，向左移动指定的位数，尾部空出来的位置使用0填充。\n",
    "// 1000101000\n",
    "10001010 << 2\n",
    "左移运算符相当于将运算数乘以2的指定次方，比如左移2位相当于乘以4（2的2次方）。"
   ]
  },
  {
   "cell_type": "code",
   "execution_count": 48,
   "id": "25b39076-8469-4065-a1c7-411252b94cf1",
   "metadata": {},
   "outputs": [
    {
     "name": "stdout",
     "output_type": "stream",
     "text": [
      "8"
     ]
    }
   ],
   "source": [
    "#include <stdio.h>\n",
    "\n",
    "int main(void) {\n",
    "\n",
    "    int b;\n",
    "    b = 1;\n",
    "    //b <<= 1; // 1*2\n",
    "    // b <<= 2; //1* 2**2\n",
    "    b <<= 3; //1* 2**3 \n",
    "\n",
    "    printf(\"%d\",b);\n",
    "    return 0;\n",
    "}"
   ]
  },
  {
   "cell_type": "markdown",
   "id": "5560a12e-b4c3-4828-9bfd-77344bb0296d",
   "metadata": {},
   "source": [
    "### 右移运算符>>"
   ]
  },
  {
   "cell_type": "raw",
   "id": "950087c3-a82d-4a7a-bba3-035290c19903",
   "metadata": {},
   "source": [
    "注意，右移运算符最好只用于无符号整数，不要用于负数。因为不同系统对于右移后如何处理负数的符号位，有不同的做法，可能会得到不一样的结果。\n",
    "右移运算符相当于将运算数除以2的指定次方，比如右移2位就相当于除以4（2的2次方）。"
   ]
  },
  {
   "cell_type": "markdown",
   "id": "9df2758b-8527-486d-a608-1a085893c347",
   "metadata": {},
   "source": [
    "### 逗号运算符"
   ]
  },
  {
   "cell_type": "raw",
   "id": "bef8c705-bdcd-4543-b8d7-f5507e50bef1",
   "metadata": {},
   "source": [
    "x = 10, y = 20;////逗号使得它们可以放在同一条语句里面。"
   ]
  },
  {
   "cell_type": "markdown",
   "id": "e7c1cd43-3142-40b9-8dea-0e3001bf010f",
   "metadata": {
    "tags": []
   },
   "source": [
    "# 流程控制"
   ]
  },
  {
   "cell_type": "markdown",
   "id": "74f2fdb9-f6b7-4836-b660-e32fa9673c2b",
   "metadata": {
    "tags": []
   },
   "source": [
    "## if "
   ]
  },
  {
   "cell_type": "raw",
   "id": "5e92b5c6-a006-4951-9733-008f6b4f88cc",
   "metadata": {},
   "source": [
    "if (expression) statement //statement可以是一个语句，也可以是放在大括号里面的复合语句"
   ]
  },
  {
   "cell_type": "markdown",
   "id": "785799c7-40d2-4913-85b7-7ae890fe0973",
   "metadata": {},
   "source": [
    "## 三元操作符"
   ]
  },
  {
   "cell_type": "raw",
   "id": "41b22c52-3f51-427d-9afe-a8fd89a047be",
   "metadata": {},
   "source": [
    "<expression1> ? <expression2> : <expression3> //表达式expression1如果为true（非0值），就执行expression2，否则执行expression3。"
   ]
  },
  {
   "cell_type": "markdown",
   "id": "b75071bb-9554-4b0b-bcc6-b1a87675434f",
   "metadata": {
    "tags": []
   },
   "source": [
    "## switch 语句"
   ]
  },
  {
   "cell_type": "raw",
   "id": "138f2aef-b152-44c8-9e00-d0732c4767f9",
   "metadata": {},
   "source": [
    "switch (expression) {\n",
    "  case value1: statement\n",
    "  case value2: statement\n",
    "  default: statement\n",
    "}"
   ]
  },
  {
   "cell_type": "markdown",
   "id": "31d58033-bcac-4097-89bf-4ce6d9eafdef",
   "metadata": {
    "tags": []
   },
   "source": [
    "## while 语句"
   ]
  },
  {
   "cell_type": "raw",
   "id": "88805dc3-2180-4012-b4e7-8b6e6306752d",
   "metadata": {},
   "source": [
    "while (expression)\n",
    "  statement"
   ]
  },
  {
   "cell_type": "markdown",
   "id": "f457f86e-0e7a-4c29-aa01-3d39968e5cad",
   "metadata": {},
   "source": [
    "## do...while"
   ]
  },
  {
   "cell_type": "raw",
   "id": "27b95a60-2f75-4ea9-96b2-6449c9f3e195",
   "metadata": {},
   "source": [
    "do statement\n",
    "while (expression);"
   ]
  },
  {
   "cell_type": "markdown",
   "id": "bcbd9ac6-90c8-4672-a8e3-868ff168a8bb",
   "metadata": {},
   "source": [
    "## for 语句"
   ]
  },
  {
   "cell_type": "raw",
   "id": "8ad781f7-8b2b-493b-9bfd-99801acbf3fb",
   "metadata": {},
   "source": [
    "for (initialization; continuation; action)\n",
    "  statement;"
   ]
  },
  {
   "cell_type": "markdown",
   "id": "8a73826d-5bc2-4e60-a883-4bca2f71cdc6",
   "metadata": {},
   "source": [
    "# 数据类型"
   ]
  },
  {
   "cell_type": "raw",
   "id": "c960bb87-4673-4b3e-8135-fb602e09e811",
   "metadata": {},
   "source": [
    "基本数据类型有三种：字符（char）、整数（int）和浮点数（float）。复杂的类型都是基于它们构建的。"
   ]
  },
  {
   "cell_type": "markdown",
   "id": "e2dc14ba-df4a-4bb5-86f1-a7b8ec8c8c83",
   "metadata": {},
   "source": [
    "## 字符类型"
   ]
  },
  {
   "cell_type": "raw",
   "id": "75f9a27f-0fc4-4727-8e15-360ff5cf2cf6",
   "metadata": {},
   "source": [
    "char c = 'B'; //字符常量必须放在单引号里面\n",
    "char c = 66;//相同\n",
    "\n",
    "在计算机内部，字符类型使用一个字节（8位）存储。C 语言将其当作整数处理，所以字符类型就是宽度为一个字节的整数。每个字符对应一个整数（由 ASCII 码确定），比如B对应整数66。\n",
    "字符类型在不同计算机的默认范围是不一样的。一些系统默认为-128到127，另一些系统默认为0到255。这两种范围正好都能覆盖0到127的 ASCII 字符范围"
   ]
  },
  {
   "cell_type": "raw",
   "id": "3ad1c10c-be12-4129-a980-066846662566",
   "metadata": {},
   "source": [
    "转义写法还能使用八进制和十六进制表示一个字符。\n",
    "char x = '\\102'; // 八进制\n",
    "char x = '\\x42'; // 十六进制"
   ]
  },
  {
   "cell_type": "markdown",
   "id": "32d96dfc-22b6-44a8-8494-638fa97720c0",
   "metadata": {},
   "source": [
    "## 整数类型"
   ]
  },
  {
   "cell_type": "raw",
   "id": "8227d3de-141b-4696-9aad-995ba7631f24",
   "metadata": {},
   "source": [
    "int a;"
   ]
  },
  {
   "cell_type": "raw",
   "id": "ccd660e7-805e-437e-be9f-fd2e07951e72",
   "metadata": {},
   "source": [
    "不同计算机的int类型的大小是不一样的。比较常见的是使用4个字节（32位）存储一个int类型的值，\n",
    "但是2个字节（16位）或8个字节（64位）也有可能使用。它们可以表示的整数范围如下。\n",
    "\n",
    "16位：-32,768 到 32,767。\n",
    "32位：-2,147,483,648 到 2,147,483,647。\n",
    "64位：-9,223,372,036,854,775,808 到 9,223,372,036,854,775,807。"
   ]
  },
  {
   "cell_type": "markdown",
   "id": "76798510-015e-4f7e-b8b9-751c90a8c684",
   "metadata": {},
   "source": [
    "### signed，unsigned"
   ]
  },
  {
   "cell_type": "raw",
   "id": "28560432-258a-4b74-8943-cf267960f3c5",
   "metadata": {},
   "source": [
    "int等同于signed int。由于这是默认情况，关键字signed一般都省略不写"
   ]
  },
  {
   "cell_type": "code",
   "execution_count": null,
   "id": "dc9442a8-0b00-4a8c-8c77-7189a600389b",
   "metadata": {},
   "outputs": [],
   "source": [
    "如果int类型使用4个或8个字节表示一个整数，对于小整数，这样做很浪费空间"
   ]
  },
  {
   "cell_type": "raw",
   "id": "5f839ad9-5a88-4db8-b1e6-db46d54813c3",
   "metadata": {},
   "source": [
    "//需要8位整数时，应该使用char类型。\n",
    "short int a; //2字节\n",
    "long int b; //4字节\n",
    "long long int c; //8字节"
   ]
  },
  {
   "cell_type": "markdown",
   "id": "1c7f46aa-7058-4f03-84c1-b2e1dd8121fd",
   "metadata": {},
   "source": [
    "### 整数的进制"
   ]
  },
  {
   "cell_type": "raw",
   "id": "6a59d47f-8a2b-4025-9493-f19fcd2578d0",
   "metadata": {},
   "source": [
    "八进制使用0作为前缀，比如017、0377。\n",
    "int a = 012; // 八进制，相当于十进制的10"
   ]
  },
  {
   "cell_type": "raw",
   "id": "c9afd104-9048-4902-97e2-e872ebf0ec4f",
   "metadata": {},
   "source": [
    "十六进制使用0x或0X作为前缀，比如0xf、0X10\n",
    "int a = 0x1A2B; // 十六进制，相当于十进制的6699"
   ]
  },
  {
   "cell_type": "raw",
   "id": "6c907eba-5893-47d0-ae50-5c65ca4c9909",
   "metadata": {},
   "source": [
    "有些编译器使用0b前缀，表示二进制数，但不是标准\n",
    "int x = 0b101010;"
   ]
  },
  {
   "cell_type": "raw",
   "id": "1983760b-8f33-428f-bd25-37b864fb1f46",
   "metadata": {},
   "source": [
    "printf()的进制相关占位符如下。\n",
    "\n",
    "%d：十进制整数。\n",
    "%o：八进制整数。\n",
    "%x：十六进制整数。\n",
    "%#o：显示前缀0的八进制整数。\n",
    "%#x：显示前缀0x的十六进制整数。\n",
    "%#X：显示前缀0X的十六进制整数。"
   ]
  },
  {
   "cell_type": "markdown",
   "id": "a2eedd4b-97f8-48ab-a7b8-c93f2742b815",
   "metadata": {},
   "source": [
    "### 浮点数类型"
   ]
  },
  {
   "cell_type": "raw",
   "id": "a5c58adf-c9e4-42ef-9cc8-5f3cf8bf8ce9",
   "metadata": {},
   "source": [
    "浮点数类型\n",
    "// float 4字节\n",
    "// double 8字节\n",
    "// long double 16字节"
   ]
  },
  {
   "cell_type": "markdown",
   "id": "12c90171-e339-45e8-9516-1624a621c66d",
   "metadata": {},
   "source": [
    "### 布尔类型"
   ]
  },
  {
   "cell_type": "raw",
   "id": "67e1d0b2-62b2-45c8-b2a6-33645a8d546b",
   "metadata": {},
   "source": [
    "C99 标准添加了类型_Bool，表示布尔值。但是，这个类型其实只是整数类型的别名，还是使用0表示伪，1表示真，下面是一个示例。\n",
    "#include <stdbool.h>\n",
    "\n",
    "bool flag = false;"
   ]
  },
  {
   "cell_type": "markdown",
   "id": "bea1df2e-cec9-46d1-8067-39d722d958fd",
   "metadata": {},
   "source": [
    "### 字面量的类型 "
   ]
  },
  {
   "cell_type": "raw",
   "id": "75259e1e-4536-42db-a0b3-e4f9d25ada1d",
   "metadata": {},
   "source": [
    "字面量（literal）指的是代码里面直接出现的值。"
   ]
  },
  {
   "cell_type": "raw",
   "id": "b230cb32-63b4-4b6e-a4bf-1dd4543247b7",
   "metadata": {},
   "source": [
    "int x = 123; //上面代码中，x是变量，123就是字面量。"
   ]
  },
  {
   "cell_type": "markdown",
   "id": "d84b9ffe-2ce6-4cf8-ae05-f2e5ea0aabe8",
   "metadata": {},
   "source": [
    "# 指针"
   ]
  },
  {
   "cell_type": "raw",
   "id": "f3c05d80-6ab5-4e40-8a6d-cd9e09df4d58",
   "metadata": {},
   "source": [
    "int* intPtr;\n",
    "\n",
    "char* chrPtr;"
   ]
  },
  {
   "cell_type": "markdown",
   "id": "2f031b02-682d-4bec-8324-a62c5d5f246e",
   "metadata": {
    "tags": []
   },
   "source": [
    "## * 运算符"
   ]
  },
  {
   "cell_type": "raw",
   "id": "98a4eb76-d741-49fc-b47d-5abc473730cb",
   "metadata": {},
   "source": [
    "void increment(int* p) {\n",
    "  *p = *p + 1; //*p就表示指针p所指向的那个值。对*p赋值，就表示改变指针所指向的那个地址里面的值。\n",
    "}"
   ]
  },
  {
   "cell_type": "markdown",
   "id": "68c5c655-a7f3-457b-a82d-400ee3d359d3",
   "metadata": {},
   "source": [
    "## & 运算符"
   ]
  },
  {
   "cell_type": "raw",
   "id": "2269d13b-b940-4269-b92c-981d3c179c76",
   "metadata": {},
   "source": [
    "&运算符用来取出一个变量所在的内存地址。"
   ]
  },
  {
   "cell_type": "raw",
   "id": "9f8a6930-df10-4c60-8c51-5e21daecb6bb",
   "metadata": {},
   "source": [
    "int x = 1;\n",
    "printf(\"x's address is %p\\n\", &x);"
   ]
  },
  {
   "cell_type": "raw",
   "id": "3e465a1b-d13a-4ec4-a3c7-fd63d1852e6a",
   "metadata": {},
   "source": [
    "void increment(int* p) {\n",
    "  *p = *p + 1;\n",
    "}\n",
    "\n",
    "int x = 1;\n",
    "increment(&x);\n",
    "printf(\"%d\\n\", x); // 2"
   ]
  },
  {
   "cell_type": "raw",
   "id": "68290459-0a18-42e1-abe6-fe86341e1e21",
   "metadata": {},
   "source": [
    "i == *(&i) //永远成立"
   ]
  },
  {
   "cell_type": "markdown",
   "id": "0317810a-7688-4fb2-a35f-03b44afd4772",
   "metadata": {
    "tags": []
   },
   "source": [
    "## 指针变量的初始化"
   ]
  },
  {
   "cell_type": "raw",
   "id": "2652a721-1ee2-4f28-9134-fbf4f985f3ba",
   "metadata": {},
   "source": [
    "int* p;\n",
    "*p = 1; // 错误 指针变量指向的值是随机的。这时一定不能去读写指针变量指向的地址，因为那个地址是随机地址\n",
    "\n",
    "int i;\n",
    "\n",
    "p = &i;\n",
    "*p = 13;\n",
    "\n",
    "为了防止读写未初始化的指针变量，可以养成习惯，将未初始化的指针变量设为NULL。\n",
    "int* p = NULL;"
   ]
  },
  {
   "cell_type": "markdown",
   "id": "aff025cb-4859-4337-b825-39c782d2b938",
   "metadata": {},
   "source": [
    "# 函数"
   ]
  },
  {
   "cell_type": "code",
   "execution_count": null,
   "id": "ea426efa-aa09-40a3-b15e-a4e857f2d94c",
   "metadata": {},
   "outputs": [],
   "source": [
    "int plus_one(int n) {\n",
    "  return n + 1;\n",
    "}"
   ]
  },
  {
   "cell_type": "raw",
   "id": "d7ccb669-4a1e-4838-ae09-10bd259f09bd",
   "metadata": {},
   "source": [
    "不返回值的函数，使用void关键字表示返回值的类型。没有参数的函数，声明时要用void关键字表示参数类型。\n",
    "\n",
    "void myFunc(void) {\n",
    "  // ...\n",
    "}"
   ]
  },
  {
   "cell_type": "markdown",
   "id": "fb8af187-c0b0-4223-8ed3-2e5bed161897",
   "metadata": {
    "tags": []
   },
   "source": [
    "## main()"
   ]
  },
  {
   "cell_type": "raw",
   "id": "c8611aa6-fe1e-47b3-8ca8-dcbf3374583e",
   "metadata": {},
   "source": [
    "程序总是从这个函数开始执行，如果没有该函数，程序就无法启动。其他函数都是通过它引入程序的。"
   ]
  },
  {
   "cell_type": "raw",
   "id": "c5f0b89c-7eab-47c6-ac36-3eb63c1681d1",
   "metadata": {},
   "source": [
    "int main(void) {\n",
    "  printf(\"Hello World\\n\");\n",
    "  return 0;\n",
    "}"
   ]
  },
  {
   "cell_type": "raw",
   "id": "64fb8924-1ddf-4858-8ca9-a68fb981227a",
   "metadata": {},
   "source": [
    "C 语言约定，返回值0表示函数运行成功，如果返回其他非零整数，就表示运行失败，代码出了问题。系统根据main()的返回值，作为整个程序的返回值，确定程序是否运行成功。"
   ]
  },
  {
   "cell_type": "raw",
   "id": "af7eef9a-23d8-4e5c-ab6c-3027c1c4edf6",
   "metadata": {},
   "source": [
    "正常情况下，如果main()里面省略return 0这一行，编译器会自动加上，即main()的默认返回值为0。所以，写成下面这样，效果完全一样。"
   ]
  },
  {
   "cell_type": "raw",
   "id": "ccdfb1de-bd38-4220-a03f-58559f203412",
   "metadata": {},
   "source": [
    "int main(void) {\n",
    "  printf(\"Hello World\\n\");\n",
    "}"
   ]
  },
  {
   "cell_type": "raw",
   "id": "adf5143c-e020-4cb7-9b2d-66ca38a92f29",
   "metadata": {},
   "source": [
    "由于 C 语言只会对main()函数默认添加返回值，对其他函数不会这样做，所以建议总是保留return语句，以便形成统一的代码风格。"
   ]
  },
  {
   "cell_type": "markdown",
   "id": "f66b551c-3302-4359-8eda-b0da70d469d9",
   "metadata": {},
   "source": [
    "## 参数的传值引用"
   ]
  },
  {
   "cell_type": "code",
   "execution_count": null,
   "id": "32b75a61-ca44-49df-b07c-273600457961",
   "metadata": {},
   "outputs": [],
   "source": [
    "void increment(int a) {\n",
    "  a++;\n",
    "}\n",
    "\n",
    "int i = 10;\n",
    "increment(i);\n",
    "\n",
    "printf(\"%d\\n\", i); // 1\n",
    "//如果函数的参数是一个变量，那么调用时，传入的是这个变量的值的拷贝，而不是变量本身。"
   ]
  },
  {
   "cell_type": "raw",
   "id": "52c621b6-e082-47bb-86b3-9f8b26aae450",
   "metadata": {},
   "source": [
    "//所以，如果参数变量发生变化，最好把它作为返回值传出来。\n",
    "int increment(int a) {\n",
    "  a++;\n",
    "  return a;\n",
    "}\n",
    "\n",
    "int i = 10;\n",
    "i = increment(i);\n",
    "\n",
    "printf(\"%d\\n\", i); // 11"
   ]
  },
  {
   "cell_type": "raw",
   "id": "977df385-9992-432e-85f1-a354d21ec4a5",
   "metadata": {},
   "source": [
    "//如果想要传入变量本身，只有一个办法，就是传入变量的地址。\n",
    "void Swap(int* x, int* y) {\n",
    "  int temp;\n",
    "  temp = *x;\n",
    "  *x = *y;\n",
    "  *y = temp;\n",
    "}\n",
    "\n",
    "int a = 1;\n",
    "int b = 2;\n",
    "Swap(&a, &b);"
   ]
  },
  {
   "cell_type": "raw",
   "id": "1acb9532-9ec7-4822-ae3a-3dc86a537589",
   "metadata": {},
   "source": [
    "虽然跟传参无关，这里特别提一下，函数不要返回内部变量的指针。\n",
    "\n",
    "int* f(void) {\n",
    "  int i;\n",
    "  // ...\n",
    "  return &i;\n",
    "}\n",
    "上面示例中，函数返回内部变量i的指针，这种写法是错的。因为当函数结束运行时，内部变量就消失了，这时指向内部变量i的内存地址就是无效的，再去使用这个地址是非常危险的。"
   ]
  },
  {
   "cell_type": "markdown",
   "id": "101db249-da03-42f2-b88a-86014e22535b",
   "metadata": {},
   "source": [
    "## static 说明符"
   ]
  },
  {
   "cell_type": "markdown",
   "id": "341fdad2-cf13-49b9-9b8f-2097e3e2d8f0",
   "metadata": {},
   "source": [
    "### static修饰变量"
   ]
  },
  {
   "cell_type": "code",
   "execution_count": null,
   "id": "3333e2b0-4f85-4384-a4d3-69599b8d1e69",
   "metadata": {},
   "outputs": [],
   "source": [
    "默认情况下，每次调用函数时，函数的内部变量都会重新初始化，不会保留上一次运行的值。static说明符可以改变这种行为。\n",
    "\n",
    "static用于函数内部声明变量时，表示该变量只需要初始化一次，不需要在每次调用时都进行初始化。也就是说，它的值在两次调用之间保持不变。"
   ]
  },
  {
   "cell_type": "code",
   "execution_count": 5,
   "id": "91a78106-dd5a-4de7-940c-3d6e8f3fb73c",
   "metadata": {},
   "outputs": [
    {
     "name": "stdout",
     "output_type": "stream",
     "text": [
      "1\n",
      "2\n",
      "3\n",
      "4\n"
     ]
    }
   ],
   "source": [
    "#include <stdio.h>\n",
    "\n",
    "void counter(void) {\n",
    "  static int count = 1;  // 只初始化一次\n",
    "  printf(\"%d\\n\", count);\n",
    "  count++;\n",
    "}\n",
    "\n",
    "int main(void) {\n",
    "  counter();  // 1\n",
    "  counter();  // 2\n",
    "  counter();  // 3\n",
    "  counter();  // 4\n",
    "}"
   ]
  },
  {
   "cell_type": "raw",
   "id": "05571f56-b571-4c60-b3b1-34c78cbb69b2",
   "metadata": {},
   "source": [
    "static修饰的变量初始化时，只能赋值为常量，不能赋值为变量。\n",
    "另外，在块作用域中，static声明的变量有默认值0"
   ]
  },
  {
   "cell_type": "markdown",
   "id": "b0cbc269-34ea-4218-acde-8724fcd2d52c",
   "metadata": {},
   "source": [
    "### static可以用来修饰函数本身。"
   ]
  },
  {
   "cell_type": "code",
   "execution_count": null,
   "id": "74b7d3ba-b1d0-4308-a6b6-fe5cb95064ad",
   "metadata": {},
   "outputs": [],
   "source": [
    "static int Twice(int num) {\n",
    "  int result = num * 2;\n",
    "  return(result);\n",
    "}"
   ]
  },
  {
   "cell_type": "code",
   "execution_count": null,
   "id": "6d766714-a15b-424a-b1fe-1d01c2248891",
   "metadata": {},
   "outputs": [],
   "source": [
    "上面示例中，static关键字表示该函数只能在当前文件里使用，如果没有这个关键字，其他文件也可以使用这个函数（通过声明函数原型）。"
   ]
  },
  {
   "cell_type": "markdown",
   "id": "45600d90-08cd-470b-bb6b-4c46b5f6572a",
   "metadata": {},
   "source": [
    "### static也可以用在参数里面，修饰参数数组。"
   ]
  },
  {
   "cell_type": "code",
   "execution_count": null,
   "id": "90faa23d-cf13-4f93-879d-b20e5c8f3d16",
   "metadata": {},
   "outputs": [],
   "source": [
    "int sum_array(int a[static 3], int n) {\n",
    "  // ...\n",
    "}"
   ]
  },
  {
   "cell_type": "markdown",
   "id": "7f3fdaf9-3d2d-41c9-aef1-c32306a70e36",
   "metadata": {},
   "source": [
    "# 数组"
   ]
  },
  {
   "cell_type": "code",
   "execution_count": null,
   "id": "8e24ad6d-1804-4beb-86c2-392d13d0a8e8",
   "metadata": {},
   "outputs": [],
   "source": [
    "数组是一组相同类型的值，按照顺序储存在一起。数组通过变量名后加方括号表示，方括号里面是数组的成员数量。"
   ]
  },
  {
   "cell_type": "code",
   "execution_count": null,
   "id": "8b1c9d5e-fd1d-48b9-ad2e-da959983d04d",
   "metadata": {},
   "outputs": [],
   "source": [
    "int scores[100];"
   ]
  },
  {
   "cell_type": "code",
   "execution_count": null,
   "id": "0de71b16-a1d4-4ecf-aacd-037e21c1ed6e",
   "metadata": {},
   "outputs": [],
   "source": []
  }
 ],
 "metadata": {
  "kernelspec": {
   "display_name": "C",
   "language": "c",
   "name": "c"
  },
  "language_info": {
   "file_extension": ".c",
   "mimetype": "text/plain",
   "name": "c"
  },
  "toc-autonumbering": true
 },
 "nbformat": 4,
 "nbformat_minor": 5
}
