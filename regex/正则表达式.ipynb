{
 "cells": [
  {
   "cell_type": "code",
   "execution_count": 2,
   "id": "cc4f4bed-5d90-46e0-853e-82a58352451c",
   "metadata": {},
   "outputs": [],
   "source": [
    "import re"
   ]
  },
  {
   "cell_type": "markdown",
   "id": "5fd33f19-b917-45a9-aa5b-627bc31bdb92",
   "metadata": {},
   "source": [
    "# 元字符"
   ]
  },
  {
   "cell_type": "raw",
   "id": "198cddf7-8df5-4489-a09a-d06b0840fc83",
   "metadata": {},
   "source": [
    "metacharacter"
   ]
  },
  {
   "cell_type": "markdown",
   "id": "3f8b5081-969f-47df-969c-1bc98cb953cd",
   "metadata": {},
   "source": [
    "## 常见符号"
   ]
  },
  {
   "cell_type": "raw",
   "id": "909e8170-9775-43ac-8008-8e198ed75389",
   "metadata": {
    "tags": []
   },
   "source": [
    ".  表示匹配任意单个字符, 除了换行符，当re.S标记被指定时，则可以匹配包括换行符的任意字符\n",
    "\\  转义后面的一个字符\n",
    "[ 和 ]  表示字符集合，如果单独表示本身需要转义 [Ar] [0-9] [A-Za-z]\n",
    "- 英文连字符。 仅上上面的字符集合中使用，在集合外代表本身\n",
    "[^]  [后紧跟着^代表排除集合内元素 \n",
    "\n",
    "^在开头表示开始\n",
    "$在末尾表示结尾"
   ]
  },
  {
   "cell_type": "raw",
   "id": "12b38689-2883-443c-9cd7-e9841d45aedd",
   "metadata": {},
   "source": [
    "!!注意在[]内的字符不一定代表符号外的含义\n",
    "比如 + 在外面表示1或多次，而在[]代表+这个符号 . 在括号外如果要匹配+ 得使用\\+\n",
    "在括号内原字符会默认转义，除 []和-和\\"
   ]
  },
  {
   "cell_type": "code",
   "execution_count": 143,
   "id": "6e99f3bd-517b-4b0f-aa50-1700a8d80249",
   "metadata": {},
   "outputs": [
    {
     "ename": "SyntaxError",
     "evalue": "EOL while scanning string literal (1033753016.py, line 2)",
     "output_type": "error",
     "traceback": [
      "\u001b[0;36m  File \u001b[0;32m\"/tmp/ipykernel_2256/1033753016.py\"\u001b[0;36m, line \u001b[0;32m2\u001b[0m\n\u001b[0;31m    b = r'字符串内\\'\u001b[0m\n\u001b[0m                ^\u001b[0m\n\u001b[0;31mSyntaxError\u001b[0m\u001b[0;31m:\u001b[0m EOL while scanning string literal\n"
     ]
    }
   ],
   "source": [
    "a = '字符串内\\\\'\n",
    "b = r'字符串内\\'"
   ]
  },
  {
   "cell_type": "code",
   "execution_count": 3,
   "id": "910418c4-3b26-4e69-adfe-c82582edf023",
   "metadata": {},
   "outputs": [
    {
     "data": {
      "text/plain": [
       "<re.Match object; span=(0, 1), match='\\\\'>"
      ]
     },
     "execution_count": 3,
     "metadata": {},
     "output_type": "execute_result"
    }
   ],
   "source": [
    "re.match(r\"\\x5C\",r\"\\我\")\n",
    "# 这个情况如果不加r会报错，因为\\x5c会先被转成斜杆"
   ]
  },
  {
   "cell_type": "code",
   "execution_count": 150,
   "id": "29bbc11a-6eb1-454b-adc3-1553dcb3c54d",
   "metadata": {},
   "outputs": [
    {
     "data": {
      "text/plain": [
       "<re.Match object; span=(0, 5), match='aj\\\\\\\\c'>"
      ]
     },
     "execution_count": 150,
     "metadata": {},
     "output_type": "execute_result"
    }
   ],
   "source": [
    "re.match(r\"[aj\\x5Cc]+\",r\"aj\\\\c\")  # 后面的其实有两个\\\n",
    "re.match(r\"[aj\\\\c]+\",r\"aj\\\\c\") \n",
    "#1. \\不能作为集合中最后一个.或者\n",
    "#2. []内会对一些特殊字符进行默认转移义，也就是[\\+]和[+]其实是一样的，两种写法都可以\n",
    "#3. 以上的除外情况是 \\ - [] 另外^在开头表示除外"
   ]
  },
  {
   "cell_type": "code",
   "execution_count": 165,
   "id": "eca517ec-5f1b-4a96-916a-db5bd229d3b0",
   "metadata": {},
   "outputs": [],
   "source": [
    "# re.match(\"[\\/]+\",r\"/\") ## 许多正则表达式/是不需要转义的，但是有些解析器要求必须这么做"
   ]
  },
  {
   "cell_type": "markdown",
   "id": "92d251d2-2a55-4442-af74-cb392d3ee376",
   "metadata": {},
   "source": [
    "## 常见转义"
   ]
  },
  {
   "cell_type": "code",
   "execution_count": null,
   "id": "4b35c10a-f992-412c-87ac-b601a1bfbe7e",
   "metadata": {},
   "outputs": [],
   "source": [
    "\\w\t匹配字母数字及下划线\n",
    "\\W\t匹配非字母数字及下划线\n",
    "\\s\t匹配任意空白字符，等价于[ \\t\\n\\r\\f\\v]。\n",
    "\\S\t匹配任意非空字符\n",
    "\\d\t匹配任意数字，等价于 [0-9].\n",
    "\\D\t匹配任意非数字\n",
    "\\b\t匹配一个单词边界，也就是指单词和空格间的位置。例如， 'er\\b' 可以匹配\"never\" 中的 'er'，但不能匹配 \"verb\" 中的 'er'。\n",
    "\\B\t匹配非单词边界。'er\\B' 能匹配 \"verb\" 中的 'er'，但不能匹配 \"never\" 中的 'er'。\n",
    "\\n, \\t, 等.\t匹配一个换行符。匹配一个制表符。等\n",
    "\n",
    "\n",
    "# 不常用\n",
    "\\A\t匹配字符串开始\n",
    "\\Z\t匹配字符串结束，如果是存在换行，只匹配到换行前的结束字符串。\n",
    "\\z\t匹配字符串结束\n",
    "\\G\t匹配最后匹配完成的位置。"
   ]
  },
  {
   "cell_type": "markdown",
   "id": "03c229ac-ae74-4d60-a422-f25d85684eb8",
   "metadata": {},
   "source": [
    "## 匹配进制"
   ]
  },
  {
   "cell_type": "raw",
   "id": "a007f354-e695-4bfd-9ada-2d76841429de",
   "metadata": {},
   "source": [
    "Bin\tDec\tHex\t缩写/字符\t解释\n",
    "00000000\t0\t00\tNUL(null)\t空字符\n",
    "00000001\t1\t01\tSOH(start of headling)\t标题开始\n",
    "00000010\t2\t02\tSTX (start of text)\t正文开始\n",
    "00000011\t3\t03\tETX (end of text)\t正文结束\n",
    "00000100\t4\t04\tEOT (end of transmission)\t传输结束\n",
    "00000101\t5\t05\tENQ (enquiry)\t请求\n",
    "00000110\t6\t06\tACK (acknowledge)\t收到通知\n",
    "00000111\t7\t07\tBEL (bell)\t响铃\n",
    "00001000\t8\t08\tBS (backspace)\t退格\n",
    "00001001\t9\t09\tHT (horizontal tab)\t水平制表符\n",
    "00001010\t10\t0A\tLF (NL line feed, new line)\t换行键\n",
    "00001011\t11\t0B\tVT (vertical tab)\t垂直制表符\n",
    "00001100\t12\t0C\tFF (NP form feed, new page)\t换页键\n",
    "00001101\t13\t0D\tCR (carriage return)\t回车键"
   ]
  },
  {
   "cell_type": "markdown",
   "id": "a31df031-d9b4-4b47-9dda-dcdc6adfcbf1",
   "metadata": {},
   "source": [
    "### 16进制"
   ]
  },
  {
   "cell_type": "raw",
   "id": "8ed2d196-f1b7-4816-92dd-5dd9e0404422",
   "metadata": {},
   "source": [
    "\\x用来匹配十六进制，\\x0A(对应ascii 字符10，也就是换行符\\n)"
   ]
  },
  {
   "cell_type": "code",
   "execution_count": 111,
   "id": "ccd99fe5-0727-4a54-b340-2663659c3ac5",
   "metadata": {},
   "outputs": [
    {
     "data": {
      "text/plain": [
       "<re.Match object; span=(0, 8), match='abd \\ndef'>"
      ]
     },
     "execution_count": 111,
     "metadata": {},
     "output_type": "execute_result"
    }
   ],
   "source": [
    "re.match(\".*\\x0A.*\",'''abd \n",
    "def''')\n",
    "# \"\\x0A\" 在这里等价\\n"
   ]
  },
  {
   "cell_type": "code",
   "execution_count": 112,
   "id": "6caffa1e-238a-459b-bdb4-576154eba75d",
   "metadata": {},
   "outputs": [
    {
     "data": {
      "text/plain": [
       "<re.Match object; span=(0, 1), match='\\n'>"
      ]
     },
     "execution_count": 112,
     "metadata": {},
     "output_type": "execute_result"
    }
   ],
   "source": [
    "re.match(\"\\x0A\",\"\\n\")"
   ]
  },
  {
   "cell_type": "markdown",
   "id": "ef2b808c-b3bf-4046-a74f-246d7007c393",
   "metadata": {
    "tags": []
   },
   "source": [
    "### 8进制"
   ]
  },
  {
   "cell_type": "code",
   "execution_count": null,
   "id": "d682d34e-ea3a-4803-9189-926133476d2f",
   "metadata": {},
   "outputs": [],
   "source": [
    "\\0来表示匹配8进制"
   ]
  },
  {
   "cell_type": "code",
   "execution_count": 51,
   "id": "aa89e171-264b-40d0-9d0f-d8ec9eff7dbc",
   "metadata": {},
   "outputs": [
    {
     "data": {
      "text/plain": [
       "<re.Match object; span=(0, 1), match='\\t'>"
      ]
     },
     "execution_count": 51,
     "metadata": {},
     "output_type": "execute_result"
    }
   ],
   "source": [
    "re.match(\"\\011\",'''\\t''')"
   ]
  },
  {
   "cell_type": "code",
   "execution_count": null,
   "id": "ff400d0f-51ae-4a31-a54b-dbe099c9f361",
   "metadata": {},
   "outputs": [],
   "source": [
    "re.match"
   ]
  },
  {
   "cell_type": "code",
   "execution_count": 8,
   "id": "d417501a-7fbe-4d85-93fb-e4f655b8417d",
   "metadata": {},
   "outputs": [
    {
     "data": {
      "text/plain": [
       "<re.Match object; span=(0, 8), match='i am abc'>"
      ]
     },
     "execution_count": 8,
     "metadata": {},
     "output_type": "execute_result"
    }
   ],
   "source": [
    "r = re.match(\".*\",\"i am abc\")\n",
    "r"
   ]
  },
  {
   "cell_type": "code",
   "execution_count": 227,
   "id": "218d1ee6-cbc1-4f9d-a5e5-924e54a4b75c",
   "metadata": {},
   "outputs": [
    {
     "data": {
      "text/plain": [
       "<re.Match object; span=(0, 3), match='..a'>"
      ]
     },
     "execution_count": 227,
     "metadata": {},
     "output_type": "execute_result"
    }
   ],
   "source": [
    "r = re.match(\"[a-z\\.]\\.a\",\"..a\") # .在集合中转不转都是一样的 如果出现转义符，转义符不能出现在最后\n",
    "r"
   ]
  },
  {
   "cell_type": "markdown",
   "id": "43ba60e6-1da5-4c40-85b0-9bbac8aadec4",
   "metadata": {},
   "source": [
    "# 重复匹配"
   ]
  },
  {
   "cell_type": "raw",
   "id": "d10b0519-37f1-45ce-8a0a-8246d7e2bb52",
   "metadata": {},
   "source": [
    "re*\t匹配0个或多个的表达式。\n",
    "re+\t匹配1个或多个的表达式。 相当于re{1,} # 注意,是要的，否则就变成了精确匹配\n",
    "re?\t匹配0个或1个由前面的正则表达式定义的片段，非贪婪方式\n",
    "re{ n}\t精确匹配 n 个前面表达式。例如， o{2} 不能匹配 \"Bob\" 中的 \"o\"，但是能匹配 \"food\" 中的两个 o。\n",
    "re{ n,}\t匹配 n 个前面表达式。例如， o{2,} 不能匹配\"Bob\"中的\"o\"，但能匹配 \"foooood\"中的所有 o。\"o{1,}\" 等价于 \"o+\"。\"o{0,}\" 则等价于 \"o*\"。\n",
    "re{ n, m}\t匹配 n 到 m 次由前面的正则表达式定义的片段，贪婪方式"
   ]
  },
  {
   "cell_type": "raw",
   "id": "e0ee3ffa-7c32-4284-b2a4-ba197747a51f",
   "metadata": {},
   "source": [
    "匹配邮箱是否合法\n",
    "[\\w.]+@[\\w.]+\\.\\w+ "
   ]
  },
  {
   "cell_type": "code",
   "execution_count": 64,
   "id": "3e140cbd-4523-43c3-8554-df5a533a477a",
   "metadata": {},
   "outputs": [
    {
     "data": {
      "text/plain": [
       "<re.Match object; span=(0, 16), match='abc@gmail.com.cn'>"
      ]
     },
     "execution_count": 64,
     "metadata": {},
     "output_type": "execute_result"
    }
   ],
   "source": [
    "re.match(\"^[\\w.]+@[\\w.]+\\.\\w+$\",\"abc@gmail.com.cn\")"
   ]
  },
  {
   "cell_type": "raw",
   "id": "3dfdb165-e675-4040-8e60-b468541c157a",
   "metadata": {},
   "source": [
    "重复的范围可以是单个字符或者某个集合 或者某个表达式"
   ]
  },
  {
   "cell_type": "code",
   "execution_count": 135,
   "id": "869d0483-960b-47a3-829c-1d30417aa23e",
   "metadata": {},
   "outputs": [
    {
     "data": {
      "text/plain": [
       "<re.Match object; span=(0, 7), match='#ffffff'>"
      ]
     },
     "execution_count": 135,
     "metadata": {},
     "output_type": "execute_result"
    }
   ],
   "source": [
    "re.match(\"#[A-Fa-f0-9]{6}\",\"#000000\")\n",
    "re.match(\"#[A-Fa-f0-9]{6}\",\"#ffffff\")"
   ]
  },
  {
   "cell_type": "markdown",
   "id": "43f7b0ba-74ec-404b-8587-fc4fa14820fd",
   "metadata": {
    "tags": []
   },
   "source": [
    "## 贪婪匹配"
   ]
  },
  {
   "cell_type": "raw",
   "id": "3e301c62-68ee-4be9-8030-398318eea7db",
   "metadata": {},
   "source": [
    "+ *等都是默认贪婪的。 ?可以控制这种行为"
   ]
  },
  {
   "cell_type": "code",
   "execution_count": 166,
   "id": "d937f677-c06f-431f-a82e-9f25320fa6b5",
   "metadata": {},
   "outputs": [
    {
     "data": {
      "text/plain": [
       "<re.Match object; span=(0, 21), match='<a>one</a> <a>tow</a>'>"
      ]
     },
     "execution_count": 166,
     "metadata": {},
     "output_type": "execute_result"
    }
   ],
   "source": [
    "re.match(\"<a>.*</a>\",\"<a>one</a> <a>tow</a>\")"
   ]
  },
  {
   "cell_type": "code",
   "execution_count": 168,
   "id": "b73eb558-ba5a-47a3-8cd9-23323b76aede",
   "metadata": {},
   "outputs": [
    {
     "data": {
      "text/plain": [
       "<re.Match object; span=(0, 10), match='<a>one</a>'>"
      ]
     },
     "execution_count": 168,
     "metadata": {},
     "output_type": "execute_result"
    }
   ],
   "source": [
    "re.match(\"(<a>.*?</a>)\",\"<a>one</a> <a>tow</a>\") # 在+ * {n,} {n,m}后加上?防止贪婪匹配"
   ]
  },
  {
   "cell_type": "markdown",
   "id": "91e8677d-5230-403b-ad3f-31fd73d0d249",
   "metadata": {
    "tags": []
   },
   "source": [
    "# 单词边界"
   ]
  },
  {
   "cell_type": "raw",
   "id": "d4894079-35e2-47ea-a6d3-13cdeb853332",
   "metadata": {},
   "source": [
    "\\b 这个位置的一侧是构成单词的字符，另一侧为非单词字符、字符串的开始或结束位置。“\\b”是零宽度的 # 注 可以把\\b想象成光标\n",
    "(?<!\\w)(?=\\w)|(?<=\\w)(?!\\w) "
   ]
  },
  {
   "cell_type": "code",
   "execution_count": 211,
   "id": "26fb670d-81f9-4225-b320-b8fa518179fa",
   "metadata": {},
   "outputs": [
    {
     "data": {
      "text/plain": [
       "<re.Match object; span=(0, 3), match='cat'>"
      ]
     },
     "execution_count": 211,
     "metadata": {},
     "output_type": "execute_result"
    }
   ],
   "source": [
    "re.match(r\"\\bcat\\b\",\"cat scattered his food all over the room.\")\n",
    "# 用边界的好处是，边界可以是开始 结束 或者空格或者tab等"
   ]
  },
  {
   "cell_type": "code",
   "execution_count": 212,
   "id": "239f357c-df84-4045-9831-89b648ffcd3b",
   "metadata": {},
   "outputs": [],
   "source": [
    "re.match(r\"\\bcat\\b\",\"catscattered his food all over the room.\")  # 没有单独的cat 故不满足"
   ]
  },
  {
   "cell_type": "code",
   "execution_count": 214,
   "id": "df25d82b-e00e-4ee7-bcbb-63e2a14eed2a",
   "metadata": {},
   "outputs": [
    {
     "data": {
      "text/plain": [
       "<re.Match object; span=(0, 3), match='cat'>"
      ]
     },
     "execution_count": 214,
     "metadata": {},
     "output_type": "execute_result"
    }
   ],
   "source": [
    "re.match(r\"\\bcat\\b\",\"cat\tscattered his food all over the room.\") # 左右的边界符 也可以算做边界"
   ]
  },
  {
   "cell_type": "raw",
   "id": "32ef6262-78da-41c8-a99c-629aaa318f18",
   "metadata": {},
   "source": [
    "\\bcap 可以匹配以cap开头的单词"
   ]
  },
  {
   "cell_type": "code",
   "execution_count": 219,
   "id": "7cd3687a-3af4-4d52-b549-473df9b646ad",
   "metadata": {},
   "outputs": [
    {
     "data": {
      "text/plain": [
       "[]"
      ]
     },
     "execution_count": 219,
     "metadata": {},
     "output_type": "execute_result"
    }
   ],
   "source": [
    "re.findall(r\"\\b-\\b\",\"catscattered his fo - od all over the room.\")\n",
    "### 这个例子中匹配结果为空是因为-不在\\w内  \\w 定义是[A-Za-z0-9_]"
   ]
  },
  {
   "cell_type": "code",
   "execution_count": 220,
   "id": "f0c87385-cdc8-427c-9b36-196a1725b361",
   "metadata": {},
   "outputs": [],
   "source": [
    "# \\B和 \\b相反 匹配非边界是非单词的边界"
   ]
  },
  {
   "cell_type": "code",
   "execution_count": 224,
   "id": "77f0cce1-3ca9-445b-9cb6-d1b81dee1453",
   "metadata": {},
   "outputs": [
    {
     "data": {
      "text/plain": [
       "['cat']"
      ]
     },
     "execution_count": 224,
     "metadata": {},
     "output_type": "execute_result"
    }
   ],
   "source": [
    "re.findall(r\"\\Bcat\\B\",\"cat scattered his food all over the room.\") # 找到的是中间单词中的cat"
   ]
  },
  {
   "cell_type": "markdown",
   "id": "58771d80-a0a9-4f18-8c7b-b2cb16d32184",
   "metadata": {},
   "source": [
    "# 子表达式"
   ]
  },
  {
   "cell_type": "code",
   "execution_count": 240,
   "id": "d44bdb61-6e9c-456e-9b77-c383c30cac57",
   "metadata": {},
   "outputs": [
    {
     "data": {
      "text/plain": [
       "['&nbsp;;;;;']"
      ]
     },
     "execution_count": 240,
     "metadata": {},
     "output_type": "execute_result"
    }
   ],
   "source": [
    "re.findall(r\"&nbsp;{2,}\",r\"&nbsp;&nbsp;&nbsp;&nbsp;;;;;\")\n",
    "## 只能匹配到最后一个，因为正则表达式将;视为重复的元素"
   ]
  },
  {
   "cell_type": "code",
   "execution_count": 245,
   "id": "46e4cec2-7ded-4970-bd3d-31c741a6db0c",
   "metadata": {},
   "outputs": [
    {
     "data": {
      "text/plain": [
       "['&nbsp;', '&nbsp;']"
      ]
     },
     "execution_count": 245,
     "metadata": {},
     "output_type": "execute_result"
    }
   ],
   "source": [
    "re.findall(r\"(&nbsp;){2,}?\",r\"&nbsp;&nbsp;&nbsp;&nbsp;;;;;\")\n",
    "## 这里用括号讲前面的作为子表达式"
   ]
  },
  {
   "cell_type": "code",
   "execution_count": 247,
   "id": "6f66724a-023f-4adb-b8b1-39a9dbe974ed",
   "metadata": {},
   "outputs": [],
   "source": [
    "#子表达式允许嵌套"
   ]
  },
  {
   "cell_type": "code",
   "execution_count": 18,
   "id": "2799aea3-eca2-426f-8902-ab180ec2e20c",
   "metadata": {
    "tags": []
   },
   "outputs": [
    {
     "data": {
      "text/plain": [
       "<re.Match object; span=(0, 14), match='12 abc efg abc'>"
      ]
     },
     "execution_count": 18,
     "metadata": {},
     "output_type": "execute_result"
    }
   ],
   "source": [
    "#?:加在子表达式最前面用于不捕获分组\n",
    "re.match(r\"(?:\\d+) (\\w+) efg \\1\",\"12 abc efg abc\")\n",
    "#groups() # ('abc',)\n",
    "\n",
    "# 当表达式比较复杂时候，可以根据需要用子表达式进行归类分组，从而使表达式更清晰"
   ]
  },
  {
   "cell_type": "markdown",
   "id": "07d150cb-b46e-451a-ab6e-9232ff6f3bc0",
   "metadata": {},
   "source": [
    "# 或"
   ]
  },
  {
   "cell_type": "raw",
   "id": "97fc5ca4-b5cc-476b-8023-8610fc1e4e8c",
   "metadata": {},
   "source": [
    "a| b\t匹配a或b"
   ]
  },
  {
   "cell_type": "code",
   "execution_count": 248,
   "id": "134d55ba-8638-4937-ae08-6fac7bcefdcd",
   "metadata": {},
   "outputs": [
    {
     "data": {
      "text/plain": [
       "<re.Match object; span=(0, 3), match='abc'>"
      ]
     },
     "execution_count": 248,
     "metadata": {},
     "output_type": "execute_result"
    }
   ],
   "source": [
    "re.match(\"abc|efg\",\"abc\")"
   ]
  },
  {
   "cell_type": "code",
   "execution_count": 249,
   "id": "36261e65-6bda-4180-b560-79277f26c115",
   "metadata": {},
   "outputs": [
    {
     "data": {
      "text/plain": [
       "<re.Match object; span=(0, 3), match='efg'>"
      ]
     },
     "execution_count": 249,
     "metadata": {},
     "output_type": "execute_result"
    }
   ],
   "source": [
    "re.match(\"abc|efg\",\"efg\")"
   ]
  },
  {
   "cell_type": "code",
   "execution_count": 254,
   "id": "1e2c2571-85fc-49a4-b011-f3affb86ee2d",
   "metadata": {},
   "outputs": [
    {
     "data": {
      "text/plain": [
       "<re.Match object; span=(0, 4), match='1901'>"
      ]
     },
     "execution_count": 254,
     "metadata": {},
     "output_type": "execute_result"
    }
   ],
   "source": [
    "# 子表达值+或\n",
    "re.match(\"(19|20)\\d{2}\",\"2021\")\n",
    "re.match(\"(19|20)\\d{2}\",\"1901\")"
   ]
  },
  {
   "cell_type": "markdown",
   "id": "62cde834-364d-42fc-aa97-8a5f25f78d0c",
   "metadata": {},
   "source": [
    "# 反向引用"
   ]
  },
  {
   "cell_type": "code",
   "execution_count": 257,
   "id": "d4e4b721-f82e-4ed8-834d-ad816f9286b5",
   "metadata": {},
   "outputs": [
    {
     "data": {
      "text/plain": [
       "['<h1> head1 </h1>', '<h2> head2 </h2>', '<h3> WRONG HEAD </h4>']"
      ]
     },
     "execution_count": 257,
     "metadata": {},
     "output_type": "execute_result"
    }
   ],
   "source": [
    "# 匹配html h标签 <h1> head1 </h1>   <h2> head2 </h2> ...\n",
    "re.findall(\"<[hH][1-6]>.*?</[hH][1-6]>\",\"<h1> head1 </h1> <h2> head2 </h2>  <h3> WRONG HEAD </h4> \")\n",
    "# 这里会匹配到错误的标签"
   ]
  },
  {
   "cell_type": "code",
   "execution_count": 328,
   "id": "127fbcea-8298-4c5d-826c-372354c8dd40",
   "metadata": {},
   "outputs": [
    {
     "data": {
      "text/plain": [
       "['of', 'ok']"
      ]
     },
     "execution_count": 328,
     "metadata": {},
     "output_type": "execute_result"
    }
   ],
   "source": [
    "#例子2 检查连续出现的单词\n",
    "re.findall(r\"[ ]+(\\w+)[ ]+\\1\",\"this is a block of of abc efg abc is ok ok end\")\n",
    "# 这里的子表达式并不是用来匹配重复的，而是对模式分组，将其标识以备后用，\\1 最小是从1开始 \\0不太常用，可用来表示整个表达式"
   ]
  },
  {
   "cell_type": "code",
   "execution_count": 335,
   "id": "45978552-633f-4cb0-85a9-aee7a93714f0",
   "metadata": {},
   "outputs": [
    {
     "name": "stdout",
     "output_type": "stream",
     "text": [
      "['__class__', '__copy__', '__deepcopy__', '__delattr__', '__dir__', '__doc__', '__eq__', '__format__', '__ge__', '__getattribute__', '__getitem__', '__gt__', '__hash__', '__init__', '__init_subclass__', '__le__', '__lt__', '__ne__', '__new__', '__reduce__', '__reduce_ex__', '__repr__', '__setattr__', '__sizeof__', '__str__', '__subclasshook__', 'end', 'endpos', 'expand', 'group', 'groupdict', 'groups', 'lastgroup', 'lastindex', 'pos', 're', 'regs', 'span', 'start', 'string']\n"
     ]
    }
   ],
   "source": [
    "for x in re.finditer(r\"<[hH]([1-6])>.*?</[hH]\\1>\",\"<h1> head1 </h1> <h2> head2 </h2>  <h3> WRONG HEAD </h4> \"):\n",
    "    print(dir(x))\n",
    "    break"
   ]
  },
  {
   "cell_type": "code",
   "execution_count": 341,
   "id": "d5713271-363b-4d4a-ab3f-e870e6250ee2",
   "metadata": {},
   "outputs": [
    {
     "name": "stdout",
     "output_type": "stream",
     "text": [
      "<h1> head1 </h1> ====== ('1',)\n",
      "<h2> head2 </h2> ====== ('2',)\n"
     ]
    }
   ],
   "source": [
    "for x in re.finditer(r\"<[hH]([1-6])>.*?</[hH]\\1>\",\"<h1> head1 </h1> <h2> head2 </h2>  <h3> WRONG HEAD </h4> \"):\n",
    "    print(x.group(),\"======\", x.groups())"
   ]
  },
  {
   "cell_type": "markdown",
   "id": "992ac447-296a-4c0e-b1a3-890fc128a83a",
   "metadata": {},
   "source": [
    "# 替换文本"
   ]
  },
  {
   "cell_type": "raw",
   "id": "9594c14c-36c1-48f5-a56c-45b1f63df49f",
   "metadata": {},
   "source": [
    "将匹配到的所有邮箱，比如user@address.com  替换成<a href=\"mailto:user@address.com\">user@address.com</a>"
   ]
  },
  {
   "cell_type": "raw",
   "id": "7d5bc25c-5e63-4dd8-a34b-cc0258007bd6",
   "metadata": {},
   "source": [
    "re.sub(pattern, repl, string, count=0, flags=0)"
   ]
  },
  {
   "cell_type": "code",
   "execution_count": 351,
   "id": "e35740d9-fb87-4bd6-8d92-6a6f8d242b02",
   "metadata": {},
   "outputs": [
    {
     "data": {
      "text/plain": [
       "\"hello, my email is <a href='mailto:henry@gmail.com'>henry@gmail.com</a> ,thanks.\""
      ]
     },
     "execution_count": 351,
     "metadata": {},
     "output_type": "execute_result"
    }
   ],
   "source": [
    "re.sub(r\"(\\w+[\\w\\.]*@[\\w\\w]+\\.\\w+)\", r\"<a href='mailto:\\1'>\\1</a>\", \"hello, my email is henry@gmail.com ,thanks.\", count=0, flags=0)\n",
    "## js中repl中用$1代替\\1"
   ]
  },
  {
   "cell_type": "markdown",
   "id": "4d3c72ea-9c28-4c41-b28f-3a476ed14e57",
   "metadata": {},
   "source": [
    "## 替换的同时改变大小写"
   ]
  },
  {
   "cell_type": "raw",
   "id": "31923f04-973a-4844-9e85-c2a5cd252b47",
   "metadata": {},
   "source": [
    "\\l 下一个字符转换为小写\n",
    "\\u 下一个字符转换为大写\n",
    "\n",
    "\\L \\U一般和\\E共同使用\n",
    "\\L...\\E 代表\\L到\\E之间的都变成小写\n",
    "\\U...\\E 代表\\U到\\E之间的都变成大写\n",
    "# 注:在sub中不能使用"
   ]
  },
  {
   "cell_type": "code",
   "execution_count": 379,
   "id": "6447f9c9-ce24-4f7a-b081-292d9ae5d4cb",
   "metadata": {},
   "outputs": [
    {
     "data": {
      "text/plain": [
       "'<h1> head1 </h1> <h2> head2 </h2><h3> WRONG HEAD </h4> '"
      ]
     },
     "execution_count": 379,
     "metadata": {},
     "output_type": "execute_result"
    }
   ],
   "source": [
    "# 替换h1中间的字都改成\n",
    "re.sub(r\"(<[hH]1>)(.*?)(</[hH]1>)\",r\"\\1\\2\\3\",\"<h1> head1 </h1> <h2> head2 </h2><h3> WRONG HEAD </h4> \", count=0, flags=0)"
   ]
  },
  {
   "cell_type": "markdown",
   "id": "a7da7742-8a46-483e-a393-fa48cf9bfb1f",
   "metadata": {},
   "source": [
    "# 环视"
   ]
  },
  {
   "cell_type": "raw",
   "id": "07cbdc85-5d79-4b78-b7f1-a10021d2f9de",
   "metadata": {},
   "source": [
    "分lookahead和lookbebind.\n",
    "所有主流的正则表达式都支持了前者，但支持后者的就不一定，js不支持lookbehind"
   ]
  },
  {
   "cell_type": "raw",
   "id": "90a09021-2639-49f1-be2e-d71abab34e66",
   "metadata": {},
   "source": [
    "环视主要用在提取需要的文本上\n",
    "比如要匹配<title> i am title</title>\n",
    "如果不使用环视那么我们需要分成三个组并取中间的组\n",
    "\n",
    "#lookahead或lookbehind必须都出现在子表达式中"
   ]
  },
  {
   "cell_type": "markdown",
   "id": "2d8684dc-4248-4bf1-8ff8-7962798cfb3c",
   "metadata": {},
   "source": [
    "## lookahead"
   ]
  },
  {
   "cell_type": "raw",
   "id": "4ad0912e-8f95-46c6-9ef1-7e7d25a0c3d2",
   "metadata": {},
   "source": [
    "?=开头表示lookahead, 需匹配的文本跟在?=后面"
   ]
  },
  {
   "cell_type": "code",
   "execution_count": 392,
   "id": "dfb403f4-9159-4711-bf1c-f8b00e2dfffa",
   "metadata": {},
   "outputs": [
    {
     "data": {
      "text/plain": [
       "['https', 'https', 'http']"
      ]
     },
     "execution_count": 392,
     "metadata": {},
     "output_type": "execute_result"
    }
   ],
   "source": [
    "re.findall(r\".+(?=:)\",'''https://xx1\n",
    "https://xx2\n",
    "http://xx3\n",
    "''')\n",
    "\n",
    "# (?=:)是告诉匹配:只是为了往前查看,匹配的结果不包含这个子表达式内容"
   ]
  },
  {
   "cell_type": "code",
   "execution_count": 391,
   "id": "3887d70d-e0a4-46a1-bc4e-3d53bf143672",
   "metadata": {},
   "outputs": [
    {
     "data": {
      "text/plain": [
       "<re.Match object; span=(0, 6), match='https:'>"
      ]
     },
     "execution_count": 391,
     "metadata": {},
     "output_type": "execute_result"
    }
   ],
   "source": [
    "re.match(r\".+(:)\",\"https://\") #  子表达式，匹配的内容包含:\n",
    "#re.match(r\".+(:)\",\"https://\").group()  # 'https:'\n",
    "#re.match(r\".+(:)\",\"https://\").groups()  #(':',)"
   ]
  },
  {
   "cell_type": "markdown",
   "id": "17f39854-6f6d-43a0-8650-1643a3e0bd91",
   "metadata": {},
   "source": [
    "## lookbehind"
   ]
  },
  {
   "cell_type": "code",
   "execution_count": 400,
   "id": "77a5cc10-8e3b-4468-aeb5-ff82047f603d",
   "metadata": {},
   "outputs": [
    {
     "data": {
      "text/plain": [
       "['//xx1', '//xx2', '//xx3']"
      ]
     },
     "execution_count": 400,
     "metadata": {},
     "output_type": "execute_result"
    }
   ],
   "source": [
    "re.findall(r\"(?<=:).+\",'''https://xx1\n",
    "https://xx2\n",
    "http://xx3\n",
    "''')"
   ]
  },
  {
   "cell_type": "code",
   "execution_count": 402,
   "id": "c823f875-1e59-46a5-99c4-5536961b41e3",
   "metadata": {},
   "outputs": [
    {
     "data": {
      "text/plain": [
       "['xx1', 'xx2', 'xx3']"
      ]
     },
     "execution_count": 402,
     "metadata": {},
     "output_type": "execute_result"
    }
   ],
   "source": [
    "re.findall(r\"(?<=://).+\",'''https://xx1\n",
    "https://xx2\n",
    "http://xx3\n",
    "''')"
   ]
  },
  {
   "cell_type": "markdown",
   "id": "f03c0085-71bb-4c0e-8071-34847828af3b",
   "metadata": {},
   "source": [
    "## 结合向前向后"
   ]
  },
  {
   "cell_type": "code",
   "execution_count": 411,
   "id": "6286913f-2ee9-4881-9f3c-2dc69c4ad401",
   "metadata": {},
   "outputs": [
    {
     "data": {
      "text/plain": [
       "['123abc', '456efg']"
      ]
     },
     "execution_count": 411,
     "metadata": {},
     "output_type": "execute_result"
    }
   ],
   "source": [
    "re.findall(r\"(?<=<title>).*?(?=</title>)\",r\"<title>123abc</title>  <title>456efg</title>\")"
   ]
  },
  {
   "cell_type": "markdown",
   "id": "6fedd8b0-cb55-4682-b1da-bc0619a31ab6",
   "metadata": {},
   "source": [
    "## 否定式"
   ]
  },
  {
   "cell_type": "raw",
   "id": "2380096d-8050-4eaf-bb52-24b2c03ffde8",
   "metadata": {},
   "source": [
    "# =换成!\n",
    "(?!) 否定式向前查看\n",
    "(?<!) 否定式向后查看"
   ]
  },
  {
   "cell_type": "code",
   "execution_count": 416,
   "id": "9517c088-c7e8-4c16-ae8f-cb000251f6a4",
   "metadata": {},
   "outputs": [
    {
     "data": {
      "text/plain": [
       "['100', '50']"
      ]
     },
     "execution_count": 416,
     "metadata": {},
     "output_type": "execute_result"
    }
   ],
   "source": [
    "#只查找数量，不查找价格\n",
    "re.findall(r\"\\b(?<!\\$)\\d+\\b\",\"i paid $30 for 100 apples, 50 oranges,I saved $5 on this order.\")"
   ]
  },
  {
   "cell_type": "code",
   "execution_count": 417,
   "id": "488be18c-19c1-42fe-ae7b-88d120ece228",
   "metadata": {},
   "outputs": [
    {
     "data": {
      "text/plain": [
       "['0', '100', '50']"
      ]
     },
     "execution_count": 417,
     "metadata": {},
     "output_type": "execute_result"
    }
   ],
   "source": [
    "#只查找数量，不查找价格\n",
    "re.findall(r\"(?<!\\$)\\d+\",\"i paid $30 for 100 apples, 50 oranges,I saved $5 on this order.\")\n",
    "# 如果不加\\b 那么就会把 $30后面的0匹配进来"
   ]
  },
  {
   "cell_type": "markdown",
   "id": "c659ce76-5541-4362-afb3-d9a767ea59c5",
   "metadata": {
    "tags": []
   },
   "source": [
    "# 嵌入条件"
   ]
  },
  {
   "cell_type": "raw",
   "id": "2757a2ec-b8ce-4825-a252-be8b0661bcc1",
   "metadata": {},
   "source": [
    "使用的时候注意兼容性，并非所有正则表达式实现都支持条件"
   ]
  },
  {
   "cell_type": "raw",
   "id": "f0257f32-a483-462f-a152-3a581ac8802a",
   "metadata": {},
   "source": [
    "北美电话号码有两种格式 123-456-7890 或者(123)456-7890,!注意(123)-456-7890这种不符合要求"
   ]
  },
  {
   "cell_type": "code",
   "execution_count": 24,
   "id": "c2be2ea8-8457-4d18-876c-1c571d8dadac",
   "metadata": {},
   "outputs": [
    {
     "name": "stdout",
     "output_type": "stream",
     "text": [
      "123-456-7890\n",
      "(123)456-7890\n",
      "(123)-456-7890\n"
     ]
    }
   ],
   "source": [
    "for i in re.finditer(\"\\(?\\d{3}\\)?-?\\d{3}-\\d{4}\",'''\n",
    "123-456-7890\n",
    "(123)456-7890\n",
    "(123)-456-7890\n",
    "'''):\n",
    "    print(i.group())"
   ]
  },
  {
   "cell_type": "markdown",
   "id": "5ce74fdb-6802-484e-a563-da27b221e203",
   "metadata": {},
   "source": [
    "## 根据反向引用进行条件处理"
   ]
  },
  {
   "cell_type": "code",
   "execution_count": null,
   "id": "91479c5d-b0ea-4bcc-9ec2-e7570a295db6",
   "metadata": {},
   "outputs": [],
   "source": [
    "(?(back_ref)true_pattern) #没有else的pattern\n",
    "(?(back_ref)true_pattern|false_pattern) #注意这里用到了两个括号，\n",
    "# 其中? 代表的是条件\n",
    "# back_ref_pattern代表的是反响引用\n",
    "# 仅当反向引用出现时匹配true_pattern 否则 匹配false pattern"
   ]
  },
  {
   "cell_type": "code",
   "execution_count": 31,
   "id": "d770d073-2b13-4b13-9c7e-83d24b75e725",
   "metadata": {},
   "outputs": [
    {
     "name": "stdout",
     "output_type": "stream",
     "text": [
      "123-456-7890\n",
      "(123)456-7890\n"
     ]
    }
   ],
   "source": [
    "for i in re.finditer(r\"(\\()?\\d{3}(?(1)\\)|-)\\d{3}-\\d{4}\",'''\n",
    "123-456-7890\n",
    "(123)456-7890\n",
    "(123)-456-7890\n",
    "'''):\n",
    "    print(i.group())"
   ]
  },
  {
   "cell_type": "code",
   "execution_count": null,
   "id": "5696ee74-1d77-4a6b-9830-be770c4b3df5",
   "metadata": {},
   "outputs": [],
   "source": []
  },
  {
   "cell_type": "markdown",
   "id": "452680b9-c418-4983-b1ca-120be47578ed",
   "metadata": {},
   "source": [
    "## 根据环视进行条件处理"
   ]
  },
  {
   "cell_type": "raw",
   "id": "8bb73090-61a3-4f79-ac37-b401b9c9f427",
   "metadata": {},
   "source": [
    "把上面的back_ref换成环视条件即可"
   ]
  },
  {
   "cell_type": "raw",
   "id": "b2ee9511-82a2-468a-847e-81ebea4972d5",
   "metadata": {},
   "source": [
    "匹配邮编，两种格式，12345 或者12345-1234  #如果有-的时候后面必须4位"
   ]
  },
  {
   "cell_type": "code",
   "execution_count": 35,
   "id": "4ac016f9-5ce2-4614-9a01-c72cb6123c5e",
   "metadata": {},
   "outputs": [
    {
     "name": "stdout",
     "output_type": "stream",
     "text": [
      "<re.Match object; span=(1, 6), match='12345'>\n",
      "<re.Match object; span=(7, 17), match='12345-1234'>\n",
      "<re.Match object; span=(18, 23), match='12345'>\n"
     ]
    }
   ],
   "source": [
    "for i in re.finditer(r\"\\d{5}(-\\d{4})?\",'''\n",
    "12345\n",
    "12345-1234\n",
    "12345-\n",
    "'''):\n",
    "    print(i)\n",
    "# 第三行也被匹配了"
   ]
  },
  {
   "cell_type": "code",
   "execution_count": 38,
   "id": "b23af4d9-2110-42b8-bdf6-3fba15c9b385",
   "metadata": {},
   "outputs": [
    {
     "ename": "error",
     "evalue": "bad character in group name '?=-' at position 8",
     "output_type": "error",
     "traceback": [
      "\u001b[0;31m---------------------------------------------------------------------------\u001b[0m",
      "\u001b[0;31merror\u001b[0m                                     Traceback (most recent call last)",
      "\u001b[0;32m/tmp/ipykernel_2336/1040480001.py\u001b[0m in \u001b[0;36m<module>\u001b[0;34m\u001b[0m\n\u001b[1;32m      3\u001b[0m \u001b[0;36m12345\u001b[0m\u001b[0;34m-\u001b[0m\u001b[0;36m1234\u001b[0m\u001b[0;34m\u001b[0m\u001b[0;34m\u001b[0m\u001b[0m\n\u001b[1;32m      4\u001b[0m \u001b[0;36m12345\u001b[0m\u001b[0;34m-\u001b[0m\u001b[0;34m\u001b[0m\u001b[0;34m\u001b[0m\u001b[0m\n\u001b[0;32m----> 5\u001b[0;31m '''):\n\u001b[0m\u001b[1;32m      6\u001b[0m     \u001b[0mprint\u001b[0m\u001b[0;34m(\u001b[0m\u001b[0mi\u001b[0m\u001b[0;34m)\u001b[0m\u001b[0;34m\u001b[0m\u001b[0;34m\u001b[0m\u001b[0m\n\u001b[1;32m      7\u001b[0m \u001b[0;31m# 第三行也被匹配了\u001b[0m\u001b[0;34m\u001b[0m\u001b[0;34m\u001b[0m\u001b[0;34m\u001b[0m\u001b[0m\n",
      "\u001b[0;32m/usr/local/lib/python3.7/re.py\u001b[0m in \u001b[0;36mfinditer\u001b[0;34m(pattern, string, flags)\u001b[0m\n\u001b[1;32m    230\u001b[0m \u001b[0;34m\u001b[0m\u001b[0m\n\u001b[1;32m    231\u001b[0m     Empty matches are included in the result.\"\"\"\n\u001b[0;32m--> 232\u001b[0;31m     \u001b[0;32mreturn\u001b[0m \u001b[0m_compile\u001b[0m\u001b[0;34m(\u001b[0m\u001b[0mpattern\u001b[0m\u001b[0;34m,\u001b[0m \u001b[0mflags\u001b[0m\u001b[0;34m)\u001b[0m\u001b[0;34m.\u001b[0m\u001b[0mfinditer\u001b[0m\u001b[0;34m(\u001b[0m\u001b[0mstring\u001b[0m\u001b[0;34m)\u001b[0m\u001b[0;34m\u001b[0m\u001b[0;34m\u001b[0m\u001b[0m\n\u001b[0m\u001b[1;32m    233\u001b[0m \u001b[0;34m\u001b[0m\u001b[0m\n\u001b[1;32m    234\u001b[0m \u001b[0;32mdef\u001b[0m \u001b[0mcompile\u001b[0m\u001b[0;34m(\u001b[0m\u001b[0mpattern\u001b[0m\u001b[0;34m,\u001b[0m \u001b[0mflags\u001b[0m\u001b[0;34m=\u001b[0m\u001b[0;36m0\u001b[0m\u001b[0;34m)\u001b[0m\u001b[0;34m:\u001b[0m\u001b[0;34m\u001b[0m\u001b[0;34m\u001b[0m\u001b[0m\n",
      "\u001b[0;32m/usr/local/lib/python3.7/re.py\u001b[0m in \u001b[0;36m_compile\u001b[0;34m(pattern, flags)\u001b[0m\n\u001b[1;32m    286\u001b[0m     \u001b[0;32mif\u001b[0m \u001b[0;32mnot\u001b[0m \u001b[0msre_compile\u001b[0m\u001b[0;34m.\u001b[0m\u001b[0misstring\u001b[0m\u001b[0;34m(\u001b[0m\u001b[0mpattern\u001b[0m\u001b[0;34m)\u001b[0m\u001b[0;34m:\u001b[0m\u001b[0;34m\u001b[0m\u001b[0;34m\u001b[0m\u001b[0m\n\u001b[1;32m    287\u001b[0m         \u001b[0;32mraise\u001b[0m \u001b[0mTypeError\u001b[0m\u001b[0;34m(\u001b[0m\u001b[0;34m\"first argument must be string or compiled pattern\"\u001b[0m\u001b[0;34m)\u001b[0m\u001b[0;34m\u001b[0m\u001b[0;34m\u001b[0m\u001b[0m\n\u001b[0;32m--> 288\u001b[0;31m     \u001b[0mp\u001b[0m \u001b[0;34m=\u001b[0m \u001b[0msre_compile\u001b[0m\u001b[0;34m.\u001b[0m\u001b[0mcompile\u001b[0m\u001b[0;34m(\u001b[0m\u001b[0mpattern\u001b[0m\u001b[0;34m,\u001b[0m \u001b[0mflags\u001b[0m\u001b[0;34m)\u001b[0m\u001b[0;34m\u001b[0m\u001b[0;34m\u001b[0m\u001b[0m\n\u001b[0m\u001b[1;32m    289\u001b[0m     \u001b[0;32mif\u001b[0m \u001b[0;32mnot\u001b[0m \u001b[0;34m(\u001b[0m\u001b[0mflags\u001b[0m \u001b[0;34m&\u001b[0m \u001b[0mDEBUG\u001b[0m\u001b[0;34m)\u001b[0m\u001b[0;34m:\u001b[0m\u001b[0;34m\u001b[0m\u001b[0;34m\u001b[0m\u001b[0m\n\u001b[1;32m    290\u001b[0m         \u001b[0;32mif\u001b[0m \u001b[0mlen\u001b[0m\u001b[0;34m(\u001b[0m\u001b[0m_cache\u001b[0m\u001b[0;34m)\u001b[0m \u001b[0;34m>=\u001b[0m \u001b[0m_MAXCACHE\u001b[0m\u001b[0;34m:\u001b[0m\u001b[0;34m\u001b[0m\u001b[0;34m\u001b[0m\u001b[0m\n",
      "\u001b[0;32m/usr/local/lib/python3.7/sre_compile.py\u001b[0m in \u001b[0;36mcompile\u001b[0;34m(p, flags)\u001b[0m\n\u001b[1;32m    762\u001b[0m     \u001b[0;32mif\u001b[0m \u001b[0misstring\u001b[0m\u001b[0;34m(\u001b[0m\u001b[0mp\u001b[0m\u001b[0;34m)\u001b[0m\u001b[0;34m:\u001b[0m\u001b[0;34m\u001b[0m\u001b[0;34m\u001b[0m\u001b[0m\n\u001b[1;32m    763\u001b[0m         \u001b[0mpattern\u001b[0m \u001b[0;34m=\u001b[0m \u001b[0mp\u001b[0m\u001b[0;34m\u001b[0m\u001b[0;34m\u001b[0m\u001b[0m\n\u001b[0;32m--> 764\u001b[0;31m         \u001b[0mp\u001b[0m \u001b[0;34m=\u001b[0m \u001b[0msre_parse\u001b[0m\u001b[0;34m.\u001b[0m\u001b[0mparse\u001b[0m\u001b[0;34m(\u001b[0m\u001b[0mp\u001b[0m\u001b[0;34m,\u001b[0m \u001b[0mflags\u001b[0m\u001b[0;34m)\u001b[0m\u001b[0;34m\u001b[0m\u001b[0;34m\u001b[0m\u001b[0m\n\u001b[0m\u001b[1;32m    765\u001b[0m     \u001b[0;32melse\u001b[0m\u001b[0;34m:\u001b[0m\u001b[0;34m\u001b[0m\u001b[0;34m\u001b[0m\u001b[0m\n\u001b[1;32m    766\u001b[0m         \u001b[0mpattern\u001b[0m \u001b[0;34m=\u001b[0m \u001b[0;32mNone\u001b[0m\u001b[0;34m\u001b[0m\u001b[0;34m\u001b[0m\u001b[0m\n",
      "\u001b[0;32m/usr/local/lib/python3.7/sre_parse.py\u001b[0m in \u001b[0;36mparse\u001b[0;34m(str, flags, pattern)\u001b[0m\n\u001b[1;32m    922\u001b[0m \u001b[0;34m\u001b[0m\u001b[0m\n\u001b[1;32m    923\u001b[0m     \u001b[0;32mtry\u001b[0m\u001b[0;34m:\u001b[0m\u001b[0;34m\u001b[0m\u001b[0;34m\u001b[0m\u001b[0m\n\u001b[0;32m--> 924\u001b[0;31m         \u001b[0mp\u001b[0m \u001b[0;34m=\u001b[0m \u001b[0m_parse_sub\u001b[0m\u001b[0;34m(\u001b[0m\u001b[0msource\u001b[0m\u001b[0;34m,\u001b[0m \u001b[0mpattern\u001b[0m\u001b[0;34m,\u001b[0m \u001b[0mflags\u001b[0m \u001b[0;34m&\u001b[0m \u001b[0mSRE_FLAG_VERBOSE\u001b[0m\u001b[0;34m,\u001b[0m \u001b[0;36m0\u001b[0m\u001b[0;34m)\u001b[0m\u001b[0;34m\u001b[0m\u001b[0;34m\u001b[0m\u001b[0m\n\u001b[0m\u001b[1;32m    925\u001b[0m     \u001b[0;32mexcept\u001b[0m \u001b[0mVerbose\u001b[0m\u001b[0;34m:\u001b[0m\u001b[0;34m\u001b[0m\u001b[0;34m\u001b[0m\u001b[0m\n\u001b[1;32m    926\u001b[0m         \u001b[0;31m# the VERBOSE flag was switched on inside the pattern.  to be\u001b[0m\u001b[0;34m\u001b[0m\u001b[0;34m\u001b[0m\u001b[0;34m\u001b[0m\u001b[0m\n",
      "\u001b[0;32m/usr/local/lib/python3.7/sre_parse.py\u001b[0m in \u001b[0;36m_parse_sub\u001b[0;34m(source, state, verbose, nested)\u001b[0m\n\u001b[1;32m    418\u001b[0m     \u001b[0;32mwhile\u001b[0m \u001b[0;32mTrue\u001b[0m\u001b[0;34m:\u001b[0m\u001b[0;34m\u001b[0m\u001b[0;34m\u001b[0m\u001b[0m\n\u001b[1;32m    419\u001b[0m         itemsappend(_parse(source, state, verbose, nested + 1,\n\u001b[0;32m--> 420\u001b[0;31m                            not nested and not items))\n\u001b[0m\u001b[1;32m    421\u001b[0m         \u001b[0;32mif\u001b[0m \u001b[0;32mnot\u001b[0m \u001b[0msourcematch\u001b[0m\u001b[0;34m(\u001b[0m\u001b[0;34m\"|\"\u001b[0m\u001b[0;34m)\u001b[0m\u001b[0;34m:\u001b[0m\u001b[0;34m\u001b[0m\u001b[0;34m\u001b[0m\u001b[0m\n\u001b[1;32m    422\u001b[0m             \u001b[0;32mbreak\u001b[0m\u001b[0;34m\u001b[0m\u001b[0;34m\u001b[0m\u001b[0m\n",
      "\u001b[0;32m/usr/local/lib/python3.7/sre_parse.py\u001b[0m in \u001b[0;36m_parse\u001b[0;34m(source, state, verbose, nested, first)\u001b[0m\n\u001b[1;32m    756\u001b[0m                         \u001b[0;32mexcept\u001b[0m \u001b[0mValueError\u001b[0m\u001b[0;34m:\u001b[0m\u001b[0;34m\u001b[0m\u001b[0;34m\u001b[0m\u001b[0m\n\u001b[1;32m    757\u001b[0m                             \u001b[0mmsg\u001b[0m \u001b[0;34m=\u001b[0m \u001b[0;34m\"bad character in group name %r\"\u001b[0m \u001b[0;34m%\u001b[0m \u001b[0mcondname\u001b[0m\u001b[0;34m\u001b[0m\u001b[0;34m\u001b[0m\u001b[0m\n\u001b[0;32m--> 758\u001b[0;31m                             \u001b[0;32mraise\u001b[0m \u001b[0msource\u001b[0m\u001b[0;34m.\u001b[0m\u001b[0merror\u001b[0m\u001b[0;34m(\u001b[0m\u001b[0mmsg\u001b[0m\u001b[0;34m,\u001b[0m \u001b[0mlen\u001b[0m\u001b[0;34m(\u001b[0m\u001b[0mcondname\u001b[0m\u001b[0;34m)\u001b[0m \u001b[0;34m+\u001b[0m \u001b[0;36m1\u001b[0m\u001b[0;34m)\u001b[0m \u001b[0;32mfrom\u001b[0m \u001b[0;32mNone\u001b[0m\u001b[0;34m\u001b[0m\u001b[0;34m\u001b[0m\u001b[0m\n\u001b[0m\u001b[1;32m    759\u001b[0m                         \u001b[0;32mif\u001b[0m \u001b[0;32mnot\u001b[0m \u001b[0mcondgroup\u001b[0m\u001b[0;34m:\u001b[0m\u001b[0;34m\u001b[0m\u001b[0;34m\u001b[0m\u001b[0m\n\u001b[1;32m    760\u001b[0m                             raise source.error(\"bad group number\",\n",
      "\u001b[0;31merror\u001b[0m: bad character in group name '?=-' at position 8"
     ]
    }
   ],
   "source": [
    "for i in re.finditer(\"\\d{5}(?(?=-)-\\d{4})\",'''\n",
    "12345\n",
    "12345-1234\n",
    "12345-\n",
    "'''):\n",
    "    print(i)\n",
    "# 第三行也被匹配了"
   ]
  },
  {
   "cell_type": "code",
   "execution_count": null,
   "id": "77bb4b27-4fa5-4032-9151-a921a7c0d824",
   "metadata": {},
   "outputs": [],
   "source": []
  },
  {
   "cell_type": "markdown",
   "id": "71634809-b692-43ac-bf45-b6e238863778",
   "metadata": {},
   "source": [
    "# Python中的函数"
   ]
  },
  {
   "cell_type": "raw",
   "id": "54745288-033a-4895-88fc-330c2b39c418",
   "metadata": {},
   "source": [
    "match,search 只要match或者search到第一个结果就结束。\n",
    "re.match只匹配字符串的开始，如果字符串开始不符合正则表达式，则匹配失败，函数返回None；而re.search匹配整个字符串，直到找到一个匹配。\n",
    "\n",
    "sub主要是用来做替换\n",
    "\n",
    "compile compile 函数用于编译正则表达式，生成一个正则表达式（ Pattern ）对象，供 match() 和 search() 这两个函数使用。"
   ]
  },
  {
   "cell_type": "markdown",
   "id": "b6d046e2-9f3d-44ea-b4fb-66bdb3c214a4",
   "metadata": {},
   "source": [
    "## re.match"
   ]
  },
  {
   "cell_type": "raw",
   "id": "efbf47db-a5a0-42da-a939-78747e341455",
   "metadata": {},
   "source": [
    "re.match(pattern, string, flags=0)\n",
    "尝试从字符串的起始位置匹配一个模式，如果不是起始位置匹配成功的话，match() 就返回 none\n",
    "法返回一个匹配的对象，否则返回 None"
   ]
  },
  {
   "cell_type": "code",
   "execution_count": 483,
   "id": "3cc97334-d8d1-4b70-9591-691a568c2ad9",
   "metadata": {},
   "outputs": [
    {
     "data": {
      "text/plain": [
       "()"
      ]
     },
     "execution_count": 483,
     "metadata": {},
     "output_type": "execute_result"
    }
   ],
   "source": [
    "m = re.match(\"a\\wc\",\"abc efg abc\")\n",
    "m.group()  # 默认m.group(0) 匹配的整个表达式的字符串，group() 可以一次输入多个组号，在这种情况下它将返回一个包含那些组所对应值的元组 相当于从groups()中提取对应 不过index从1开始。\n",
    "m.groups() # 返回一个包含所有小组字符串的元组，从 1 到 所含的小组号。\n",
    "#match模式下只会有一个group"
   ]
  },
  {
   "cell_type": "code",
   "execution_count": 484,
   "id": "57d9def3-4ab8-4e98-b027-b282de81c8a4",
   "metadata": {},
   "outputs": [
    {
     "data": {
      "text/plain": [
       "('Cats', 'smarter')"
      ]
     },
     "execution_count": 484,
     "metadata": {},
     "output_type": "execute_result"
    }
   ],
   "source": [
    "m2 = re.match( r'(.*) are (.*?) .*', \"Cats are smarter than dogs\", re.M|re.I)\n",
    "m2.group()  # 返回整个字符串\n",
    "m2.groups() # ('Cats', 'smarter')"
   ]
  },
  {
   "cell_type": "markdown",
   "id": "e1296968-137f-44fc-a503-a42a368060c3",
   "metadata": {},
   "source": [
    "## re.search"
   ]
  },
  {
   "cell_type": "code",
   "execution_count": null,
   "id": "d3bf3e82-7ebd-4e69-9be5-53af3c26f626",
   "metadata": {},
   "outputs": [],
   "source": []
  },
  {
   "cell_type": "markdown",
   "id": "e1328232-714e-4e66-a188-c7222d5dabfe",
   "metadata": {},
   "source": [
    "## re.sub"
   ]
  },
  {
   "cell_type": "markdown",
   "id": "72f7414a-347d-4233-b7fc-bebeaaa4d2c1",
   "metadata": {},
   "source": [
    "## re.compile"
   ]
  },
  {
   "cell_type": "raw",
   "id": "1b31b22b-0608-4e36-ad31-d1297c626715",
   "metadata": {},
   "source": [
    "compile 函数用于编译正则表达式，生成一个正则表达式（ Pattern ）对象，供 match() 和 search() 这两个函数使用。"
   ]
  },
  {
   "cell_type": "raw",
   "id": "3ad90dd6-62a1-4c5a-9017-9d3ed675eb98",
   "metadata": {},
   "source": [
    ">>>import re\n",
    ">>> pattern = re.compile(r'\\d+')                    # 用于匹配至少一个数字\n",
    ">>> m = pattern.match('one12twothree34four')        # 查找头部，没有匹配\n",
    ">>> print m\n",
    "None\n",
    ">>> m = pattern.match('one12twothree34four', 2, 10) # 从'e'的位置开始匹配，没有匹配\n",
    ">>> print m\n",
    "None\n",
    ">>> m = pattern.match('one12twothree34four', 3, 10) # 从'1'的位置开始匹配，正好匹配\n",
    ">>> print m                                         # 返回一个 Match 对象\n",
    "<_sre.SRE_Match object at 0x10a42aac0>\n",
    ">>> m.group(0)   # 可省略 0\n",
    "'12'\n",
    ">>> m.start(0)   # 可省略 0\n",
    "3\n",
    ">>> m.end(0)     # 可省略 0\n",
    "5\n",
    ">>> m.span(0)    # 可省略 0\n",
    "(3, 5)"
   ]
  },
  {
   "cell_type": "markdown",
   "id": "61eb3b6e-9b4b-40a2-9a09-b55000bc50ad",
   "metadata": {},
   "source": [
    "## findall"
   ]
  },
  {
   "cell_type": "code",
   "execution_count": 468,
   "id": "032ebf1e-dc75-4917-8069-8a0bd3c1d3a0",
   "metadata": {},
   "outputs": [
    {
     "data": {
      "text/plain": [
       "[('Cats', 'smarter'), ('Dog', 'bigger')]"
      ]
     },
     "execution_count": 468,
     "metadata": {},
     "output_type": "execute_result"
    }
   ],
   "source": [
    "# 返回每个匹配结果的groups\n",
    "re.findall( r'(\\w+) are (\\w+)', \"Cats are smarter then dog,Dog are bigger then cat.\", re.M|re.I)"
   ]
  },
  {
   "cell_type": "markdown",
   "id": "492fceb9-9d66-43da-b2d8-185844a8b5ae",
   "metadata": {},
   "source": [
    "## re.finditer"
   ]
  },
  {
   "cell_type": "code",
   "execution_count": 486,
   "id": "e0f5bbec-0f0e-4508-b1c8-f7b05e1bba5c",
   "metadata": {},
   "outputs": [
    {
     "name": "stdout",
     "output_type": "stream",
     "text": [
      "Cats are smarter ('Cats', 'smarter')\n",
      "Dog are bigger ('Dog', 'bigger')\n"
     ]
    }
   ],
   "source": [
    "m2 = re.finditer( r'(\\w+) are (\\w+)', \"Cats are smarter then dog,Dog are bigger then cat.\", re.M|re.I)\n",
    "for i in m2:\n",
    "    print(i.group(0),i.groups()) # group 正则匹配到的文本， groups 子表达式匹配到的文本"
   ]
  },
  {
   "cell_type": "markdown",
   "id": "bdcbc66b-943e-4e01-a464-576d40552e3c",
   "metadata": {},
   "source": [
    "## re.split"
   ]
  },
  {
   "cell_type": "code",
   "execution_count": null,
   "id": "4d480e95-4ed5-47a0-806f-13c1bfb101bc",
   "metadata": {},
   "outputs": [],
   "source": []
  },
  {
   "cell_type": "code",
   "execution_count": null,
   "id": "1edc4940-224a-4de0-a09e-c54b31657f45",
   "metadata": {},
   "outputs": [],
   "source": []
  },
  {
   "cell_type": "code",
   "execution_count": null,
   "id": "689fef39-c799-4939-ab55-63c4e5d18735",
   "metadata": {},
   "outputs": [],
   "source": []
  },
  {
   "cell_type": "markdown",
   "id": "1243da28-84d8-4c9b-aa2b-49d9c4cd59e5",
   "metadata": {
    "tags": []
   },
   "source": [
    "## flags"
   ]
  },
  {
   "cell_type": "raw",
   "id": "cf323c5a-e919-463c-9fab-f37036470d1a",
   "metadata": {},
   "source": [
    "flags : 可选，表示匹配模式，比如忽略大小写，多行模式等，具体参数为：\n",
    "常用的有下面三个\n",
    "\n",
    "re.I 忽略大小写\n",
    "re.M 多行模式 多行匹配，影响 ^ 和 $\n",
    "re.S 即为 . 并且包括换行符在内的任意字符（. 不包括换行符）\n",
    "\n",
    "不常用\n",
    "re.L\t做本地化识别（locale-aware）匹配\n",
    "re.U\t根据Unicode字符集解析字符。这个标志影响 \\w, \\W, \\b, \\B."
   ]
  },
  {
   "cell_type": "code",
   "execution_count": null,
   "id": "509328e5-96df-4357-bc47-37ee4bd26d45",
   "metadata": {},
   "outputs": [],
   "source": []
  },
  {
   "cell_type": "code",
   "execution_count": null,
   "id": "88432a2c-15e5-4813-9b43-45f21c3b3e38",
   "metadata": {},
   "outputs": [],
   "source": []
  }
 ],
 "metadata": {
  "kernelspec": {
   "display_name": "Python 3 (ipykernel)",
   "language": "python",
   "name": "python3"
  },
  "language_info": {
   "codemirror_mode": {
    "name": "ipython",
    "version": 3
   },
   "file_extension": ".py",
   "mimetype": "text/x-python",
   "name": "python",
   "nbconvert_exporter": "python",
   "pygments_lexer": "ipython3",
   "version": "3.7.11"
  }
 },
 "nbformat": 4,
 "nbformat_minor": 5
}
