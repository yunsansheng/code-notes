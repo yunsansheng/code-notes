{
 "cells": [
  {
   "cell_type": "code",
   "execution_count": 1,
   "id": "cc4f4bed-5d90-46e0-853e-82a58352451c",
   "metadata": {},
   "outputs": [],
   "source": [
    "import re"
   ]
  },
  {
   "cell_type": "markdown",
   "id": "5fd33f19-b917-45a9-aa5b-627bc31bdb92",
   "metadata": {},
   "source": [
    "# 元字符"
   ]
  },
  {
   "cell_type": "raw",
   "id": "198cddf7-8df5-4489-a09a-d06b0840fc83",
   "metadata": {},
   "source": [
    "metacharacter"
   ]
  },
  {
   "cell_type": "raw",
   "id": "909e8170-9775-43ac-8008-8e198ed75389",
   "metadata": {},
   "source": [
    ".  表示匹配任意单个字符\n",
    "\\  转义后面的一个字符\n",
    "[ 和 ]  表示字符集合，如果单独表示本身需要转义 [Ar] [0-9] [A-Za-z]\n",
    "- 英文连字符。 仅上上面的字符集合中使用，在集合外代表本身\n",
    "[^]  [后紧跟着^代表排除集合内元素 "
   ]
  },
  {
   "cell_type": "code",
   "execution_count": 8,
   "id": "d417501a-7fbe-4d85-93fb-e4f655b8417d",
   "metadata": {},
   "outputs": [
    {
     "data": {
      "text/plain": [
       "<re.Match object; span=(0, 8), match='i am abc'>"
      ]
     },
     "execution_count": 8,
     "metadata": {},
     "output_type": "execute_result"
    }
   ],
   "source": [
    "r = re.match(\".*\",\"i am abc\")\n",
    "r"
   ]
  },
  {
   "cell_type": "code",
   "execution_count": 39,
   "id": "218d1ee6-cbc1-4f9d-a5e5-924e54a4b75c",
   "metadata": {},
   "outputs": [
    {
     "data": {
      "text/plain": [
       "<re.Match object; span=(0, 3), match='..a'>"
      ]
     },
     "execution_count": 39,
     "metadata": {},
     "output_type": "execute_result"
    }
   ],
   "source": [
    "r = re.match(\"[a-z\\.]\\.a\",\"..a\") # .在集合中转不转都是一样的 如果出现转义符，转义符不能出现在最后\n",
    "r"
   ]
  },
  {
   "cell_type": "code",
   "execution_count": null,
   "id": "5925bcd3-fa68-4119-832a-4c88aaf672be",
   "metadata": {},
   "outputs": [],
   "source": []
  },
  {
   "cell_type": "code",
   "execution_count": null,
   "id": "dfb42419-316c-4c1c-8a60-8b9e7d82d841",
   "metadata": {},
   "outputs": [],
   "source": []
  }
 ],
 "metadata": {
  "kernelspec": {
   "display_name": "Python 3 (ipykernel)",
   "language": "python",
   "name": "python3"
  },
  "language_info": {
   "codemirror_mode": {
    "name": "ipython",
    "version": 3
   },
   "file_extension": ".py",
   "mimetype": "text/x-python",
   "name": "python",
   "nbconvert_exporter": "python",
   "pygments_lexer": "ipython3",
   "version": "3.7.11"
  }
 },
 "nbformat": 4,
 "nbformat_minor": 5
}
