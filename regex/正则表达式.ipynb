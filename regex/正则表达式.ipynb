{
 "cells": [
  {
   "cell_type": "code",
   "execution_count": 40,
   "id": "cc4f4bed-5d90-46e0-853e-82a58352451c",
   "metadata": {},
   "outputs": [],
   "source": [
    "import re"
   ]
  },
  {
   "cell_type": "markdown",
   "id": "5fd33f19-b917-45a9-aa5b-627bc31bdb92",
   "metadata": {},
   "source": [
    "# 元字符"
   ]
  },
  {
   "cell_type": "raw",
   "id": "198cddf7-8df5-4489-a09a-d06b0840fc83",
   "metadata": {},
   "source": [
    "metacharacter"
   ]
  },
  {
   "cell_type": "markdown",
   "id": "3f8b5081-969f-47df-969c-1bc98cb953cd",
   "metadata": {},
   "source": [
    "## 常见符号"
   ]
  },
  {
   "cell_type": "raw",
   "id": "909e8170-9775-43ac-8008-8e198ed75389",
   "metadata": {
    "tags": []
   },
   "source": [
    ".  表示匹配任意单个字符, 除了换行符，当re.S标记被指定时，则可以匹配包括换行符的任意字符\n",
    "\\  转义后面的一个字符\n",
    "[ 和 ]  表示字符集合，如果单独表示本身需要转义 [Ar] [0-9] [A-Za-z]\n",
    "- 英文连字符。 仅上上面的字符集合中使用，在集合外代表本身\n",
    "[^]  [后紧跟着^代表排除集合内元素 \n",
    "\n",
    "^在开头表示开始\n",
    "$在末尾表示结尾"
   ]
  },
  {
   "cell_type": "raw",
   "id": "12b38689-2883-443c-9cd7-e9841d45aedd",
   "metadata": {},
   "source": [
    "!!注意在[]内的字符不一定代表符号外的含义\n",
    "比如 + 在外面表示1或多次，而在[]代表+这个符号 . 在括号外如果要匹配+ 得使用\\+\n",
    "在括号内原字符会默认转义，除 []和-和\\"
   ]
  },
  {
   "cell_type": "code",
   "execution_count": 123,
   "id": "910418c4-3b26-4e69-adfe-c82582edf023",
   "metadata": {},
   "outputs": [
    {
     "data": {
      "text/plain": [
       "<re.Match object; span=(0, 1), match='\\\\'>"
      ]
     },
     "execution_count": 123,
     "metadata": {},
     "output_type": "execute_result"
    }
   ],
   "source": [
    "re.match(r\"\\x5C\",\"\\\\我\")\n",
    "# 这个情况如果不加r会报错，因为\\x5c会先被转成斜杆"
   ]
  },
  {
   "cell_type": "code",
   "execution_count": 150,
   "id": "29bbc11a-6eb1-454b-adc3-1553dcb3c54d",
   "metadata": {},
   "outputs": [
    {
     "data": {
      "text/plain": [
       "<re.Match object; span=(0, 5), match='aj\\\\\\\\c'>"
      ]
     },
     "execution_count": 150,
     "metadata": {},
     "output_type": "execute_result"
    }
   ],
   "source": [
    "re.match(r\"[aj\\x5Cc]+\",r\"aj\\\\c\")  # 后面的其实有两个\\\n",
    "re.match(r\"[aj\\\\c]+\",r\"aj\\\\c\") \n",
    "#1. \\不能作为集合中最后一个.或者\n",
    "#2. []内会对一些特殊字符进行默认转移义，也就是[\\+]和[+]其实是一样的，两种写法都可以\n",
    "#3. 以上的除外情况是 \\ - [] 另外^在开头表示除外"
   ]
  },
  {
   "cell_type": "code",
   "execution_count": 165,
   "id": "eca517ec-5f1b-4a96-916a-db5bd229d3b0",
   "metadata": {},
   "outputs": [],
   "source": [
    "# re.match(\"[\\/]+\",r\"/\") ## 许多正则表达式/是不需要转义的，但是有些解析器要求必须这么做"
   ]
  },
  {
   "cell_type": "code",
   "execution_count": 143,
   "id": "6e99f3bd-517b-4b0f-aa50-1700a8d80249",
   "metadata": {},
   "outputs": [
    {
     "ename": "SyntaxError",
     "evalue": "EOL while scanning string literal (1033753016.py, line 2)",
     "output_type": "error",
     "traceback": [
      "\u001b[0;36m  File \u001b[0;32m\"/tmp/ipykernel_2256/1033753016.py\"\u001b[0;36m, line \u001b[0;32m2\u001b[0m\n\u001b[0;31m    b = r'字符串内\\'\u001b[0m\n\u001b[0m                ^\u001b[0m\n\u001b[0;31mSyntaxError\u001b[0m\u001b[0;31m:\u001b[0m EOL while scanning string literal\n"
     ]
    }
   ],
   "source": [
    "a = '字符串内\\\\'\n",
    "b = r'字符串内\\'"
   ]
  },
  {
   "cell_type": "markdown",
   "id": "92d251d2-2a55-4442-af74-cb392d3ee376",
   "metadata": {},
   "source": [
    "## 常见转义"
   ]
  },
  {
   "cell_type": "code",
   "execution_count": null,
   "id": "4b35c10a-f992-412c-87ac-b601a1bfbe7e",
   "metadata": {},
   "outputs": [],
   "source": [
    "\\w\t匹配字母数字及下划线\n",
    "\\W\t匹配非字母数字及下划线\n",
    "\\s\t匹配任意空白字符，等价于[ \\t\\n\\r\\f\\v]。\n",
    "\\S\t匹配任意非空字符\n",
    "\\d\t匹配任意数字，等价于 [0-9].\n",
    "\\D\t匹配任意非数字\n",
    "\\b\t匹配一个单词边界，也就是指单词和空格间的位置。例如， 'er\\b' 可以匹配\"never\" 中的 'er'，但不能匹配 \"verb\" 中的 'er'。\n",
    "\\B\t匹配非单词边界。'er\\B' 能匹配 \"verb\" 中的 'er'，但不能匹配 \"never\" 中的 'er'。\n",
    "\\n, \\t, 等.\t匹配一个换行符。匹配一个制表符。等\n",
    "\n",
    "\\A\t匹配字符串开始\n",
    "\\Z\t匹配字符串结束，如果是存在换行，只匹配到换行前的结束字符串。\n",
    "\\z\t匹配字符串结束\n",
    "\\G\t匹配最后匹配完成的位置。"
   ]
  },
  {
   "cell_type": "markdown",
   "id": "03c229ac-ae74-4d60-a422-f25d85684eb8",
   "metadata": {},
   "source": [
    "## 匹配进制"
   ]
  },
  {
   "cell_type": "raw",
   "id": "a007f354-e695-4bfd-9ada-2d76841429de",
   "metadata": {},
   "source": [
    "Bin\tDec\tHex\t缩写/字符\t解释\n",
    "00000000\t0\t00\tNUL(null)\t空字符\n",
    "00000001\t1\t01\tSOH(start of headling)\t标题开始\n",
    "00000010\t2\t02\tSTX (start of text)\t正文开始\n",
    "00000011\t3\t03\tETX (end of text)\t正文结束\n",
    "00000100\t4\t04\tEOT (end of transmission)\t传输结束\n",
    "00000101\t5\t05\tENQ (enquiry)\t请求\n",
    "00000110\t6\t06\tACK (acknowledge)\t收到通知\n",
    "00000111\t7\t07\tBEL (bell)\t响铃\n",
    "00001000\t8\t08\tBS (backspace)\t退格\n",
    "00001001\t9\t09\tHT (horizontal tab)\t水平制表符\n",
    "00001010\t10\t0A\tLF (NL line feed, new line)\t换行键\n",
    "00001011\t11\t0B\tVT (vertical tab)\t垂直制表符\n",
    "00001100\t12\t0C\tFF (NP form feed, new page)\t换页键\n",
    "00001101\t13\t0D\tCR (carriage return)\t回车键"
   ]
  },
  {
   "cell_type": "markdown",
   "id": "a31df031-d9b4-4b47-9dda-dcdc6adfcbf1",
   "metadata": {},
   "source": [
    "### 16进制"
   ]
  },
  {
   "cell_type": "raw",
   "id": "8ed2d196-f1b7-4816-92dd-5dd9e0404422",
   "metadata": {},
   "source": [
    "\\x用来匹配十六进制，\\x0A(对应ascii 字符10，也就是换行符\\n)"
   ]
  },
  {
   "cell_type": "code",
   "execution_count": 111,
   "id": "ccd99fe5-0727-4a54-b340-2663659c3ac5",
   "metadata": {},
   "outputs": [
    {
     "data": {
      "text/plain": [
       "<re.Match object; span=(0, 8), match='abd \\ndef'>"
      ]
     },
     "execution_count": 111,
     "metadata": {},
     "output_type": "execute_result"
    }
   ],
   "source": [
    "re.match(\".*\\x0A.*\",'''abd \n",
    "def''')\n",
    "# \"\\x0A\" 在这里等价\\n"
   ]
  },
  {
   "cell_type": "code",
   "execution_count": 112,
   "id": "6caffa1e-238a-459b-bdb4-576154eba75d",
   "metadata": {},
   "outputs": [
    {
     "data": {
      "text/plain": [
       "<re.Match object; span=(0, 1), match='\\n'>"
      ]
     },
     "execution_count": 112,
     "metadata": {},
     "output_type": "execute_result"
    }
   ],
   "source": [
    "re.match(\"\\x0A\",\"\\n\")"
   ]
  },
  {
   "cell_type": "markdown",
   "id": "ef2b808c-b3bf-4046-a74f-246d7007c393",
   "metadata": {
    "tags": []
   },
   "source": [
    "### 8进制"
   ]
  },
  {
   "cell_type": "code",
   "execution_count": null,
   "id": "d682d34e-ea3a-4803-9189-926133476d2f",
   "metadata": {},
   "outputs": [],
   "source": [
    "\\0来表示匹配8进制"
   ]
  },
  {
   "cell_type": "code",
   "execution_count": 51,
   "id": "aa89e171-264b-40d0-9d0f-d8ec9eff7dbc",
   "metadata": {},
   "outputs": [
    {
     "data": {
      "text/plain": [
       "<re.Match object; span=(0, 1), match='\\t'>"
      ]
     },
     "execution_count": 51,
     "metadata": {},
     "output_type": "execute_result"
    }
   ],
   "source": [
    "re.match(\"\\011\",'''\\t''')"
   ]
  },
  {
   "cell_type": "code",
   "execution_count": null,
   "id": "ff400d0f-51ae-4a31-a54b-dbe099c9f361",
   "metadata": {},
   "outputs": [],
   "source": [
    "re.match"
   ]
  },
  {
   "cell_type": "code",
   "execution_count": 8,
   "id": "d417501a-7fbe-4d85-93fb-e4f655b8417d",
   "metadata": {},
   "outputs": [
    {
     "data": {
      "text/plain": [
       "<re.Match object; span=(0, 8), match='i am abc'>"
      ]
     },
     "execution_count": 8,
     "metadata": {},
     "output_type": "execute_result"
    }
   ],
   "source": [
    "r = re.match(\".*\",\"i am abc\")\n",
    "r"
   ]
  },
  {
   "cell_type": "code",
   "execution_count": 39,
   "id": "218d1ee6-cbc1-4f9d-a5e5-924e54a4b75c",
   "metadata": {},
   "outputs": [
    {
     "data": {
      "text/plain": [
       "<re.Match object; span=(0, 3), match='..a'>"
      ]
     },
     "execution_count": 39,
     "metadata": {},
     "output_type": "execute_result"
    }
   ],
   "source": [
    "r = re.match(\"[a-z\\.]\\.a\",\"..a\") # .在集合中转不转都是一样的 如果出现转义符，转义符不能出现在最后\n",
    "r"
   ]
  },
  {
   "cell_type": "markdown",
   "id": "43ba60e6-1da5-4c40-85b0-9bbac8aadec4",
   "metadata": {},
   "source": [
    "# 重复匹配"
   ]
  },
  {
   "cell_type": "raw",
   "id": "d10b0519-37f1-45ce-8a0a-8246d7e2bb52",
   "metadata": {},
   "source": [
    "re*\t匹配0个或多个的表达式。\n",
    "re+\t匹配1个或多个的表达式。 相当于re{1,} # 注意,是要的，否则就变成了精确匹配\n",
    "re?\t匹配0个或1个由前面的正则表达式定义的片段，非贪婪方式\n",
    "re{ n}\t精确匹配 n 个前面表达式。例如， o{2} 不能匹配 \"Bob\" 中的 \"o\"，但是能匹配 \"food\" 中的两个 o。\n",
    "re{ n,}\t匹配 n 个前面表达式。例如， o{2,} 不能匹配\"Bob\"中的\"o\"，但能匹配 \"foooood\"中的所有 o。\"o{1,}\" 等价于 \"o+\"。\"o{0,}\" 则等价于 \"o*\"。\n",
    "re{ n, m}\t匹配 n 到 m 次由前面的正则表达式定义的片段，贪婪方式"
   ]
  },
  {
   "cell_type": "raw",
   "id": "e0ee3ffa-7c32-4284-b2a4-ba197747a51f",
   "metadata": {},
   "source": [
    "匹配邮箱是否合法\n",
    "[\\w.]+@[\\w.]+\\.\\w+ "
   ]
  },
  {
   "cell_type": "code",
   "execution_count": 64,
   "id": "3e140cbd-4523-43c3-8554-df5a533a477a",
   "metadata": {},
   "outputs": [
    {
     "data": {
      "text/plain": [
       "<re.Match object; span=(0, 16), match='abc@gmail.com.cn'>"
      ]
     },
     "execution_count": 64,
     "metadata": {},
     "output_type": "execute_result"
    }
   ],
   "source": [
    "re.match(\"^[\\w.]+@[\\w.]+\\.\\w+$\",\"abc@gmail.com.cn\")"
   ]
  },
  {
   "cell_type": "raw",
   "id": "3dfdb165-e675-4040-8e60-b468541c157a",
   "metadata": {},
   "source": [
    "重复的范围可以是单个字符或者某个集合 或者某个表达式"
   ]
  },
  {
   "cell_type": "code",
   "execution_count": 135,
   "id": "869d0483-960b-47a3-829c-1d30417aa23e",
   "metadata": {},
   "outputs": [
    {
     "data": {
      "text/plain": [
       "<re.Match object; span=(0, 7), match='#ffffff'>"
      ]
     },
     "execution_count": 135,
     "metadata": {},
     "output_type": "execute_result"
    }
   ],
   "source": [
    "re.match(\"#[A-Fa-f0-9]{6}\",\"#000000\")\n",
    "re.match(\"#[A-Fa-f0-9]{6}\",\"#ffffff\")"
   ]
  },
  {
   "cell_type": "markdown",
   "id": "43f7b0ba-74ec-404b-8587-fc4fa14820fd",
   "metadata": {
    "tags": []
   },
   "source": [
    "## 贪婪匹配"
   ]
  },
  {
   "cell_type": "raw",
   "id": "3e301c62-68ee-4be9-8030-398318eea7db",
   "metadata": {},
   "source": [
    "+ *等都是默认贪婪的。 ?可以控制这种行为"
   ]
  },
  {
   "cell_type": "code",
   "execution_count": 166,
   "id": "d937f677-c06f-431f-a82e-9f25320fa6b5",
   "metadata": {},
   "outputs": [
    {
     "data": {
      "text/plain": [
       "<re.Match object; span=(0, 21), match='<a>one</a> <a>tow</a>'>"
      ]
     },
     "execution_count": 166,
     "metadata": {},
     "output_type": "execute_result"
    }
   ],
   "source": [
    "re.match(\"<a>.*</a>\",\"<a>one</a> <a>tow</a>\")"
   ]
  },
  {
   "cell_type": "code",
   "execution_count": 168,
   "id": "b73eb558-ba5a-47a3-8cd9-23323b76aede",
   "metadata": {},
   "outputs": [
    {
     "data": {
      "text/plain": [
       "<re.Match object; span=(0, 10), match='<a>one</a>'>"
      ]
     },
     "execution_count": 168,
     "metadata": {},
     "output_type": "execute_result"
    }
   ],
   "source": [
    "re.match(\"(<a>.*?</a>)\",\"<a>one</a> <a>tow</a>\") # 在+ * {n,} {n,m}后加上?防止贪婪匹配"
   ]
  },
  {
   "cell_type": "markdown",
   "id": "91e8677d-5230-403b-ad3f-31fd73d0d249",
   "metadata": {
    "tags": []
   },
   "source": [
    "# 位置匹配"
   ]
  },
  {
   "cell_type": "code",
   "execution_count": 181,
   "id": "26fb670d-81f9-4225-b320-b8fa518179fa",
   "metadata": {},
   "outputs": [
    {
     "data": {
      "text/plain": [
       "<re.Match object; span=(0, 3), match='cat'>"
      ]
     },
     "execution_count": 181,
     "metadata": {},
     "output_type": "execute_result"
    }
   ],
   "source": [
    "re.match(r\"\\bcat\\b\",\"cat scattered his food all over the room.\")\n",
    "# 用边界的好处是，边界可以是开始 结束 或者空格或者tab等"
   ]
  },
  {
   "cell_type": "code",
   "execution_count": 182,
   "id": "239f357c-df84-4045-9831-89b648ffcd3b",
   "metadata": {},
   "outputs": [],
   "source": [
    "re.match(r\"\\bcat\\b\",\"catscattered his food all over the room.\")"
   ]
  },
  {
   "cell_type": "code",
   "execution_count": 183,
   "id": "df25d82b-e00e-4ee7-bcbb-63e2a14eed2a",
   "metadata": {},
   "outputs": [
    {
     "data": {
      "text/plain": [
       "<re.Match object; span=(0, 3), match='cat'>"
      ]
     },
     "execution_count": 183,
     "metadata": {},
     "output_type": "execute_result"
    }
   ],
   "source": [
    "re.match(r\"\\bcat\\b\",\"cat\tscattered his food all over the room.\")"
   ]
  },
  {
   "cell_type": "raw",
   "id": "32ef6262-78da-41c8-a99c-629aaa318f18",
   "metadata": {},
   "source": [
    "\\bcap 可以匹配以cap开头的单词"
   ]
  },
  {
   "cell_type": "code",
   "execution_count": 210,
   "id": "7cd3687a-3af4-4d52-b549-473df9b646ad",
   "metadata": {},
   "outputs": [
    {
     "data": {
      "text/plain": [
       "[]"
      ]
     },
     "execution_count": 210,
     "metadata": {},
     "output_type": "execute_result"
    }
   ],
   "source": [
    "# \\B和 \\b相反 匹配非边界是非单词的边界\n",
    "re.findall(r\"\\b-\\b\",\"catscattered his fo - od all over the room.\")"
   ]
  },
  {
   "cell_type": "code",
   "execution_count": 200,
   "id": "77f0cce1-3ca9-445b-9cb6-d1b81dee1453",
   "metadata": {},
   "outputs": [
    {
     "data": {
      "text/plain": [
       "[]"
      ]
     },
     "execution_count": 200,
     "metadata": {},
     "output_type": "execute_result"
    }
   ],
   "source": [
    "re.findall(r\"\\B-\\B\",\"catscattered his fo -od all over the room.\")"
   ]
  },
  {
   "cell_type": "code",
   "execution_count": 194,
   "id": "4b16dc5d-452b-42e7-91bc-ee20295fe287",
   "metadata": {},
   "outputs": [
    {
     "data": {
      "text/plain": [
       "['-']"
      ]
     },
     "execution_count": 194,
     "metadata": {},
     "output_type": "execute_result"
    }
   ],
   "source": [
    "re.findall(r\"\\B-\\B\",\"- od all over the room.\") # \\B也不能排除开头和结尾"
   ]
  },
  {
   "cell_type": "code",
   "execution_count": 197,
   "id": "c66f77d4-afcb-4637-8c23-1a8f7a871f45",
   "metadata": {},
   "outputs": [
    {
     "data": {
      "text/plain": [
       "['-']"
      ]
     },
     "execution_count": 197,
     "metadata": {},
     "output_type": "execute_result"
    }
   ],
   "source": [
    "re.findall(r\"\\B-\\B\",\"od all over the room. - \") # \\B也不能排除开头和结尾"
   ]
  },
  {
   "cell_type": "markdown",
   "id": "1243da28-84d8-4c9b-aa2b-49d9c4cd59e5",
   "metadata": {},
   "source": [
    "## flags"
   ]
  },
  {
   "cell_type": "code",
   "execution_count": null,
   "id": "2a912ffe-e16f-4e08-915b-4c6bb01f8bd6",
   "metadata": {},
   "outputs": [],
   "source": []
  },
  {
   "cell_type": "raw",
   "id": "cf323c5a-e919-463c-9fab-f37036470d1a",
   "metadata": {},
   "source": [
    "flags : 可选，表示匹配模式，比如忽略大小写，多行模式等，具体参数为：\n",
    "常用的有下面三个\n",
    "\n",
    "re.I 忽略大小写\n",
    "re.M 多行模式 多行匹配，影响 ^ 和 $\n",
    "re.S 即为 . 并且包括换行符在内的任意字符（. 不包括换行符）\n",
    "\n",
    "不常用\n",
    "re.L\t做本地化识别（locale-aware）匹配\n",
    "re.U\t根据Unicode字符集解析字符。这个标志影响 \\w, \\W, \\b, \\B."
   ]
  },
  {
   "cell_type": "code",
   "execution_count": null,
   "id": "509328e5-96df-4357-bc47-37ee4bd26d45",
   "metadata": {},
   "outputs": [],
   "source": []
  },
  {
   "cell_type": "code",
   "execution_count": null,
   "id": "88432a2c-15e5-4813-9b43-45f21c3b3e38",
   "metadata": {},
   "outputs": [],
   "source": []
  }
 ],
 "metadata": {
  "kernelspec": {
   "display_name": "Python 3 (ipykernel)",
   "language": "python",
   "name": "python3"
  },
  "language_info": {
   "codemirror_mode": {
    "name": "ipython",
    "version": 3
   },
   "file_extension": ".py",
   "mimetype": "text/x-python",
   "name": "python",
   "nbconvert_exporter": "python",
   "pygments_lexer": "ipython3",
   "version": "3.7.11"
  }
 },
 "nbformat": 4,
 "nbformat_minor": 5
}
