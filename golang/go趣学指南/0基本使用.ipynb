{
 "cells": [
  {
   "cell_type": "markdown",
   "id": "5ea2fb6c-c6a8-4b8f-99ca-2c94a24f8950",
   "metadata": {
    "tags": []
   },
   "source": [
    "# 基本结构"
   ]
  },
  {
   "cell_type": "code",
   "execution_count": 2,
   "id": "babd965c-2eef-4333-8981-ad36ffe3a4a0",
   "metadata": {},
   "outputs": [],
   "source": [
    "package main\n",
    "\n",
    "import (\n",
    "    \"fmt\"\n",
    ")\n",
    "func main(){\n",
    "    fmt.Println(\"hello world!\")\n",
    "}\n",
    "\n",
    "//编译成二进制文件后直接执行main函数"
   ]
  },
  {
   "cell_type": "markdown",
   "id": "c4a2a93c-5b44-45b1-95d8-e82cdb3f22a9",
   "metadata": {},
   "source": [
    "# 常量和变量"
   ]
  },
  {
   "cell_type": "code",
   "execution_count": 30,
   "id": "47ccff16-0e30-4adc-89d3-5638aa487c7b",
   "metadata": {},
   "outputs": [],
   "source": [
    "var a int //仅声明"
   ]
  },
  {
   "cell_type": "code",
   "execution_count": 1,
   "id": "31f4e65c-0355-4bc1-b1a6-0f8a5b2a04e2",
   "metadata": {},
   "outputs": [],
   "source": [
    "var g = \"1123\""
   ]
  },
  {
   "cell_type": "code",
   "execution_count": null,
   "id": "236215be-4e0a-4d6f-9f7c-466da31b5809",
   "metadata": {},
   "outputs": [],
   "source": [
    "//同上 go会自定推断类型\n",
    "var g string =\"1123\""
   ]
  },
  {
   "cell_type": "code",
   "execution_count": 25,
   "id": "ccd857ed-03f5-4984-b61b-e8c3428be48b",
   "metadata": {},
   "outputs": [],
   "source": [
    "//不能用在全局内\n",
    "g:=\"1123\" //全局作用域无法使用简短声明,当前时在notebook的局部作用域内,所有的共享一个作用域"
   ]
  },
  {
   "cell_type": "code",
   "execution_count": 36,
   "id": "6d05c0cf-1b15-44cb-ab71-bc36a9df9c05",
   "metadata": {},
   "outputs": [],
   "source": [
    "const ct1 int =1 //常量不能后提前声明\n",
    "//const ct1 =1 可以自动推断"
   ]
  },
  {
   "cell_type": "code",
   "execution_count": 4,
   "id": "5bc87c9d-d79e-4eb0-885e-79b6e508924f",
   "metadata": {},
   "outputs": [
    {
     "name": "stdout",
     "output_type": "stream",
     "text": [
      "1\n"
     ]
    }
   ],
   "source": [
    "//go是静态语言\n",
    "var a int\n",
    "a = 1 \n",
    "func main() {\n",
    "\t// a = \"abc\" //不能和变量不一致\n",
    "\tfmt.Println(a)\n",
    "}\n",
    "main()"
   ]
  },
  {
   "cell_type": "code",
   "execution_count": 5,
   "id": "98ac628b-5107-4717-b1ac-59760062984f",
   "metadata": {},
   "outputs": [],
   "source": [
    "//go对格式有很强的要求，对于最外层作用域\n",
    "var a string = \"abc\"\n",
    "func main() {\n",
    "\tfmt.Println(a)\n",
    "}\n",
    "\n",
    "//上面是可以的，但是下面这种不行\n",
    "var a string\n",
    "a = \"abc\" //!! syntax error: non-declaration statement outside function body\n",
    "func main() {\n",
    "\tfmt.Println(a)\n",
    "}"
   ]
  },
  {
   "cell_type": "code",
   "execution_count": 7,
   "id": "6eabd4fb-e447-44fe-add4-31c13e7e00bd",
   "metadata": {},
   "outputs": [],
   "source": [
    "//一次声明多个变量\n",
    "var a = 1\n",
    "var b = 2\n",
    "\n",
    "var (\n",
    "    c = 3\n",
    "    d = 4\n",
    ")\n",
    "\n",
    "var e,f = 5,6"
   ]
  },
  {
   "cell_type": "code",
   "execution_count": 10,
   "id": "2960d927-4873-43b2-9d49-5dc790a2f73d",
   "metadata": {},
   "outputs": [
    {
     "name": "stdout",
     "output_type": "stream",
     "text": [
      "10\n"
     ]
    },
    {
     "data": {
      "text/plain": [
       "3 <nil>"
      ]
     },
     "execution_count": 10,
     "metadata": {},
     "output_type": "execute_result"
    }
   ],
   "source": [
    "//增量赋值\n",
    "var a = 1\n",
    "a++ //等同于 a+=1 a=a+1 ,也可以a--\n",
    "a *= 5 //10 a=a*5\n",
    "fmt.Println(a)"
   ]
  },
  {
   "cell_type": "markdown",
   "id": "12cced34-c3c0-4d76-9efd-9ec2dc7bbe62",
   "metadata": {
    "tags": []
   },
   "source": [
    "# 格式化输出"
   ]
  },
  {
   "cell_type": "code",
   "execution_count": 11,
   "id": "ed2c2724-f9f4-4aed-ac8f-4cd8bdd4e8c1",
   "metadata": {},
   "outputs": [
    {
     "name": "stdout",
     "output_type": "stream",
     "text": [
      "this is a msg\n"
     ]
    },
    {
     "data": {
      "text/plain": [
       "14 <nil>"
      ]
     },
     "execution_count": 11,
     "metadata": {},
     "output_type": "execute_result"
    }
   ],
   "source": [
    "fmt.Println(\"this is a msg\") //直接打印，自动添加换行"
   ]
  },
  {
   "cell_type": "code",
   "execution_count": 20,
   "id": "b967084f-e322-42d2-9367-a29786419e30",
   "metadata": {},
   "outputs": [
    {
     "name": "stdout",
     "output_type": "stream",
     "text": [
      "HI 10 \n",
      "HI 0  end;\n",
      "HI 10 end;\n",
      "HI  0 end;\n",
      "HI 10 end;\n"
     ]
    },
    {
     "data": {
      "text/plain": [
       "11 <nil>"
      ]
     },
     "execution_count": 20,
     "metadata": {},
     "output_type": "execute_result"
    }
   ],
   "source": [
    "num := 10\n",
    "fmt.Printf(\"HI %v \\n\", num)  //%v default format\n",
    "fmt.Printf(\"HI %-2v end;\\n\", 0) //在右侧填充空格。左对其\n",
    "fmt.Printf(\"HI %-2v end;\\n\", 10)\n",
    "fmt.Printf(\"HI %2v end;\\n\", 0) //在左侧填充空格，右对其。默认+\n",
    "fmt.Printf(\"HI %+2v end;\\n\", 10)"
   ]
  },
  {
   "cell_type": "code",
   "execution_count": 22,
   "id": "844848f1-c273-4c02-b86b-d04d9154b76b",
   "metadata": {},
   "outputs": [
    {
     "name": "stdout",
     "output_type": "stream",
     "text": [
      "HI int end;\n"
     ]
    },
    {
     "data": {
      "text/plain": [
       "12 <nil>"
      ]
     },
     "execution_count": 22,
     "metadata": {},
     "output_type": "execute_result"
    }
   ],
   "source": [
    "fmt.Printf(\"HI %T end;\\n\", 10)  //%T显示类型"
   ]
  },
  {
   "cell_type": "code",
   "execution_count": 53,
   "id": "8be33a58-8162-4270-b2a4-ab0c3456fd9a",
   "metadata": {},
   "outputs": [
    {
     "name": "stdout",
     "output_type": "stream",
     "text": [
      "HI int end;  10\n"
     ]
    },
    {
     "data": {
      "text/plain": [
       "16 <nil>"
      ]
     },
     "execution_count": 53,
     "metadata": {},
     "output_type": "execute_result"
    }
   ],
   "source": [
    "fmt.Printf(\"HI %T end;  %[1]v\\n\", 10)  //用index(1)开始来重复使用变量"
   ]
  },
  {
   "cell_type": "code",
   "execution_count": 63,
   "id": "ff13eb96-32fd-46ea-93f6-8a325d6583c0",
   "metadata": {},
   "outputs": [
    {
     "name": "stdout",
     "output_type": "stream",
     "text": [
      "HI 1010 \n",
      "HI 00001010 \n"
     ]
    },
    {
     "data": {
      "text/plain": [
       "13 <nil>"
      ]
     },
     "execution_count": 63,
     "metadata": {},
     "output_type": "execute_result"
    }
   ],
   "source": [
    "fmt.Printf(\"HI %b \\n\", 10) //打印二进制 HI 1010 \n",
    "fmt.Printf(\"HI %08b \\n\", 10) //HI 00001010  补0"
   ]
  },
  {
   "cell_type": "markdown",
   "id": "bd7414c4-f997-42db-b906-439640462e44",
   "metadata": {},
   "source": [
    "# 循环和分支"
   ]
  },
  {
   "cell_type": "markdown",
   "id": "e1617fd4-a536-4daa-bddb-7674d0e9846f",
   "metadata": {},
   "source": [
    "- 比较运算符\n",
    "   - ==\n",
    "   - !=\n",
    "   - `>`\n",
    "   - `>=`\n",
    "   - < \n",
    "   - <=\n",
    "- 逻辑运算符\n",
    "   - &&\n",
    "   - ||\n",
    "   - ! # 取反\n"
   ]
  },
  {
   "cell_type": "markdown",
   "id": "61bc174f-c97f-4c3f-89fa-b9eb5505fec4",
   "metadata": {},
   "source": [
    "## if else"
   ]
  },
  {
   "cell_type": "code",
   "execution_count": 23,
   "id": "a2c1bffb-24f0-46bf-86b7-c9b4ab45a143",
   "metadata": {},
   "outputs": [
    {
     "name": "stdout",
     "output_type": "stream",
     "text": [
      "a is 1\n"
     ]
    }
   ],
   "source": [
    "var a = 1\n",
    "if a == 1 { //这里不用像js一样加条件的括号\n",
    "\tfmt.Println(\"a is 1\")\n",
    "} else if a == 2 {\n",
    "\tfmt.Println(\"a is 2\")\n",
    "} else if a == 3 || a == 4 {\n",
    "\tfmt.Println(\"a is 3 or 4\")\n",
    "} else if a == 5 && true {\n",
    "\tfmt.Println(\"a is 5\")\n",
    "} else {\n",
    "\tfmt.Println(\"a is >5\")\n",
    "}"
   ]
  },
  {
   "cell_type": "markdown",
   "id": "7e5f67d5-6eb1-4c17-ad12-51ecc8d214dc",
   "metadata": {},
   "source": [
    "## siwtch"
   ]
  },
  {
   "cell_type": "code",
   "execution_count": 17,
   "id": "eb666c36-39be-4244-91f1-60442b340194",
   "metadata": {},
   "outputs": [
    {
     "name": "stdout",
     "output_type": "stream",
     "text": [
      "b is 5\n",
      "b is >=5 \n"
     ]
    }
   ],
   "source": [
    "//根据变量switch\n",
    "var b = 5\n",
    "switch b { //定义了判断的变量\n",
    "case 1: //变量的值\n",
    "\tfmt.Println(\"b is 1\")\n",
    "case 2:\n",
    "\tfmt.Println(\"b is 2\")\n",
    "case 3, 4: // 3 or 4\n",
    "\tfmt.Println(\"b is 3 or 4\")\n",
    "case 5:\n",
    "\tfmt.Println(\"b is 5\")\n",
    "\tfallthrough //同时执行下一个分支 本分支和下一个分支都会执行\n",
    "default:\n",
    "\tfmt.Println(\"b is >=5 \")\n",
    "}"
   ]
  },
  {
   "cell_type": "code",
   "execution_count": 16,
   "id": "f419c6d2-95fc-4666-bb78-8ef60e759f46",
   "metadata": {},
   "outputs": [
    {
     "name": "stdout",
     "output_type": "stream",
     "text": [
      "c is 5 and a is 1\n"
     ]
    }
   ],
   "source": [
    "//根据条件swith\n",
    "var a = 1\n",
    "var c = 5\n",
    "switch {  //没有定义变量\n",
    "case c == 1:\n",
    "\tfmt.Println(\"c is 1\")\n",
    "case c == 5 && a == 1: //通过条件\n",
    "\tfmt.Println(\"c is 5 and a is 1\")\n",
    "}"
   ]
  },
  {
   "cell_type": "markdown",
   "id": "ba6a3be4-f6ef-4127-a3ce-73eec36c843b",
   "metadata": {},
   "source": [
    "## for"
   ]
  },
  {
   "cell_type": "code",
   "execution_count": 21,
   "id": "e7348a41-b019-42bc-b8cd-051a9c649781",
   "metadata": {},
   "outputs": [
    {
     "name": "stdout",
     "output_type": "stream",
     "text": [
      "now 0\n"
     ]
    },
    {
     "data": {
      "text/plain": [
       "6 <nil>"
      ]
     },
     "execution_count": 21,
     "metadata": {},
     "output_type": "execute_result"
    }
   ],
   "source": [
    "var count = 10 // 等价于count:=10 简短声明可以用在var无法使用的地方\n",
    "for count > 0 {\n",
    "\t// fmt.Println(count)\n",
    "\tcount--\n",
    "}\n",
    "fmt.Println(\"now\", count)"
   ]
  },
  {
   "cell_type": "code",
   "execution_count": null,
   "id": "4b907445-875c-4a1d-84f2-30ca93f6531f",
   "metadata": {},
   "outputs": [],
   "source": [
    "for count2 := 10; count2 > 0; { //这边必须中间和后面加上;\n",
    "\t// fmt.Println(count2)\n",
    "\tcount2--\n",
    "}"
   ]
  },
  {
   "cell_type": "code",
   "execution_count": 23,
   "id": "2653efeb-9802-48ab-a3fb-766f0fbb76ce",
   "metadata": {},
   "outputs": [],
   "source": [
    "for count3 := 10; count3 > 0; count3-- { //把--也放到后面\n",
    "\t// fmt.Println(count3)\n",
    "}"
   ]
  },
  {
   "cell_type": "code",
   "execution_count": 30,
   "id": "a6d99a6a-84eb-48e3-864b-fe1c560d8e2d",
   "metadata": {},
   "outputs": [
    {
     "name": "stdout",
     "output_type": "stream",
     "text": [
      "10\n",
      "9\n",
      "8\n"
     ]
    }
   ],
   "source": [
    "for count3 := 10; count3 > 0; count3-- {\n",
    "    fmt.Println(count3)\n",
    "    if count3 == 8 {\n",
    "        break //break跳出for循环\n",
    "    }\n",
    "} "
   ]
  },
  {
   "cell_type": "code",
   "execution_count": 32,
   "id": "430a553b-3191-4d0b-ab32-b74bc6ca639b",
   "metadata": {},
   "outputs": [],
   "source": [
    "for count3 := 10; count3 > 0; count3-- {\n",
    "    if count3 == 8 {\n",
    "        continue //8的时候退出当前循环继续下一个循环\n",
    "    }\n",
    "    // fmt.Println(count3)\n",
    "} "
   ]
  },
  {
   "cell_type": "markdown",
   "id": "b6c97da2-d923-44f2-9e06-708082cd058f",
   "metadata": {},
   "source": [
    "# 作用域"
   ]
  },
  {
   "cell_type": "raw",
   "id": "1445bba0-f01d-4a48-96e5-4f0d4b7595c6",
   "metadata": {},
   "source": [
    "go的作用域通常会随着{}的开启和关闭而结束"
   ]
  },
  {
   "cell_type": "code",
   "execution_count": 33,
   "id": "faa554b6-5a85-4b6a-b406-bd5cd059f071",
   "metadata": {},
   "outputs": [
    {
     "name": "stdout",
     "output_type": "stream",
     "text": [
      "now 0\n"
     ]
    },
    {
     "data": {
      "text/plain": [
       "6 <nil>"
      ]
     },
     "execution_count": 33,
     "metadata": {},
     "output_type": "execute_result"
    }
   ],
   "source": [
    "var count = 10 // 等价于count:=10 简短声明可以用在var无法使用的地方\n",
    "for count > 0 {\n",
    "\t// fmt.Println(count)\n",
    "\tcount--\n",
    "}\n",
    "fmt.Println(\"now\", count) \n",
    "// 这个地方count是循环外的，所以可以访问"
   ]
  },
  {
   "cell_type": "code",
   "execution_count": 35,
   "id": "16f33ebe-ede9-46c1-978b-bb5319db1530",
   "metadata": {},
   "outputs": [
    {
     "ename": "ERROR",
     "evalue": "repl.go:4:13: undefined identifier: count3",
     "output_type": "error",
     "traceback": [
      "repl.go:4:13: undefined identifier: count3"
     ]
    }
   ],
   "source": [
    "for count3 := 10; count3 > 0; count3-- { //把--也放到后面\n",
    "\t// fmt.Println(count3)\n",
    "}\n",
    "fmt.Println(count3) //不可访问 count是简单声明的 在循环的作用域内，外部不可访问"
   ]
  },
  {
   "cell_type": "code",
   "execution_count": 42,
   "id": "ade2f84e-45b5-4f1a-b6f1-e5f6b4c3ace7",
   "metadata": {},
   "outputs": [
    {
     "name": "stdout",
     "output_type": "stream",
     "text": [
      "num is 1\n"
     ]
    }
   ],
   "source": [
    "import (\n",
    "    \"math/rand\"\n",
    ")\n",
    "\n",
    "if num := rand.Intn(3); num ==0{\n",
    "    fmt.Println(\"num is 0\")\n",
    "} else if num ==1{\n",
    "    fmt.Println(\"num is 1\")\n",
    "}else{\n",
    "    fmt.Println(\"other\")\n",
    "}\n",
    "//和for一样外部不能再访问num"
   ]
  },
  {
   "cell_type": "code",
   "execution_count": 43,
   "id": "e31c244a-cc2b-471d-adbc-6094c0f1308d",
   "metadata": {},
   "outputs": [],
   "source": [
    "//变量作用于访问的方式\n",
    "// main函数外直接声明的是全局变量，其余的就是按找到上一层的变量"
   ]
  },
  {
   "cell_type": "markdown",
   "id": "3fcb1070-874f-470b-94a3-bf96c39a1b4a",
   "metadata": {},
   "source": [
    "# 基本类型"
   ]
  },
  {
   "cell_type": "markdown",
   "id": "610b594b-081c-420f-8135-e12b4355b592",
   "metadata": {},
   "source": [
    "- 实数 (默认值0.0)\n",
    "    - float64  双精度 占用8字节\n",
    "    - float32  单精度 占用4字节\n",
    "- 整数  (默认值0)\n",
    "    - int  有符号 会根据目标机器选择最适合的位长 在64位int64\n",
    "    - unit  无符号 会根据目标机器选择最适合的位长 在64位uint64\n",
    "    - int8  [-128,127]   //1字节\n",
    "    - unit8 较常用 0-255\n",
    "    - int16         //2字节\n",
    "    - uint16\n",
    "    - int32        //4字节\n",
    "    - uint32\n",
    "    - int64\n",
    "    - uint64       //8字节\n",
    "- 布尔(默认false)\n",
    "    - bool \n",
    "- 字符串 (默认值\"\")\n",
    "    - string  \n",
    "    - byte  // =uint8 assci  1字节\n",
    "    - rune  // =int32  Unicode  4字节 utf8\n",
    "    \n",
    "    "
   ]
  },
  {
   "cell_type": "markdown",
   "id": "6079f476-b116-4e4e-bc1f-4b8ac9ef4c2d",
   "metadata": {},
   "source": [
    "## 浮点数"
   ]
  },
  {
   "cell_type": "code",
   "execution_count": 44,
   "id": "e30c976e-80a3-4936-a68c-8de5692129f3",
   "metadata": {},
   "outputs": [
    {
     "name": "stdout",
     "output_type": "stream",
     "text": [
      "int"
     ]
    },
    {
     "data": {
      "text/plain": [
       "3 <nil>"
      ]
     },
     "execution_count": 44,
     "metadata": {},
     "output_type": "execute_result"
    }
   ],
   "source": [
    "var a =0\n",
    "fmt.Printf(\"%T\",a)"
   ]
  },
  {
   "cell_type": "code",
   "execution_count": 51,
   "id": "a392d21c-11f9-4322-83fe-541f4ce22aaf",
   "metadata": {},
   "outputs": [
    {
     "name": "stdout",
     "output_type": "stream",
     "text": [
      "0.30000000000000004\n"
     ]
    },
    {
     "data": {
      "text/plain": [
       "20 <nil>"
      ]
     },
     "execution_count": 51,
     "metadata": {},
     "output_type": "execute_result"
    }
   ],
   "source": [
    "//注意精度问题\n",
    "var b float64 =0.1\n",
    "b += 0.2\n",
    "b == 0.3 //false \n",
    "fmt.Println(b) //0.30000000000000004"
   ]
  },
  {
   "cell_type": "markdown",
   "id": "59388fa4-3743-42a4-9ef1-b686f92c1500",
   "metadata": {},
   "source": [
    "## 整数"
   ]
  },
  {
   "cell_type": "code",
   "execution_count": 59,
   "id": "cffb4034-06f3-48cf-9ac5-bb58d786f088",
   "metadata": {},
   "outputs": [
    {
     "ename": "ERROR",
     "evalue": "constant 256 overflows <uint8>",
     "output_type": "error",
     "traceback": [
      "constant 256 overflows <uint8>"
     ]
    }
   ],
   "source": [
    "var c uint8 =256 //constant 256 overflows <uint8> 直接赋值报错"
   ]
  },
  {
   "cell_type": "code",
   "execution_count": 60,
   "id": "520325d1-9471-40ad-b7d8-77614d1b7e2f",
   "metadata": {},
   "outputs": [
    {
     "name": "stdout",
     "output_type": "stream",
     "text": [
      "0\n"
     ]
    },
    {
     "data": {
      "text/plain": [
       "2 <nil>"
      ]
     },
     "execution_count": 60,
     "metadata": {},
     "output_type": "execute_result"
    }
   ],
   "source": [
    "////整数回绕\n",
    "var c uint8 =255\n",
    "c+=1\n",
    "fmt.Println(c) //0"
   ]
  },
  {
   "cell_type": "markdown",
   "id": "1fa5e132-689c-4e4e-b971-3cd93befdcd0",
   "metadata": {},
   "source": [
    "## 字符串"
   ]
  },
  {
   "cell_type": "code",
   "execution_count": 65,
   "id": "491290f6-7857-499c-a94e-9ef232b3424a",
   "metadata": {},
   "outputs": [],
   "source": [
    "var a = \"hello\"\n",
    "a:= \"hello\"\n",
    "var a string = \"hello\""
   ]
  },
  {
   "cell_type": "code",
   "execution_count": 67,
   "id": "27e2eea7-ea0c-4743-be1f-2c3cab87027d",
   "metadata": {},
   "outputs": [
    {
     "data": {
      "text/plain": [
       "\\\\ \\n dfdf"
      ]
     },
     "execution_count": 67,
     "metadata": {},
     "output_type": "execute_result"
    }
   ],
   "source": [
    "//保留原始字面量 同python中r\n",
    "var a = `\\\\ \\n dfdf`"
   ]
  },
  {
   "cell_type": "code",
   "execution_count": 68,
   "id": "3e398414-18b3-4ccb-83b9-fff389554212",
   "metadata": {},
   "outputs": [],
   "source": [
    "//多行文本\n",
    "var a = `dd\n",
    "dfd`"
   ]
  },
  {
   "cell_type": "code",
   "execution_count": 71,
   "id": "6dd0bc52-1fb9-4e24-b5eb-07e38562dd4b",
   "metadata": {},
   "outputs": [
    {
     "name": "stdout",
     "output_type": "stream",
     "text": [
      "π,ά,!"
     ]
    },
    {
     "data": {
      "text/plain": [
       "7 <nil>"
      ]
     },
     "execution_count": 71,
     "metadata": {},
     "output_type": "execute_result"
    }
   ],
   "source": [
    "var pi rune = 960\n",
    "var alpha rune = 940\n",
    "var bang byte =33\n",
    "fmt.Printf(\"%c,%c,%c\",pi,alpha,bang)"
   ]
  },
  {
   "cell_type": "code",
   "execution_count": 73,
   "id": "35a2b31b-7969-4abd-95ef-a261e1e8393b",
   "metadata": {},
   "outputs": [
    {
     "data": {
      "text/plain": [
       "960"
      ]
     },
     "execution_count": 73,
     "metadata": {},
     "output_type": "execute_result"
    }
   ],
   "source": [
    "pi ='π' //用单引号表示 rune  不指定默认是rune\n",
    "pi //960"
   ]
  },
  {
   "cell_type": "code",
   "execution_count": 74,
   "id": "af8a57fd-dc35-416c-8fef-148477d66256",
   "metadata": {},
   "outputs": [
    {
     "data": {
      "text/plain": [
       "42"
      ]
     },
     "execution_count": 74,
     "metadata": {},
     "output_type": "execute_result"
    }
   ],
   "source": [
    "var star byte = '*'\n",
    "star"
   ]
  },
  {
   "cell_type": "code",
   "execution_count": 75,
   "id": "3a04628d-794f-40d1-859e-1c1dc457eb7c",
   "metadata": {},
   "outputs": [],
   "source": [
    "//拉弦\n",
    "//可以读到字符串每个位置 但是不能修改"
   ]
  },
  {
   "cell_type": "markdown",
   "id": "509d4392-0bcd-40ac-9f9c-0e30cac86b86",
   "metadata": {
    "tags": []
   },
   "source": [
    "### 字符串转符文"
   ]
  },
  {
   "cell_type": "code",
   "execution_count": 84,
   "id": "6584850e-bc41-41b5-8999-bccc464f79ec",
   "metadata": {},
   "outputs": [
    {
     "name": "stdout",
     "output_type": "stream",
     "text": [
      "6\n",
      "2\n",
      "中 3"
     ]
    },
    {
     "data": {
      "text/plain": [
       "5 <nil>"
      ]
     },
     "execution_count": 84,
     "metadata": {},
     "output_type": "execute_result"
    }
   ],
   "source": [
    "import (\n",
    "    \"unicode/utf8\"\n",
    ")\n",
    "\n",
    "s := \"中国\"\n",
    "fmt.Println(len(s)) //6  (6 bytes)\n",
    "fmt.Println(utf8.RuneCountInString(s)) //2 (2 rune)\n",
    "\n",
    "c,size := utf8.DecodeRuneInString(s) //只获取第一个\n",
    "fmt.Printf(\"%c %v\",c,size)  //中 3  \n"
   ]
  },
  {
   "cell_type": "code",
   "execution_count": 88,
   "id": "ec79a623-c235-493e-a67f-0429288e0d62",
   "metadata": {},
   "outputs": [
    {
     "name": "stdout",
     "output_type": "stream",
     "text": [
      "中 0 \n",
      "国 3 \n"
     ]
    }
   ],
   "source": [
    "//range不仅可以迭代各种收集器，也可以解码utf8\n",
    "for i,c := range s{  //index和单字符\n",
    "    fmt.Printf(\"%c %v \\n\",c,i) \n",
    "}"
   ]
  },
  {
   "cell_type": "code",
   "execution_count": 90,
   "id": "a1f706dd-e059-4a57-9103-642c0f45662f",
   "metadata": {},
   "outputs": [
    {
     "name": "stdout",
     "output_type": "stream",
     "text": [
      "中\n",
      "国\n"
     ]
    }
   ],
   "source": [
    "for _,c := range s{  //index和单字符\n",
    "    fmt.Printf(\"%c\\n\",c) \n",
    "}"
   ]
  },
  {
   "cell_type": "markdown",
   "id": "f6460c4f-75b6-4c9d-97f3-9a129e0e78fa",
   "metadata": {},
   "source": [
    "## 类型转换"
   ]
  },
  {
   "cell_type": "raw",
   "id": "9e311a27-70a1-4c39-b226-9c933a27a514",
   "metadata": {},
   "source": [
    "go是静态语言，类型不能混用"
   ]
  },
  {
   "cell_type": "code",
   "execution_count": 91,
   "id": "80cbfa87-1f02-4d6d-a9df-23e1b6b07342",
   "metadata": {},
   "outputs": [
    {
     "ename": "ERROR",
     "evalue": "repl.go:3:3: mismatched types in binary operation + between <int> and <float32>: a + b",
     "output_type": "error",
     "traceback": [
      "repl.go:3:3: mismatched types in binary operation + between <int> and <float32>: a + b"
     ]
    }
   ],
   "source": [
    "var a int =1\n",
    "var b float32  = 2.1\n",
    "a + b //mismatched types in binary operation + between <int> and <float32>: a + b"
   ]
  },
  {
   "cell_type": "markdown",
   "id": "239b08be-ce0f-43f9-a2f0-ee98d8c7bac1",
   "metadata": {
    "tags": []
   },
   "source": [
    "### int和float"
   ]
  },
  {
   "cell_type": "code",
   "execution_count": 92,
   "id": "0e640793-de36-493e-a181-20267881f8c7",
   "metadata": {},
   "outputs": [
    {
     "name": "stdout",
     "output_type": "stream",
     "text": [
      "float64 int"
     ]
    },
    {
     "data": {
      "text/plain": [
       "11 <nil>"
      ]
     },
     "execution_count": 92,
     "metadata": {},
     "output_type": "execute_result"
    }
   ],
   "source": [
    "age := 64\n",
    "newage := float64(age) //只能给新的变量\n",
    "// age = float64(newage) 变量的类型不能改变\n",
    "fmt.Printf(\"%T %T\", newage, age)"
   ]
  },
  {
   "cell_type": "code",
   "execution_count": 95,
   "id": "b8153d12-904a-4af1-bb38-4413e0861e39",
   "metadata": {},
   "outputs": [
    {
     "name": "stdout",
     "output_type": "stream",
     "text": [
      "-32768\n"
     ]
    },
    {
     "data": {
      "text/plain": [
       "7 <nil>"
      ]
     },
     "execution_count": 95,
     "metadata": {},
     "output_type": "execute_result"
    }
   ],
   "source": [
    "var bh float64 = 32768 //超过最大值32767\n",
    "var h = int16(bh)  //超过int16最大值32767\n",
    "fmt.Println(h) //-32768  回绕成最小值"
   ]
  },
  {
   "cell_type": "code",
   "execution_count": 97,
   "id": "95bbf437-18ee-4f0f-af28-37baf903d3be",
   "metadata": {},
   "outputs": [
    {
     "name": "stdout",
     "output_type": "stream",
     "text": [
      "-32768 32767 255\n"
     ]
    },
    {
     "data": {
      "text/plain": [
       "17 <nil>"
      ]
     },
     "execution_count": 97,
     "metadata": {},
     "output_type": "execute_result"
    }
   ],
   "source": [
    "import (\n",
    "    \"math\"\n",
    ")\n",
    "\n",
    "\n",
    "fmt.Println(\n",
    "\t\tmath.MinInt16,\n",
    "\t\tmath.MaxInt16,\n",
    "\t\tmath.MaxUint8) //U没有最小，最小都是0"
   ]
  },
  {
   "cell_type": "markdown",
   "id": "347dcf6b-afa5-496e-8d74-32e7acca1617",
   "metadata": {},
   "source": [
    "### rune,byte->string"
   ]
  },
  {
   "cell_type": "code",
   "execution_count": 105,
   "id": "08bad2f7-f8cc-4285-920f-1041388631dd",
   "metadata": {},
   "outputs": [
    {
     "name": "stdout",
     "output_type": "stream",
     "text": [
      "π\n",
      "π\n",
      "π\n",
      "!\n"
     ]
    },
    {
     "data": {
      "text/plain": [
       "2 <nil>"
      ]
     },
     "execution_count": 105,
     "metadata": {},
     "output_type": "execute_result"
    }
   ],
   "source": [
    "//rune和byte是int32和uint8别名 所以下列方法适用于所有整数类型\n",
    "var pi rune = 960\n",
    "var pinum = 960\n",
    "pi2 := 'π' //自动推断为rune\n",
    "fmt.Println(string(pi))\n",
    "fmt.Println(string(pinum))\n",
    "fmt.Println(string(pi2))\n",
    "\n",
    "\n",
    "var bang byte = 33\n",
    "fmt.Println(string(bang)) //!"
   ]
  },
  {
   "cell_type": "markdown",
   "id": "59aa2cc3-ad1b-40ca-9722-c73c9839a1d5",
   "metadata": {},
   "source": [
    "### int->string"
   ]
  },
  {
   "cell_type": "code",
   "execution_count": 115,
   "id": "048b4567-a9dc-49c9-8d4e-322eeb34fb84",
   "metadata": {},
   "outputs": [
    {
     "name": "stdout",
     "output_type": "stream",
     "text": [
      "10 string \n",
      "dfdfd 10 fdf string \n",
      "dfdfd 1.2 fdf string \n"
     ]
    },
    {
     "data": {
      "text/plain": [
       "22 <nil>"
      ]
     },
     "execution_count": 115,
     "metadata": {},
     "output_type": "execute_result"
    }
   ],
   "source": [
    "import (\n",
    "    \"strconv\"\n",
    ")\n",
    "\n",
    "var ct int = 10\n",
    "fmt.Printf(\"%v %[1]T \\n\",strconv.Itoa(ct)) //// integer to string\n",
    "\n",
    "\n",
    "//另一种方法\n",
    "s2 := fmt.Sprintf(\"dfdfd %v fdf\", ct)\n",
    "fmt.Printf(\"%v %[1]T \\n\",s2) \n",
    "\n",
    "s3 := fmt.Sprintf(\"dfdfd %v fdf\", float64(1.2))\n",
    "fmt.Printf(\"%v %[1]T \\n\",s3) //使用于不同类型，上面的Itoa，参数只能是int\n"
   ]
  },
  {
   "cell_type": "markdown",
   "id": "45bb3500-87d9-4cab-abb2-f7e4f2bd0414",
   "metadata": {},
   "source": [
    "### str->int"
   ]
  },
  {
   "cell_type": "code",
   "execution_count": 117,
   "id": "d45ee921-8ced-4bb7-a11a-4cd36dcd54ac",
   "metadata": {},
   "outputs": [
    {
     "name": "stdout",
     "output_type": "stream",
     "text": [
      "0 strconv.Atoi: parsing \"10中\": invalid syntax\n"
     ]
    },
    {
     "data": {
      "text/plain": [
       "48 <nil>"
      ]
     },
     "execution_count": 117,
     "metadata": {},
     "output_type": "execute_result"
    }
   ],
   "source": [
    "n3, err := strconv.Atoi(\"10中\")\n",
    "fmt.Println(n3, err)  //0 strconv.Atoi: parsing \"10中\": invalid syntax"
   ]
  },
  {
   "cell_type": "markdown",
   "id": "7548803e-88f9-40a3-bbe5-71b49d5e42c5",
   "metadata": {},
   "source": [
    "### string->bool"
   ]
  },
  {
   "cell_type": "code",
   "execution_count": 118,
   "id": "95d1ca33-73e8-4182-979f-1394f9ff4c22",
   "metadata": {},
   "outputs": [],
   "source": [
    "//go中不能使用 string(false),int(false),bool(1)等"
   ]
  },
  {
   "cell_type": "code",
   "execution_count": 119,
   "id": "a592d859-9d78-4e87-89a4-2d91aab1b3c2",
   "metadata": {},
   "outputs": [
    {
     "name": "stdout",
     "output_type": "stream",
     "text": [
      "true bool \n"
     ]
    },
    {
     "data": {
      "text/plain": [
       "11 <nil>"
      ]
     },
     "execution_count": 119,
     "metadata": {},
     "output_type": "execute_result"
    }
   ],
   "source": [
    "yesno := \"yes\"\n",
    "launch := (yesno == \"yes\")\n",
    "fmt.Printf(\"%v %[1]T \\n\",launch)"
   ]
  },
  {
   "cell_type": "markdown",
   "id": "790d48aa-5a77-4382-97c8-519777e8ccfc",
   "metadata": {},
   "source": [
    "# 函数"
   ]
  },
  {
   "cell_type": "code",
   "execution_count": 120,
   "id": "f26b77a8-e46b-447d-b770-9f27c3743f1a",
   "metadata": {},
   "outputs": [],
   "source": [
    "func myadd(a int, b int) int { // func fname(arg1 type,arg2 type) 返回值类型  单个时候直接放，多个的时候需要括号\n",
    "\tfmt.Printf(\"a: %v  b: %v \\n\", a, b)\n",
    "\treturn a + b\n",
    "}"
   ]
  },
  {
   "cell_type": "code",
   "execution_count": 126,
   "id": "04237a97-b577-4b30-9a13-a0319469f421",
   "metadata": {},
   "outputs": [
    {
     "name": "stdout",
     "output_type": "stream",
     "text": [
      "a: 1  b: 2 \n"
     ]
    }
   ],
   "source": [
    "func mylog(a int, b int) (int, int) { //多个返回参数需要括号\n",
    "\tfmt.Printf(\"a: %v  b: %v \\n\", a, b)\n",
    "\treturn a, b\n",
    "}\n",
    "\n",
    "s1,s2 := mylog(1,2)"
   ]
  },
  {
   "cell_type": "raw",
   "id": "e83cb91c-d97a-4a63-8c6e-b4f070f0abe6",
   "metadata": {},
   "source": [
    "go中以大写字母开头的 函数 变量 以及其他标识符会被导出并被其他包可用"
   ]
  },
  {
   "cell_type": "code",
   "execution_count": 122,
   "id": "249ce6be-d8d2-4ae1-a4c4-fce42f2d2f25",
   "metadata": {},
   "outputs": [],
   "source": [
    "//执行函数 没有返回的时候不能赋值给变量"
   ]
  },
  {
   "cell_type": "code",
   "execution_count": 125,
   "id": "25262717-b1ba-42ab-bb06-0a1e3cd50a2d",
   "metadata": {},
   "outputs": [
    {
     "ename": "ERROR",
     "evalue": "repl.go:5:15: expression returns no values, expecting one: mytest(1, 2)",
     "output_type": "error",
     "traceback": [
      "repl.go:5:15: expression returns no values, expecting one: mytest(1, 2)"
     ]
    }
   ],
   "source": [
    "func mytest(a int, b int){ //多个返回参数需要括号\n",
    "\tfmt.Printf(\"a: %v  b: %v \\n\", a, b)\n",
    "}\n",
    "mytest(1,2)\n",
    "c := mytest(1,2)//没有返回值的时候不能给变量"
   ]
  },
  {
   "cell_type": "code",
   "execution_count": 127,
   "id": "3eff0452-83d9-4915-9df4-bd0a8efb7e3b",
   "metadata": {},
   "outputs": [
    {
     "name": "stdout",
     "output_type": "stream",
     "text": [
      "1 0 1\n",
      "2 1 2\n",
      "3 2 3\n",
      "5 3 5\n"
     ]
    }
   ],
   "source": [
    "func manyprint(a ...int){\n",
    "    for i ,v :=range a{\n",
    "        fmt.Println(a[i], i, v)\n",
    "    }\n",
    "}\n",
    "manyprint(1,2,3,5)"
   ]
  },
  {
   "cell_type": "code",
   "execution_count": null,
   "id": "9e9bea02-621a-4f20-b387-c940fb06220f",
   "metadata": {},
   "outputs": [],
   "source": [
    "func myprint(a ...interface{}) { //可以接受多个参数 不同类型  空接口\n",
    "\tvar  b bool = true\n",
    "\tfmt.Println(b)\n",
    "\tfor i, v := range a {\n",
    "\t\tfmt.Println(a[i], i, v)\n",
    "\t}\n",
    "}"
   ]
  },
  {
   "cell_type": "markdown",
   "id": "0ea4f434-02de-4575-96d9-81d7810b1bc2",
   "metadata": {},
   "source": [
    "# 方法"
   ]
  },
  {
   "cell_type": "code",
   "execution_count": 1,
   "id": "893bd090-f544-43aa-9519-f7eef8b71b27",
   "metadata": {},
   "outputs": [],
   "source": [
    "type cel float64 //声明新的类型，底层为float64\n",
    "type kel float64"
   ]
  },
  {
   "cell_type": "code",
   "execution_count": 6,
   "id": "f7334122-cdd8-4cc2-8b8b-cc4d2a53eb52",
   "metadata": {},
   "outputs": [
    {
     "name": "stdout",
     "output_type": "stream",
     "text": [
      "26.850000000000023\n"
     ]
    },
    {
     "data": {
      "text/plain": [
       "19 <nil>"
      ]
     },
     "execution_count": 6,
     "metadata": {},
     "output_type": "execute_result"
    }
   ],
   "source": [
    "import (\"fmt\")\n",
    "// 通过函数的方式转换\n",
    "func kel_to_cel(k kel) cel { //函数转换定义方法\n",
    "\treturn cel(k - 273.15)\n",
    "}\n",
    "var k kel =300\n",
    "fmt.Println(kel_to_cel(k))"
   ]
  },
  {
   "cell_type": "raw",
   "id": "1d5b7985-0ec4-45e3-a027-2593aab4f214",
   "metadata": {},
   "source": [
    "方法可以把函数绑定到对应的数据类型上，让代码更加简洁明了"
   ]
  },
  {
   "cell_type": "code",
   "execution_count": 8,
   "id": "1a1ba92e-55e7-4511-b220-232636b4930f",
   "metadata": {},
   "outputs": [
    {
     "name": "stdout",
     "output_type": "stream",
     "text": [
      "26.850000000000023\n"
     ]
    },
    {
     "data": {
      "text/plain": [
       "19 <nil>"
      ]
     },
     "execution_count": 8,
     "metadata": {},
     "output_type": "execute_result"
    }
   ],
   "source": [
    "func (k kel) to_cel() cel {\n",
    "    return cel(k - 273.15)\n",
    "}\n",
    "//k是接收者, 1个方法必须有且只能有1个接收者\n",
    "//to_cel是方法名字和对应参数\n",
    "//最后的cel是返回值\n",
    "\n",
    "var k kel = 300\n",
    "fmt.Println(k.to_cel())"
   ]
  },
  {
   "cell_type": "code",
   "execution_count": 15,
   "id": "688af0ff-8d9c-48d3-bd35-79e653a61f2f",
   "metadata": {},
   "outputs": [],
   "source": [
    "//方法可以有不同的输入，\n",
    "func (k kel) to_cel_msg(i int) cel {\n",
    "    fmt.Println(\"this is\", i)\n",
    "    return cel(k - 273.15)\n",
    "}"
   ]
  },
  {
   "cell_type": "code",
   "execution_count": 16,
   "id": "b8ca1692-a7e4-4958-ac9a-8f9612e7117a",
   "metadata": {},
   "outputs": [
    {
     "name": "stdout",
     "output_type": "stream",
     "text": [
      "this is 1\n",
      "26.850000000000023\n"
     ]
    },
    {
     "data": {
      "text/plain": [
       "19 <nil>"
      ]
     },
     "execution_count": 16,
     "metadata": {},
     "output_type": "execute_result"
    }
   ],
   "source": [
    "var k kel = 300\n",
    "fmt.Println(k.to_cel_msg(1))"
   ]
  },
  {
   "cell_type": "markdown",
   "id": "b1b2be81-d9be-48f4-83fd-68c488214fbb",
   "metadata": {},
   "source": [
    "# 一等函数"
   ]
  },
  {
   "cell_type": "markdown",
   "id": "6485ca07-2de5-475f-bdfd-729652c68947",
   "metadata": {},
   "source": [
    "- 将函数赋值给变量\n",
    "- 将函数传递给函数\n",
    "- 创建函数的函数"
   ]
  },
  {
   "cell_type": "markdown",
   "id": "5ec2cf14-66fc-48b8-b13c-0e27c8cb722d",
   "metadata": {},
   "source": [
    "### 将函数赋值给变量"
   ]
  },
  {
   "cell_type": "code",
   "execution_count": 21,
   "id": "4119fab5-eefb-4da1-9b4a-97f86ca2531d",
   "metadata": {},
   "outputs": [
    {
     "name": "stdout",
     "output_type": "stream",
     "text": [
      "193\n",
      "0\n"
     ]
    }
   ],
   "source": [
    "import (\n",
    "    \"fmt\"\n",
    "    \"math/rand\"\n",
    ")\n",
    "\n",
    "type kelvin float64\n",
    "\n",
    "func fakeSensor() kelvin {\n",
    "    return kelvin( rand.Intn(151) + 150 )\n",
    "}\n",
    "\n",
    "func realSensor() kelvin {\n",
    "    return 0 //todo \n",
    "} \n",
    "\n",
    "func main(){\n",
    "    sensor := fakeSensor // \n",
    "    //如果不使用类型推断 上面的要写成下面这两句\n",
    "    //var sensor func() kelvin  //声明空方法(参数) 返回值\n",
    "    // sensor = fakeSensor\n",
    "    fmt.Println(sensor())\n",
    "    sensor = realSensor\n",
    "    fmt.Println(sensor())\n",
    "}\n",
    "main()"
   ]
  },
  {
   "cell_type": "markdown",
   "id": "d81ded62-cbfb-4d21-9e80-1dc7eff8ba70",
   "metadata": {},
   "source": [
    "### 将函数传递给其他函数"
   ]
  },
  {
   "cell_type": "code",
   "execution_count": 23,
   "id": "242acc50-acb6-4d10-98b6-af2f96e3d743",
   "metadata": {},
   "outputs": [],
   "source": [
    "func measureTemp(samples int , sensor func() kelvin){\n",
    "    for i:= 0; i< samples; i++ {\n",
    "        fmt.Println(\"measure\",i)\n",
    "        k := sensor()\n",
    "        fmt.Println(k)\n",
    "    }\n",
    "}"
   ]
  },
  {
   "cell_type": "code",
   "execution_count": 24,
   "id": "7c12aee3-9c2e-42a9-9d25-214c1157f5de",
   "metadata": {},
   "outputs": [
    {
     "name": "stdout",
     "output_type": "stream",
     "text": [
      "measure 0\n",
      "300\n",
      "measure 1\n",
      "245\n",
      "measure 2\n",
      "195\n"
     ]
    }
   ],
   "source": [
    "measureTemp(3,fakeSensor)"
   ]
  },
  {
   "cell_type": "markdown",
   "id": "3e82ec47-3cea-486e-8de0-0dc6c9eafa09",
   "metadata": {
    "tags": []
   },
   "source": [
    "### 声明参数为函数的类型"
   ]
  },
  {
   "cell_type": "code",
   "execution_count": 33,
   "id": "a4781c3c-9586-47f0-948c-c70ea9dc8400",
   "metadata": {},
   "outputs": [],
   "source": [
    "// 以上也可以改成\n",
    "type sensor func() kelvin\n",
    "func measureTemp2(samples int , s sensor){\n",
    "    for i:= 0; i< samples; i++ {\n",
    "        fmt.Println(\"measure\",i)\n",
    "        k := s()\n",
    "        fmt.Println(k)\n",
    "    }\n",
    "}"
   ]
  },
  {
   "cell_type": "code",
   "execution_count": 34,
   "id": "4ce0da3e-abcf-495f-9f1c-d0e0ec5a01c7",
   "metadata": {},
   "outputs": [
    {
     "name": "stdout",
     "output_type": "stream",
     "text": [
      "measure 0\n",
      "152\n",
      "measure 1\n",
      "163\n",
      "measure 2\n",
      "281\n"
     ]
    }
   ],
   "source": [
    "measureTemp2(3,fakeSensor)"
   ]
  },
  {
   "cell_type": "markdown",
   "id": "d2537fbf-df0f-41f3-832c-8035155187dc",
   "metadata": {},
   "source": [
    "### 匿名函数"
   ]
  },
  {
   "cell_type": "code",
   "execution_count": 42,
   "id": "d7ba94b9-64c6-42bd-9fc4-3d0a511ccc2f",
   "metadata": {},
   "outputs": [
    {
     "name": "stdout",
     "output_type": "stream",
     "text": [
      "匿名函数\n"
     ]
    }
   ],
   "source": [
    "func main(){\n",
    "    func() {\n",
    "        fmt.Println(\"匿名函数\")\n",
    "    }() //立刻执行的匿名函数，如果不执行 这个匿名函数不能放\n",
    "}\n",
    "main()"
   ]
  },
  {
   "cell_type": "code",
   "execution_count": 44,
   "id": "08c050d0-bd03-40e7-ace1-b834839a6f5a",
   "metadata": {},
   "outputs": [
    {
     "name": "stdout",
     "output_type": "stream",
     "text": [
      "匿名函数给变量\n"
     ]
    }
   ],
   "source": [
    "f := func() {\n",
    "    fmt.Println(\"匿名函数给变量\")\n",
    "}\n",
    "f()"
   ]
  },
  {
   "cell_type": "markdown",
   "id": "75ac7537-7967-4b20-9f23-40d1d215aee3",
   "metadata": {
    "tags": []
   },
   "source": [
    "### 闭包"
   ]
  },
  {
   "cell_type": "code",
   "execution_count": null,
   "id": "7c23d57f-c965-4a72-ac9c-f7a125c30abe",
   "metadata": {},
   "outputs": [],
   "source": [
    "创建函数的函数"
   ]
  },
  {
   "cell_type": "code",
   "execution_count": 49,
   "id": "47af0de5-1bfc-4fe7-8ae6-c2eb10077dd3",
   "metadata": {},
   "outputs": [
    {
     "name": "stdout",
     "output_type": "stream",
     "text": [
      "294\n",
      "295\n",
      "296\n"
     ]
    },
    {
     "data": {
      "text/plain": [
       "296"
      ]
     },
     "execution_count": 49,
     "metadata": {},
     "output_type": "execute_result"
    }
   ],
   "source": [
    "var k kelvin =294.0\n",
    "func sensor() kelvin{\n",
    "    fmt.Println(k)\n",
    "    return k\n",
    "}\n",
    "sensor()\n",
    "k++\n",
    "sensor()\n",
    "k++\n",
    "sensor()\n"
   ]
  },
  {
   "cell_type": "code",
   "execution_count": 55,
   "id": "7f72d417-0801-4754-81e7-b81017f0d947",
   "metadata": {},
   "outputs": [
    {
     "name": "stdout",
     "output_type": "stream",
     "text": [
      "294\n",
      "295\n",
      "296\n"
     ]
    },
    {
     "data": {
      "text/plain": [
       "296"
      ]
     },
     "execution_count": 55,
     "metadata": {},
     "output_type": "execute_result"
    }
   ],
   "source": [
    "var k kelvin =294.0\n",
    "sensor := func() kelvin {\n",
    "        fmt.Println(k)\n",
    "        return k\n",
    "}\n",
    "sensor()\n",
    "k++\n",
    "sensor()\n",
    "k++\n",
    "sensor()"
   ]
  },
  {
   "cell_type": "markdown",
   "id": "9fc6b135-d3dc-431a-8b32-5bc10e5e4e9f",
   "metadata": {},
   "source": [
    "# 数组"
   ]
  },
  {
   "cell_type": "markdown",
   "id": "cc0f28e4-4ef2-416c-9a2d-b9e12e9796c3",
   "metadata": {},
   "source": [
    "1. 定长\n",
    "2. 有序"
   ]
  },
  {
   "cell_type": "code",
   "execution_count": 153,
   "id": "f2ef36c9-dd6e-4db1-a8f4-b27445baa2e7",
   "metadata": {},
   "outputs": [
    {
     "name": "stdout",
     "output_type": "stream",
     "text": [
      "Mercury\n",
      "[8]string"
     ]
    },
    {
     "data": {
      "text/plain": [
       "9 <nil>"
      ]
     },
     "execution_count": 153,
     "metadata": {},
     "output_type": "execute_result"
    }
   ],
   "source": [
    "var plants [8]string //声明数组，注意go里面数组是固定长度的，切片才是任意长度\n",
    "plants[0] = \"Mercury\"          //赋值\n",
    "fmt.Println(plants[0]) //读取\n",
    "fmt.Printf(\"%T\",plants)\n",
    "// plants[8] =\"out of index\""
   ]
  },
  {
   "cell_type": "code",
   "execution_count": 78,
   "id": "04e747de-7de4-4b7e-a7e6-f3b31e0b8f90",
   "metadata": {},
   "outputs": [
    {
     "name": "stdout",
     "output_type": "stream",
     "text": [
      "hi  5"
     ]
    },
    {
     "data": {
      "text/plain": [
       "5 <nil>"
      ]
     },
     "execution_count": 78,
     "metadata": {},
     "output_type": "execute_result"
    }
   ],
   "source": [
    "dwarfs := [5]string{\"a\", \"b\", \"c\", \"d\"} //直接初始化，不一定要和长度一致\n",
    "fmt.Printf(\"hi %v %v\",dwarfs[4],len(dwarfs)) //默认值\"\"\n"
   ]
  },
  {
   "cell_type": "code",
   "execution_count": 76,
   "id": "8276f1d6-7372-4804-8780-bd30a2bcfb42",
   "metadata": {},
   "outputs": [
    {
     "data": {
      "text/plain": [
       "[a b c d e]"
      ]
     },
     "execution_count": 76,
     "metadata": {},
     "output_type": "execute_result"
    }
   ],
   "source": [
    "dwarfs[4] = \"e\"\n",
    "dwarfs"
   ]
  },
  {
   "cell_type": "code",
   "execution_count": 73,
   "id": "16de8865-61d8-45a6-8601-079a007e82fd",
   "metadata": {},
   "outputs": [
    {
     "data": {
      "text/plain": [
       "[3 5 6 7 0]"
      ]
     },
     "execution_count": 73,
     "metadata": {},
     "output_type": "execute_result"
    }
   ],
   "source": [
    "nums := [5] int{3,5,6,7}\n",
    "nums //[3 5 6 7 0]"
   ]
  },
  {
   "cell_type": "code",
   "execution_count": 67,
   "id": "14d40edd-fc1b-4413-b098-1b35a01699bf",
   "metadata": {},
   "outputs": [
    {
     "data": {
      "text/plain": [
       "[a b c d e]"
      ]
     },
     "execution_count": 67,
     "metadata": {},
     "output_type": "execute_result"
    }
   ],
   "source": [
    "dwarfs[4] = \"e\"\n",
    "dwarfs"
   ]
  },
  {
   "cell_type": "code",
   "execution_count": 77,
   "id": "c8d6ab9b-94e8-4602-b4bc-9c983e5691b5",
   "metadata": {},
   "outputs": [
    {
     "name": "stdout",
     "output_type": "stream",
     "text": [
      "[a b] 2\n"
     ]
    },
    {
     "data": {
      "text/plain": [
       "8 <nil>"
      ]
     },
     "execution_count": 77,
     "metadata": {},
     "output_type": "execute_result"
    }
   ],
   "source": [
    "other := [...]string{\"a\", \"b\"} //让编译器计算长度\n",
    "other\n",
    "fmt.Println(other, len(other))"
   ]
  },
  {
   "cell_type": "markdown",
   "id": "041d2791-182e-488c-a070-f407e02e93af",
   "metadata": {
    "tags": []
   },
   "source": [
    "## 迭代"
   ]
  },
  {
   "cell_type": "code",
   "execution_count": 79,
   "id": "3fc05647-0c54-4598-9172-45af72d566f3",
   "metadata": {},
   "outputs": [
    {
     "name": "stdout",
     "output_type": "stream",
     "text": [
      "0 a\n",
      "1 b\n",
      "2 c\n",
      "3 d\n",
      "4 \n"
     ]
    }
   ],
   "source": [
    "for i, dr := range dwarfs { //可以两个\n",
    "\tfmt.Println(i, dr)\n",
    "} //注意会有还没赋值的"
   ]
  },
  {
   "cell_type": "code",
   "execution_count": 81,
   "id": "78b346a0-5548-4bf7-8fa0-9bfc51dd822e",
   "metadata": {},
   "outputs": [
    {
     "name": "stdout",
     "output_type": "stream",
     "text": [
      "0\n",
      "1\n",
      "2\n",
      "3\n",
      "4\n"
     ]
    }
   ],
   "source": [
    "for i2 := range dwarfs { //可以一个\n",
    "\tfmt.Println(i2)\n",
    "}"
   ]
  },
  {
   "cell_type": "code",
   "execution_count": 86,
   "id": "c52263c0-0813-4285-8609-88fea50cf6f8",
   "metadata": {},
   "outputs": [
    {
     "data": {
      "text/plain": [
       "[a b c d ]"
      ]
     },
     "execution_count": 86,
     "metadata": {},
     "output_type": "execute_result"
    }
   ],
   "source": [
    "cp_dw := dwarfs //这个创建一个副本 而不是引用\n",
    "cp_dw //[a b c d ]\n",
    "cp_dw[4] = \"e\"\n",
    "cp_dw //[a b c d e]\n",
    "dwarfs //[a b c d ]\n"
   ]
  },
  {
   "cell_type": "markdown",
   "id": "2cb5ee76-c2a8-4337-8b4d-62cae6e23b16",
   "metadata": {},
   "source": [
    "# 切片"
   ]
  },
  {
   "cell_type": "code",
   "execution_count": 87,
   "id": "1934bb86-0038-49b3-9617-557b84fb7acb",
   "metadata": {},
   "outputs": [
    {
     "name": "stdout",
     "output_type": "stream",
     "text": [
      "[a b c d]\n"
     ]
    },
    {
     "data": {
      "text/plain": [
       "10 <nil>"
      ]
     },
     "execution_count": 87,
     "metadata": {},
     "output_type": "execute_result"
    }
   ],
   "source": [
    "plants := [8]string{\"a\", \"b\", \"c\", \"d\", \"e\", \"f\", \"g\", \"h\"}\n",
    "t := plants[0:4] // 相当于创建视图\n",
    "fmt.Println(t)"
   ]
  },
  {
   "cell_type": "code",
   "execution_count": 88,
   "id": "bf658a9c-84f1-4d96-be5d-2eea61224a6b",
   "metadata": {},
   "outputs": [
    {
     "name": "stdout",
     "output_type": "stream",
     "text": [
      "[a2 b c d e f g h] [a2 b c d]\n"
     ]
    },
    {
     "data": {
      "text/plain": [
       "30 <nil>"
      ]
     },
     "execution_count": 88,
     "metadata": {},
     "output_type": "execute_result"
    }
   ],
   "source": [
    "t[0] = \"a2\"\n",
    "fmt.Println(plants, t) // plants和t都同步修改了"
   ]
  },
  {
   "cell_type": "code",
   "execution_count": 91,
   "id": "2c46a8d9-ad01-4947-b79e-bb622c2609c7",
   "metadata": {},
   "outputs": [
    {
     "name": "stdout",
     "output_type": "stream",
     "text": [
      "[8]string []string []string [a3 b c d e f g h] [a3 b c d] [a3 b c d] \n"
     ]
    },
    {
     "data": {
      "text/plain": [
       "70 <nil>"
      ]
     },
     "execution_count": 91,
     "metadata": {},
     "output_type": "execute_result"
    }
   ],
   "source": [
    "b := t //切片复制的是引用\n",
    "b[0] = \"a3\"\n",
    "fmt.Printf(\"%T %T %T %[1]v %[2]v %[3]v \\n\", plants, t, b)\n",
    "//切片是没有长度的\n",
    "//切片不能是负数"
   ]
  },
  {
   "cell_type": "code",
   "execution_count": 93,
   "id": "458200ec-2849-4d09-ab24-815c49456245",
   "metadata": {},
   "outputs": [
    {
     "data": {
      "text/plain": [
       "tu"
      ]
     },
     "execution_count": 93,
     "metadata": {},
     "output_type": "execute_result"
    }
   ],
   "source": [
    "nep := \"neptune\"\n",
    "t2 := nep[3:5] //切分的时候切的是字节号码  不是符文号码\n",
    "t2 //tu"
   ]
  },
  {
   "cell_type": "code",
   "execution_count": 94,
   "id": "9e908f29-3eb9-4c60-8017-930b9f628a68",
   "metadata": {},
   "outputs": [
    {
     "name": "stdout",
     "output_type": "stream",
     "text": [
      "中\n"
     ]
    },
    {
     "data": {
      "text/plain": [
       "4 <nil>"
      ]
     },
     "execution_count": 94,
     "metadata": {},
     "output_type": "execute_result"
    }
   ],
   "source": [
    "china := \"中国\"\n",
    "t3 := china[:3] //一个字三个字节 中\n",
    "fmt.Println(t3)\n",
    "//重新赋值字符串切片不会影响原来的值"
   ]
  },
  {
   "cell_type": "code",
   "execution_count": 95,
   "id": "506f3e41-a46a-4687-b706-2d039c295912",
   "metadata": {},
   "outputs": [],
   "source": [
    "//可以通过\n",
    "// t4 = plants[:] //创建一个切片\n",
    "//另外一种创建切片的方式 []string 不声明长度"
   ]
  },
  {
   "cell_type": "code",
   "execution_count": 97,
   "id": "7846454b-27be-42ea-af06-9e9a09ac41cf",
   "metadata": {},
   "outputs": [],
   "source": [
    "import (\n",
    "    \"sort\"\n",
    ")\n",
    "t5 := []string{\"b\", \"a\", \"c\"}\n",
    "// 数组排序\n",
    "sort.Strings(t5)"
   ]
  },
  {
   "cell_type": "code",
   "execution_count": 99,
   "id": "26cfa907-98a4-46b5-a8af-d09b77e16972",
   "metadata": {},
   "outputs": [
    {
     "data": {
      "text/plain": [
       "[1 2 3]"
      ]
     },
     "execution_count": 99,
     "metadata": {},
     "output_type": "execute_result"
    }
   ],
   "source": [
    "t6 := []int{3, 1, 2}\n",
    "sort.Ints(t6)\n",
    "t6"
   ]
  },
  {
   "cell_type": "markdown",
   "id": "52f16288-ff3a-491f-9bc5-f552d3a93452",
   "metadata": {
    "tags": []
   },
   "source": [
    "## 切片的添加和修改"
   ]
  },
  {
   "cell_type": "code",
   "execution_count": 102,
   "id": "870fc315-ae65-474a-9042-83addeeb3743",
   "metadata": {},
   "outputs": [
    {
     "name": "stdout",
     "output_type": "stream",
     "text": [
      "[b a c k e1 e2] 6 6\n"
     ]
    },
    {
     "data": {
      "text/plain": [
       "20 <nil>"
      ]
     },
     "execution_count": 102,
     "metadata": {},
     "output_type": "execute_result"
    }
   ],
   "source": [
    "t5 := []string{\"b\", \"a\", \"c\"}\n",
    "t5 = append(t5, \"k\")        //加一个\n",
    "t5 = append(t5, \"e1\", \"e2\") //加多个\n",
    "t5\n",
    "fmt.Println(t5, len(t5), cap(t5))"
   ]
  },
  {
   "cell_type": "code",
   "execution_count": 104,
   "id": "e46fea50-57df-4002-8336-23d65a9edaf5",
   "metadata": {},
   "outputs": [
    {
     "data": {
      "text/plain": [
       "[a b c d 1]"
      ]
     },
     "execution_count": 104,
     "metadata": {},
     "output_type": "execute_result"
    }
   ],
   "source": [
    "a1 := []string{\"a\", \"b\", \"c\", \"d\", \"e\", \"f\", \"g\", \"h\"} //创建切片\n",
    "a2 := a1[:4]\n",
    "a2 = append(a2, \"1\")\n",
    "a2"
   ]
  },
  {
   "cell_type": "code",
   "execution_count": null,
   "id": "eb91bede-2068-481d-aa27-90312dc0299e",
   "metadata": {},
   "outputs": [],
   "source": [
    "b1 := []string{\"a\", \"b\", \"c\", \"d\", \"e\", \"f\", \"g\", \"h\"} //创建切片\n",
    "b2 := b1[:4:4]                                         //限制容量"
   ]
  },
  {
   "cell_type": "code",
   "execution_count": 105,
   "id": "8a17f678-85bc-45fa-a929-646e4f126894",
   "metadata": {},
   "outputs": [
    {
     "name": "stdout",
     "output_type": "stream",
     "text": [
      "[a]\n"
     ]
    },
    {
     "data": {
      "text/plain": [
       "4 <nil>"
      ]
     },
     "execution_count": 105,
     "metadata": {},
     "output_type": "execute_result"
    }
   ],
   "source": [
    "//切片预分配\n",
    "kk1 := make([]string, 0, 10) //长度和容量\n",
    "kk1 = append(kk1, \"a\")\n",
    "fmt.Println(kk1)\n",
    "// kk2 :=make([]string,10)//长度和容量都是10 append讲添加到第11个\n",
    "// 设置初始容量，避免额外的内存分配和数组复制操作"
   ]
  },
  {
   "cell_type": "markdown",
   "id": "d09030fc-0841-4713-a1df-3395371cfabc",
   "metadata": {},
   "source": [
    "# 映射"
   ]
  },
  {
   "cell_type": "code",
   "execution_count": 106,
   "id": "56d3a64f-2aa7-4dc3-af48-87372557de28",
   "metadata": {},
   "outputs": [],
   "source": [
    "//关于映射，python中叫字典，js叫对象，ruby叫散列\n",
    "t1 := map[string]int{} //空的map [keyType]valueType{}"
   ]
  },
  {
   "cell_type": "code",
   "execution_count": 109,
   "id": "f4c2e7f6-db98-4d27-b554-b7b78336b133",
   "metadata": {},
   "outputs": [
    {
     "data": {
      "text/plain": [
       "map[a:1 b:2]"
      ]
     },
     "execution_count": 109,
     "metadata": {},
     "output_type": "execute_result"
    }
   ],
   "source": [
    "t2 := map[string]int{\n",
    "\t\"a\": 1,\n",
    "\t\"b\": 2, //最后一个结尾必须有,\n",
    "}\n",
    "t2"
   ]
  },
  {
   "cell_type": "code",
   "execution_count": 110,
   "id": "9eb2f523-f877-484d-94be-7e8126a66eae",
   "metadata": {},
   "outputs": [],
   "source": [
    "t2[\"a\"] = 8"
   ]
  },
  {
   "cell_type": "code",
   "execution_count": 111,
   "id": "0bde0635-84da-4e6c-8f27-7612e6e0d54f",
   "metadata": {},
   "outputs": [
    {
     "name": "stdout",
     "output_type": "stream",
     "text": [
      "map[a:8 b:2] 0\n"
     ]
    },
    {
     "data": {
      "text/plain": [
       "15 <nil>"
      ]
     },
     "execution_count": 111,
     "metadata": {},
     "output_type": "execute_result"
    }
   ],
   "source": [
    "fmt.Println(t2, t2[\"c\"]) //不存在的键不会报错，根据类型返回默认值"
   ]
  },
  {
   "cell_type": "code",
   "execution_count": 115,
   "id": "5325dcfc-129a-4b87-a753-3d092232b6ce",
   "metadata": {},
   "outputs": [],
   "source": [
    "value, found := t2[\"d\"] // 前面是值 后面是是否存在\n",
    "found\n",
    "value := t2[\"d\"]          //也可以只要前一个"
   ]
  },
  {
   "cell_type": "code",
   "execution_count": 124,
   "id": "5679c1f9-f568-483f-ae66-81b4bffdc94b",
   "metadata": {},
   "outputs": [
    {
     "data": {
      "text/plain": [
       "5 true"
      ]
     },
     "execution_count": 124,
     "metadata": {},
     "output_type": "execute_result"
    }
   ],
   "source": [
    "t3 := map[string]int{\n",
    "\t\"a\": 1,\n",
    "\t\"b\": 2, //最后一个结尾必须有,\n",
    "}\n",
    "t4 := t3\n",
    "t4[\"a\"] = 5\n",
    "t3[\"a\"] //5"
   ]
  },
  {
   "cell_type": "code",
   "execution_count": 122,
   "id": "ceca1c02-f923-4e09-82e2-bd8e117c776e",
   "metadata": {},
   "outputs": [
    {
     "name": "stdout",
     "output_type": "stream",
     "text": [
      "map[] 0\n"
     ]
    },
    {
     "data": {
      "text/plain": [
       "8 <nil>"
      ]
     },
     "execution_count": 122,
     "metadata": {},
     "output_type": "execute_result"
    }
   ],
   "source": [
    "//使用make\n",
    "t8 := make(map[string]int, 8)\n",
    "fmt.Println(t8,len(t8))"
   ]
  },
  {
   "cell_type": "code",
   "execution_count": 125,
   "id": "45e0d6fd-0b0a-4f30-b65c-f85c14a64ca9",
   "metadata": {},
   "outputs": [
    {
     "name": "stdout",
     "output_type": "stream",
     "text": [
      "map[a:true]\n"
     ]
    },
    {
     "data": {
      "text/plain": [
       "12 <nil>"
      ]
     },
     "execution_count": 125,
     "metadata": {},
     "output_type": "execute_result"
    }
   ],
   "source": [
    "//讲map用作集合\n",
    "set := make(map[string]bool) //默认0\n",
    "set[\"a\"] = true\n",
    "fmt.Println(set)"
   ]
  },
  {
   "cell_type": "markdown",
   "id": "37da2bd5-1cdf-47d0-bdc8-450910bce38d",
   "metadata": {},
   "source": [
    "# 结构"
   ]
  },
  {
   "cell_type": "code",
   "execution_count": 136,
   "id": "2a8f291a-8d62-44a3-b754-ad0d7c395009",
   "metadata": {},
   "outputs": [
    {
     "data": {
      "text/plain": [
       "{1 2}"
      ]
     },
     "execution_count": 136,
     "metadata": {},
     "output_type": "execute_result"
    }
   ],
   "source": [
    "var num int\n",
    "var dms struct { // 定一个变量，类型是结构\n",
    "\tlat  float64 //不需要加引号\n",
    "\tlong float64\n",
    "}\n",
    "dms.lat = 1\n",
    "dms.long = 2\n",
    "dms"
   ]
  },
  {
   "cell_type": "code",
   "execution_count": 135,
   "id": "55a56a33-8e41-4deb-a1f9-ffc00fe9c552",
   "metadata": {},
   "outputs": [
    {
     "data": {
      "text/plain": [
       "{1 2}"
      ]
     },
     "execution_count": 135,
     "metadata": {},
     "output_type": "execute_result"
    }
   ],
   "source": [
    "type location struct { //定义location类型，类型是结构\n",
    "\tlat  float64\n",
    "\tlong float64\n",
    "}\n",
    "\n",
    "var lc location\n",
    "lc.lat = 1\n",
    "lc.long = 2\n",
    "lc"
   ]
  },
  {
   "cell_type": "code",
   "execution_count": 141,
   "id": "9d751c5e-e517-4e76-b28a-bf657a7f3ef0",
   "metadata": {},
   "outputs": [],
   "source": [
    "l1 := location{} //和 var l1 location 是一样的效果\n",
    "l2 := location{lat: 3.1, long: 4.1} //和map不一样的是，不需要引号，并且最后不需要,结束\n",
    "l3 := location{6.1, 7.1}             //按顺序"
   ]
  },
  {
   "cell_type": "code",
   "execution_count": 144,
   "id": "82012cae-68d2-45e5-9a18-55adfc9cfdba",
   "metadata": {},
   "outputs": [
    {
     "name": "stdout",
     "output_type": "stream",
     "text": [
      "{𒀸lat:3.1 𒀸long:4.1} \n",
      "{𒀸lat:6.1 𒀸long:7.1} \n"
     ]
    },
    {
     "data": {
      "text/plain": [
       "28 <nil>"
      ]
     },
     "execution_count": 144,
     "metadata": {},
     "output_type": "execute_result"
    }
   ],
   "source": [
    "fmt.Printf(\"%+v \\n\", l2) //%+v显示出属性名\n",
    "fmt.Printf(\"%+[1]v \\n\", l3) //%+v显示出属性名"
   ]
  },
  {
   "cell_type": "code",
   "execution_count": 154,
   "id": "3c613e64-4bcf-4fb7-8933-17bb1a152e90",
   "metadata": {},
   "outputs": [
    {
     "name": "stdout",
     "output_type": "stream",
     "text": [
      "{3.1 4.1} {888 4.1}\n"
     ]
    },
    {
     "data": {
      "text/plain": [
       "20 <nil>"
      ]
     },
     "execution_count": 154,
     "metadata": {},
     "output_type": "execute_result"
    }
   ],
   "source": [
    "l3 := l2            //是副本\n",
    "l3.lat = 888        //不会影响原来的值\n",
    "fmt.Println(l2, l3) //{6.1 7.1} {888 7.1}"
   ]
  },
  {
   "cell_type": "code",
   "execution_count": 163,
   "id": "ac240b0f-2f21-403b-9b52-6de91965d145",
   "metadata": {},
   "outputs": [
    {
     "name": "stdout",
     "output_type": "stream",
     "text": [
      "[]struct { 𒀸lat float64; 𒀸long float64 } [{1.1 1.2} {2.1 2.2} {3.1 3.2}]\n"
     ]
    },
    {
     "data": {
      "text/plain": [
       "79 <nil>"
      ]
     },
     "execution_count": 163,
     "metadata": {},
     "output_type": "execute_result"
    }
   ],
   "source": [
    "manyl := []loation{ //struct list\n",
    "\t{lat: 1.1, long: 1.2},\n",
    "\t{lat: 2.1, long: 2.2},\n",
    "\t{lat: 3.1, long: 3.2},\n",
    "}\n",
    "fmt.Printf(\"%[1]T %[1]v\\n\",manyl) //[]struct"
   ]
  },
  {
   "cell_type": "code",
   "execution_count": 160,
   "id": "e7cc14e8-2fa6-4ad4-9da4-4530d2e707ed",
   "metadata": {},
   "outputs": [
    {
     "data": {
      "text/plain": [
       "[{2 1.2} {2.1 2.2} {3.1 3.2}]"
      ]
     },
     "execution_count": 160,
     "metadata": {},
     "output_type": "execute_result"
    }
   ],
   "source": [
    "m2 := manyl //[{1.1 1.2} {2.1 2.2} {3.1 3.2}]\n",
    "m2[0].lat = 2\n",
    "m2\n",
    "manyl //[{2 1.2} {2.1 2.2} {3.1 3.2}]"
   ]
  },
  {
   "cell_type": "code",
   "execution_count": 164,
   "id": "81479317-fa00-4b15-9d02-5d3a63bcfa58",
   "metadata": {},
   "outputs": [
    {
     "data": {
      "text/plain": [
       "[{1.1 1.2} {2.1 2.2} {3.1 3.2}]"
      ]
     },
     "execution_count": 164,
     "metadata": {},
     "output_type": "execute_result"
    }
   ],
   "source": [
    "m3 := manyl[0]\n",
    "m3.lat = 999\n",
    "manyl"
   ]
  },
  {
   "cell_type": "markdown",
   "id": "9ce6701b-fbee-429d-b39c-c3a54a4993b6",
   "metadata": {},
   "source": [
    "| 类型 |  赋值给其他变量| \n",
    "| --- | --- |\n",
    "| int    | 副本 |  \n",
    "| float    | 副本 |  \n",
    "| string   | 副本 | \n",
    "| byte   | 副本 |  \n",
    "| rune   | 副本 | \n",
    "| [8]string   | 副本 | \n",
    "| []string   | 引用 |\n",
    "| map[]   | 引用 |\n",
    "| struct   | 副本 |\n",
    "| []struct   | 引用 |"
   ]
  },
  {
   "cell_type": "markdown",
   "id": "92f5e226-4ea4-47c6-90bd-eedcd13851be",
   "metadata": {},
   "source": [
    "## 结构和json转换"
   ]
  },
  {
   "cell_type": "code",
   "execution_count": 165,
   "id": "f7c1b9b9-ae84-4974-808c-3f4450a6c27b",
   "metadata": {},
   "outputs": [],
   "source": [
    "import (\n",
    "    \"encoding/json\"\n",
    "    \"fmt\"\n",
    "    \"os\"\n",
    ")"
   ]
  },
  {
   "cell_type": "markdown",
   "id": "56930bfa-022c-43c8-8095-1a20331022b2",
   "metadata": {},
   "source": [
    "### Marshal"
   ]
  },
  {
   "cell_type": "code",
   "execution_count": 172,
   "id": "3ecfb2f5-688a-4a66-a86b-e4121a6c34c7",
   "metadata": {},
   "outputs": [
    {
     "data": {
      "text/plain": [
       "{\"Lat\":-4,\"Long\":5}"
      ]
     },
     "execution_count": 172,
     "metadata": {},
     "output_type": "execute_result"
    }
   ],
   "source": [
    "type dmsLocation struct {\n",
    "\tLat, Long float64\n",
    "}\n",
    "\n",
    "l5 := dmsLocation{ -4, 5 }\n",
    "bts, err := json.Marshal(l5) //json dumps\n",
    "bts //[123 34 76 97 116 34 58 45 52 44 34 76 111 110 103 34 58 53 125]\n",
    "string(bts) //{\"Lat\":-4,\"Long\":5}\n",
    "\n",
    "//注意只会对大写的导出，小写不导出"
   ]
  },
  {
   "cell_type": "code",
   "execution_count": 175,
   "id": "96f03ba2-4af7-4148-a12c-034b971fcff8",
   "metadata": {},
   "outputs": [
    {
     "data": {
      "text/plain": [
       "{\"lat\":-4,\"long\":5}"
      ]
     },
     "execution_count": 175,
     "metadata": {},
     "output_type": "execute_result"
    }
   ],
   "source": [
    "//为了导出的格式中可以小写 json包要求必须大写开头，并且驼峰\n",
    "type dmsLocationLow struct {\n",
    "    Lat float64 `json:\"lat\"`\n",
    "    Long float64`json:\"long\"`\n",
    "}\n",
    "\n",
    "l6 := dmsLocationLow{ -4, 5 }\n",
    "bts, err := json.Marshal(l6) //json dumps\n",
    "string(bts) //{\"lat\":-4,\"long\":5}"
   ]
  },
  {
   "cell_type": "code",
   "execution_count": 200,
   "id": "1afb7865-6d9d-4121-b2be-f353451531c0",
   "metadata": {},
   "outputs": [
    {
     "data": {
      "text/plain": [
       "{\n",
       "    \"lat\": -4,\n",
       "    \"long\": 5\n",
       "}"
      ]
     },
     "execution_count": 200,
     "metadata": {},
     "output_type": "execute_result"
    }
   ],
   "source": [
    "bts, err := json.MarshalIndent(l6,\"\",\"    \") //json dumps\n",
    "string(bts)"
   ]
  },
  {
   "cell_type": "markdown",
   "id": "e58735e2-56b7-43d2-97f9-ab83a04aaf42",
   "metadata": {},
   "source": [
    "### Unmarshal"
   ]
  },
  {
   "cell_type": "code",
   "execution_count": 203,
   "id": "d09b1119-6bc2-4826-ab27-f0643a30c4ac",
   "metadata": {},
   "outputs": [
    {
     "data": {
      "text/plain": [
       "{6.13 5}"
      ]
     },
     "execution_count": 203,
     "metadata": {},
     "output_type": "execute_result"
    }
   ],
   "source": [
    "//字符串解析成结构体\n",
    "type dmsLocationLow struct {\n",
    "    Lat float64 `json:\"lat\"`\n",
    "    Long float64`json:\"long\"`\n",
    "}\n",
    "\n",
    "b1 := []byte(`{\"lat\":6.13,\"long\":5}`)\n",
    "var d1 = dmsLocationLow{}\n",
    "json.Unmarshal(b1, &d1)  //want ([]uint8, interface{})\n",
    "d1 "
   ]
  },
  {
   "cell_type": "code",
   "execution_count": 188,
   "id": "3caf6525-77d6-4226-8752-4815d7fc0120",
   "metadata": {},
   "outputs": [
    {
     "data": {
      "text/plain": [
       "map[num:6.13 strs:[a b]]"
      ]
     },
     "execution_count": 188,
     "metadata": {},
     "output_type": "execute_result"
    }
   ],
   "source": [
    "b2 := []byte(`{\"num\":6.13,\"strs\":[\"a\",\"b\"]}`)\n",
    "var dat map[string]interface{}\n",
    "err := json.Unmarshal(b2, &dat)\n",
    "dat"
   ]
  },
  {
   "cell_type": "markdown",
   "id": "29a4c383-8f5b-4e3a-9f8e-aea9ac659338",
   "metadata": {},
   "source": [
    "# 面向对象"
   ]
  },
  {
   "cell_type": "raw",
   "id": "d6b0c292-ba00-4d3a-8c52-883585e42ed7",
   "metadata": {},
   "source": [
    "go没有类和继承，通过方法和结构来实现面向对象"
   ]
  },
  {
   "cell_type": "markdown",
   "id": "69e68fc0-adeb-4f09-9745-f107262aa51c",
   "metadata": {},
   "source": [
    "### 将方法绑定到结构"
   ]
  },
  {
   "cell_type": "code",
   "execution_count": 205,
   "id": "decd5aec-16b8-4b80-b0e4-ff42ffa3dea9",
   "metadata": {},
   "outputs": [
    {
     "name": "stdout",
     "output_type": "stream",
     "text": [
      "-4.583944444444444 127.4417\n"
     ]
    }
   ],
   "source": [
    "import \"fmt\"\n",
    "\n",
    "type coord struct {\n",
    "\td, m, s float64\n",
    "\th       rune\n",
    "}\n",
    "\n",
    "func (c coord) decimal() float64 {\n",
    "\tsign := 1.0\n",
    "\tswitch c.h {\n",
    "\tcase 'S', 'W', 's', 'w':\n",
    "\t\tsign = -1\n",
    "\t}\n",
    "\treturn sign * (c.d + c.m/60 + c.s/3600)\n",
    "}\n",
    "\n",
    "func main() {\n",
    "\tlat := coord{4, 35, 2.2, 'S'}\n",
    "\tlong := coord{127, 26, 30.12, 'E'}\n",
    "\tfmt.Println(lat.decimal(), long.decimal())\n",
    "\n",
    "}\n",
    "main()"
   ]
  },
  {
   "cell_type": "markdown",
   "id": "6c511c71-c52d-4902-bd73-2cbc1169b5c7",
   "metadata": {},
   "source": [
    "### 构造函数"
   ]
  },
  {
   "cell_type": "code",
   "execution_count": 207,
   "id": "481cce37-3356-42a9-b6e1-39b4d3d2c353",
   "metadata": {},
   "outputs": [
    {
     "data": {
      "text/plain": [
       "{-4.583944444444444 127.4417}"
      ]
     },
     "execution_count": 207,
     "metadata": {},
     "output_type": "execute_result"
    }
   ],
   "source": [
    "type location struct {\n",
    "\tlat, log float64\n",
    "}\n",
    "\n",
    "func newLocation(lat, long coord) location {\n",
    "\treturn location{lat.decimal(),long.decimal()}\n",
    "}\n",
    "\n",
    "c := newLocation( coord{4, 35, 2.2, 'S'}, coord{127, 26, 30.12, 'E'})\n",
    "c"
   ]
  },
  {
   "cell_type": "markdown",
   "id": "e5f2082f-c44a-4d32-b0f4-f5d8ebed0e28",
   "metadata": {},
   "source": [
    "### 组合和转发"
   ]
  },
  {
   "cell_type": "raw",
   "id": "2e581a52-0079-45c2-b9dc-3e70f4e284a7",
   "metadata": {},
   "source": [
    "TBD"
   ]
  },
  {
   "cell_type": "markdown",
   "id": "c8d77890-c0f3-4af9-8802-1f4ab35fbbe0",
   "metadata": {},
   "source": [
    "# 接口"
   ]
  },
  {
   "cell_type": "markdown",
   "id": "b2f5fe85-09d8-4c4f-9eb8-626d348d87bb",
   "metadata": {},
   "source": [
    "# 指针"
   ]
  },
  {
   "cell_type": "markdown",
   "id": "902fe323-4bd4-4763-bf06-1eb531c06ecb",
   "metadata": {},
   "source": [
    "# nil"
   ]
  },
  {
   "cell_type": "markdown",
   "id": "d59197cc-0a35-4b4c-ba13-53927d0c0bc7",
   "metadata": {},
   "source": [
    "# 异常"
   ]
  },
  {
   "cell_type": "markdown",
   "id": "2c96a037-4986-476f-ad90-98b513ffc1d9",
   "metadata": {},
   "source": [
    "# 并发"
   ]
  },
  {
   "cell_type": "code",
   "execution_count": null,
   "id": "f833abfe-b712-43a1-81e5-656244977234",
   "metadata": {},
   "outputs": [],
   "source": []
  }
 ],
 "metadata": {
  "kernelspec": {
   "display_name": "Go",
   "language": "go",
   "name": "gophernotes"
  },
  "language_info": {
   "codemirror_mode": "",
   "file_extension": ".go",
   "mimetype": "",
   "name": "go",
   "nbconvert_exporter": "",
   "pygments_lexer": "",
   "version": "go1.17.3"
  }
 },
 "nbformat": 4,
 "nbformat_minor": 5
}
