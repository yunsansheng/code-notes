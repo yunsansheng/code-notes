{
 "cells": [
  {
   "cell_type": "markdown",
   "id": "5ea2fb6c-c6a8-4b8f-99ca-2c94a24f8950",
   "metadata": {
    "tags": []
   },
   "source": [
    "# 基本结构"
   ]
  },
  {
   "cell_type": "code",
   "execution_count": 2,
   "id": "babd965c-2eef-4333-8981-ad36ffe3a4a0",
   "metadata": {},
   "outputs": [],
   "source": [
    "package main\n",
    "\n",
    "import (\n",
    "    \"fmt\"\n",
    ")\n",
    "func main(){\n",
    "    fmt.Println(\"hello world!\")\n",
    "}\n",
    "\n",
    "//编译成二进制文件后直接执行main函数"
   ]
  },
  {
   "cell_type": "markdown",
   "id": "c4a2a93c-5b44-45b1-95d8-e82cdb3f22a9",
   "metadata": {},
   "source": [
    "# 常量和变量"
   ]
  },
  {
   "cell_type": "code",
   "execution_count": 30,
   "id": "47ccff16-0e30-4adc-89d3-5638aa487c7b",
   "metadata": {},
   "outputs": [],
   "source": [
    "var a int //仅声明"
   ]
  },
  {
   "cell_type": "code",
   "execution_count": 1,
   "id": "31f4e65c-0355-4bc1-b1a6-0f8a5b2a04e2",
   "metadata": {},
   "outputs": [],
   "source": [
    "var g = \"1123\""
   ]
  },
  {
   "cell_type": "code",
   "execution_count": null,
   "id": "236215be-4e0a-4d6f-9f7c-466da31b5809",
   "metadata": {},
   "outputs": [],
   "source": [
    "//同上 go会自定推断类型\n",
    "var g string =\"1123\""
   ]
  },
  {
   "cell_type": "code",
   "execution_count": 25,
   "id": "ccd857ed-03f5-4984-b61b-e8c3428be48b",
   "metadata": {},
   "outputs": [],
   "source": [
    "//不能用在全局内\n",
    "g:=\"1123\" //全局作用域无法使用简短声明,当前时在notebook的局部作用域内,所有的共享一个作用域"
   ]
  },
  {
   "cell_type": "code",
   "execution_count": 36,
   "id": "6d05c0cf-1b15-44cb-ab71-bc36a9df9c05",
   "metadata": {},
   "outputs": [],
   "source": [
    "const ct1 int =1 //常量不能后提前声明\n",
    "//const ct1 =1 可以自动推断"
   ]
  },
  {
   "cell_type": "code",
   "execution_count": 4,
   "id": "5bc87c9d-d79e-4eb0-885e-79b6e508924f",
   "metadata": {},
   "outputs": [
    {
     "name": "stdout",
     "output_type": "stream",
     "text": [
      "1\n"
     ]
    }
   ],
   "source": [
    "//go是静态语言\n",
    "var a int\n",
    "a = 1 \n",
    "func main() {\n",
    "\t// a = \"abc\" //不能和变量不一致\n",
    "\tfmt.Println(a)\n",
    "}\n",
    "main()"
   ]
  },
  {
   "cell_type": "code",
   "execution_count": 5,
   "id": "98ac628b-5107-4717-b1ac-59760062984f",
   "metadata": {},
   "outputs": [],
   "source": [
    "//go对格式有很强的要求，对于最外层作用域\n",
    "var a string = \"abc\"\n",
    "func main() {\n",
    "\tfmt.Println(a)\n",
    "}\n",
    "\n",
    "//上面是可以的，但是下面这种不行\n",
    "var a string\n",
    "a = \"abc\" //!! syntax error: non-declaration statement outside function body\n",
    "func main() {\n",
    "\tfmt.Println(a)\n",
    "}"
   ]
  },
  {
   "cell_type": "code",
   "execution_count": 7,
   "id": "6eabd4fb-e447-44fe-add4-31c13e7e00bd",
   "metadata": {},
   "outputs": [],
   "source": [
    "//一次声明多个变量\n",
    "var a = 1\n",
    "var b = 2\n",
    "\n",
    "var (\n",
    "    c = 3\n",
    "    d = 4\n",
    ")\n",
    "\n",
    "var e,f = 5,6"
   ]
  },
  {
   "cell_type": "code",
   "execution_count": 10,
   "id": "2960d927-4873-43b2-9d49-5dc790a2f73d",
   "metadata": {},
   "outputs": [
    {
     "name": "stdout",
     "output_type": "stream",
     "text": [
      "10\n"
     ]
    },
    {
     "data": {
      "text/plain": [
       "3 <nil>"
      ]
     },
     "execution_count": 10,
     "metadata": {},
     "output_type": "execute_result"
    }
   ],
   "source": [
    "//增量赋值\n",
    "var a = 1\n",
    "a++ //等同于 a+=1 a=a+1 ,也可以a--\n",
    "a *= 5 //10 a=a*5\n",
    "fmt.Println(a)"
   ]
  },
  {
   "cell_type": "markdown",
   "id": "12cced34-c3c0-4d76-9efd-9ec2dc7bbe62",
   "metadata": {
    "tags": []
   },
   "source": [
    "# 格式化输出"
   ]
  },
  {
   "cell_type": "code",
   "execution_count": 11,
   "id": "ed2c2724-f9f4-4aed-ac8f-4cd8bdd4e8c1",
   "metadata": {},
   "outputs": [
    {
     "name": "stdout",
     "output_type": "stream",
     "text": [
      "this is a msg\n"
     ]
    },
    {
     "data": {
      "text/plain": [
       "14 <nil>"
      ]
     },
     "execution_count": 11,
     "metadata": {},
     "output_type": "execute_result"
    }
   ],
   "source": [
    "fmt.Println(\"this is a msg\") //直接打印，自动添加换行"
   ]
  },
  {
   "cell_type": "code",
   "execution_count": 20,
   "id": "b967084f-e322-42d2-9367-a29786419e30",
   "metadata": {},
   "outputs": [
    {
     "name": "stdout",
     "output_type": "stream",
     "text": [
      "HI 10 \n",
      "HI 0  end;\n",
      "HI 10 end;\n",
      "HI  0 end;\n",
      "HI 10 end;\n"
     ]
    },
    {
     "data": {
      "text/plain": [
       "11 <nil>"
      ]
     },
     "execution_count": 20,
     "metadata": {},
     "output_type": "execute_result"
    }
   ],
   "source": [
    "num := 10\n",
    "fmt.Printf(\"HI %v \\n\", num)  //%v default format\n",
    "fmt.Printf(\"HI %-2v end;\\n\", 0) //在右侧填充空格。左对其\n",
    "fmt.Printf(\"HI %-2v end;\\n\", 10)\n",
    "fmt.Printf(\"HI %2v end;\\n\", 0) //在左侧填充空格，右对其。默认+\n",
    "fmt.Printf(\"HI %+2v end;\\n\", 10)"
   ]
  },
  {
   "cell_type": "code",
   "execution_count": 22,
   "id": "844848f1-c273-4c02-b86b-d04d9154b76b",
   "metadata": {},
   "outputs": [
    {
     "name": "stdout",
     "output_type": "stream",
     "text": [
      "HI int end;\n"
     ]
    },
    {
     "data": {
      "text/plain": [
       "12 <nil>"
      ]
     },
     "execution_count": 22,
     "metadata": {},
     "output_type": "execute_result"
    }
   ],
   "source": [
    "fmt.Printf(\"HI %T end;\\n\", 10)  //%T显示类型"
   ]
  },
  {
   "cell_type": "code",
   "execution_count": 53,
   "id": "8be33a58-8162-4270-b2a4-ab0c3456fd9a",
   "metadata": {},
   "outputs": [
    {
     "name": "stdout",
     "output_type": "stream",
     "text": [
      "HI int end;  10\n"
     ]
    },
    {
     "data": {
      "text/plain": [
       "16 <nil>"
      ]
     },
     "execution_count": 53,
     "metadata": {},
     "output_type": "execute_result"
    }
   ],
   "source": [
    "fmt.Printf(\"HI %T end;  %[1]v\\n\", 10)  //用index(1)开始来重复使用变量"
   ]
  },
  {
   "cell_type": "code",
   "execution_count": 63,
   "id": "ff13eb96-32fd-46ea-93f6-8a325d6583c0",
   "metadata": {},
   "outputs": [
    {
     "name": "stdout",
     "output_type": "stream",
     "text": [
      "HI 1010 \n",
      "HI 00001010 \n"
     ]
    },
    {
     "data": {
      "text/plain": [
       "13 <nil>"
      ]
     },
     "execution_count": 63,
     "metadata": {},
     "output_type": "execute_result"
    }
   ],
   "source": [
    "fmt.Printf(\"HI %b \\n\", 10) //打印二进制 HI 1010 \n",
    "fmt.Printf(\"HI %08b \\n\", 10) //HI 00001010  补0"
   ]
  },
  {
   "cell_type": "markdown",
   "id": "bd7414c4-f997-42db-b906-439640462e44",
   "metadata": {},
   "source": [
    "# 循环和分支"
   ]
  },
  {
   "cell_type": "markdown",
   "id": "e1617fd4-a536-4daa-bddb-7674d0e9846f",
   "metadata": {},
   "source": [
    "- 比较运算符\n",
    "   - ==\n",
    "   - !=\n",
    "   - `>`\n",
    "   - `>=`\n",
    "   - < \n",
    "   - <=\n",
    "- 逻辑运算符\n",
    "   - &&\n",
    "   - ||\n",
    "   - ! # 取反\n"
   ]
  },
  {
   "cell_type": "markdown",
   "id": "61bc174f-c97f-4c3f-89fa-b9eb5505fec4",
   "metadata": {},
   "source": [
    "## if else"
   ]
  },
  {
   "cell_type": "code",
   "execution_count": 23,
   "id": "a2c1bffb-24f0-46bf-86b7-c9b4ab45a143",
   "metadata": {},
   "outputs": [
    {
     "name": "stdout",
     "output_type": "stream",
     "text": [
      "a is 1\n"
     ]
    }
   ],
   "source": [
    "var a = 1\n",
    "if a == 1 { //这里不用像js一样加条件的括号\n",
    "\tfmt.Println(\"a is 1\")\n",
    "} else if a == 2 {\n",
    "\tfmt.Println(\"a is 2\")\n",
    "} else if a == 3 || a == 4 {\n",
    "\tfmt.Println(\"a is 3 or 4\")\n",
    "} else if a == 5 && true {\n",
    "\tfmt.Println(\"a is 5\")\n",
    "} else {\n",
    "\tfmt.Println(\"a is >5\")\n",
    "}"
   ]
  },
  {
   "cell_type": "markdown",
   "id": "7e5f67d5-6eb1-4c17-ad12-51ecc8d214dc",
   "metadata": {},
   "source": [
    "## siwtch"
   ]
  },
  {
   "cell_type": "code",
   "execution_count": 17,
   "id": "eb666c36-39be-4244-91f1-60442b340194",
   "metadata": {},
   "outputs": [
    {
     "name": "stdout",
     "output_type": "stream",
     "text": [
      "b is 5\n",
      "b is >=5 \n"
     ]
    }
   ],
   "source": [
    "//根据变量switch\n",
    "var b = 5\n",
    "switch b { //定义了判断的变量\n",
    "case 1: //变量的值\n",
    "\tfmt.Println(\"b is 1\")\n",
    "case 2:\n",
    "\tfmt.Println(\"b is 2\")\n",
    "case 3, 4: // 3 or 4\n",
    "\tfmt.Println(\"b is 3 or 4\")\n",
    "case 5:\n",
    "\tfmt.Println(\"b is 5\")\n",
    "\tfallthrough //同时执行下一个分支 本分支和下一个分支都会执行\n",
    "default:\n",
    "\tfmt.Println(\"b is >=5 \")\n",
    "}"
   ]
  },
  {
   "cell_type": "code",
   "execution_count": 16,
   "id": "f419c6d2-95fc-4666-bb78-8ef60e759f46",
   "metadata": {},
   "outputs": [
    {
     "name": "stdout",
     "output_type": "stream",
     "text": [
      "c is 5 and a is 1\n"
     ]
    }
   ],
   "source": [
    "//根据条件swith\n",
    "var a = 1\n",
    "var c = 5\n",
    "switch {  //没有定义变量\n",
    "case c == 1:\n",
    "\tfmt.Println(\"c is 1\")\n",
    "case c == 5 && a == 1: //通过条件\n",
    "\tfmt.Println(\"c is 5 and a is 1\")\n",
    "}"
   ]
  },
  {
   "cell_type": "markdown",
   "id": "ba6a3be4-f6ef-4127-a3ce-73eec36c843b",
   "metadata": {},
   "source": [
    "## for"
   ]
  },
  {
   "cell_type": "code",
   "execution_count": 21,
   "id": "e7348a41-b019-42bc-b8cd-051a9c649781",
   "metadata": {},
   "outputs": [
    {
     "name": "stdout",
     "output_type": "stream",
     "text": [
      "now 0\n"
     ]
    },
    {
     "data": {
      "text/plain": [
       "6 <nil>"
      ]
     },
     "execution_count": 21,
     "metadata": {},
     "output_type": "execute_result"
    }
   ],
   "source": [
    "var count = 10 // 等价于count:=10 简短声明可以用在var无法使用的地方\n",
    "for count > 0 {\n",
    "\t// fmt.Println(count)\n",
    "\tcount--\n",
    "}\n",
    "fmt.Println(\"now\", count)"
   ]
  },
  {
   "cell_type": "code",
   "execution_count": null,
   "id": "4b907445-875c-4a1d-84f2-30ca93f6531f",
   "metadata": {},
   "outputs": [],
   "source": [
    "for count2 := 10; count2 > 0; { //这边必须中间和后面加上;\n",
    "\t// fmt.Println(count2)\n",
    "\tcount2--\n",
    "}"
   ]
  },
  {
   "cell_type": "code",
   "execution_count": 23,
   "id": "2653efeb-9802-48ab-a3fb-766f0fbb76ce",
   "metadata": {},
   "outputs": [],
   "source": [
    "for count3 := 10; count3 > 0; count3-- { //把--也放到后面\n",
    "\t// fmt.Println(count3)\n",
    "}"
   ]
  },
  {
   "cell_type": "code",
   "execution_count": 30,
   "id": "a6d99a6a-84eb-48e3-864b-fe1c560d8e2d",
   "metadata": {},
   "outputs": [
    {
     "name": "stdout",
     "output_type": "stream",
     "text": [
      "10\n",
      "9\n",
      "8\n"
     ]
    }
   ],
   "source": [
    "for count3 := 10; count3 > 0; count3-- {\n",
    "    fmt.Println(count3)\n",
    "    if count3 == 8 {\n",
    "        break //break跳出for循环\n",
    "    }\n",
    "} "
   ]
  },
  {
   "cell_type": "code",
   "execution_count": 32,
   "id": "430a553b-3191-4d0b-ab32-b74bc6ca639b",
   "metadata": {},
   "outputs": [],
   "source": [
    "for count3 := 10; count3 > 0; count3-- {\n",
    "    if count3 == 8 {\n",
    "        continue //8的时候退出当前循环继续下一个循环\n",
    "    }\n",
    "    // fmt.Println(count3)\n",
    "} "
   ]
  },
  {
   "cell_type": "markdown",
   "id": "b6c97da2-d923-44f2-9e06-708082cd058f",
   "metadata": {},
   "source": [
    "# 作用域"
   ]
  },
  {
   "cell_type": "raw",
   "id": "1445bba0-f01d-4a48-96e5-4f0d4b7595c6",
   "metadata": {},
   "source": [
    "go的作用域通常会随着{}的开启和关闭而结束"
   ]
  },
  {
   "cell_type": "code",
   "execution_count": 33,
   "id": "faa554b6-5a85-4b6a-b406-bd5cd059f071",
   "metadata": {},
   "outputs": [
    {
     "name": "stdout",
     "output_type": "stream",
     "text": [
      "now 0\n"
     ]
    },
    {
     "data": {
      "text/plain": [
       "6 <nil>"
      ]
     },
     "execution_count": 33,
     "metadata": {},
     "output_type": "execute_result"
    }
   ],
   "source": [
    "var count = 10 // 等价于count:=10 简短声明可以用在var无法使用的地方\n",
    "for count > 0 {\n",
    "\t// fmt.Println(count)\n",
    "\tcount--\n",
    "}\n",
    "fmt.Println(\"now\", count) \n",
    "// 这个地方count是循环外的，所以可以访问"
   ]
  },
  {
   "cell_type": "code",
   "execution_count": 35,
   "id": "16f33ebe-ede9-46c1-978b-bb5319db1530",
   "metadata": {},
   "outputs": [
    {
     "ename": "ERROR",
     "evalue": "repl.go:4:13: undefined identifier: count3",
     "output_type": "error",
     "traceback": [
      "repl.go:4:13: undefined identifier: count3"
     ]
    }
   ],
   "source": [
    "for count3 := 10; count3 > 0; count3-- { //把--也放到后面\n",
    "\t// fmt.Println(count3)\n",
    "}\n",
    "fmt.Println(count3) //不可访问 count是简单声明的 在循环的作用域内，外部不可访问"
   ]
  },
  {
   "cell_type": "code",
   "execution_count": 42,
   "id": "ade2f84e-45b5-4f1a-b6f1-e5f6b4c3ace7",
   "metadata": {},
   "outputs": [
    {
     "name": "stdout",
     "output_type": "stream",
     "text": [
      "num is 1\n"
     ]
    }
   ],
   "source": [
    "import (\n",
    "    \"math/rand\"\n",
    ")\n",
    "\n",
    "if num := rand.Intn(3); num ==0{\n",
    "    fmt.Println(\"num is 0\")\n",
    "} else if num ==1{\n",
    "    fmt.Println(\"num is 1\")\n",
    "}else{\n",
    "    fmt.Println(\"other\")\n",
    "}\n",
    "//和for一样外部不能再访问num"
   ]
  },
  {
   "cell_type": "code",
   "execution_count": 43,
   "id": "e31c244a-cc2b-471d-adbc-6094c0f1308d",
   "metadata": {},
   "outputs": [],
   "source": [
    "//变量作用于访问的方式\n",
    "// main函数外直接声明的是全局变量，其余的就是按找到上一层的变量"
   ]
  },
  {
   "cell_type": "markdown",
   "id": "3fcb1070-874f-470b-94a3-bf96c39a1b4a",
   "metadata": {},
   "source": [
    "# 基本类型"
   ]
  },
  {
   "cell_type": "markdown",
   "id": "610b594b-081c-420f-8135-e12b4355b592",
   "metadata": {},
   "source": [
    "- 实数 (默认值0.0)\n",
    "    - float64  双精度 占用8字节\n",
    "    - float32  单精度 占用4字节\n",
    "- 整数  (默认值0)\n",
    "    - int  有符号 会根据目标机器选择最适合的位长 在64位int64\n",
    "    - unit  无符号 会根据目标机器选择最适合的位长 在64位uint64\n",
    "    - int8  [-128,127]   //1字节\n",
    "    - unit8 较常用 0-255\n",
    "    - int16         //2字节\n",
    "    - uint16\n",
    "    - int32        //4字节\n",
    "    - uint32\n",
    "    - int64\n",
    "    - uint64       //8字节\n",
    "- 字符串 (默认值\"\")\n",
    "    - string  \n",
    "    - byte  // =uint8 assci\n",
    "    - rune  // =int32  Unicode\n",
    "    \n",
    "    "
   ]
  },
  {
   "cell_type": "markdown",
   "id": "6079f476-b116-4e4e-bc1f-4b8ac9ef4c2d",
   "metadata": {},
   "source": [
    "## 浮点数"
   ]
  },
  {
   "cell_type": "code",
   "execution_count": 44,
   "id": "e30c976e-80a3-4936-a68c-8de5692129f3",
   "metadata": {},
   "outputs": [
    {
     "name": "stdout",
     "output_type": "stream",
     "text": [
      "int"
     ]
    },
    {
     "data": {
      "text/plain": [
       "3 <nil>"
      ]
     },
     "execution_count": 44,
     "metadata": {},
     "output_type": "execute_result"
    }
   ],
   "source": [
    "var a =0\n",
    "fmt.Printf(\"%T\",a)"
   ]
  },
  {
   "cell_type": "code",
   "execution_count": 51,
   "id": "a392d21c-11f9-4322-83fe-541f4ce22aaf",
   "metadata": {},
   "outputs": [
    {
     "name": "stdout",
     "output_type": "stream",
     "text": [
      "0.30000000000000004\n"
     ]
    },
    {
     "data": {
      "text/plain": [
       "20 <nil>"
      ]
     },
     "execution_count": 51,
     "metadata": {},
     "output_type": "execute_result"
    }
   ],
   "source": [
    "//注意精度问题\n",
    "var b float64 =0.1\n",
    "b += 0.2\n",
    "b == 0.3 //false \n",
    "fmt.Println(b) //0.30000000000000004"
   ]
  },
  {
   "cell_type": "markdown",
   "id": "59388fa4-3743-42a4-9ef1-b686f92c1500",
   "metadata": {},
   "source": [
    "## 整数"
   ]
  },
  {
   "cell_type": "code",
   "execution_count": 59,
   "id": "cffb4034-06f3-48cf-9ac5-bb58d786f088",
   "metadata": {},
   "outputs": [
    {
     "ename": "ERROR",
     "evalue": "constant 256 overflows <uint8>",
     "output_type": "error",
     "traceback": [
      "constant 256 overflows <uint8>"
     ]
    }
   ],
   "source": [
    "var c uint8 =256 //constant 256 overflows <uint8> 直接赋值报错"
   ]
  },
  {
   "cell_type": "code",
   "execution_count": 60,
   "id": "520325d1-9471-40ad-b7d8-77614d1b7e2f",
   "metadata": {},
   "outputs": [
    {
     "name": "stdout",
     "output_type": "stream",
     "text": [
      "0\n"
     ]
    },
    {
     "data": {
      "text/plain": [
       "2 <nil>"
      ]
     },
     "execution_count": 60,
     "metadata": {},
     "output_type": "execute_result"
    }
   ],
   "source": [
    "////整数回绕\n",
    "var c uint8 =255\n",
    "c+=1\n",
    "fmt.Println(c) //0"
   ]
  },
  {
   "cell_type": "markdown",
   "id": "1fa5e132-689c-4e4e-b971-3cd93befdcd0",
   "metadata": {},
   "source": [
    "## 字符串"
   ]
  },
  {
   "cell_type": "code",
   "execution_count": 65,
   "id": "491290f6-7857-499c-a94e-9ef232b3424a",
   "metadata": {},
   "outputs": [],
   "source": [
    "var a = \"hello\"\n",
    "a:= \"hello\"\n",
    "var a string = \"hello\""
   ]
  },
  {
   "cell_type": "code",
   "execution_count": 67,
   "id": "27e2eea7-ea0c-4743-be1f-2c3cab87027d",
   "metadata": {},
   "outputs": [
    {
     "data": {
      "text/plain": [
       "\\\\ \\n dfdf"
      ]
     },
     "execution_count": 67,
     "metadata": {},
     "output_type": "execute_result"
    }
   ],
   "source": [
    "//保留原始字面量 同python中r\n",
    "var a = `\\\\ \\n dfdf`"
   ]
  },
  {
   "cell_type": "code",
   "execution_count": 68,
   "id": "3e398414-18b3-4ccb-83b9-fff389554212",
   "metadata": {},
   "outputs": [],
   "source": [
    "//多行文本\n",
    "var a = `dd\n",
    "dfd`"
   ]
  },
  {
   "cell_type": "code",
   "execution_count": 71,
   "id": "6dd0bc52-1fb9-4e24-b5eb-07e38562dd4b",
   "metadata": {},
   "outputs": [
    {
     "name": "stdout",
     "output_type": "stream",
     "text": [
      "π,ά,!"
     ]
    },
    {
     "data": {
      "text/plain": [
       "7 <nil>"
      ]
     },
     "execution_count": 71,
     "metadata": {},
     "output_type": "execute_result"
    }
   ],
   "source": [
    "var pi rune = 960\n",
    "var alpha rune = 940\n",
    "var bang byte =33\n",
    "fmt.Printf(\"%c,%c,%c\",pi,alpha,bang)"
   ]
  },
  {
   "cell_type": "code",
   "execution_count": 73,
   "id": "35a2b31b-7969-4abd-95ef-a261e1e8393b",
   "metadata": {},
   "outputs": [
    {
     "data": {
      "text/plain": [
       "960"
      ]
     },
     "execution_count": 73,
     "metadata": {},
     "output_type": "execute_result"
    }
   ],
   "source": [
    "pi ='π' //用单引号表示 rune  不指定默认是rune\n",
    "pi //960"
   ]
  },
  {
   "cell_type": "code",
   "execution_count": 74,
   "id": "af8a57fd-dc35-416c-8fef-148477d66256",
   "metadata": {},
   "outputs": [
    {
     "data": {
      "text/plain": [
       "42"
      ]
     },
     "execution_count": 74,
     "metadata": {},
     "output_type": "execute_result"
    }
   ],
   "source": [
    "var star byte = '*'\n",
    "star"
   ]
  },
  {
   "cell_type": "code",
   "execution_count": 75,
   "id": "3a04628d-794f-40d1-859e-1c1dc457eb7c",
   "metadata": {},
   "outputs": [],
   "source": [
    "//拉弦\n",
    "//可以读到字符串每个位置 但是不能修改"
   ]
  },
  {
   "cell_type": "markdown",
   "id": "509d4392-0bcd-40ac-9f9c-0e30cac86b86",
   "metadata": {
    "tags": []
   },
   "source": [
    "### 字符串转符文"
   ]
  },
  {
   "cell_type": "code",
   "execution_count": 84,
   "id": "6584850e-bc41-41b5-8999-bccc464f79ec",
   "metadata": {},
   "outputs": [
    {
     "name": "stdout",
     "output_type": "stream",
     "text": [
      "6\n",
      "2\n",
      "中 3"
     ]
    },
    {
     "data": {
      "text/plain": [
       "5 <nil>"
      ]
     },
     "execution_count": 84,
     "metadata": {},
     "output_type": "execute_result"
    }
   ],
   "source": [
    "import (\n",
    "    \"unicode/utf8\"\n",
    ")\n",
    "\n",
    "s := \"中国\"\n",
    "fmt.Println(len(s)) //6  (6 bytes)\n",
    "fmt.Println(utf8.RuneCountInString(s)) //2 (2 rune)\n",
    "\n",
    "c,size := utf8.DecodeRuneInString(s) //只获取第一个\n",
    "fmt.Printf(\"%c %v\",c,size)  //中 3  \n"
   ]
  },
  {
   "cell_type": "code",
   "execution_count": 88,
   "id": "ec79a623-c235-493e-a67f-0429288e0d62",
   "metadata": {},
   "outputs": [
    {
     "name": "stdout",
     "output_type": "stream",
     "text": [
      "中 0 \n",
      "国 3 \n"
     ]
    }
   ],
   "source": [
    "//range不仅可以迭代各种收集器，也可以解码utf8\n",
    "for i,c := range s{  //index和单字符\n",
    "    fmt.Printf(\"%c %v \\n\",c,i) \n",
    "}"
   ]
  },
  {
   "cell_type": "code",
   "execution_count": 90,
   "id": "a1f706dd-e059-4a57-9103-642c0f45662f",
   "metadata": {},
   "outputs": [
    {
     "name": "stdout",
     "output_type": "stream",
     "text": [
      "中\n",
      "国\n"
     ]
    }
   ],
   "source": [
    "for _,c := range s{  //index和单字符\n",
    "    fmt.Printf(\"%c\\n\",c) \n",
    "}"
   ]
  },
  {
   "cell_type": "code",
   "execution_count": null,
   "id": "5ce5a967-38e1-4b89-861a-d751bca873f9",
   "metadata": {},
   "outputs": [],
   "source": []
  }
 ],
 "metadata": {
  "kernelspec": {
   "display_name": "Go",
   "language": "go",
   "name": "gophernotes"
  },
  "language_info": {
   "codemirror_mode": "",
   "file_extension": ".go",
   "mimetype": "",
   "name": "go",
   "nbconvert_exporter": "",
   "pygments_lexer": "",
   "version": "go1.17.3"
  }
 },
 "nbformat": 4,
 "nbformat_minor": 5
}
