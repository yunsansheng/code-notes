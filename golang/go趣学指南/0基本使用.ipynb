{
 "cells": [
  {
   "cell_type": "markdown",
   "id": "5ea2fb6c-c6a8-4b8f-99ca-2c94a24f8950",
   "metadata": {
    "tags": []
   },
   "source": [
    "# 基本结构"
   ]
  },
  {
   "cell_type": "code",
   "execution_count": 2,
   "id": "babd965c-2eef-4333-8981-ad36ffe3a4a0",
   "metadata": {},
   "outputs": [],
   "source": [
    "package main\n",
    "\n",
    "import (\n",
    "    \"fmt\"\n",
    ")\n",
    "func main(){\n",
    "    fmt.Println(\"hello world!\")\n",
    "}\n",
    "\n",
    "//编译成二进制文件后直接执行main函数"
   ]
  },
  {
   "cell_type": "markdown",
   "id": "c4a2a93c-5b44-45b1-95d8-e82cdb3f22a9",
   "metadata": {},
   "source": [
    "# 常量和变量"
   ]
  },
  {
   "cell_type": "code",
   "execution_count": 30,
   "id": "47ccff16-0e30-4adc-89d3-5638aa487c7b",
   "metadata": {},
   "outputs": [],
   "source": [
    "var a int //仅声明"
   ]
  },
  {
   "cell_type": "code",
   "execution_count": 1,
   "id": "31f4e65c-0355-4bc1-b1a6-0f8a5b2a04e2",
   "metadata": {},
   "outputs": [],
   "source": [
    "var g = \"1123\""
   ]
  },
  {
   "cell_type": "code",
   "execution_count": null,
   "id": "236215be-4e0a-4d6f-9f7c-466da31b5809",
   "metadata": {},
   "outputs": [],
   "source": [
    "//同上 go会自定推断类型\n",
    "var g string =\"1123\""
   ]
  },
  {
   "cell_type": "code",
   "execution_count": 25,
   "id": "ccd857ed-03f5-4984-b61b-e8c3428be48b",
   "metadata": {},
   "outputs": [],
   "source": [
    "//不能用在全局内\n",
    "g:=\"1123\" //全局作用域无法使用简短声明,当前时在notebook的局部作用域内,所有的共享一个作用域"
   ]
  },
  {
   "cell_type": "code",
   "execution_count": 36,
   "id": "6d05c0cf-1b15-44cb-ab71-bc36a9df9c05",
   "metadata": {},
   "outputs": [],
   "source": [
    "const ct1 int =1 //常量不能后提前声明\n",
    "//const ct1 =1 可以自动推断"
   ]
  },
  {
   "cell_type": "code",
   "execution_count": 4,
   "id": "5bc87c9d-d79e-4eb0-885e-79b6e508924f",
   "metadata": {},
   "outputs": [
    {
     "name": "stdout",
     "output_type": "stream",
     "text": [
      "1\n"
     ]
    }
   ],
   "source": [
    "//go是静态语言\n",
    "var a int\n",
    "a = 1 \n",
    "func main() {\n",
    "\t// a = \"abc\" //不能和变量不一致\n",
    "\tfmt.Println(a)\n",
    "}\n",
    "main()"
   ]
  },
  {
   "cell_type": "code",
   "execution_count": 5,
   "id": "98ac628b-5107-4717-b1ac-59760062984f",
   "metadata": {},
   "outputs": [],
   "source": [
    "//go对格式有很强的要求，对于最外层作用域\n",
    "var a string = \"abc\"\n",
    "func main() {\n",
    "\tfmt.Println(a)\n",
    "}\n",
    "\n",
    "//上面是可以的，但是下面这种不行\n",
    "var a string\n",
    "a = \"abc\" //!! syntax error: non-declaration statement outside function body\n",
    "func main() {\n",
    "\tfmt.Println(a)\n",
    "}"
   ]
  },
  {
   "cell_type": "code",
   "execution_count": 7,
   "id": "6eabd4fb-e447-44fe-add4-31c13e7e00bd",
   "metadata": {},
   "outputs": [],
   "source": [
    "//一次声明多个变量\n",
    "var a = 1\n",
    "var b = 2\n",
    "\n",
    "var (\n",
    "    c = 3\n",
    "    d = 4\n",
    ")\n",
    "\n",
    "var e,f = 5,6"
   ]
  },
  {
   "cell_type": "code",
   "execution_count": 10,
   "id": "2960d927-4873-43b2-9d49-5dc790a2f73d",
   "metadata": {},
   "outputs": [
    {
     "name": "stdout",
     "output_type": "stream",
     "text": [
      "10\n"
     ]
    },
    {
     "data": {
      "text/plain": [
       "3 <nil>"
      ]
     },
     "execution_count": 10,
     "metadata": {},
     "output_type": "execute_result"
    }
   ],
   "source": [
    "//增量赋值\n",
    "var a = 1\n",
    "a++ //等同于 a+=1 a=a+1 ,也可以a--\n",
    "a *= 5 //10 a=a*5\n",
    "fmt.Println(a)"
   ]
  },
  {
   "cell_type": "markdown",
   "id": "12cced34-c3c0-4d76-9efd-9ec2dc7bbe62",
   "metadata": {
    "tags": []
   },
   "source": [
    "# 格式化输出"
   ]
  },
  {
   "cell_type": "code",
   "execution_count": 11,
   "id": "ed2c2724-f9f4-4aed-ac8f-4cd8bdd4e8c1",
   "metadata": {},
   "outputs": [
    {
     "name": "stdout",
     "output_type": "stream",
     "text": [
      "this is a msg\n"
     ]
    },
    {
     "data": {
      "text/plain": [
       "14 <nil>"
      ]
     },
     "execution_count": 11,
     "metadata": {},
     "output_type": "execute_result"
    }
   ],
   "source": [
    "fmt.Println(\"this is a msg\") //直接打印，自动添加换行"
   ]
  },
  {
   "cell_type": "code",
   "execution_count": 20,
   "id": "b967084f-e322-42d2-9367-a29786419e30",
   "metadata": {},
   "outputs": [
    {
     "name": "stdout",
     "output_type": "stream",
     "text": [
      "HI 10 \n",
      "HI 0  end;\n",
      "HI 10 end;\n",
      "HI  0 end;\n",
      "HI 10 end;\n"
     ]
    },
    {
     "data": {
      "text/plain": [
       "11 <nil>"
      ]
     },
     "execution_count": 20,
     "metadata": {},
     "output_type": "execute_result"
    }
   ],
   "source": [
    "num := 10\n",
    "fmt.Printf(\"HI %v \\n\", num)  //%v default format\n",
    "fmt.Printf(\"HI %-2v end;\\n\", 0) //在右侧填充空格。左对其\n",
    "fmt.Printf(\"HI %-2v end;\\n\", 10)\n",
    "fmt.Printf(\"HI %2v end;\\n\", 0) //在左侧填充空格，右对其。默认+\n",
    "fmt.Printf(\"HI %+2v end;\\n\", 10)"
   ]
  },
  {
   "cell_type": "code",
   "execution_count": 22,
   "id": "844848f1-c273-4c02-b86b-d04d9154b76b",
   "metadata": {},
   "outputs": [
    {
     "name": "stdout",
     "output_type": "stream",
     "text": [
      "HI int end;\n"
     ]
    },
    {
     "data": {
      "text/plain": [
       "12 <nil>"
      ]
     },
     "execution_count": 22,
     "metadata": {},
     "output_type": "execute_result"
    }
   ],
   "source": [
    "fmt.Printf(\"HI %T end;\\n\", 10)  //%T显示类型"
   ]
  },
  {
   "cell_type": "markdown",
   "id": "bd7414c4-f997-42db-b906-439640462e44",
   "metadata": {},
   "source": [
    "# 循环和分支"
   ]
  },
  {
   "cell_type": "markdown",
   "id": "e1617fd4-a536-4daa-bddb-7674d0e9846f",
   "metadata": {},
   "source": [
    "- 比较运算符\n",
    "   - ==\n",
    "   - !=\n",
    "   - `>`\n",
    "   - `>=`\n",
    "   - < \n",
    "   - <=\n",
    "- 逻辑运算符\n",
    "   - &&\n",
    "   - ||\n",
    "   - ! # 取反\n"
   ]
  },
  {
   "cell_type": "markdown",
   "id": "61bc174f-c97f-4c3f-89fa-b9eb5505fec4",
   "metadata": {},
   "source": [
    "## if else"
   ]
  },
  {
   "cell_type": "code",
   "execution_count": 23,
   "id": "a2c1bffb-24f0-46bf-86b7-c9b4ab45a143",
   "metadata": {},
   "outputs": [
    {
     "name": "stdout",
     "output_type": "stream",
     "text": [
      "a is 1\n"
     ]
    }
   ],
   "source": [
    "var a = 1\n",
    "if a == 1 { //这里不用像js一样加条件的括号\n",
    "\tfmt.Println(\"a is 1\")\n",
    "} else if a == 2 {\n",
    "\tfmt.Println(\"a is 2\")\n",
    "} else if a == 3 || a == 4 {\n",
    "\tfmt.Println(\"a is 3 or 4\")\n",
    "} else if a == 5 && true {\n",
    "\tfmt.Println(\"a is 5\")\n",
    "} else {\n",
    "\tfmt.Println(\"a is >5\")\n",
    "}"
   ]
  },
  {
   "cell_type": "markdown",
   "id": "7e5f67d5-6eb1-4c17-ad12-51ecc8d214dc",
   "metadata": {},
   "source": [
    "## siwtch"
   ]
  },
  {
   "cell_type": "code",
   "execution_count": 17,
   "id": "eb666c36-39be-4244-91f1-60442b340194",
   "metadata": {},
   "outputs": [
    {
     "name": "stdout",
     "output_type": "stream",
     "text": [
      "b is 5\n",
      "b is >=5 \n"
     ]
    }
   ],
   "source": [
    "//根据变量switch\n",
    "var b = 5\n",
    "switch b { //定义了判断的变量\n",
    "case 1: //变量的值\n",
    "\tfmt.Println(\"b is 1\")\n",
    "case 2:\n",
    "\tfmt.Println(\"b is 2\")\n",
    "case 3, 4: // 3 or 4\n",
    "\tfmt.Println(\"b is 3 or 4\")\n",
    "case 5:\n",
    "\tfmt.Println(\"b is 5\")\n",
    "\tfallthrough //同时执行下一个分支 本分支和下一个分支都会执行\n",
    "default:\n",
    "\tfmt.Println(\"b is >=5 \")\n",
    "}"
   ]
  },
  {
   "cell_type": "code",
   "execution_count": 16,
   "id": "f419c6d2-95fc-4666-bb78-8ef60e759f46",
   "metadata": {},
   "outputs": [
    {
     "name": "stdout",
     "output_type": "stream",
     "text": [
      "c is 5 and a is 1\n"
     ]
    }
   ],
   "source": [
    "//根据条件swith\n",
    "var a = 1\n",
    "var c = 5\n",
    "switch {  //没有定义变量\n",
    "case c == 1:\n",
    "\tfmt.Println(\"c is 1\")\n",
    "case c == 5 && a == 1: //通过条件\n",
    "\tfmt.Println(\"c is 5 and a is 1\")\n",
    "}"
   ]
  },
  {
   "cell_type": "code",
   "execution_count": null,
   "id": "03f29ff9-e2d4-43cd-b5b9-e9999eceec5e",
   "metadata": {},
   "outputs": [],
   "source": []
  },
  {
   "cell_type": "code",
   "execution_count": null,
   "id": "e7348a41-b019-42bc-b8cd-051a9c649781",
   "metadata": {},
   "outputs": [],
   "source": []
  },
  {
   "cell_type": "code",
   "execution_count": null,
   "id": "4b907445-875c-4a1d-84f2-30ca93f6531f",
   "metadata": {},
   "outputs": [],
   "source": []
  },
  {
   "cell_type": "code",
   "execution_count": 24,
   "id": "1585b664-59b4-4e31-9b75-5e8c21621893",
   "metadata": {},
   "outputs": [
    {
     "name": "stdout",
     "output_type": "stream",
     "text": [
      "c is 5 and a is 1\n"
     ]
    }
   ],
   "source": [
    "var c = 5\n",
    "switch {  //没有定义变量\n",
    "case c == 1:\n",
    "\tfmt.Println(\"c is 1\")\n",
    "case c == 5 && a == 1: //通过条件\n",
    "\tfmt.Println(\"c is 5 and a is 1\")\n",
    "}"
   ]
  },
  {
   "cell_type": "code",
   "execution_count": null,
   "id": "2653efeb-9802-48ab-a3fb-766f0fbb76ce",
   "metadata": {},
   "outputs": [],
   "source": []
  }
 ],
 "metadata": {
  "kernelspec": {
   "display_name": "Go",
   "language": "go",
   "name": "gophernotes"
  },
  "language_info": {
   "codemirror_mode": "",
   "file_extension": ".go",
   "mimetype": "",
   "name": "go",
   "nbconvert_exporter": "",
   "pygments_lexer": "",
   "version": "go1.17.3"
  }
 },
 "nbformat": 4,
 "nbformat_minor": 5
}
