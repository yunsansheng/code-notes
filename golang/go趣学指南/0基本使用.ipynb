{
 "cells": [
  {
   "cell_type": "markdown",
   "id": "5ea2fb6c-c6a8-4b8f-99ca-2c94a24f8950",
   "metadata": {
    "tags": []
   },
   "source": [
    "# 基本结构"
   ]
  },
  {
   "cell_type": "code",
   "execution_count": 10,
   "id": "babd965c-2eef-4333-8981-ad36ffe3a4a0",
   "metadata": {},
   "outputs": [],
   "source": [
    "package main\n",
    "\n",
    "import (\n",
    "    \"fmt\"\n",
    ")\n",
    "func main(){\n",
    "    fmt.Println(\"hello world!\")\n",
    "}\n",
    "\n",
    "//编译成二进制文件后直接执行main函数"
   ]
  },
  {
   "cell_type": "markdown",
   "id": "c4a2a93c-5b44-45b1-95d8-e82cdb3f22a9",
   "metadata": {},
   "source": [
    "# 常量和变量"
   ]
  },
  {
   "cell_type": "code",
   "execution_count": 30,
   "id": "47ccff16-0e30-4adc-89d3-5638aa487c7b",
   "metadata": {},
   "outputs": [],
   "source": [
    "var a int //仅声明"
   ]
  },
  {
   "cell_type": "code",
   "execution_count": null,
   "id": "31f4e65c-0355-4bc1-b1a6-0f8a5b2a04e2",
   "metadata": {},
   "outputs": [],
   "source": [
    "var g = \"1123\""
   ]
  },
  {
   "cell_type": "code",
   "execution_count": null,
   "id": "236215be-4e0a-4d6f-9f7c-466da31b5809",
   "metadata": {},
   "outputs": [],
   "source": [
    "//同上 go会自定推断类型\n",
    "var g string =\"1123\""
   ]
  },
  {
   "cell_type": "code",
   "execution_count": 25,
   "id": "ccd857ed-03f5-4984-b61b-e8c3428be48b",
   "metadata": {},
   "outputs": [],
   "source": [
    "//不能用在全局内\n",
    "g:=\"1123\" //全局作用域无法使用简短声明,当前时在notebook的局部作用域内,所有的共享一个作用域"
   ]
  },
  {
   "cell_type": "code",
   "execution_count": 36,
   "id": "6d05c0cf-1b15-44cb-ab71-bc36a9df9c05",
   "metadata": {},
   "outputs": [],
   "source": [
    "const ct1 int =1 //常量不能后提前声明\n",
    "//const ct1 =1 可以自动推断"
   ]
  },
  {
   "cell_type": "code",
   "execution_count": 38,
   "id": "5bc87c9d-d79e-4eb0-885e-79b6e508924f",
   "metadata": {},
   "outputs": [],
   "source": [
    "//go是静态语言\n",
    "var a int\n",
    "a = 1\n",
    "func main() {\n",
    "\t// a = \"abc\" //不能和变量不一致\n",
    "\tfmt.Println(a)\n",
    "}"
   ]
  },
  {
   "cell_type": "code",
   "execution_count": null,
   "id": "98ac628b-5107-4717-b1ac-59760062984f",
   "metadata": {},
   "outputs": [],
   "source": [
    "//go对格式有很强的要求，对于最外层作用域\n",
    "var a string = \"abc\"\n",
    "func main() {\n",
    "\tfmt.Println(a)\n",
    "}\n",
    "\n",
    "//上面是可以的，但是下面这种不行\n",
    "var a string\n",
    "a = \"abc\" //!! syntax error: non-declaration statement outside function body\n",
    "func main() {\n",
    "\tfmt.Println(a)\n",
    "}"
   ]
  },
  {
   "cell_type": "markdown",
   "id": "12cced34-c3c0-4d76-9efd-9ec2dc7bbe62",
   "metadata": {
    "tags": []
   },
   "source": [
    "# 格式化输出"
   ]
  },
  {
   "cell_type": "code",
   "execution_count": 17,
   "id": "ed2c2724-f9f4-4aed-ac8f-4cd8bdd4e8c1",
   "metadata": {},
   "outputs": [
    {
     "name": "stdout",
     "output_type": "stream",
     "text": [
      "this is a msg\n"
     ]
    },
    {
     "data": {
      "text/plain": [
       "14 <nil>"
      ]
     },
     "execution_count": 17,
     "metadata": {},
     "output_type": "execute_result"
    }
   ],
   "source": [
    "fmt.Println(\"this is a msg\")"
   ]
  },
  {
   "cell_type": "code",
   "execution_count": 20,
   "id": "b967084f-e322-42d2-9367-a29786419e30",
   "metadata": {},
   "outputs": [
    {
     "name": "stdout",
     "output_type": "stream",
     "text": [
      "HI 10 \n",
      "HI 0  end;\n",
      "HI 10 end;\n",
      "HI  0 end;\n",
      "HI 10 end;\n"
     ]
    },
    {
     "data": {
      "text/plain": [
       "11 <nil>"
      ]
     },
     "execution_count": 20,
     "metadata": {},
     "output_type": "execute_result"
    }
   ],
   "source": [
    "num := 10\n",
    "fmt.Printf(\"HI %v \\n\", num)  //%v default format\n",
    "fmt.Printf(\"HI %-2v end;\\n\", 0) //在右侧填充空格。左对其\n",
    "fmt.Printf(\"HI %-2v end;\\n\", 10)\n",
    "fmt.Printf(\"HI %2v end;\\n\", 0) //在左侧填充空格，右对其。默认+\n",
    "fmt.Printf(\"HI %+2v end;\\n\", 10)"
   ]
  },
  {
   "cell_type": "code",
   "execution_count": 22,
   "id": "844848f1-c273-4c02-b86b-d04d9154b76b",
   "metadata": {},
   "outputs": [
    {
     "name": "stdout",
     "output_type": "stream",
     "text": [
      "HI int end;\n"
     ]
    },
    {
     "data": {
      "text/plain": [
       "12 <nil>"
      ]
     },
     "execution_count": 22,
     "metadata": {},
     "output_type": "execute_result"
    }
   ],
   "source": [
    "fmt.Printf(\"HI %T end;\\n\", 10)  //%T显示类型"
   ]
  },
  {
   "cell_type": "code",
   "execution_count": 23,
   "id": "a2c1bffb-24f0-46bf-86b7-c9b4ab45a143",
   "metadata": {},
   "outputs": [
    {
     "name": "stdout",
     "output_type": "stream",
     "text": [
      "a is 1\n"
     ]
    }
   ],
   "source": [
    "var a = 1\n",
    "if a == 1 { //这里不用像js一样加条件的括号\n",
    "\tfmt.Println(\"a is 1\")\n",
    "} else if a == 2 {\n",
    "\tfmt.Println(\"a is 2\")\n",
    "} else if a == 3 || a == 4 {\n",
    "\tfmt.Println(\"a is 3 or 4\")\n",
    "} else if a == 5 && true {\n",
    "\tfmt.Println(\"a is 5\")\n",
    "} else {\n",
    "\tfmt.Println(\"a is >5\")\n",
    "}"
   ]
  },
  {
   "cell_type": "code",
   "execution_count": 24,
   "id": "1585b664-59b4-4e31-9b75-5e8c21621893",
   "metadata": {},
   "outputs": [
    {
     "name": "stdout",
     "output_type": "stream",
     "text": [
      "c is 5 and a is 1\n"
     ]
    }
   ],
   "source": [
    "var c = 5\n",
    "switch {  //没有定义变量\n",
    "case c == 1:\n",
    "\tfmt.Println(\"c is 1\")\n",
    "case c == 5 && a == 1: //通过条件\n",
    "\tfmt.Println(\"c is 5 and a is 1\")\n",
    "}"
   ]
  },
  {
   "cell_type": "code",
   "execution_count": null,
   "id": "2653efeb-9802-48ab-a3fb-766f0fbb76ce",
   "metadata": {},
   "outputs": [],
   "source": []
  }
 ],
 "metadata": {
  "kernelspec": {
   "display_name": "Go",
   "language": "go",
   "name": "gophernotes"
  },
  "language_info": {
   "codemirror_mode": "",
   "file_extension": ".go",
   "mimetype": "",
   "name": "go",
   "nbconvert_exporter": "",
   "pygments_lexer": "",
   "version": "go1.17.3"
  }
 },
 "nbformat": 4,
 "nbformat_minor": 5
}
